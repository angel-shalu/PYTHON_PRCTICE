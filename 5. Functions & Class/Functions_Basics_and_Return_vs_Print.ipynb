{
 "cells": [
  {
   "cell_type": "markdown",
   "id": "197ea32c-1361-433a-ab00-a3253cd2b543",
   "metadata": {},
   "source": [
    "**Day 25: Introduction to Functions in Python**\n",
    "\n",
    "In this notebook, I am documenting everything I learned about functions in Python — explained step-by-step in a simple way."
   ]
  },
  {
   "cell_type": "markdown",
   "id": "a67c9c77-bf23-4045-b53b-77b0d3e9a4a5",
   "metadata": {},
   "source": [
    "# What is a Function?\n",
    "\n",
    "A **function** is a reusable block of code that performs a specific task.\n",
    "\n",
    "We define a function using the `def` keyword in Python.\n",
    "\n",
    "Functions make our code more organized, reusable, and readable.\n"
   ]
  },
  {
   "cell_type": "markdown",
   "id": "4056ee72-b44f-4694-bbb0-a4dc04891446",
   "metadata": {},
   "source": [
    "# Types of Functions in Python"
   ]
  },
  {
   "cell_type": "markdown",
   "id": "021a1d9d-c254-4834-8858-104c70434c55",
   "metadata": {},
   "source": [
    "**Python has two main types of functions:**\n",
    "\n",
    "## **Built-in Functions**\n",
    "- Already provided by Python\n",
    "- We can use them directly without defining them\n",
    "- Examples: `print()`, `len()`, `type()`, `int()`, `range()`, `sum()`, etc.\n",
    "\n",
    "## **User-defined Functions**\n",
    "- Created by the user using `def`\n",
    "- Helps organize and reuse custom logic\n"
   ]
  },
  {
   "cell_type": "code",
   "execution_count": 1,
   "id": "43740070-c687-4f33-8be6-b2a9da7bd6b0",
   "metadata": {},
   "outputs": [
    {
     "name": "stdout",
     "output_type": "stream",
     "text": [
      "Hello\n",
      "6\n",
      "<class 'float'>\n",
      "60\n"
     ]
    }
   ],
   "source": [
    "# Example of Built-in Functions\n",
    "print(\"Hello\")           # Prints output\n",
    "print(len(\"Python\"))     # Returns length\n",
    "print(type(5.2))         # Returns data type\n",
    "print(sum([10, 20, 30])) # Sum of list"
   ]
  },
  {
   "cell_type": "code",
   "execution_count": 2,
   "id": "724a476c-88dc-4a4c-a900-95cd2279cf5b",
   "metadata": {},
   "outputs": [
    {
     "name": "stdout",
     "output_type": "stream",
     "text": [
      "Multiplication: 20\n"
     ]
    }
   ],
   "source": [
    "# Example of User-defined Function\n",
    "def multiply(a, b):\n",
    "    return a * b\n",
    "\n",
    "print(\"Multiplication:\", multiply(4, 5))"
   ]
  },
  {
   "cell_type": "markdown",
   "id": "6a5c50db-7a40-49fe-81e2-a8e455767c02",
   "metadata": {},
   "source": [
    "## When to Use Built-in vs User-defined\n",
    "\n",
    "| Built-in Function | Use when Python already provides the functionality |\n",
    "|-------------------|-----------------------------------------------------|\n",
    "| User-defined       | Use when you need to create your own logic or reuse logic multiple times |\n"
   ]
  },
  {
   "cell_type": "markdown",
   "id": "794ae28a-e99d-4ab1-a419-f1035fdb7ff8",
   "metadata": {},
   "source": [
    "# Function Types (Based on Arguments & Return)\n",
    "\n",
    "1. Function with **no arguments**, **no return**\n",
    "2. Function with **arguments**, **no return**\n",
    "3. Function with **arguments**, **and return**\n",
    "4. Function inside a **class** (method)\n"
   ]
  },
  {
   "cell_type": "markdown",
   "id": "3bd5d8d2-42db-4d36-ba43-00ae30ac4176",
   "metadata": {},
   "source": [
    "## Simple Example: greet function (no argument, no return)"
   ]
  },
  {
   "cell_type": "code",
   "execution_count": 6,
   "id": "8b931e34-026d-4cad-8751-1323f59a6aa6",
   "metadata": {},
   "outputs": [
    {
     "name": "stdout",
     "output_type": "stream",
     "text": [
      "Hello! Welcome to Python.\n"
     ]
    }
   ],
   "source": [
    "# 1 Function with no arguments, no return\n",
    "\n",
    "def greet():\n",
    "    print(\"Hello! Welcome to Python.\")\n",
    "\n",
    "# Calling the function\n",
    "greet()"
   ]
  },
  {
   "cell_type": "markdown",
   "id": "b69d2600-5011-4617-95ae-6783ce8ac8c0",
   "metadata": {},
   "source": [
    "## Function with two arguments (add)"
   ]
  },
  {
   "cell_type": "code",
   "execution_count": 7,
   "id": "14d654eb-0963-4b1b-88f4-3fbeb52ef409",
   "metadata": {},
   "outputs": [
    {
     "name": "stdout",
     "output_type": "stream",
     "text": [
      "Sum is: 11\n"
     ]
    }
   ],
   "source": [
    "# 2 Function with arguments, no return\n",
    "\n",
    "def add(x, y):  # x and y are formal arguments\n",
    "    c = x + y\n",
    "    print(\"Sum is:\", c)\n",
    "\n",
    "# 5 and 6 are actual arguments passed to the function\n",
    "add(5, 6)"
   ]
  },
  {
   "cell_type": "markdown",
   "id": "48ea7391-021f-4276-bb6d-9bff117aff0b",
   "metadata": {},
   "source": [
    "## Function with arguments and return"
   ]
  },
  {
   "cell_type": "code",
   "execution_count": null,
   "id": "9d34443f-a8d4-449a-937d-935f3f894db0",
   "metadata": {},
   "outputs": [],
   "source": [
    "# 3 Function with arguments and return\n",
    "\n",
    "def multiply(x, y):\n",
    "    return x * y\n",
    "\n",
    "result = multiply(3, 4)\n",
    "print(\"Multiplication:\", result)"
   ]
  },
  {
   "cell_type": "markdown",
   "id": "68cc3cb2-b1e9-4ba6-abdb-77f8c1b5bb76",
   "metadata": {},
   "source": [
    "## Function inside a class (method)"
   ]
  },
  {
   "cell_type": "code",
   "execution_count": 5,
   "id": "6338b6e8-ba9e-4fb0-9b4d-48dda5ff612f",
   "metadata": {},
   "outputs": [
    {
     "name": "stdout",
     "output_type": "stream",
     "text": [
      "Hello from inside the class!\n"
     ]
    }
   ],
   "source": [
    "# 4 Function inside a class (method)\n",
    "\n",
    "class Welcome:\n",
    "    def greet(self):\n",
    "        print(\"Hello from inside the class!\")\n",
    "\n",
    "# Create object\n",
    "w = Welcome()\n",
    "w.greet()"
   ]
  },
  {
   "cell_type": "markdown",
   "id": "754b8b59-2e5d-4e44-a873-c4aed19d46fc",
   "metadata": {},
   "source": [
    "# Return vs Print in Python Functions\n",
    "\n",
    "In Python, both `print()` and `return` are used inside functions, but they serve **different purposes**.\n",
    "\n",
    "- `print()` → just shows the output on the screen\n",
    "- `return` → sends the value back to the caller (you can store it or use it later)"
   ]
  },
  {
   "cell_type": "markdown",
   "id": "41223a8e-97df-488a-8d95-8234f99f6bd6",
   "metadata": {},
   "source": [
    "**What is the Difference?**\n",
    "\n",
    "| Feature       | `print()`                            | `return`                                 |\n",
    "|---------------|---------------------------------------|-------------------------------------------|\n",
    "| Purpose       | Shows output on the screen            | Sends output back to the function caller  |\n",
    "| Used in       | Small or demo programs                | Big programs or reusable logic            |\n",
    "| Stores value? |  No (just displays)                 |  Yes (can assign to a variable)         |\n",
    "| Reusable?     | No                                  | Yes                                    |\n"
   ]
  },
  {
   "cell_type": "markdown",
   "id": "29186f95-33d1-40b5-aa40-c7b08cb85849",
   "metadata": {},
   "source": [
    "## When to Use `return`\n",
    "\n",
    "Use `return` when you:\n",
    "- Want to store the output in a variable\n",
    "- Want to use the output in another function or calculation\n",
    "- Want the function to be reusable"
   ]
  },
  {
   "cell_type": "code",
   "execution_count": 8,
   "id": "c6cca364-888f-45cb-a634-a3db4a2a5218",
   "metadata": {},
   "outputs": [
    {
     "name": "stdout",
     "output_type": "stream",
     "text": [
      "Returned value is: 8\n",
      "Total after multiplying: 16\n"
     ]
    }
   ],
   "source": [
    "def add(x, y):\n",
    "    return x + y  # sends result back to caller\n",
    "\n",
    "# Store the result\n",
    "result = add(5, 3)\n",
    "print(\"Returned value is:\", result)\n",
    "\n",
    "# Reuse the result\n",
    "total = result * 2\n",
    "print(\"Total after multiplying:\", total)"
   ]
  },
  {
   "cell_type": "markdown",
   "id": "4c59bd10-c088-48ce-b0a7-aa1b34b8421e",
   "metadata": {},
   "source": [
    "## When to Use `print`\n",
    "\n",
    "Use `print()` when you:\n",
    "- Just want to **see the output**\n",
    "- Don't need to **store or reuse** the result\n",
    "- Are doing a **small task**, or testing"
   ]
  },
  {
   "cell_type": "code",
   "execution_count": 9,
   "id": "89777b65-2af7-484e-9f62-232d08082f66",
   "metadata": {},
   "outputs": [
    {
     "name": "stdout",
     "output_type": "stream",
     "text": [
      "Sum is: 8\n",
      "Sum is: 8\n",
      "Result: None\n"
     ]
    }
   ],
   "source": [
    "def add(x, y):\n",
    "    print(\"Sum is:\", x + y)  # only shows output\n",
    "\n",
    "add(5, 3)\n",
    "\n",
    "# But you cannot store the result:\n",
    "result = add(5, 3)  # This stores `None`\n",
    "print(\"Result:\", result)  # Output: None"
   ]
  },
  {
   "cell_type": "markdown",
   "id": "34b8b31c-ce12-41cb-8ba4-77c4998b5ec8",
   "metadata": {},
   "source": [
    "## Summary\n",
    "\n",
    "| Use `print()` when... | Use `return` when... |\n",
    "|------------------------|----------------------|\n",
    "| You want to **just display** the result | You want to **store or reuse** the result |\n",
    "| You're writing a **small demo or test** | You're building **reusable functions** |\n",
    "| You don’t need the result again | You plan to **use the result again** |\n",
    "\n",
    "In real-world projects, we **mostly use `return`** because we often need to pass results from one function to another.\n"
   ]
  },
  {
   "cell_type": "markdown",
   "id": "9660c520-d239-431c-8622-04a31e5895f1",
   "metadata": {},
   "source": [
    "# Function with 1, 2, and 3 variables "
   ]
  },
  {
   "cell_type": "markdown",
   "id": "7fea1844-1216-44ab-b024-1e8f5491d0e0",
   "metadata": {},
   "source": [
    "## Function with 1 variable"
   ]
  },
  {
   "cell_type": "code",
   "execution_count": null,
   "id": "4d9aeaef-f0ae-4a6f-a540-681c927d6bb7",
   "metadata": {},
   "outputs": [],
   "source": [
    "# 1 variable\n",
    "def square(x):\n",
    "    return x * x\n",
    "\n",
    "print(\"Square:\", square(4))"
   ]
  },
  {
   "cell_type": "markdown",
   "id": "0b4b0b36-f3da-44a3-b51a-957952173c9a",
   "metadata": {},
   "source": [
    "## Function with 2 variable"
   ]
  },
  {
   "cell_type": "code",
   "execution_count": null,
   "id": "831de988-51cf-4b11-b9fb-0789ad2f9d87",
   "metadata": {},
   "outputs": [],
   "source": [
    "# 2 variables\n",
    "def subtract(x, y):\n",
    "    return x - y\n",
    "\n",
    "print(\"Subtraction:\", subtract(10, 3))"
   ]
  },
  {
   "cell_type": "markdown",
   "id": "4223c88d-d3f1-4861-9f61-3dc33ab28d4d",
   "metadata": {},
   "source": [
    "## Function with 3 variables"
   ]
  },
  {
   "cell_type": "code",
   "execution_count": null,
   "id": "24226db1-7d3d-456c-89c3-fabd14921d6a",
   "metadata": {},
   "outputs": [],
   "source": [
    "# 3 variables\n",
    "def total(x, y, z):\n",
    "    return x + y + z\n",
    "\n",
    "print(\"Total of 3 numbers:\", total(1, 2, 3))"
   ]
  },
  {
   "cell_type": "markdown",
   "id": "a5323b39-34ca-4144-b2f3-7299e4ee5ecd",
   "metadata": {},
   "source": [
    "## What happens if we pass fewer arguments than required?"
   ]
  },
  {
   "cell_type": "code",
   "execution_count": 11,
   "id": "f4f808fa-2c26-4efc-a7ba-04d818d8957e",
   "metadata": {},
   "outputs": [
    {
     "ename": "TypeError",
     "evalue": "total() missing 1 required positional argument: 'z'",
     "output_type": "error",
     "traceback": [
      "\u001b[1;31m---------------------------------------------------------------------------\u001b[0m",
      "\u001b[1;31mTypeError\u001b[0m                                 Traceback (most recent call last)",
      "Cell \u001b[1;32mIn[11], line 7\u001b[0m\n\u001b[0;32m      3\u001b[0m     \u001b[38;5;28;01mreturn\u001b[39;00m x \u001b[38;5;241m+\u001b[39m y \u001b[38;5;241m+\u001b[39m z\n\u001b[0;32m      5\u001b[0m \u001b[38;5;66;03m# This will raise an error because only 2 values are passed\u001b[39;00m\n\u001b[1;32m----> 7\u001b[0m total(\u001b[38;5;241m5\u001b[39m, \u001b[38;5;241m6\u001b[39m)\n",
      "\u001b[1;31mTypeError\u001b[0m: total() missing 1 required positional argument: 'z'"
     ]
    }
   ],
   "source": [
    "# Function expects 3 arguments\n",
    "def total(x, y, z):\n",
    "    return x + y + z\n",
    "\n",
    "# This will raise an error because only 2 values are passed\n",
    "\n",
    "total(5, 6)"
   ]
  },
  {
   "cell_type": "markdown",
   "id": "5a1df5a6-1b2c-41f1-851e-efbeaa33d4ce",
   "metadata": {},
   "source": [
    "# Formal vs Actual Arguments\n",
    "\n",
    "- **Formal Arguments** → The variables inside the function definition (e.g., x, y)\n",
    "- **Actual Arguments** → The values you pass when calling the function (e.g., 5, 6)"
   ]
  },
  {
   "cell_type": "code",
   "execution_count": 12,
   "id": "a6010b97-b13b-4971-b226-141a1b6d3b5d",
   "metadata": {},
   "outputs": [
    {
     "data": {
      "text/plain": [
       "11"
      ]
     },
     "execution_count": 12,
     "metadata": {},
     "output_type": "execute_result"
    }
   ],
   "source": [
    "def add(x, y):  # x, y → formal\n",
    "    return x + y\n",
    "\n",
    "add(5, 6)  # 5, 6 → actual"
   ]
  },
  {
   "cell_type": "markdown",
   "id": "f9d735d5-d451-4c3a-9121-cf9f694038a9",
   "metadata": {},
   "source": [
    "# Recursive Function"
   ]
  },
  {
   "cell_type": "markdown",
   "id": "6717e81e-c3a8-47a4-8e1d-825f3b713940",
   "metadata": {},
   "source": [
    "A function that calls **itself** inside is called a recursive function."
   ]
  },
  {
   "cell_type": "code",
   "execution_count": 13,
   "id": "cbe47853-9fb8-402e-a549-36e022e9d97d",
   "metadata": {},
   "outputs": [
    {
     "name": "stdout",
     "output_type": "stream",
     "text": [
      "5\n",
      "4\n",
      "3\n",
      "2\n",
      "1\n"
     ]
    }
   ],
   "source": [
    "# Example: Print numbers from n to 1\n",
    "def countdown(n):\n",
    "    if n == 0:\n",
    "        return\n",
    "    print(n)\n",
    "    countdown(n - 1)\n",
    "\n",
    "countdown(5)"
   ]
  },
  {
   "cell_type": "markdown",
   "id": "b1fae6fc-bc34-44c9-a4f5-12f6917e1648",
   "metadata": {},
   "source": [
    "# Function inside a Class = Method\n",
    "When we define a function **inside a class**, it becomes a method."
   ]
  },
  {
   "cell_type": "code",
   "execution_count": 14,
   "id": "1e9f96be-9ec7-4de9-9f82-de68b5f5814b",
   "metadata": {},
   "outputs": [
    {
     "name": "stdout",
     "output_type": "stream",
     "text": [
      "Welcome from class method\n"
     ]
    }
   ],
   "source": [
    "class Nit:\n",
    "    def greet():  # No self → it's a static method\n",
    "        print(\"Welcome from class method\")\n",
    "\n",
    "Nit.greet()"
   ]
  },
  {
   "cell_type": "markdown",
   "id": "de3cdac9-d4cd-4883-acf4-dd711016934d",
   "metadata": {},
   "source": [
    "# Summary\n",
    "\n",
    "- **def** is used to define functions\n",
    "- Functions can take **zero or many arguments**\n",
    "- Use `return` when you want to **send data back**\n",
    "- **Formal arguments**: in function definition\n",
    "- **Actual arguments**: in function call\n",
    "- Functions help avoid code repetition and improve readability\n",
    "- You can also define **recursive functions** and **methods inside classes**\n"
   ]
  }
 ],
 "metadata": {
  "kernelspec": {
   "display_name": "Python 3 (ipykernel)",
   "language": "python",
   "name": "python3"
  },
  "language_info": {
   "codemirror_mode": {
    "name": "ipython",
    "version": 3
   },
   "file_extension": ".py",
   "mimetype": "text/x-python",
   "name": "python",
   "nbconvert_exporter": "python",
   "pygments_lexer": "ipython3",
   "version": "3.12.7"
  }
 },
 "nbformat": 4,
 "nbformat_minor": 5
}
