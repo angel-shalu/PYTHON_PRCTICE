{
 "cells": [
  {
   "cell_type": "markdown",
   "id": "362fa5d2-9353-4ea7-81b0-7ea84d70a39d",
   "metadata": {},
   "source": [
    "**Python Functions, Lambda & Decorators**"
   ]
  },
  {
   "cell_type": "markdown",
   "id": "b655567e-dce5-4239-aac3-a84c9c96397f",
   "metadata": {},
   "source": [
    "# Python Functions\n",
    "A function is a reusable block of code that performs a specific task."
   ]
  },
  {
   "cell_type": "code",
   "execution_count": 1,
   "id": "e4d4a93b-7aaa-4195-902b-9febb7703d23",
   "metadata": {},
   "outputs": [
    {
     "name": "stdout",
     "output_type": "stream",
     "text": [
      "Hello, Akshay!\n"
     ]
    }
   ],
   "source": [
    "# Basic Example\n",
    "def greet(name):\n",
    "    return f\"Hello, {name}!\"\n",
    "\n",
    "print(greet(\"Akshay\"))  # Output: Hello, Akshay"
   ]
  },
  {
   "cell_type": "markdown",
   "id": "026c26e9-45a9-4290-b3f8-0ea10f4a1376",
   "metadata": {},
   "source": [
    "**Example**\n",
    "## Login System\n",
    "Used in websites to verify login info."
   ]
  },
  {
   "cell_type": "code",
   "execution_count": 4,
   "id": "b29c4938-c953-4711-92d2-ca30ead09714",
   "metadata": {},
   "outputs": [
    {
     "name": "stdout",
     "output_type": "stream",
     "text": [
      "Login successful\n",
      "Invalid credentials\n"
     ]
    }
   ],
   "source": [
    "def login(username, password):\n",
    "    if username == \"admin\" and password == \"123\":\n",
    "        return \"Login successful\"\n",
    "    return \"Invalid credentials\"\n",
    "\n",
    "print(login(\"admin\", \"123\"))  # Output: Login successful\n",
    "\n",
    "print(login(\"admin\", \"1223\"))# Output: Invalid credentials"
   ]
  },
  {
   "cell_type": "markdown",
   "id": "c74ad7ff-917b-43d6-b3b0-35ea03e483b1",
   "metadata": {},
   "source": [
    "## Pizza Order Function \n",
    " Apps like Domino's, Zomato use similar logic to take and customize orders."
   ]
  },
  {
   "cell_type": "code",
   "execution_count": 5,
   "id": "1c309cb1-bff4-4181-b265-6d5caa4d041a",
   "metadata": {},
   "outputs": [
    {
     "name": "stdout",
     "output_type": "stream",
     "text": [
      "You ordered a large pizza with cheese, pepperoni, olives!\n"
     ]
    }
   ],
   "source": [
    "def order_pizza(size, toppings):\n",
    "    return f\"You ordered a {size} pizza with {', '.join(toppings)}!\"\n",
    "\n",
    "print(order_pizza(\"large\", [\"cheese\", \"pepperoni\", \"olives\"]))"
   ]
  },
  {
   "cell_type": "markdown",
   "id": "a73c1c43-228d-448f-9b0d-2cb75b713ce7",
   "metadata": {},
   "source": [
    "## Movie Ticket Booking\n",
    " Platforms like BookMyShow, PVR use similar functions for ticketing."
   ]
  },
  {
   "cell_type": "code",
   "execution_count": 6,
   "id": "c055c666-7e2a-4134-bfe4-d039789b8efd",
   "metadata": {},
   "outputs": [
    {
     "name": "stdout",
     "output_type": "stream",
     "text": [
      "Akshay booked 2 seat(s) for 'Avengers'\n"
     ]
    }
   ],
   "source": [
    "def book_ticket(name, movie, seats):\n",
    "    return f\"{name} booked {seats} seat(s) for '{movie}'\"\n",
    "\n",
    "print(book_ticket(\"Akshay\", \"Avengers\", 2))\n"
   ]
  },
  {
   "cell_type": "markdown",
   "id": "54e0918f-a46b-429b-9022-7418a39eea37",
   "metadata": {},
   "source": [
    "# Lambda Functions\n",
    "A lambda function is a small, anonymous function used for short operations."
   ]
  },
  {
   "cell_type": "code",
   "execution_count": 7,
   "id": "acedd278-665c-4a7c-969b-248b06fe1d27",
   "metadata": {},
   "outputs": [
    {
     "name": "stdout",
     "output_type": "stream",
     "text": [
      "8\n"
     ]
    }
   ],
   "source": [
    "# Basic lambda example\n",
    "add = lambda a, b: a + b\n",
    "print(add(5, 3))  # Output: 8"
   ]
  },
  {
   "cell_type": "markdown",
   "id": "ad5ab270-5316-4a74-8f79-07e776875554",
   "metadata": {},
   "source": [
    "## Get Even Numbers\n",
    "Used in filtering user data, like active vs inactive users."
   ]
  },
  {
   "cell_type": "code",
   "execution_count": 8,
   "id": "88b42acf-bfd6-428a-9552-c265decf9757",
   "metadata": {},
   "outputs": [
    {
     "name": "stdout",
     "output_type": "stream",
     "text": [
      "[10, 20, 30]\n"
     ]
    }
   ],
   "source": [
    "nums = [10, 15, 20, 25, 30]\n",
    "evens = list(filter(lambda x: x % 2 == 0, nums))\n",
    "print(evens)  # Output: [10, 20, 30]"
   ]
  },
  {
   "cell_type": "markdown",
   "id": "1bd28589-00eb-48ac-b857-2ba8bfb5fb13",
   "metadata": {},
   "source": [
    "## Sort by Salary\n",
    " Used in HR systems to sort records."
   ]
  },
  {
   "cell_type": "code",
   "execution_count": 9,
   "id": "c373d163-618b-42e7-8888-b540d767fcf7",
   "metadata": {},
   "outputs": [
    {
     "name": "stdout",
     "output_type": "stream",
     "text": [
      "[('Ravi', 40000), ('Amit', 50000), ('Neha', 65000)]\n"
     ]
    }
   ],
   "source": [
    "employees = [(\"Amit\", 50000), (\"Neha\", 65000), (\"Ravi\", 40000)]\n",
    "employees.sort(key=lambda x: x[1])  # Sort by salary\n",
    "print(employees)"
   ]
  },
  {
   "cell_type": "markdown",
   "id": "ee7bee27-1f33-4800-ae0c-452b5e3ceb00",
   "metadata": {},
   "source": [
    "# Python Decorators\n",
    "\n",
    "A decorator is a special function in Python that allows you to add new features to an existing function without changing its code.\n",
    "\n",
    " You “wrap” your original function inside another function — and this wrapper can do something before or after the original function runs.\n",
    "\n",
    "\n",
    "**Think of it like this:**\n",
    "\n",
    "Imagine you have a plain cake (your function 🎂).\n",
    "\n",
    "You want to add chocolate on top (extra feature 🍫) — but without baking the cake again.\n",
    "\n",
    "So you “wrap” the cake in chocolate — this is what a decorator does.\n",
    "\n"
   ]
  },
  {
   "cell_type": "code",
   "execution_count": 10,
   "id": "30a60942-387d-4f34-b4b1-42a33f4e4faa",
   "metadata": {},
   "outputs": [
    {
     "name": "stdout",
     "output_type": "stream",
     "text": [
      "Before function\n",
      "Welcome to the system!\n",
      "After function\n"
     ]
    }
   ],
   "source": [
    "def decorator_func(func):\n",
    "    def wrapper():\n",
    "        print(\"Before function\")\n",
    "        func()\n",
    "        print(\"After function\")\n",
    "    return wrapper\n",
    "\n",
    "@decorator_func\n",
    "def welcome():\n",
    "    print(\"Welcome to the system!\")\n",
    "\n",
    "welcome()"
   ]
  },
  {
   "cell_type": "markdown",
   "id": "12f73317-3f41-497d-bc26-d31e443bbfe5",
   "metadata": {},
   "source": [
    "## Logging Every Function Call\n",
    " Used in payment systems to log every transaction."
   ]
  },
  {
   "cell_type": "code",
   "execution_count": 11,
   "id": "d04804d3-677d-430d-8e32-12b9b69798b4",
   "metadata": {},
   "outputs": [
    {
     "name": "stdout",
     "output_type": "stream",
     "text": [
      "LOG: Running pay with (200,)\n",
      "Paid ₹200\n"
     ]
    }
   ],
   "source": [
    "def log_decorator(func):\n",
    "    def wrapper(*args, **kwargs):\n",
    "        print(f\"LOG: Running {func.__name__} with {args}\")\n",
    "        return func(*args, **kwargs)\n",
    "    return wrapper\n",
    "\n",
    "@log_decorator\n",
    "def pay(amount):\n",
    "    print(f\"Paid ₹{amount}\")\n",
    "\n",
    "pay(200)"
   ]
  },
  {
   "cell_type": "markdown",
   "id": "69d9345b-3fc4-4b03-b454-edd1ba5903f8",
   "metadata": {},
   "source": [
    "## Access Control (Login Required)\n",
    "Used on websites like Amazon, Gmail to protect user dashboards.\n"
   ]
  },
  {
   "cell_type": "code",
   "execution_count": 12,
   "id": "1dafc112-72f3-47e6-aa1f-33f1b9ae627a",
   "metadata": {},
   "outputs": [
    {
     "name": "stdout",
     "output_type": "stream",
     "text": [
      "Welcome Akshay to your dashboard.\n",
      "❌ Please log in first.\n"
     ]
    }
   ],
   "source": [
    "def login_required(func):\n",
    "    def wrapper(user):\n",
    "        if user.get(\"logged_in\"):\n",
    "            return func(user)\n",
    "        else:\n",
    "            return \"❌ Please log in first.\"\n",
    "    return wrapper\n",
    "\n",
    "@login_required\n",
    "def view_dashboard(user):\n",
    "    return f\"Welcome {user['name']} to your dashboard.\"\n",
    "\n",
    "user1 = {\"name\": \"Akshay\", \"logged_in\": True}\n",
    "user2 = {\"name\": \"Swara\", \"logged_in\": False}\n",
    "\n",
    "print(view_dashboard(user1))  #  Welcome message\n",
    "print(view_dashboard(user2))  #  Login required\n"
   ]
  }
 ],
 "metadata": {
  "kernelspec": {
   "display_name": "Python 3 (ipykernel)",
   "language": "python",
   "name": "python3"
  },
  "language_info": {
   "codemirror_mode": {
    "name": "ipython",
    "version": 3
   },
   "file_extension": ".py",
   "mimetype": "text/x-python",
   "name": "python",
   "nbconvert_exporter": "python",
   "pygments_lexer": "ipython3",
   "version": "3.13.5"
  }
 },
 "nbformat": 4,
 "nbformat_minor": 5
}
