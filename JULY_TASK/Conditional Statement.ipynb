{
 "cells": [
  {
   "cell_type": "markdown",
   "id": "317d5719-a5a9-420b-8ce8-ece0690770e9",
   "metadata": {},
   "source": [
    "# 15th July \n",
    "# Conditional Statement"
   ]
  },
  {
   "cell_type": "code",
   "execution_count": 1,
   "id": "a2721484-922e-43f8-bcd2-5fa8110e743c",
   "metadata": {},
   "outputs": [
    {
     "name": "stdout",
     "output_type": "stream",
     "text": [
      "Hello\n"
     ]
    }
   ],
   "source": [
    "if True:\n",
    "    print(\"Hello\")"
   ]
  },
  {
   "cell_type": "code",
   "execution_count": 2,
   "id": "368c2469-a557-4226-8698-bd0a1ee9e168",
   "metadata": {},
   "outputs": [
    {
     "ename": "IndentationError",
     "evalue": "expected an indented block after 'if' statement on line 1 (3814570068.py, line 2)",
     "output_type": "error",
     "traceback": [
      "\u001b[1;36m  Cell \u001b[1;32mIn[2], line 2\u001b[1;36m\u001b[0m\n\u001b[1;33m    print(\"hello\")\u001b[0m\n\u001b[1;37m    ^\u001b[0m\n\u001b[1;31mIndentationError\u001b[0m\u001b[1;31m:\u001b[0m expected an indented block after 'if' statement on line 1\n"
     ]
    }
   ],
   "source": [
    "if True:\n",
    "print(\"hello\")"
   ]
  },
  {
   "cell_type": "code",
   "execution_count": 3,
   "id": "574dfa4b-6473-4896-bcc2-ba9056101c04",
   "metadata": {},
   "outputs": [
    {
     "name": "stdout",
     "output_type": "stream",
     "text": [
      "Hello\n"
     ]
    }
   ],
   "source": [
    "if True:\n",
    "    print(\"Hello\")"
   ]
  },
  {
   "cell_type": "code",
   "execution_count": 5,
   "id": "b6afac7e-ad66-4601-a1a9-261f5859fe17",
   "metadata": {},
   "outputs": [],
   "source": [
    "if False:\n",
    "    print(\"Bye\")"
   ]
  },
  {
   "cell_type": "code",
   "execution_count": 6,
   "id": "4d86b34d-9e37-43a7-8521-5917b098874c",
   "metadata": {},
   "outputs": [
    {
     "name": "stdout",
     "output_type": "stream",
     "text": [
      "Data Science\n",
      "bye for now\n"
     ]
    }
   ],
   "source": [
    "if True: \n",
    "    print('Data Science')\n",
    "    \n",
    "print('bye for now')"
   ]
  },
  {
   "cell_type": "code",
   "execution_count": 7,
   "id": "1ba27e15-9562-4e86-8df4-62317aaa6efc",
   "metadata": {},
   "outputs": [
    {
     "name": "stdout",
     "output_type": "stream",
     "text": [
      "bye for now\n"
     ]
    }
   ],
   "source": [
    "if False: \n",
    "    print('Data Science')\n",
    "    \n",
    "print('bye for now')"
   ]
  },
  {
   "cell_type": "code",
   "execution_count": 8,
   "id": "8c8ce42e-c9f6-45d2-8050-5a7314dbb406",
   "metadata": {},
   "outputs": [
    {
     "name": "stdout",
     "output_type": "stream",
     "text": [
      "Data Science\n"
     ]
    }
   ],
   "source": [
    "if True: \n",
    "    print('Data Science')\n",
    "    \n",
    "else:\n",
    "    print('bye for now')"
   ]
  },
  {
   "cell_type": "code",
   "execution_count": 9,
   "id": "61997c50-53c2-41cb-be9b-b31f33827da2",
   "metadata": {},
   "outputs": [
    {
     "name": "stdout",
     "output_type": "stream",
     "text": [
      "bye for now\n"
     ]
    }
   ],
   "source": [
    "if False: \n",
    "    print('Data Science')\n",
    "    \n",
    "else:\n",
    "    print('bye for now')"
   ]
  },
  {
   "cell_type": "code",
   "execution_count": null,
   "id": "3035c0ae-bfde-4d01-b8d3-820759742035",
   "metadata": {},
   "outputs": [],
   "source": []
  },
  {
   "cell_type": "markdown",
   "id": "1fe5c381-f239-4dc7-9144-47caf440a587",
   "metadata": {},
   "source": [
    "# # write python code to check wheater number is even or odd "
   ]
  },
  {
   "cell_type": "code",
   "execution_count": 10,
   "id": "db90c282-fd8d-4be6-b0ad-414d44267892",
   "metadata": {},
   "outputs": [
    {
     "name": "stdout",
     "output_type": "stream",
     "text": [
      "Even Number\n"
     ]
    }
   ],
   "source": [
    "x = 6\n",
    "r = x % 2\n",
    "if r == 0:\n",
    "    print(\"Even Number\")"
   ]
  },
  {
   "cell_type": "code",
   "execution_count": 11,
   "id": "07d7d5e9-5eec-4fbd-b03b-709443271d17",
   "metadata": {},
   "outputs": [],
   "source": [
    "x = 7\n",
    "r = x % 2\n",
    "if r == 0:\n",
    "    print(\"Even Number\")"
   ]
  },
  {
   "cell_type": "code",
   "execution_count": 12,
   "id": "c886e57e-58b2-4864-9475-46f0c1aa287a",
   "metadata": {},
   "outputs": [
    {
     "name": "stdout",
     "output_type": "stream",
     "text": [
      "Even number\n"
     ]
    }
   ],
   "source": [
    "x = 6\n",
    "\n",
    "r = x % 2 \n",
    "if r == 0:\n",
    "    print('Even number')\n",
    "if r == 1:\n",
    "    print('odd number')"
   ]
  },
  {
   "cell_type": "code",
   "execution_count": 13,
   "id": "1fc811ec-7462-49c7-b3ae-c4a3ec2ed696",
   "metadata": {},
   "outputs": [
    {
     "name": "stdout",
     "output_type": "stream",
     "text": [
      "odd number\n"
     ]
    }
   ],
   "source": [
    "x = 7\n",
    "r = x % 2 \n",
    "if r == 0:\n",
    "    print('Even number')\n",
    "if r == 1:\n",
    "    print('odd number')"
   ]
  },
  {
   "cell_type": "code",
   "execution_count": 14,
   "id": "b4830d2e-1fee-4361-a6bd-68b0713106a7",
   "metadata": {},
   "outputs": [
    {
     "name": "stdout",
     "output_type": "stream",
     "text": [
      "Even number\n"
     ]
    }
   ],
   "source": [
    "x = 6\n",
    "r = x % 2 \n",
    "if r == 0:\n",
    "    print('Even number')\n",
    "else:\n",
    "    print('odd number')"
   ]
  },
  {
   "cell_type": "code",
   "execution_count": 15,
   "id": "2223f979-03db-4918-899d-af869a3fe36c",
   "metadata": {},
   "outputs": [
    {
     "name": "stdout",
     "output_type": "stream",
     "text": [
      "odd number\n"
     ]
    }
   ],
   "source": [
    "x = 9\n",
    "r = x % 2 \n",
    "if r == 0:\n",
    "    print('Even number')\n",
    "else:\n",
    "    print('odd number')"
   ]
  },
  {
   "cell_type": "code",
   "execution_count": 16,
   "id": "0ca0a83f-b1fb-4a9c-b220-116874686f15",
   "metadata": {},
   "outputs": [
    {
     "name": "stdout",
     "output_type": "stream",
     "text": [
      "odd number\n"
     ]
    }
   ],
   "source": [
    "x = 5\n",
    "r = x % 2 \n",
    "if r == 0:    print('Even number')\n",
    "else:     print('odd number')"
   ]
  },
  {
   "cell_type": "code",
   "execution_count": 17,
   "id": "d8c69ab7-a47f-4005-815a-3e66c2e34317",
   "metadata": {},
   "outputs": [
    {
     "name": "stdout",
     "output_type": "stream",
     "text": [
      "odd number\n"
     ]
    }
   ],
   "source": [
    "x = 9\n",
    "r = x % 2 \n",
    "if r == 0:\n",
    "    print('Even number') \n",
    "if r != 0:\n",
    "    print('odd number')"
   ]
  },
  {
   "cell_type": "code",
   "execution_count": null,
   "id": "f576513b-5f04-4b32-904c-7fca323ae608",
   "metadata": {},
   "outputs": [],
   "source": []
  },
  {
   "cell_type": "markdown",
   "id": "36dbae86-a2ca-414d-a066-b4a22b4bd6d6",
   "metadata": {},
   "source": [
    "# Nested if"
   ]
  },
  {
   "cell_type": "code",
   "execution_count": 18,
   "id": "8468c7af-48d2-41f4-9993-83fda5ee73e7",
   "metadata": {},
   "outputs": [
    {
     "name": "stdout",
     "output_type": "stream",
     "text": [
      "Odd Number\n"
     ]
    }
   ],
   "source": [
    "x = 3\n",
    "r = x % 2\n",
    "if r == 0:\n",
    "    print('Even number')\n",
    "    if x>5:\n",
    "        print('greater number')\n",
    "else:\n",
    "    print('Odd Number')"
   ]
  },
  {
   "cell_type": "code",
   "execution_count": 19,
   "id": "7f222013-5c16-478f-ac76-6e4dd08143c7",
   "metadata": {},
   "outputs": [
    {
     "name": "stdout",
     "output_type": "stream",
     "text": [
      "Even number\n",
      "greater number\n"
     ]
    }
   ],
   "source": [
    "x = 6\n",
    "r = x % 2\n",
    "if r == 0:\n",
    "    print('Even number')\n",
    "    \n",
    "    if x>5:\n",
    "        print('greater number')\n",
    "    else:\n",
    "        print('smaller number') \n",
    "else:\n",
    "    print('Odd Number')"
   ]
  },
  {
   "cell_type": "code",
   "execution_count": 20,
   "id": "4a1d1253-8472-4c7a-8bf9-8b680946ede1",
   "metadata": {},
   "outputs": [
    {
     "name": "stdout",
     "output_type": "stream",
     "text": [
      "four\n"
     ]
    }
   ],
   "source": [
    "x = 4\n",
    "\n",
    "if x == 1:\n",
    "    print('one')\n",
    "if x == 2:\n",
    "    print('Two')\n",
    "if x == 3:\n",
    "    print('Three')\n",
    "if x == 4:\n",
    "    print('four')"
   ]
  },
  {
   "cell_type": "code",
   "execution_count": 21,
   "id": "0758e40e-ec6c-474e-ae37-7bb25c07067d",
   "metadata": {},
   "outputs": [
    {
     "name": "stdout",
     "output_type": "stream",
     "text": [
      "Three\n"
     ]
    }
   ],
   "source": [
    "x = 3\n",
    "\n",
    "if x == 1:\n",
    "    print('one')\n",
    "if x == 2:\n",
    "    print('Two')\n",
    "if x == 3:\n",
    "    print('Three')\n",
    "if x == 4:\n",
    "    print('four')"
   ]
  },
  {
   "cell_type": "code",
   "execution_count": 22,
   "id": "9a42844b-40e6-4698-abf1-2a9d73cb2052",
   "metadata": {},
   "outputs": [],
   "source": [
    "x = 9\n",
    "\n",
    "if x == 1:\n",
    "    print('one')\n",
    "if x == 2:\n",
    "    print('Two')\n",
    "if x == 3:\n",
    "    print('Three')\n",
    "if x == 4:\n",
    "    print('four')"
   ]
  },
  {
   "cell_type": "code",
   "execution_count": 23,
   "id": "fda71f58-0d30-4968-9c73-7292db8b1007",
   "metadata": {},
   "outputs": [
    {
     "name": "stdout",
     "output_type": "stream",
     "text": [
      "Two\n"
     ]
    }
   ],
   "source": [
    "x = 2\n",
    "\n",
    "if x == 1:\n",
    "    print('one')\n",
    "elif x == 2:\n",
    "    print('Two')\n",
    "elif x == 3:\n",
    "    print('Three')\n",
    "elif x == 4:\n",
    "    print('four')"
   ]
  },
  {
   "cell_type": "code",
   "execution_count": 24,
   "id": "0cfd75b1-597e-46a5-bb3b-6e9633efda84",
   "metadata": {},
   "outputs": [
    {
     "name": "stdout",
     "output_type": "stream",
     "text": [
      "Number not found\n"
     ]
    }
   ],
   "source": [
    "x = 10\n",
    "\n",
    "if x == 1:\n",
    "    print('one')\n",
    "elif x == 2:\n",
    "    print('Two')\n",
    "elif x == 3:\n",
    "    print('Three')\n",
    "elif x == 4:\n",
    "    print('four')\n",
    "else:\n",
    "    print(\"Number not found\")"
   ]
  },
  {
   "cell_type": "code",
   "execution_count": 26,
   "id": "75f04e33-f11a-4184-98d7-811f4a035739",
   "metadata": {},
   "outputs": [
    {
     "name": "stdin",
     "output_type": "stream",
     "text": [
      "Enter a number:  8\n"
     ]
    },
    {
     "name": "stdout",
     "output_type": "stream",
     "text": [
      "Positive\n"
     ]
    }
   ],
   "source": [
    "num = int(input(\"Enter a number: \"))\n",
    "\n",
    "if num > 0:\n",
    " print(\"Positive\")\n",
    "elif num < 0:\n",
    " print(\"Negative\")\n",
    "else:\n",
    " print(\"Zero\")"
   ]
  },
  {
   "cell_type": "code",
   "execution_count": null,
   "id": "ceaabd50-662b-4501-b073-55b737dbbdc6",
   "metadata": {},
   "outputs": [],
   "source": []
  },
  {
   "cell_type": "markdown",
   "id": "9bf4e318-6b82-4943-9616-c7974df0a444",
   "metadata": {},
   "source": [
    "# GeeksforGeeks "
   ]
  },
  {
   "cell_type": "code",
   "execution_count": 27,
   "id": "c131fd93-fc24-4073-83aa-935b3bbaab22",
   "metadata": {},
   "outputs": [
    {
     "name": "stdout",
     "output_type": "stream",
     "text": [
      "Eligible for vote\n"
     ]
    }
   ],
   "source": [
    "age = 20\n",
    "if age >= 18:\n",
    "    print(\"Eligible for vote\")"
   ]
  },
  {
   "cell_type": "code",
   "execution_count": 28,
   "id": "5f58e818-5236-4849-a194-09775b335ce1",
   "metadata": {},
   "outputs": [
    {
     "name": "stdout",
     "output_type": "stream",
     "text": [
      "Pay for ticket\n"
     ]
    }
   ],
   "source": [
    "if age <= 12:\n",
    "    print(\"Travel for free\")\n",
    "else:\n",
    "    print(\"Pay for ticket\")"
   ]
  },
  {
   "cell_type": "code",
   "execution_count": 29,
   "id": "a8e509c2-c80a-42e7-abbe-4241047ff174",
   "metadata": {},
   "outputs": [
    {
     "name": "stdout",
     "output_type": "stream",
     "text": [
      "Result: Pass\n"
     ]
    }
   ],
   "source": [
    "marks = 45\n",
    "result = \"Pass\" if marks >=40 else \"Fail\"\n",
    "print(f\"Result: {result}\")"
   ]
  },
  {
   "cell_type": "code",
   "execution_count": 30,
   "id": "8db6eddb-1ba3-4bf8-8810-d3fc59230176",
   "metadata": {},
   "outputs": [
    {
     "name": "stdout",
     "output_type": "stream",
     "text": [
      "Result: Pass\n"
     ]
    }
   ],
   "source": [
    "marks = 45\n",
    "if marks >= 40:\n",
    "    result = \"Pass\"\n",
    "else:\n",
    "    result = \"Fail\"\n",
    "print(f\"Result: {result}\")"
   ]
  },
  {
   "cell_type": "code",
   "execution_count": 31,
   "id": "e9a6de9e-78d0-446c-b4f1-bece905acb0c",
   "metadata": {},
   "outputs": [
    {
     "name": "stdout",
     "output_type": "stream",
     "text": [
      "Young adult\n"
     ]
    }
   ],
   "source": [
    "age = 25\n",
    "if age <= 12:\n",
    "    print(\"Child\")\n",
    "elif age <= 19:\n",
    "    print(\"Teenager\")\n",
    "elif age <= 35:\n",
    "    print(\"Young adult\")\n",
    "else:\n",
    "    print(\"Adult\")"
   ]
  },
  {
   "cell_type": "code",
   "execution_count": 32,
   "id": "8bfd54e9-94a1-4dc8-bf4a-002c079e5157",
   "metadata": {},
   "outputs": [
    {
     "name": "stdout",
     "output_type": "stream",
     "text": [
      "30% senior discount!\n"
     ]
    }
   ],
   "source": [
    "age = 70\n",
    "is_member = True\n",
    "if age >= 60:\n",
    "    if is_member:\n",
    "        print(\"30% senior discount!\")\n",
    "    else:\n",
    "        print(\"20% senior discount.\")\n",
    "else:\n",
    "    print(\"Not eligible for a senior discount.\")"
   ]
  },
  {
   "cell_type": "code",
   "execution_count": 33,
   "id": "1bdd34f4-27e7-4022-98c4-fde202ddb033",
   "metadata": {},
   "outputs": [
    {
     "name": "stdout",
     "output_type": "stream",
     "text": [
      "Eligible for the discount\n",
      "30% senior discount!\n"
     ]
    }
   ],
   "source": [
    "age = 70\n",
    "is_member = True\n",
    "if age >= 60:\n",
    "    print(\"Eligible for the discount\")\n",
    "    if is_member:\n",
    "        print(\"30% senior discount!\")\n",
    "    else:\n",
    "        print(\"20% senior discount.\")\n",
    "else:\n",
    "    print(\"Not eligible for a senior discount.\")"
   ]
  },
  {
   "cell_type": "code",
   "execution_count": 34,
   "id": "f664cf67-c6a6-4b96-b4f7-48601a1ec702",
   "metadata": {},
   "outputs": [
    {
     "name": "stdout",
     "output_type": "stream",
     "text": [
      "Adult\n"
     ]
    }
   ],
   "source": [
    "# Assign a value based on a condition\n",
    "age = 20\n",
    "s = \"Adult\" if age >= 18 else \"Minor\"\n",
    "\n",
    "print(s)"
   ]
  },
  {
   "cell_type": "code",
   "execution_count": 35,
   "id": "bb296f70-691b-47c0-bbbf-383c4fd0334b",
   "metadata": {},
   "outputs": [
    {
     "name": "stdout",
     "output_type": "stream",
     "text": [
      "One\n"
     ]
    }
   ],
   "source": [
    "number = 1\n",
    "match number:\n",
    "    case 1:\n",
    "        print(\"One\")\n",
    "    case 2 | 3:\n",
    "        print(\"Two or Three\")\n",
    "    case _:\n",
    "        print(\"Other number\")"
   ]
  },
  {
   "cell_type": "code",
   "execution_count": 36,
   "id": "0c3b687f-c605-4751-916f-ae995d1ffeea",
   "metadata": {},
   "outputs": [
    {
     "name": "stdout",
     "output_type": "stream",
     "text": [
      "Two or Three\n"
     ]
    }
   ],
   "source": [
    "number = 2\n",
    "match number:\n",
    "    case 1:\n",
    "        print(\"One\")\n",
    "    case 2 | 3:\n",
    "        print(\"Two or Three\")\n",
    "    case _:\n",
    "        print(\"Other number\")"
   ]
  },
  {
   "cell_type": "code",
   "execution_count": 37,
   "id": "f4736058-f899-4cff-a710-0cd5820e833b",
   "metadata": {},
   "outputs": [
    {
     "name": "stdout",
     "output_type": "stream",
     "text": [
      "Other number\n"
     ]
    }
   ],
   "source": [
    "number = _\n",
    "match number:\n",
    "    case 1:\n",
    "        print(\"One\")\n",
    "    case 2 | 3:\n",
    "        print(\"Two or Three\")\n",
    "    case _:\n",
    "        print(\"Other number\")"
   ]
  },
  {
   "cell_type": "code",
   "execution_count": null,
   "id": "0658930e-d1ee-46dc-a4b1-dcc7411fa47e",
   "metadata": {},
   "outputs": [],
   "source": []
  },
  {
   "cell_type": "code",
   "execution_count": 38,
   "id": "aa2b398c-3e2e-43c0-9355-8319ab3bf09c",
   "metadata": {},
   "outputs": [
    {
     "name": "stdout",
     "output_type": "stream",
     "text": [
      "greater than 15\n"
     ]
    }
   ],
   "source": [
    "# IF STATEMENT \n",
    "\n",
    "i = 10\n",
    "if (i >15):\n",
    "    print(\"less tahn 15\")\n",
    "print(\"greater than 15\")"
   ]
  },
  {
   "cell_type": "code",
   "execution_count": 45,
   "id": "6e4a5461-b6d2-4886-b69e-d092ee6f437a",
   "metadata": {},
   "outputs": [
    {
     "name": "stdout",
     "output_type": "stream",
     "text": [
      "num is positive number\n"
     ]
    }
   ],
   "source": [
    "# ELSE STATEMENT\n",
    "num =20\n",
    "if (num > 0):\n",
    "    print(\"num is positive number\")\n",
    "else:\n",
    "    print(\"num s 0 or negative number\")"
   ]
  },
  {
   "cell_type": "code",
   "execution_count": 47,
   "id": "88fa7063-0786-4dee-b4ee-0d228b3e2d10",
   "metadata": {},
   "outputs": [
    {
     "name": "stdout",
     "output_type": "stream",
     "text": [
      "num is 0 or negative number\n"
     ]
    }
   ],
   "source": [
    "num = -2\n",
    "if (num > 0):\n",
    "    print(\"num is positive number\")\n",
    "else:\n",
    "    print(\"num is 0 or negative number\")"
   ]
  },
  {
   "cell_type": "code",
   "execution_count": 48,
   "id": "04378436-8878-45a7-b161-e5af30c452d9",
   "metadata": {},
   "outputs": [
    {
     "name": "stdout",
     "output_type": "stream",
     "text": [
      "Eligible.\n"
     ]
    }
   ],
   "source": [
    "# Logical operator\n",
    "\n",
    "age = 25\n",
    "exp = 10\n",
    "\n",
    "# Using '>' operator & 'and' with if-else\n",
    "if age > 23 and exp > 8:\n",
    "    print(\"Eligible.\")\n",
    "else:\n",
    "    print(\"Not eligible.\")"
   ]
  },
  {
   "cell_type": "code",
   "execution_count": 60,
   "id": "38fe73d6-c34d-4419-a7f6-5a75d495d115",
   "metadata": {},
   "outputs": [
    {
     "name": "stdout",
     "output_type": "stream",
     "text": [
      "i is smaller than 15\n",
      "i is smaller than 12 too\n"
     ]
    }
   ],
   "source": [
    "i = 10\n",
    "if (i == 10):\n",
    "  \n",
    "    #  First if statement\n",
    "    if (i < 15):\n",
    "        print(\"i is smaller than 15\")\n",
    "        \n",
    "    # Nested - if statement\n",
    "    # Will only be executed if statement above\n",
    "    # it is true\n",
    "    if (i < 12):\n",
    "        print(\"i is smaller than 12 too\")\n",
    "    else:\n",
    "        print(\"i is greater than 15\")      \n",
    "else:\n",
    "  print(\"i is not equal to 10\")"
   ]
  },
  {
   "cell_type": "code",
   "execution_count": 65,
   "id": "d0032999-b339-4dd3-9575-e856db21bf38",
   "metadata": {},
   "outputs": [
    {
     "name": "stdout",
     "output_type": "stream",
     "text": [
      "i is smaller than 9\n",
      "i is smaller than 10 too\n"
     ]
    }
   ],
   "source": [
    "i = 7\n",
    "\n",
    "if i == 7:\n",
    "    if i < 9:\n",
    "        print(\"i is smaller than 9\")\n",
    "        if i < 10:\n",
    "            print(\"i is smaller than 10 too\")\n",
    "        else:\n",
    "            print(\"i is greater than 10\")\n",
    "else:\n",
    "    print(\"i is not equal to 7\")\n"
   ]
  },
  {
   "cell_type": "code",
   "execution_count": 66,
   "id": "c7eedfa3-2e5e-4e7c-89aa-2c573a84ee39",
   "metadata": {},
   "outputs": [
    {
     "name": "stdout",
     "output_type": "stream",
     "text": [
      "i is not equal to 7\n"
     ]
    }
   ],
   "source": [
    "i = 20\n",
    "\n",
    "if i == 7:\n",
    "    if i < 9:\n",
    "        print(\"i is smaller than 9\")\n",
    "        if i < 10:\n",
    "            print(\"i is smaller than 10 too\")\n",
    "        else:\n",
    "            print(\"i is greater than 10\")\n",
    "else:\n",
    "    print(\"i is not equal to 7\")\n"
   ]
  },
  {
   "cell_type": "code",
   "execution_count": 73,
   "id": "233c13ed-94d0-4a63-94e3-46720cc10d62",
   "metadata": {},
   "outputs": [
    {
     "name": "stdout",
     "output_type": "stream",
     "text": [
      "i is 15\n"
     ]
    }
   ],
   "source": [
    "# IF ELIF ELSE STATEMENT\n",
    "\n",
    "i = 15\n",
    "\n",
    " # Checking if i is equal to 10\n",
    "if (i == 10):\n",
    "    print(\"i is 10\")\n",
    " # Checking if i is equal to 15\n",
    "\n",
    "elif (i == 15):\n",
    "    print(\"i is 15\")\n",
    " # Checking if i is equal to 20\n",
    "\n",
    "elif (i == 20):\n",
    "    print(\"i is 20\")\n",
    "    \n",
    " # If none of the above conditions are true\n",
    "else:\n",
    "    print(\"i is not present\")\n"
   ]
  },
  {
   "cell_type": "code",
   "execution_count": 74,
   "id": "2d3b5463-7cf0-4abd-bea4-a3f87045a358",
   "metadata": {},
   "outputs": [
    {
     "name": "stdout",
     "output_type": "stream",
     "text": [
      "i is not present\n"
     ]
    }
   ],
   "source": [
    "i = 25\n",
    "\n",
    " # Checking if i is equal to 10\n",
    "if i == 10:\n",
    "    print(\"i is 10\")\n",
    " # Checking if i is equal to 15\n",
    "\n",
    "elif i == 15:\n",
    "    print(\"i is 15\")\n",
    " # Checking if i is equal to 20\n",
    "\n",
    "elif i == 20:\n",
    "    print(\"i is 20\")\n",
    "    \n",
    " # If none of the above conditions are true\n",
    "else:\n",
    "    print(\"i is not present\")"
   ]
  },
  {
   "cell_type": "code",
   "execution_count": null,
   "id": "48c0ce22-3e7e-4407-a378-74a6fc967992",
   "metadata": {},
   "outputs": [],
   "source": []
  },
  {
   "cell_type": "code",
   "execution_count": 76,
   "id": "a2cc2d64-9a7c-495b-97c8-185522e280cb",
   "metadata": {},
   "outputs": [
    {
     "name": "stdout",
     "output_type": "stream",
     "text": [
      "10 greater than 5\n",
      "Program ended\n"
     ]
    }
   ],
   "source": [
    "if 10 > 5:\n",
    "    print(\"10 greater than 5\")\n",
    "    print(\"Program ended\")"
   ]
  },
  {
   "cell_type": "code",
   "execution_count": 77,
   "id": "122ce0fa-0302-4032-9d4b-4bb9c64e1525",
   "metadata": {},
   "outputs": [
    {
     "name": "stdout",
     "output_type": "stream",
     "text": [
      "No\n"
     ]
    }
   ],
   "source": [
    "# if..else statement example\n",
    "x = 7\n",
    "if x == 8:\n",
    "    print(\"Yes\")\n",
    "else:\n",
    "    print(\"No\")"
   ]
  },
  {
   "cell_type": "code",
   "execution_count": 78,
   "id": "5ecdee53-df75-46a1-90bb-d89d0a95288e",
   "metadata": {},
   "outputs": [
    {
     "name": "stdout",
     "output_type": "stream",
     "text": [
      "letter is A\n"
     ]
    }
   ],
   "source": [
    "# if..else chain statement\n",
    "\n",
    "letter = \"A\"\n",
    "if letter == \"B\":\n",
    "    print(\"letter is B\")\n",
    "else:\n",
    "    if letter == \"C\":\n",
    "        print(\"letter is C\")\n",
    "    else:\n",
    "        if letter == \"A\":\n",
    "            print(\"letter is A\")\n",
    "        else:\n",
    "            print(\"letter is not A,B,C\")    "
   ]
  },
  {
   "cell_type": "code",
   "execution_count": 84,
   "id": "755dfcbe-fdd1-4705-a4e5-824d9e3b8475",
   "metadata": {},
   "outputs": [
    {
     "name": "stdout",
     "output_type": "stream",
     "text": [
      "num is 10\n"
     ]
    }
   ],
   "source": [
    "num = 10\n",
    "if num == 15:\n",
    "    print(\"num is 15\")\n",
    "else:\n",
    "    if num == 20:\n",
    "        print(\"num is 20\")\n",
    "    else:\n",
    "        if num == 10:\n",
    "            print(\"num is 10\")\n",
    "        else:\n",
    "            print(\"num is not 10,15,20\")  "
   ]
  },
  {
   "cell_type": "code",
   "execution_count": 86,
   "id": "f8628a22-e304-43ad-8352-85e730e1aec5",
   "metadata": {},
   "outputs": [
    {
     "name": "stdout",
     "output_type": "stream",
     "text": [
      "num is not 10,15,20\n"
     ]
    }
   ],
   "source": [
    "num = 100\n",
    "if num == 15:\n",
    "    print(\"num is 15\")\n",
    "else:\n",
    "    if num == 20:\n",
    "        print(\"num is 20\")\n",
    "    else:\n",
    "        if num == 10:\n",
    "            print(\"num is 10\")\n",
    "        else:\n",
    "            print(\"num is not 10,15,20\")  "
   ]
  },
  {
   "cell_type": "code",
   "execution_count": 87,
   "id": "b8e1fcda-0eca-45a1-a95f-7f57f4ca4daf",
   "metadata": {},
   "outputs": [
    {
     "name": "stdout",
     "output_type": "stream",
     "text": [
      "Bigger than 5\n",
      "Between 5 and 15\n"
     ]
    }
   ],
   "source": [
    "# Nested if statement\n",
    "# Nested if statement example\n",
    "a = 10\n",
    "\n",
    "if a > 5:\n",
    "    print(\"Bigger than 5\")\n",
    "    if a <= 15:\n",
    "        print(\"Between 5 and 15\")"
   ]
  },
  {
   "cell_type": "code",
   "execution_count": 88,
   "id": "cf7672e9-ea06-4953-a819-ad7ef579664e",
   "metadata": {},
   "outputs": [
    {
     "name": "stdout",
     "output_type": "stream",
     "text": [
      "Bigger than 5\n"
     ]
    }
   ],
   "source": [
    "a = 20\n",
    "if a > 5:\n",
    "    print(\"Bigger than 5\")\n",
    "    if a <= 15:\n",
    "        print(\"Between 5 and 15\")"
   ]
  },
  {
   "cell_type": "code",
   "execution_count": 89,
   "id": "992cbdb0-f896-4169-bf6d-e6e828291d27",
   "metadata": {},
   "outputs": [
    {
     "name": "stdout",
     "output_type": "stream",
     "text": [
      "Bigger than 5\n",
      "Between 5 and 15\n"
     ]
    }
   ],
   "source": [
    "a = 7\n",
    "\n",
    "if a > 5:\n",
    "    print(\"Bigger than 5\")\n",
    "    if a <= 15:\n",
    "        print(\"Between 5 and 15\")"
   ]
  },
  {
   "cell_type": "code",
   "execution_count": 90,
   "id": "d4d46e66-0827-40ac-b295-cbd75863f0cd",
   "metadata": {},
   "outputs": [
    {
     "name": "stdout",
     "output_type": "stream",
     "text": [
      "num is not 10, 15, or 20\n"
     ]
    }
   ],
   "source": [
    "# if-elif statement\n",
    "\n",
    "num = 10\n",
    "\n",
    "if num == 15:\n",
    "    print(\"num is 15\")\n",
    "elif num == 20:\n",
    "    print(\"num is 20\")\n",
    "elif num == 25:\n",
    "    print(\"num is 25\")\n",
    "else:\n",
    "    print(\"num is not 10, 15, or 20\")\n"
   ]
  },
  {
   "cell_type": "code",
   "execution_count": 92,
   "id": "608ff024-0598-4852-9520-74b59bc818e1",
   "metadata": {},
   "outputs": [
    {
     "name": "stdout",
     "output_type": "stream",
     "text": [
      "num is 25\n"
     ]
    }
   ],
   "source": [
    "num = 25\n",
    "\n",
    "if num == 15:\n",
    "    print(\"num is 15\")\n",
    "elif num == 20:\n",
    "    print(\"num is 20\")\n",
    "elif num == 25:\n",
    "    print(\"num is 25\")\n",
    "else:\n",
    "    print(\"num is not 10, 15, or 20\")\n"
   ]
  },
  {
   "cell_type": "code",
   "execution_count": 93,
   "id": "f361c91d-45c6-44e4-86f0-a7b7d723db16",
   "metadata": {},
   "outputs": [
    {
     "name": "stdout",
     "output_type": "stream",
     "text": [
      "x is greater than 5 and y is 5\n"
     ]
    }
   ],
   "source": [
    "x = 10\n",
    "y = 5\n",
    "if x > 5:\n",
    "    if y > 5:\n",
    "        print(\"x is greater than 5\")\n",
    "    elif y==5:\n",
    "         print(\"x is greater than 5 and y is 5\")\n",
    "    else:\n",
    "        print(\"x is greater than 5 and y is less than 5\")"
   ]
  },
  {
   "cell_type": "code",
   "execution_count": 95,
   "id": "70da97b6-54b4-4aa8-8112-261fbd997a88",
   "metadata": {},
   "outputs": [
    {
     "name": "stdout",
     "output_type": "stream",
     "text": [
      "x is greater than 5 and y is less than 5\n"
     ]
    }
   ],
   "source": [
    "x = 10\n",
    "y = 2\n",
    "if x > 5:\n",
    "    if y > 5:\n",
    "        print(\"x is greater than 5\")\n",
    "    elif y==5:\n",
    "         print(\"x is greater than 5 and y is 5\")\n",
    "    else:\n",
    "        print(\"x is greater than 5 and y is less than 5\")"
   ]
  },
  {
   "cell_type": "code",
   "execution_count": 96,
   "id": "aceccc82-7e3b-4b03-9dd2-123f82e2acd7",
   "metadata": {},
   "outputs": [
    {
     "name": "stdout",
     "output_type": "stream",
     "text": [
      "Ticket price is $10\n"
     ]
    }
   ],
   "source": [
    "age = 27\n",
    "member = True\n",
    "\n",
    "if age >18:\n",
    "    if member:\n",
    "        print(\"Ticket price is $10\")\n",
    "    else:\n",
    "        print(\"Ticket price is $ 15\")\n",
    "else:\n",
    "    if member:\n",
    "        print(\"Ticke price is $ 7\")\n",
    "    else:\n",
    "        print (\"Ticket price is $ 9\")\n",
    "        "
   ]
  },
  {
   "cell_type": "code",
   "execution_count": 97,
   "id": "a7d1ee22-0849-4c45-ab89-a5c15d314407",
   "metadata": {},
   "outputs": [
    {
     "name": "stdout",
     "output_type": "stream",
     "text": [
      "Ticke price is $ 7\n"
     ]
    }
   ],
   "source": [
    "age = 17\n",
    "member = True\n",
    "\n",
    "if age >18:\n",
    "    if member:\n",
    "        print(\"Ticket price is $10\")\n",
    "    else:\n",
    "        print(\"Ticket price is $ 15\")\n",
    "else:\n",
    "    if member:\n",
    "        print(\"Ticke price is $ 7\")\n",
    "    else:\n",
    "        print (\"Ticket price is $ 9\")\n",
    "        "
   ]
  },
  {
   "cell_type": "code",
   "execution_count": 98,
   "id": "8964c3e0-075a-48dd-a5ab-235d709b06f2",
   "metadata": {},
   "outputs": [
    {
     "name": "stdout",
     "output_type": "stream",
     "text": [
      "Ticket price is $ 15\n"
     ]
    }
   ],
   "source": [
    "age = 27\n",
    "member = False\n",
    "\n",
    "if age >18:\n",
    "    if member:\n",
    "        print(\"Ticket price is $10\")\n",
    "    else:\n",
    "        print(\"Ticket price is $ 15\")\n",
    "else:\n",
    "    if member:\n",
    "        print(\"Ticke price is $ 7\")\n",
    "    else:\n",
    "        print (\"Ticket price is $ 9\")\n",
    "        "
   ]
  },
  {
   "cell_type": "code",
   "execution_count": 100,
   "id": "7399e200-8c83-4b96-936f-ac4fb367b1ab",
   "metadata": {},
   "outputs": [
    {
     "name": "stdout",
     "output_type": "stream",
     "text": [
      "Ticket price is $ 9\n"
     ]
    }
   ],
   "source": [
    "age = 17\n",
    "member = False\n",
    "\n",
    "if age >18:\n",
    "    if member:\n",
    "        print(\"Ticket price is $10\")\n",
    "    else:\n",
    "        print(\"Ticket price is $ 15\")\n",
    "else:\n",
    "    if member:\n",
    "        print(\"Ticke price is $ 7\")\n",
    "    else:\n",
    "        print (\"Ticket price is $ 9\")\n",
    "        "
   ]
  },
  {
   "cell_type": "code",
   "execution_count": 101,
   "id": "ef834bdc-ae71-47d1-930c-c1b41ed25026",
   "metadata": {},
   "outputs": [
    {
     "name": "stdout",
     "output_type": "stream",
     "text": [
      "Zero\n"
     ]
    }
   ],
   "source": [
    "i = 0; \n",
    "\n",
    "# if condition 1\n",
    "if i != 0:\n",
    "    # condition 1\n",
    "    if i > 0:\n",
    "        print(\"Positive\")\n",
    "        \n",
    "    # condition 2\n",
    "    if i < 0:\n",
    "        print(\"Negative\")\n",
    "else:\n",
    "    print(\"Zero\")"
   ]
  },
  {
   "cell_type": "code",
   "execution_count": 102,
   "id": "9898df9f-9c7e-408f-9f43-32e1dd07b51a",
   "metadata": {},
   "outputs": [
    {
     "name": "stdout",
     "output_type": "stream",
     "text": [
      "Positive\n"
     ]
    }
   ],
   "source": [
    "i = 5; \n",
    "\n",
    "# if condition 1\n",
    "if i != 0:\n",
    "    # condition 1\n",
    "    if i > 0:\n",
    "        print(\"Positive\")\n",
    "        \n",
    "    # condition 2\n",
    "    if i < 0:\n",
    "        print(\"Negative\")\n",
    "else:\n",
    "    print(\"Zero\")"
   ]
  },
  {
   "cell_type": "code",
   "execution_count": 103,
   "id": "577eedcd-915f-4efc-93f9-ebee8da40e51",
   "metadata": {},
   "outputs": [
    {
     "name": "stdout",
     "output_type": "stream",
     "text": [
      "Negative\n"
     ]
    }
   ],
   "source": [
    "i = -8; \n",
    "\n",
    "# if condition 1\n",
    "if i != 0:\n",
    "    # condition 1\n",
    "    if i > 0:\n",
    "        print(\"Positive\")\n",
    "        \n",
    "    # condition 2\n",
    "    if i < 0:\n",
    "        print(\"Negative\")\n",
    "else:\n",
    "    print(\"Zero\")"
   ]
  },
  {
   "cell_type": "code",
   "execution_count": null,
   "id": "ff433a99-e239-4369-b566-b484b8d63d44",
   "metadata": {},
   "outputs": [],
   "source": []
  },
  {
   "cell_type": "code",
   "execution_count": 104,
   "id": "a3da8974-b8fe-4d71-9d74-a121ffe91515",
   "metadata": {},
   "outputs": [
    {
     "name": "stdout",
     "output_type": "stream",
     "text": [
      "SORRY ! YOU ARE NOT ALLOWED. BYE !\n"
     ]
    }
   ],
   "source": [
    "# program that grants access only to kids aged between 8-12\n",
    "\n",
    "age = 18\n",
    "\n",
    "if ((age>= 8) and (age<= 12)):\n",
    "    print(\"YOU ARE ALLOWED. WELCOME !\")\n",
    "else:\n",
    "    print(\"SORRY ! YOU ARE NOT ALLOWED. BYE !\")"
   ]
  },
  {
   "cell_type": "code",
   "execution_count": 106,
   "id": "d48587cc-413d-4409-b967-c15d27b3d980",
   "metadata": {},
   "outputs": [
    {
     "name": "stdout",
     "output_type": "stream",
     "text": [
      "YOU ARE ALLOWED. WELCOME !\n"
     ]
    }
   ],
   "source": [
    "age = 18\n",
    "\n",
    "if ((age>= 8) and (age<= 20)):\n",
    "    print(\"YOU ARE ALLOWED. WELCOME !\")\n",
    "else:\n",
    "    print(\"SORRY ! YOU ARE NOT ALLOWED. BYE !\")"
   ]
  },
  {
   "cell_type": "code",
   "execution_count": 110,
   "id": "8dc878d3-1a8d-4791-a881-f8f9431e6fc6",
   "metadata": {},
   "outputs": [
    {
     "name": "stdout",
     "output_type": "stream",
     "text": [
      "YOU ARE ALLOWED. WELCOME !\n"
     ]
    }
   ],
   "source": [
    "age = 18\n",
    "\n",
    "if ((age>= 18) and (age<= 20)):\n",
    "    print(\"YOU ARE ALLOWED. WELCOME !\")\n",
    "else:\n",
    "    print(\"SORRY ! YOU ARE NOT ALLOWED. BYE !\")"
   ]
  },
  {
   "cell_type": "code",
   "execution_count": 111,
   "id": "cf6ab3e5-c9be-453e-bd61-8acebf517578",
   "metadata": {},
   "outputs": [
    {
     "name": "stdout",
     "output_type": "stream",
     "text": [
      "You said NO\n"
     ]
    }
   ],
   "source": [
    "# program that checks the agreement of the user to the terms\n",
    "\n",
    "var = 'N'\n",
    "\n",
    "if (var =='Y' or var =='y'):\n",
    "    print(\"You said YES\")\n",
    "elif(var =='N' or var =='n'):\n",
    "    print(\"You said NO\")\n",
    "else:\n",
    "    print(\"Invalid Input\")"
   ]
  },
  {
   "cell_type": "code",
   "execution_count": 112,
   "id": "324a2fd9-0f87-4cc1-8dd5-5482bea1b1be",
   "metadata": {},
   "outputs": [
    {
     "name": "stdout",
     "output_type": "stream",
     "text": [
      "Invalid Input\n"
     ]
    }
   ],
   "source": [
    "var = 'N'\n",
    "\n",
    "if (var =='Y' or var =='y'):\n",
    "    print(\"You said YES\")\n",
    "elif(var =='M' or var =='Y'):\n",
    "    print(\"You said NO\")\n",
    "else:\n",
    "    print(\"Invalid Input\")"
   ]
  },
  {
   "cell_type": "code",
   "execution_count": 113,
   "id": "07aa0b7a-cc39-4acf-a93c-7a733bafd453",
   "metadata": {},
   "outputs": [
    {
     "name": "stdout",
     "output_type": "stream",
     "text": [
      "9  is the largest\n"
     ]
    }
   ],
   "source": [
    "# program to compare the entered three numbers\n",
    "\n",
    "a = 7\n",
    "b = 9\n",
    "c = 3\n",
    "\n",
    "if((a>b and a>c) and (a != b and a != c)):\n",
    "    print(a, \" is the largest\")\n",
    "elif((b>a and b>c) and (b != a and b != c)):\n",
    "    print(b, \" is the largest\")\n",
    "elif((c>a and c>b) and (c != a and c != b)):\n",
    "    print(c, \" is the largest\")\n",
    "else:\n",
    "    print(\"entered numbers are equal\")"
   ]
  },
  {
   "cell_type": "code",
   "execution_count": 114,
   "id": "55e3bab3-9fbe-4a08-be71-8b0eac9030f0",
   "metadata": {},
   "outputs": [
    {
     "name": "stdout",
     "output_type": "stream",
     "text": [
      "working\n"
     ]
    }
   ],
   "source": [
    "a = 1\n",
    "b = 1\n",
    "c = 1\n",
    "if(a == 1 and b == 1 and c == 1):\n",
    "    print(\"working\")\n",
    "else:\n",
    "    print(\"stopped\")"
   ]
  },
  {
   "cell_type": "code",
   "execution_count": null,
   "id": "f57b635b-3752-4a5f-971f-1bf1d78ff660",
   "metadata": {},
   "outputs": [],
   "source": []
  },
  {
   "cell_type": "code",
   "execution_count": null,
   "id": "00ead1aa-1e53-47e3-86ad-0b0d809524b2",
   "metadata": {},
   "outputs": [],
   "source": []
  },
  {
   "cell_type": "code",
   "execution_count": null,
   "id": "472a534c-784e-4bb5-b413-a479ee82bc6d",
   "metadata": {},
   "outputs": [],
   "source": []
  },
  {
   "cell_type": "code",
   "execution_count": null,
   "id": "e78a02de-61b5-4d53-9d22-747f583c5496",
   "metadata": {},
   "outputs": [],
   "source": []
  },
  {
   "cell_type": "code",
   "execution_count": null,
   "id": "3684d5b4-9ecd-4b2e-b95a-989feee1d084",
   "metadata": {},
   "outputs": [],
   "source": []
  },
  {
   "cell_type": "code",
   "execution_count": null,
   "id": "df9adf0f-421e-40d2-83da-fb84a83331b6",
   "metadata": {},
   "outputs": [],
   "source": []
  }
 ],
 "metadata": {
  "kernelspec": {
   "display_name": "Python [conda env:base] *",
   "language": "python",
   "name": "conda-base-py"
  },
  "language_info": {
   "codemirror_mode": {
    "name": "ipython",
    "version": 3
   },
   "file_extension": ".py",
   "mimetype": "text/x-python",
   "name": "python",
   "nbconvert_exporter": "python",
   "pygments_lexer": "ipython3",
   "version": "3.12.7"
  }
 },
 "nbformat": 4,
 "nbformat_minor": 5
}
