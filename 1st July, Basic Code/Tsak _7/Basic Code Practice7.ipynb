{
 "cells": [
  {
   "cell_type": "markdown",
   "id": "a841926d-6b75-4072-885e-c215afa218a1",
   "metadata": {},
   "source": [
    "# Code with the numbers"
   ]
  },
  {
   "cell_type": "code",
   "execution_count": 1,
   "id": "24bacf8e-f988-4c31-ac02-63c0c94115c1",
   "metadata": {},
   "outputs": [
    {
     "data": {
      "text/plain": [
       "2"
      ]
     },
     "execution_count": 1,
     "metadata": {},
     "output_type": "execute_result"
    }
   ],
   "source": [
    "1 + 1 # Addition"
   ]
  },
  {
   "cell_type": "code",
   "execution_count": 2,
   "id": "9213a645-d0c5-48b4-a3cc-ba2fb926a1dd",
   "metadata": {},
   "outputs": [
    {
     "data": {
      "text/plain": [
       "1"
      ]
     },
     "execution_count": 2,
     "metadata": {},
     "output_type": "execute_result"
    }
   ],
   "source": [
    "2-1     # Substraction"
   ]
  },
  {
   "cell_type": "code",
   "execution_count": 3,
   "id": "c43db3ee-5823-414d-83e3-e9f486d29124",
   "metadata": {},
   "outputs": [
    {
     "data": {
      "text/plain": [
       "56"
      ]
     },
     "execution_count": 3,
     "metadata": {},
     "output_type": "execute_result"
    }
   ],
   "source": [
    "7*8     #Multiplication"
   ]
  },
  {
   "cell_type": "code",
   "execution_count": 4,
   "id": "fa6c42bf-e1b5-40b2-96d4-7087e6a280b7",
   "metadata": {},
   "outputs": [
    {
     "data": {
      "text/plain": [
       "2.0"
      ]
     },
     "execution_count": 4,
     "metadata": {},
     "output_type": "execute_result"
    }
   ],
   "source": [
    "8/4   #Division"
   ]
  },
  {
   "cell_type": "code",
   "execution_count": 6,
   "id": "6307bdca-5f18-44b3-b97c-a8a7d33cdf6c",
   "metadata": {},
   "outputs": [
    {
     "data": {
      "text/plain": [
       "3.142857142857143"
      ]
     },
     "execution_count": 6,
     "metadata": {},
     "output_type": "execute_result"
    }
   ],
   "source": [
    "22/7   # Float division"
   ]
  },
  {
   "cell_type": "code",
   "execution_count": 7,
   "id": "439284f2-625e-4bb3-8039-be99edbdc84d",
   "metadata": {},
   "outputs": [
    {
     "data": {
      "text/plain": [
       "8.0"
      ]
     },
     "execution_count": 7,
     "metadata": {},
     "output_type": "execute_result"
    }
   ],
   "source": [
    "56/7    #Float division"
   ]
  },
  {
   "cell_type": "code",
   "execution_count": 8,
   "id": "54ccd8a5-01f6-4b0e-9453-e1d89c115a47",
   "metadata": {},
   "outputs": [
    {
     "data": {
      "text/plain": [
       "8"
      ]
     },
     "execution_count": 8,
     "metadata": {},
     "output_type": "execute_result"
    }
   ],
   "source": [
    "56//7   # Integer division"
   ]
  },
  {
   "cell_type": "code",
   "execution_count": 9,
   "id": "fa339b95-2472-49c9-be8b-1cec9f485376",
   "metadata": {},
   "outputs": [
    {
     "data": {
      "text/plain": [
       "5"
      ]
     },
     "execution_count": 9,
     "metadata": {},
     "output_type": "execute_result"
    }
   ],
   "source": [
    "6+8-9"
   ]
  },
  {
   "cell_type": "code",
   "execution_count": 10,
   "id": "6bbed2c0-a294-4d43-9dfd-20d28864220b",
   "metadata": {},
   "outputs": [
    {
     "ename": "SyntaxError",
     "evalue": "invalid syntax (3694092793.py, line 1)",
     "output_type": "error",
     "traceback": [
      "\u001b[1;36m  Cell \u001b[1;32mIn[10], line 1\u001b[1;36m\u001b[0m\n\u001b[1;33m    6-8+\u001b[0m\n\u001b[1;37m        ^\u001b[0m\n\u001b[1;31mSyntaxError\u001b[0m\u001b[1;31m:\u001b[0m invalid syntax\n"
     ]
    }
   ],
   "source": [
    "6-8+"
   ]
  },
  {
   "cell_type": "code",
   "execution_count": 11,
   "id": "462f428f-dfcc-44d3-957d-3174faf4a0da",
   "metadata": {},
   "outputs": [
    {
     "data": {
      "text/plain": [
       "30"
      ]
     },
     "execution_count": 11,
     "metadata": {},
     "output_type": "execute_result"
    }
   ],
   "source": [
    "5+5*5"
   ]
  },
  {
   "cell_type": "code",
   "execution_count": 12,
   "id": "167380bd-e1d4-4ee7-ba09-8f9a9726f08b",
   "metadata": {},
   "outputs": [
    {
     "data": {
      "text/plain": [
       "50"
      ]
     },
     "execution_count": 12,
     "metadata": {},
     "output_type": "execute_result"
    }
   ],
   "source": [
    "(5+5)*5"
   ]
  },
  {
   "cell_type": "code",
   "execution_count": 13,
   "id": "15cc73b9-4ec6-48f6-85c8-a61a97209cab",
   "metadata": {},
   "outputs": [
    {
     "data": {
      "text/plain": [
       "32"
      ]
     },
     "execution_count": 13,
     "metadata": {},
     "output_type": "execute_result"
    }
   ],
   "source": [
    "2*2*2*2*2    #Exponential"
   ]
  },
  {
   "cell_type": "code",
   "execution_count": 14,
   "id": "ba69acec-bab0-45cc-8d8d-662c8b1de0da",
   "metadata": {},
   "outputs": [
    {
     "data": {
      "text/plain": [
       "10"
      ]
     },
     "execution_count": 14,
     "metadata": {},
     "output_type": "execute_result"
    }
   ],
   "source": [
    "2*5"
   ]
  },
  {
   "cell_type": "code",
   "execution_count": 15,
   "id": "3406d067-dd82-4c1f-8de9-54d85d5e9df9",
   "metadata": {},
   "outputs": [
    {
     "data": {
      "text/plain": [
       "32"
      ]
     },
     "execution_count": 15,
     "metadata": {},
     "output_type": "execute_result"
    }
   ],
   "source": [
    "2**5"
   ]
  },
  {
   "cell_type": "code",
   "execution_count": 16,
   "id": "5e1cb575-1a71-47a1-91a6-06f9121718ed",
   "metadata": {},
   "outputs": [
    {
     "data": {
      "text/plain": [
       "49"
      ]
     },
     "execution_count": 16,
     "metadata": {},
     "output_type": "execute_result"
    }
   ],
   "source": [
    "7**2"
   ]
  },
  {
   "cell_type": "code",
   "execution_count": 17,
   "id": "250ceb76-6df6-401a-91ef-7c7dca8a24ac",
   "metadata": {},
   "outputs": [
    {
     "data": {
      "text/plain": [
       "5.0"
      ]
     },
     "execution_count": 17,
     "metadata": {},
     "output_type": "execute_result"
    }
   ],
   "source": [
    "15/3"
   ]
  },
  {
   "cell_type": "code",
   "execution_count": 18,
   "id": "b008729b-cb66-43c3-b044-f93fc7df52b6",
   "metadata": {},
   "outputs": [
    {
     "data": {
      "text/plain": [
       "5"
      ]
     },
     "execution_count": 18,
     "metadata": {},
     "output_type": "execute_result"
    }
   ],
   "source": [
    "15//3"
   ]
  },
  {
   "cell_type": "code",
   "execution_count": 19,
   "id": "19206eac-10b4-44f4-95df-769bad043cab",
   "metadata": {},
   "outputs": [
    {
     "data": {
      "text/plain": [
       "1"
      ]
     },
     "execution_count": 19,
     "metadata": {},
     "output_type": "execute_result"
    }
   ],
   "source": [
    "15 % 2  # Modulus"
   ]
  },
  {
   "cell_type": "code",
   "execution_count": 20,
   "id": "710c307c-afaf-4e5a-b50d-9058d1d2f817",
   "metadata": {},
   "outputs": [
    {
     "data": {
      "text/plain": [
       "0"
      ]
     },
     "execution_count": 20,
     "metadata": {},
     "output_type": "execute_result"
    }
   ],
   "source": [
    "10 % 2"
   ]
  },
  {
   "cell_type": "code",
   "execution_count": 21,
   "id": "d1d7144b-07de-4f89-a0c2-74ebf6f5e794",
   "metadata": {},
   "outputs": [
    {
     "ename": "SyntaxError",
     "evalue": "invalid syntax (1768330815.py, line 1)",
     "output_type": "error",
     "traceback": [
      "\u001b[1;36m  Cell \u001b[1;32mIn[21], line 1\u001b[1;36m\u001b[0m\n\u001b[1;33m    15 %% 2\u001b[0m\n\u001b[1;37m        ^\u001b[0m\n\u001b[1;31mSyntaxError\u001b[0m\u001b[1;31m:\u001b[0m invalid syntax\n"
     ]
    }
   ],
   "source": [
    "15 %% 2"
   ]
  },
  {
   "cell_type": "code",
   "execution_count": 22,
   "id": "71266c80-6532-4b7c-a508-41a55f49b1d8",
   "metadata": {},
   "outputs": [
    {
     "data": {
      "text/plain": [
       "-4"
      ]
     },
     "execution_count": 22,
     "metadata": {},
     "output_type": "execute_result"
    }
   ],
   "source": [
    "-10//3"
   ]
  },
  {
   "cell_type": "code",
   "execution_count": 23,
   "id": "24701846-3b73-472c-999b-cd704b5203e3",
   "metadata": {},
   "outputs": [
    {
     "ename": "TypeError",
     "evalue": "unsupported operand type(s) for +: 'int' and 'str'",
     "output_type": "error",
     "traceback": [
      "\u001b[1;31m---------------------------------------------------------------------------\u001b[0m",
      "\u001b[1;31mTypeError\u001b[0m                                 Traceback (most recent call last)",
      "Cell \u001b[1;32mIn[23], line 1\u001b[0m\n\u001b[1;32m----> 1\u001b[0m \u001b[38;5;241m7\u001b[39m\u001b[38;5;241m+\u001b[39m\u001b[38;5;124m\"\u001b[39m\u001b[38;5;124mNIT\u001b[39m\u001b[38;5;124m\"\u001b[39m\n",
      "\u001b[1;31mTypeError\u001b[0m: unsupported operand type(s) for +: 'int' and 'str'"
     ]
    }
   ],
   "source": [
    "7+\"NIT\""
   ]
  },
  {
   "cell_type": "code",
   "execution_count": 26,
   "id": "59521d31-b410-40b5-b820-8ef5ac7e5808",
   "metadata": {},
   "outputs": [
    {
     "ename": "SyntaxError",
     "evalue": "unterminated string literal (detected at line 1) (686790315.py, line 1)",
     "output_type": "error",
     "traceback": [
      "\u001b[1;36m  Cell \u001b[1;32mIn[26], line 1\u001b[1;36m\u001b[0m\n\u001b[1;33m    6 + \"rainy\u001b[0m\n\u001b[1;37m        ^\u001b[0m\n\u001b[1;31mSyntaxError\u001b[0m\u001b[1;31m:\u001b[0m unterminated string literal (detected at line 1)\n"
     ]
    }
   ],
   "source": [
    "6 + \"rainy"
   ]
  },
  {
   "cell_type": "code",
   "execution_count": 27,
   "id": "2db17bb7-2007-424f-bc5f-d1f5f95aa147",
   "metadata": {},
   "outputs": [
    {
     "data": {
      "text/plain": [
       "'NitNitNitNitNitNitNit'"
      ]
     },
     "execution_count": 27,
     "metadata": {},
     "output_type": "execute_result"
    }
   ],
   "source": [
    "7 * \"Nit\"  # without space"
   ]
  },
  {
   "cell_type": "code",
   "execution_count": 28,
   "id": "2b061d31-5077-4b9a-8b0f-1ef3eb194da7",
   "metadata": {},
   "outputs": [
    {
     "data": {
      "text/plain": [
       "' Nit Nit Nit Nit Nit Nit Nit'"
      ]
     },
     "execution_count": 28,
     "metadata": {},
     "output_type": "execute_result"
    }
   ],
   "source": [
    "7 * \" Nit\"  # with space"
   ]
  },
  {
   "cell_type": "code",
   "execution_count": 29,
   "id": "00df70f9-1c39-4d1a-9473-cab5de2454d3",
   "metadata": {},
   "outputs": [
    {
     "name": "stdout",
     "output_type": "stream",
     "text": [
      "22\n",
      "7.7\n",
      "nit\n",
      "(22+7j)\n",
      "True\n"
     ]
    }
   ],
   "source": [
    "a,b,c,d,e = 22, 7.7, 'nit', 22+7j, True\n",
    "\n",
    "print(a)\n",
    "print(b)\n",
    "print(c)\n",
    "print(d)\n",
    "print(e)"
   ]
  },
  {
   "cell_type": "code",
   "execution_count": 32,
   "id": "59b720c8-5e28-4929-9624-cf2006f113eb",
   "metadata": {},
   "outputs": [
    {
     "name": "stdout",
     "output_type": "stream",
     "text": [
      "<class 'int'>\n",
      "<class 'float'>\n",
      "<class 'str'>\n",
      "<class 'complex'>\n",
      "<class 'bool'>\n"
     ]
    }
   ],
   "source": [
    "print(type(a))\n",
    "print(type(b))\n",
    "print(type(c))\n",
    "print(type(d))\n",
    "print(type(e))"
   ]
  },
  {
   "cell_type": "code",
   "execution_count": 33,
   "id": "5b9b3b78-efdb-4ac7-8eca-c9b27d2ad19c",
   "metadata": {},
   "outputs": [
    {
     "data": {
      "text/plain": [
       "str"
      ]
     },
     "execution_count": 33,
     "metadata": {},
     "output_type": "execute_result"
    }
   ],
   "source": [
    "type(c)"
   ]
  },
  {
   "cell_type": "code",
   "execution_count": null,
   "id": "46483bd9-6035-4a1c-bcbe-9e70875dae90",
   "metadata": {},
   "outputs": [],
   "source": []
  },
  {
   "cell_type": "markdown",
   "id": "3c69f629-3c44-40f8-a617-f01ea1a1651e",
   "metadata": {},
   "source": [
    "# Lets work with the string\n",
    "Python inbuild function - print & you need to pass the parameter in print()\n",
    "\n",
    "A function is a block of code which only runs when it is called. You can pass data, known as parameters, into a function. A function can return data as a result."
   ]
  },
  {
   "cell_type": "code",
   "execution_count": 34,
   "id": "61d119cd-47e3-411e-b449-79cbfcdc0721",
   "metadata": {},
   "outputs": [
    {
     "name": "stdout",
     "output_type": "stream",
     "text": [
      "She is fine\n"
     ]
    }
   ],
   "source": [
    "print(\"She is fine\")"
   ]
  },
  {
   "cell_type": "code",
   "execution_count": 36,
   "id": "2bc5d78e-0139-4cc3-ac12-14fead020274",
   "metadata": {},
   "outputs": [
    {
     "data": {
      "text/plain": [
       "\"Let's go for the class\""
      ]
     },
     "execution_count": 36,
     "metadata": {},
     "output_type": "execute_result"
    }
   ],
   "source": [
    "\"Let's go for the class\""
   ]
  },
  {
   "cell_type": "code",
   "execution_count": 37,
   "id": "0a0ac8ff-23db-4248-b10c-ae4451bc0c7d",
   "metadata": {},
   "outputs": [
    {
     "data": {
      "text/plain": [
       "\"Let's go for the class\""
      ]
     },
     "execution_count": 37,
     "metadata": {},
     "output_type": "execute_result"
    }
   ],
   "source": [
    "s = \"Let's go for the class\"\n",
    "s"
   ]
  },
  {
   "cell_type": "code",
   "execution_count": 38,
   "id": "f008b6be-eca1-4f0a-8055-6731187bd6ca",
   "metadata": {},
   "outputs": [
    {
     "data": {
      "text/plain": [
       "29"
      ]
     },
     "execution_count": 38,
     "metadata": {},
     "output_type": "execute_result"
    }
   ],
   "source": [
    "a = 22\n",
    "b = 7\n",
    "a + b"
   ]
  },
  {
   "cell_type": "code",
   "execution_count": 39,
   "id": "76c2438d-0f80-4e38-913f-77ff652dafd6",
   "metadata": {},
   "outputs": [
    {
     "data": {
      "text/plain": [
       "29"
      ]
     },
     "execution_count": 39,
     "metadata": {},
     "output_type": "execute_result"
    }
   ],
   "source": [
    "c = a + b\n",
    "c"
   ]
  },
  {
   "cell_type": "code",
   "execution_count": 40,
   "id": "eaf1ba5b-a50e-48be-9450-7c2c6cb0fdf8",
   "metadata": {},
   "outputs": [
    {
     "ename": "TypeError",
     "evalue": "unsupported operand type(s) for +: 'int' and 'str'",
     "output_type": "error",
     "traceback": [
      "\u001b[1;31m---------------------------------------------------------------------------\u001b[0m",
      "\u001b[1;31mTypeError\u001b[0m                                 Traceback (most recent call last)",
      "Cell \u001b[1;32mIn[40], line 3\u001b[0m\n\u001b[0;32m      1\u001b[0m a \u001b[38;5;241m=\u001b[39m \u001b[38;5;241m7\u001b[39m\n\u001b[0;32m      2\u001b[0m b \u001b[38;5;241m=\u001b[39m \u001b[38;5;124m'\u001b[39m\u001b[38;5;124mhey\u001b[39m\u001b[38;5;124m'\u001b[39m\n\u001b[1;32m----> 3\u001b[0m c \u001b[38;5;241m=\u001b[39m a \u001b[38;5;241m+\u001b[39m b\n\u001b[0;32m      4\u001b[0m \u001b[38;5;28mprint\u001b[39m(c)\n",
      "\u001b[1;31mTypeError\u001b[0m: unsupported operand type(s) for +: 'int' and 'str'"
     ]
    }
   ],
   "source": [
    "a = 7\n",
    "b = 'hey'\n",
    "c = a + b\n",
    "print(c)"
   ]
  },
  {
   "cell_type": "code",
   "execution_count": 42,
   "id": "54910925-0595-449b-9ee2-9d4351f359d2",
   "metadata": {},
   "outputs": [
    {
     "ename": "SyntaxError",
     "evalue": "unterminated string literal (detected at line 1) (3181537877.py, line 1)",
     "output_type": "error",
     "traceback": [
      "\u001b[1;36m  Cell \u001b[1;32mIn[42], line 1\u001b[1;36m\u001b[0m\n\u001b[1;33m    print('Max it's\"Technology\"')   # \\ has some special meaning to ignore the error\u001b[0m\n\u001b[1;37m                               ^\u001b[0m\n\u001b[1;31mSyntaxError\u001b[0m\u001b[1;31m:\u001b[0m unterminated string literal (detected at line 1)\n"
     ]
    }
   ],
   "source": [
    "print('Max it's\"Technology\"')   # \\ has some special meaning to ignore the error"
   ]
  },
  {
   "cell_type": "code",
   "execution_count": 43,
   "id": "e04b423d-a513-40fb-b0d2-5a1f304d7904",
   "metadata": {},
   "outputs": [
    {
     "name": "stdout",
     "output_type": "stream",
     "text": [
      "Max it's\"Technology\"\n"
     ]
    }
   ],
   "source": [
    "print('Max it\\'s\"Technology\"') #\\ has some special meaning to ignore the error"
   ]
  },
  {
   "cell_type": "code",
   "execution_count": 44,
   "id": "49e91381-034b-401c-9525-b4c9adc9abce",
   "metadata": {},
   "outputs": [
    {
     "name": "stdout",
     "output_type": "stream",
     "text": [
      "Max it Technology\n"
     ]
    }
   ],
   "source": [
    "print('Max it', 'Technology')"
   ]
  },
  {
   "cell_type": "code",
   "execution_count": 46,
   "id": "94a1d7b8-1f23-47e4-9e7b-af9977c621a1",
   "metadata": {},
   "outputs": [
    {
     "name": "stdout",
     "output_type": "stream",
     "text": [
      "Max it', 'Technology\n"
     ]
    }
   ],
   "source": [
    "print(\"Max it', 'Technology\")"
   ]
  },
  {
   "cell_type": "code",
   "execution_count": 47,
   "id": "31734885-e9b4-43ea-b1f1-2052c7457bc4",
   "metadata": {},
   "outputs": [
    {
     "data": {
      "text/plain": [
       "'nit nit'"
      ]
     },
     "execution_count": 47,
     "metadata": {},
     "output_type": "execute_result"
    }
   ],
   "source": [
    "# print the nit 2 times \n",
    "'nit' + ' nit'"
   ]
  },
  {
   "cell_type": "code",
   "execution_count": 48,
   "id": "ec5bb566-0525-4c61-b3d6-d2717ec9e292",
   "metadata": {},
   "outputs": [
    {
     "data": {
      "text/plain": [
       "'nit nit'"
      ]
     },
     "execution_count": 48,
     "metadata": {},
     "output_type": "execute_result"
    }
   ],
   "source": [
    "'nit'  ' nit'"
   ]
  },
  {
   "cell_type": "code",
   "execution_count": 49,
   "id": "553de8f1-9eec-4639-a064-f7fa5b99c4ff",
   "metadata": {},
   "outputs": [
    {
     "data": {
      "text/plain": [
       "'nitnitnitnitnit'"
      ]
     },
     "execution_count": 49,
     "metadata": {},
     "output_type": "execute_result"
    }
   ],
   "source": [
    "#5 time print\n",
    "5 * 'nit'"
   ]
  },
  {
   "cell_type": "code",
   "execution_count": 51,
   "id": "4a106d70-2aa2-4ff9-8693-1f2969b3e02e",
   "metadata": {},
   "outputs": [
    {
     "data": {
      "text/plain": [
       "' nit nit nit nit nit'"
      ]
     },
     "execution_count": 51,
     "metadata": {},
     "output_type": "execute_result"
    }
   ],
   "source": [
    "5 *' nit' # space between words"
   ]
  },
  {
   "cell_type": "code",
   "execution_count": 53,
   "id": "6b8040d1-64ea-43d3-b5db-c746d32e3e8b",
   "metadata": {},
   "outputs": [
    {
     "name": "stdout",
     "output_type": "stream",
     "text": [
      "c:\n",
      "it\n"
     ]
    }
   ],
   "source": [
    "print('c:\\nit') #\\n -- new line # i will explain "
   ]
  },
  {
   "cell_type": "code",
   "execution_count": 54,
   "id": "be5931f5-91ed-4532-be16-c7a8d342c653",
   "metadata": {},
   "outputs": [
    {
     "name": "stdout",
     "output_type": "stream",
     "text": [
      "c:\\nit\n"
     ]
    }
   ],
   "source": [
    "print(r'c:\\nit') #raw string # i will explain later"
   ]
  },
  {
   "cell_type": "code",
   "execution_count": null,
   "id": "a112b747-db5c-4fa8-a77d-49a7a6db1918",
   "metadata": {},
   "outputs": [],
   "source": []
  },
  {
   "cell_type": "markdown",
   "id": "79fa24f8-2054-41d3-9121-043313a1d9b4",
   "metadata": {},
   "source": [
    "# Variable || Identifiers || Objects"
   ]
  },
  {
   "cell_type": "code",
   "execution_count": 55,
   "id": "16523053-2f8f-4397-b937-db3cc11524b6",
   "metadata": {},
   "outputs": [
    {
     "data": {
      "text/plain": [
       "7"
      ]
     },
     "execution_count": 55,
     "metadata": {},
     "output_type": "execute_result"
    }
   ],
   "source": [
    "7"
   ]
  },
  {
   "cell_type": "code",
   "execution_count": 57,
   "id": "d64af369-75db-4442-bf19-548f51ba7b44",
   "metadata": {},
   "outputs": [
    {
     "data": {
      "text/plain": [
       "7"
      ]
     },
     "execution_count": 57,
     "metadata": {},
     "output_type": "execute_result"
    }
   ],
   "source": [
    "x = 7  # Here x is the variable, identifiers, objects -----  7 is the values\n",
    "x"
   ]
  },
  {
   "cell_type": "code",
   "execution_count": 58,
   "id": "c7a21ceb-a2c6-485b-9ff4-829f23c7829e",
   "metadata": {},
   "outputs": [
    {
     "data": {
      "text/plain": [
       "14"
      ]
     },
     "execution_count": 58,
     "metadata": {},
     "output_type": "execute_result"
    }
   ],
   "source": [
    "x +7"
   ]
  },
  {
   "cell_type": "code",
   "execution_count": 62,
   "id": "dd8a11d4-4c2f-4214-9985-6f26ee6dcec5",
   "metadata": {},
   "outputs": [
    {
     "data": {
      "text/plain": [
       "4"
      ]
     },
     "execution_count": 62,
     "metadata": {},
     "output_type": "execute_result"
    }
   ],
   "source": [
    "y = 4\n",
    "y"
   ]
  },
  {
   "cell_type": "code",
   "execution_count": 63,
   "id": "03126393-ced5-42ca-bb92-ffb9bfbb6574",
   "metadata": {},
   "outputs": [
    {
     "data": {
      "text/plain": [
       "11"
      ]
     },
     "execution_count": 63,
     "metadata": {},
     "output_type": "execute_result"
    }
   ],
   "source": [
    "x + y"
   ]
  },
  {
   "cell_type": "code",
   "execution_count": 65,
   "id": "41bad519-cf9f-46de-9f9e-53af794a1a8e",
   "metadata": {},
   "outputs": [
    {
     "data": {
      "text/plain": [
       "8"
      ]
     },
     "execution_count": 65,
     "metadata": {},
     "output_type": "execute_result"
    }
   ],
   "source": [
    "x = 8\n",
    "x"
   ]
  },
  {
   "cell_type": "code",
   "execution_count": 66,
   "id": "4c0f0d72-438c-4fad-9399-de65f0ba4384",
   "metadata": {},
   "outputs": [
    {
     "data": {
      "text/plain": [
       "12"
      ]
     },
     "execution_count": 66,
     "metadata": {},
     "output_type": "execute_result"
    }
   ],
   "source": [
    "x + y"
   ]
  },
  {
   "cell_type": "code",
   "execution_count": 70,
   "id": "673f8432-6ece-4b7d-9128-b4ebb46540c2",
   "metadata": {},
   "outputs": [
    {
     "data": {
      "text/plain": [
       "18"
      ]
     },
     "execution_count": 70,
     "metadata": {},
     "output_type": "execute_result"
    }
   ],
   "source": [
    "x + 10"
   ]
  },
  {
   "cell_type": "code",
   "execution_count": 72,
   "id": "409bae6a-a0fa-4ede-bf05-121bddf717d6",
   "metadata": {},
   "outputs": [
    {
     "ename": "TypeError",
     "evalue": "can only concatenate str (not \"int\") to str",
     "output_type": "error",
     "traceback": [
      "\u001b[1;31m---------------------------------------------------------------------------\u001b[0m",
      "\u001b[1;31mTypeError\u001b[0m                                 Traceback (most recent call last)",
      "Cell \u001b[1;32mIn[72], line 1\u001b[0m\n\u001b[1;32m----> 1\u001b[0m _ \u001b[38;5;241m+\u001b[39m y\n",
      "\u001b[1;31mTypeError\u001b[0m: can only concatenate str (not \"int\") to str"
     ]
    }
   ],
   "source": [
    "_ + y   # _ understand the previous result of the value"
   ]
  },
  {
   "cell_type": "code",
   "execution_count": 73,
   "id": "c282e76d-3231-4077-8ef6-d56beeb905d9",
   "metadata": {},
   "outputs": [
    {
     "data": {
      "text/plain": [
       "4"
      ]
     },
     "execution_count": 73,
     "metadata": {},
     "output_type": "execute_result"
    }
   ],
   "source": [
    "y"
   ]
  },
  {
   "cell_type": "code",
   "execution_count": 74,
   "id": "8449eea3-1ff1-4eba-9e97-403c676e9223",
   "metadata": {},
   "outputs": [
    {
     "ename": "TypeError",
     "evalue": "can only concatenate str (not \"int\") to str",
     "output_type": "error",
     "traceback": [
      "\u001b[1;31m---------------------------------------------------------------------------\u001b[0m",
      "\u001b[1;31mTypeError\u001b[0m                                 Traceback (most recent call last)",
      "Cell \u001b[1;32mIn[74], line 1\u001b[0m\n\u001b[1;32m----> 1\u001b[0m _\u001b[38;5;241m+\u001b[39my\n",
      "\u001b[1;31mTypeError\u001b[0m: can only concatenate str (not \"int\") to str"
     ]
    }
   ],
   "source": [
    "_+y"
   ]
  },
  {
   "cell_type": "code",
   "execution_count": 76,
   "id": "b0478156-1d06-46b3-9f58-4607069499e4",
   "metadata": {},
   "outputs": [
    {
     "data": {
      "text/plain": [
       "'Angel'"
      ]
     },
     "execution_count": 76,
     "metadata": {},
     "output_type": "execute_result"
    }
   ],
   "source": [
    "# string variable \n",
    "name = 'Angel'\n",
    "name"
   ]
  },
  {
   "cell_type": "code",
   "execution_count": 77,
   "id": "43db5f65-fcec-455a-a03c-614164c39217",
   "metadata": {},
   "outputs": [
    {
     "data": {
      "text/plain": [
       "'AngelTechnology'"
      ]
     },
     "execution_count": 77,
     "metadata": {},
     "output_type": "execute_result"
    }
   ],
   "source": [
    "name + \"Technology\"   # without space "
   ]
  },
  {
   "cell_type": "code",
   "execution_count": 79,
   "id": "2ef71891-0dcd-4ea8-b798-77a385802c05",
   "metadata": {},
   "outputs": [
    {
     "data": {
      "text/plain": [
       "'Angel Technology'"
      ]
     },
     "execution_count": 79,
     "metadata": {},
     "output_type": "execute_result"
    }
   ],
   "source": [
    "name + \" Technology\"  # With space "
   ]
  },
  {
   "cell_type": "code",
   "execution_count": 80,
   "id": "f7ccb3a9-f7e6-4aac-8041-4fdfb5575465",
   "metadata": {},
   "outputs": [
    {
     "data": {
      "text/plain": [
       "'ab'"
      ]
     },
     "execution_count": 80,
     "metadata": {},
     "output_type": "execute_result"
    }
   ],
   "source": [
    "'a' 'b'"
   ]
  },
  {
   "cell_type": "code",
   "execution_count": 81,
   "id": "94edd458-e163-4bdf-85f6-afec6e18d381",
   "metadata": {},
   "outputs": [
    {
     "ename": "SyntaxError",
     "evalue": "invalid syntax (42934875.py, line 1)",
     "output_type": "error",
     "traceback": [
      "\u001b[1;36m  Cell \u001b[1;32mIn[81], line 1\u001b[1;36m\u001b[0m\n\u001b[1;33m    name 'Technology'\u001b[0m\n\u001b[1;37m         ^\u001b[0m\n\u001b[1;31mSyntaxError\u001b[0m\u001b[1;31m:\u001b[0m invalid syntax\n"
     ]
    }
   ],
   "source": [
    "name 'Technology'"
   ]
  },
  {
   "cell_type": "code",
   "execution_count": 82,
   "id": "96c73548-c85d-4b4b-915e-5343aef9dc0c",
   "metadata": {},
   "outputs": [
    {
     "data": {
      "text/plain": [
       "'Angel'"
      ]
     },
     "execution_count": 82,
     "metadata": {},
     "output_type": "execute_result"
    }
   ],
   "source": [
    "name"
   ]
  },
  {
   "cell_type": "code",
   "execution_count": 83,
   "id": "def42609-89b3-4840-b001-07bf469e201f",
   "metadata": {},
   "outputs": [
    {
     "data": {
      "text/plain": [
       "5"
      ]
     },
     "execution_count": 83,
     "metadata": {},
     "output_type": "execute_result"
    }
   ],
   "source": [
    "len(name)"
   ]
  },
  {
   "cell_type": "code",
   "execution_count": 84,
   "id": "d7581ba1-440f-49a5-bc38-ca76bb2a4a86",
   "metadata": {},
   "outputs": [
    {
     "data": {
      "text/plain": [
       "'A'"
      ]
     },
     "execution_count": 84,
     "metadata": {},
     "output_type": "execute_result"
    }
   ],
   "source": [
    "name[0]  # Python indexing bwgain with the 0"
   ]
  },
  {
   "cell_type": "code",
   "execution_count": 85,
   "id": "c1e37c1e-ccf2-471e-90a4-c4d178922317",
   "metadata": {},
   "outputs": [
    {
     "data": {
      "text/plain": [
       "'Angel'"
      ]
     },
     "execution_count": 85,
     "metadata": {},
     "output_type": "execute_result"
    }
   ],
   "source": [
    "name"
   ]
  },
  {
   "cell_type": "code",
   "execution_count": 87,
   "id": "d6a54f47-7ff4-4a4b-b3a6-662a4d44f9dd",
   "metadata": {},
   "outputs": [
    {
     "data": {
      "text/plain": [
       "'l'"
      ]
     },
     "execution_count": 87,
     "metadata": {},
     "output_type": "execute_result"
    }
   ],
   "source": [
    "name[4]"
   ]
  },
  {
   "cell_type": "code",
   "execution_count": 88,
   "id": "46776eb6-2562-4ff3-924b-2f6ee67c181b",
   "metadata": {},
   "outputs": [
    {
     "data": {
      "text/plain": [
       "'l'"
      ]
     },
     "execution_count": 88,
     "metadata": {},
     "output_type": "execute_result"
    }
   ],
   "source": [
    "name[-1]"
   ]
  },
  {
   "cell_type": "code",
   "execution_count": 89,
   "id": "20170e10-58a4-4ede-b92d-36616e38ee6a",
   "metadata": {},
   "outputs": [
    {
     "ename": "IndexError",
     "evalue": "string index out of range",
     "output_type": "error",
     "traceback": [
      "\u001b[1;31m---------------------------------------------------------------------------\u001b[0m",
      "\u001b[1;31mIndexError\u001b[0m                                Traceback (most recent call last)",
      "Cell \u001b[1;32mIn[89], line 1\u001b[0m\n\u001b[1;32m----> 1\u001b[0m name[\u001b[38;5;241m7\u001b[39m]\n",
      "\u001b[1;31mIndexError\u001b[0m: string index out of range"
     ]
    }
   ],
   "source": [
    "name[7]"
   ]
  },
  {
   "cell_type": "code",
   "execution_count": 90,
   "id": "559aa117-7a4d-4c7b-af2c-0f31fe775f14",
   "metadata": {},
   "outputs": [
    {
     "data": {
      "text/plain": [
       "'e'"
      ]
     },
     "execution_count": 90,
     "metadata": {},
     "output_type": "execute_result"
    }
   ],
   "source": [
    "name[-2]"
   ]
  },
  {
   "cell_type": "code",
   "execution_count": null,
   "id": "4f01d453-f02d-40e8-a38b-1da78ee91a23",
   "metadata": {},
   "outputs": [],
   "source": []
  },
  {
   "cell_type": "markdown",
   "id": "da9a40b8-d28c-49a2-ad59-eecf6b479501",
   "metadata": {},
   "source": [
    "# Slicing "
   ]
  },
  {
   "cell_type": "code",
   "execution_count": 91,
   "id": "3facceda-a0d3-40dd-945c-2212dde9c079",
   "metadata": {},
   "outputs": [
    {
     "data": {
      "text/plain": [
       "'Angel'"
      ]
     },
     "execution_count": 91,
     "metadata": {},
     "output_type": "execute_result"
    }
   ],
   "source": [
    "name"
   ]
  },
  {
   "cell_type": "code",
   "execution_count": 92,
   "id": "6eb4d2dd-283d-4732-a012-0ba64a259403",
   "metadata": {},
   "outputs": [
    {
     "data": {
      "text/plain": [
       "'A'"
      ]
     },
     "execution_count": 92,
     "metadata": {},
     "output_type": "execute_result"
    }
   ],
   "source": [
    "name[0:1] #to print 2 character "
   ]
  },
  {
   "cell_type": "code",
   "execution_count": 93,
   "id": "663da435-3cfa-4817-87c8-98094cc3dfe4",
   "metadata": {},
   "outputs": [
    {
     "data": {
      "text/plain": [
       "'nge'"
      ]
     },
     "execution_count": 93,
     "metadata": {},
     "output_type": "execute_result"
    }
   ],
   "source": [
    "name[1:4]"
   ]
  },
  {
   "cell_type": "code",
   "execution_count": 94,
   "id": "498508d8-45dc-4ca6-a97b-23254b196413",
   "metadata": {},
   "outputs": [
    {
     "data": {
      "text/plain": [
       "'Angel'"
      ]
     },
     "execution_count": 94,
     "metadata": {},
     "output_type": "execute_result"
    }
   ],
   "source": [
    "name"
   ]
  },
  {
   "cell_type": "code",
   "execution_count": 95,
   "id": "e2c0e0c0-9abe-449b-9a8b-612b18e0a69c",
   "metadata": {},
   "outputs": [
    {
     "data": {
      "text/plain": [
       "'ngel'"
      ]
     },
     "execution_count": 95,
     "metadata": {},
     "output_type": "execute_result"
    }
   ],
   "source": [
    "name[1:]"
   ]
  },
  {
   "cell_type": "code",
   "execution_count": 97,
   "id": "1ea4bc9c-4f5e-4609-bacd-e3d39f8c4447",
   "metadata": {},
   "outputs": [
    {
     "data": {
      "text/plain": [
       "'Angel'"
      ]
     },
     "execution_count": 97,
     "metadata": {},
     "output_type": "execute_result"
    }
   ],
   "source": [
    "name[:5]"
   ]
  },
  {
   "cell_type": "code",
   "execution_count": 98,
   "id": "48d35ae4-8378-4b1d-9e95-44f539207676",
   "metadata": {},
   "outputs": [
    {
     "data": {
      "text/plain": [
       "'Angel'"
      ]
     },
     "execution_count": 98,
     "metadata": {},
     "output_type": "execute_result"
    }
   ],
   "source": [
    "name"
   ]
  },
  {
   "cell_type": "code",
   "execution_count": 100,
   "id": "82f7dc27-d817-483d-b4ea-c1caeeb68bd0",
   "metadata": {},
   "outputs": [
    {
     "data": {
      "text/plain": [
       "''"
      ]
     },
     "execution_count": 100,
     "metadata": {},
     "output_type": "execute_result"
    }
   ],
   "source": [
    "name[5:9]"
   ]
  },
  {
   "cell_type": "code",
   "execution_count": 101,
   "id": "59d9cc54-5766-427a-ad69-9c60b33f8994",
   "metadata": {},
   "outputs": [
    {
     "data": {
      "text/plain": [
       "'Angel'"
      ]
     },
     "execution_count": 101,
     "metadata": {},
     "output_type": "execute_result"
    }
   ],
   "source": [
    "name"
   ]
  },
  {
   "cell_type": "code",
   "execution_count": 103,
   "id": "2a8c0b91-3cef-449f-ab8b-dccf8bd4fb58",
   "metadata": {},
   "outputs": [
    {
     "data": {
      "text/plain": [
       "'fine'"
      ]
     },
     "execution_count": 103,
     "metadata": {},
     "output_type": "execute_result"
    }
   ],
   "source": [
    "name1 = \"fine\"  # change the string fine to dine\n",
    "name1 "
   ]
  },
  {
   "cell_type": "code",
   "execution_count": 104,
   "id": "03295ee9-6518-49b0-bb47-05a8cbfbf1a5",
   "metadata": {},
   "outputs": [
    {
     "data": {
      "text/plain": [
       "'f'"
      ]
     },
     "execution_count": 104,
     "metadata": {},
     "output_type": "execute_result"
    }
   ],
   "source": [
    "name1[0:1]"
   ]
  },
  {
   "cell_type": "code",
   "execution_count": 106,
   "id": "c00f4052-5917-45b5-b360-e70c267174ef",
   "metadata": {},
   "outputs": [
    {
     "ename": "TypeError",
     "evalue": "'str' object does not support item assignment",
     "output_type": "error",
     "traceback": [
      "\u001b[1;31m---------------------------------------------------------------------------\u001b[0m",
      "\u001b[1;31mTypeError\u001b[0m                                 Traceback (most recent call last)",
      "Cell \u001b[1;32mIn[106], line 1\u001b[0m\n\u001b[1;32m----> 1\u001b[0m name1[\u001b[38;5;241m0\u001b[39m:\u001b[38;5;241m1\u001b[39m] \u001b[38;5;241m=\u001b[39m \u001b[38;5;124m'\u001b[39m\u001b[38;5;124md\u001b[39m\u001b[38;5;124m'\u001b[39m\n",
      "\u001b[1;31mTypeError\u001b[0m: 'str' object does not support item assignment"
     ]
    }
   ],
   "source": [
    "name1[0:1] = 'd' # i want to change 1st character of fine (f) to d"
   ]
  },
  {
   "cell_type": "code",
   "execution_count": 107,
   "id": "0e1b9717-2825-47e2-bf81-4646eeec4c12",
   "metadata": {},
   "outputs": [
    {
     "ename": "TypeError",
     "evalue": "'str' object does not support item assignment",
     "output_type": "error",
     "traceback": [
      "\u001b[1;31m---------------------------------------------------------------------------\u001b[0m",
      "\u001b[1;31mTypeError\u001b[0m                                 Traceback (most recent call last)",
      "Cell \u001b[1;32mIn[107], line 1\u001b[0m\n\u001b[1;32m----> 1\u001b[0m name1[\u001b[38;5;241m0\u001b[39m] \u001b[38;5;241m=\u001b[39m \u001b[38;5;124m'\u001b[39m\u001b[38;5;124md\u001b[39m\u001b[38;5;124m'\u001b[39m\n",
      "\u001b[1;31mTypeError\u001b[0m: 'str' object does not support item assignment"
     ]
    }
   ],
   "source": [
    "name1[0] = 'd' #strings in python are immutable"
   ]
  },
  {
   "cell_type": "code",
   "execution_count": 108,
   "id": "1b07b0a0-1e9f-464a-b78b-f0587590374c",
   "metadata": {},
   "outputs": [
    {
     "data": {
      "text/plain": [
       "'fine'"
      ]
     },
     "execution_count": 108,
     "metadata": {},
     "output_type": "execute_result"
    }
   ],
   "source": [
    "name1 "
   ]
  },
  {
   "cell_type": "code",
   "execution_count": 109,
   "id": "8c015327-c544-49f1-ab44-dfb3fb358fc4",
   "metadata": {},
   "outputs": [
    {
     "data": {
      "text/plain": [
       "'ine'"
      ]
     },
     "execution_count": 109,
     "metadata": {},
     "output_type": "execute_result"
    }
   ],
   "source": [
    "name1[1:]"
   ]
  },
  {
   "cell_type": "code",
   "execution_count": 110,
   "id": "ef130cfb-daae-4080-8540-0ae1a00c652e",
   "metadata": {},
   "outputs": [
    {
     "data": {
      "text/plain": [
       "'dine'"
      ]
     },
     "execution_count": 110,
     "metadata": {},
     "output_type": "execute_result"
    }
   ],
   "source": [
    "\"d\" + name1[1:]   # I want to change fine to dine"
   ]
  },
  {
   "cell_type": "code",
   "execution_count": 112,
   "id": "605cc9cb-1dba-41e4-9245-cacecc81e9b4",
   "metadata": {},
   "outputs": [
    {
     "data": {
      "text/plain": [
       "4"
      ]
     },
     "execution_count": 112,
     "metadata": {},
     "output_type": "execute_result"
    }
   ],
   "source": [
    "len(name1)   # Pythom inbuild function"
   ]
  },
  {
   "cell_type": "code",
   "execution_count": null,
   "id": "10a7ff82-cd10-4789-95ef-630b3588c16f",
   "metadata": {},
   "outputs": [],
   "source": []
  },
  {
   "cell_type": "markdown",
   "id": "bee950a1-f7b5-4c20-8e41-ab22c42960ac",
   "metadata": {},
   "source": [
    "# List"
   ]
  },
  {
   "cell_type": "code",
   "execution_count": 1,
   "id": "372aae1c-ddcb-4dbf-b3c4-21d77a7ddd17",
   "metadata": {},
   "outputs": [],
   "source": [
    "l =[]"
   ]
  },
  {
   "cell_type": "code",
   "execution_count": 2,
   "id": "43aa4d21-89c9-4c2b-9252-7b2d91df573f",
   "metadata": {},
   "outputs": [
    {
     "data": {
      "text/plain": [
       "[10, 20, 30, 40]"
      ]
     },
     "execution_count": 2,
     "metadata": {},
     "output_type": "execute_result"
    }
   ],
   "source": [
    "num = [10,20,30,40]\n",
    "num"
   ]
  },
  {
   "cell_type": "code",
   "execution_count": 3,
   "id": "fe6e2dbb-06f6-4a10-8626-ceeb296f3c2e",
   "metadata": {},
   "outputs": [
    {
     "data": {
      "text/plain": [
       "10"
      ]
     },
     "execution_count": 3,
     "metadata": {},
     "output_type": "execute_result"
    }
   ],
   "source": [
    "num[0]"
   ]
  },
  {
   "cell_type": "code",
   "execution_count": 4,
   "id": "32daf813-ad8d-40e5-9dd0-1c75d3b22d3b",
   "metadata": {},
   "outputs": [
    {
     "data": {
      "text/plain": [
       "40"
      ]
     },
     "execution_count": 4,
     "metadata": {},
     "output_type": "execute_result"
    }
   ],
   "source": [
    "num[-1]"
   ]
  },
  {
   "cell_type": "code",
   "execution_count": 5,
   "id": "0b691828-6384-492c-9550-86e672a4a871",
   "metadata": {},
   "outputs": [
    {
     "data": {
      "text/plain": [
       "[20, 30, 40]"
      ]
     },
     "execution_count": 5,
     "metadata": {},
     "output_type": "execute_result"
    }
   ],
   "source": [
    "num[1:]"
   ]
  },
  {
   "cell_type": "code",
   "execution_count": 6,
   "id": "f19d132c-4d14-44d1-a58c-cb4692d7e79a",
   "metadata": {},
   "outputs": [
    {
     "data": {
      "text/plain": [
       "[10]"
      ]
     },
     "execution_count": 6,
     "metadata": {},
     "output_type": "execute_result"
    }
   ],
   "source": [
    "num[:1]"
   ]
  },
  {
   "cell_type": "code",
   "execution_count": 7,
   "id": "2097e36e-f762-42d3-a63a-13c0c8bcbf0e",
   "metadata": {},
   "outputs": [
    {
     "data": {
      "text/plain": [
       "['hi', 'hallo']"
      ]
     },
     "execution_count": 7,
     "metadata": {},
     "output_type": "execute_result"
    }
   ],
   "source": [
    "num1 = ['hi', 'hallo']\n",
    "num1"
   ]
  },
  {
   "cell_type": "code",
   "execution_count": 8,
   "id": "80892e89-d5b4-4766-92c5-c156c4b30ff4",
   "metadata": {},
   "outputs": [
    {
     "data": {
      "text/plain": [
       "['hi', 8.9, 34]"
      ]
     },
     "execution_count": 8,
     "metadata": {},
     "output_type": "execute_result"
    }
   ],
   "source": [
    "num2 = ['hi', 8.9, 34] # we can assign multiple variable \n",
    "num2"
   ]
  },
  {
   "cell_type": "code",
   "execution_count": 9,
   "id": "4fa3fb8c-5b83-4d9e-b4ad-ebb74e733752",
   "metadata": {},
   "outputs": [
    {
     "data": {
      "text/plain": [
       "[[10, 20, 30, 40], ['hi', 'hallo']]"
      ]
     },
     "execution_count": 9,
     "metadata": {},
     "output_type": "execute_result"
    }
   ],
   "source": [
    "# can we have 2 list together\n",
    "num3 = [num, num1]\n",
    "num3"
   ]
  },
  {
   "cell_type": "code",
   "execution_count": 17,
   "id": "f4a83942-c05e-40e1-9860-2b68bef046e8",
   "metadata": {},
   "outputs": [
    {
     "data": {
      "text/plain": [
       "[[10, 20, 30, 40], ['hi', 'hallo'], ['hi', 8.9, 34]]"
      ]
     },
     "execution_count": 17,
     "metadata": {},
     "output_type": "execute_result"
    }
   ],
   "source": [
    "num4 = [num,num1,num2]\n",
    "num4"
   ]
  },
  {
   "cell_type": "code",
   "execution_count": 18,
   "id": "82a101c7-105d-4c3c-a06d-1953f4420025",
   "metadata": {},
   "outputs": [
    {
     "data": {
      "text/plain": [
       "[10, 20, 30, 40]"
      ]
     },
     "execution_count": 18,
     "metadata": {},
     "output_type": "execute_result"
    }
   ],
   "source": [
    "num"
   ]
  },
  {
   "cell_type": "code",
   "execution_count": 19,
   "id": "5de5955f-2a23-44cd-b415-777c921cc024",
   "metadata": {},
   "outputs": [],
   "source": [
    "num.append(50)"
   ]
  },
  {
   "cell_type": "code",
   "execution_count": 20,
   "id": "bd5a9e64-bf04-4633-8722-34a9eecc4c6b",
   "metadata": {},
   "outputs": [
    {
     "data": {
      "text/plain": [
       "[10, 20, 30, 40, 50]"
      ]
     },
     "execution_count": 20,
     "metadata": {},
     "output_type": "execute_result"
    }
   ],
   "source": [
    "num"
   ]
  },
  {
   "cell_type": "code",
   "execution_count": 21,
   "id": "7a941281-1b9f-45ef-a048-f825cd3fd237",
   "metadata": {},
   "outputs": [],
   "source": [
    "num.remove(50)"
   ]
  },
  {
   "cell_type": "code",
   "execution_count": 22,
   "id": "629b8c62-3928-4506-888e-8e1942dd01ca",
   "metadata": {},
   "outputs": [
    {
     "data": {
      "text/plain": [
       "[10, 20, 30, 40]"
      ]
     },
     "execution_count": 22,
     "metadata": {},
     "output_type": "execute_result"
    }
   ],
   "source": [
    "num"
   ]
  },
  {
   "cell_type": "code",
   "execution_count": 23,
   "id": "5f440327-d41a-4a3f-9d26-bfce3920927a",
   "metadata": {},
   "outputs": [
    {
     "data": {
      "text/plain": [
       "20"
      ]
     },
     "execution_count": 23,
     "metadata": {},
     "output_type": "execute_result"
    }
   ],
   "source": [
    "num.pop(1)"
   ]
  },
  {
   "cell_type": "code",
   "execution_count": 24,
   "id": "ef3686b6-b73c-4899-aaa8-5630a18da3c6",
   "metadata": {},
   "outputs": [
    {
     "data": {
      "text/plain": [
       "[10, 30, 40]"
      ]
     },
     "execution_count": 24,
     "metadata": {},
     "output_type": "execute_result"
    }
   ],
   "source": [
    "num"
   ]
  },
  {
   "cell_type": "code",
   "execution_count": 25,
   "id": "36cf62c8-164e-423e-9cdf-156f30e8840b",
   "metadata": {},
   "outputs": [
    {
     "data": {
      "text/plain": [
       "40"
      ]
     },
     "execution_count": 25,
     "metadata": {},
     "output_type": "execute_result"
    }
   ],
   "source": [
    "num.pop() #if you dont assign the index element then it will consider by default last index"
   ]
  },
  {
   "cell_type": "code",
   "execution_count": 26,
   "id": "a3ebfa04-7095-4ea8-9ec0-74d5e670aaf0",
   "metadata": {},
   "outputs": [
    {
     "data": {
      "text/plain": [
       "[10, 30]"
      ]
     },
     "execution_count": 26,
     "metadata": {},
     "output_type": "execute_result"
    }
   ],
   "source": [
    "num"
   ]
  },
  {
   "cell_type": "code",
   "execution_count": 27,
   "id": "694e24f8-bceb-4a9c-97c7-3d824fb99f7d",
   "metadata": {},
   "outputs": [
    {
     "data": {
      "text/plain": [
       "['hi', 'hallo']"
      ]
     },
     "execution_count": 27,
     "metadata": {},
     "output_type": "execute_result"
    }
   ],
   "source": [
    "num1"
   ]
  },
  {
   "cell_type": "code",
   "execution_count": 28,
   "id": "3702192b-36c8-490d-8dec-5dd92dcc497d",
   "metadata": {},
   "outputs": [],
   "source": [
    "num1.insert(2,'nit') #insert the value as per index values i.e 2nd index we are assigning nit"
   ]
  },
  {
   "cell_type": "code",
   "execution_count": 29,
   "id": "a9dbf567-4fd1-4a86-b5c1-daa1d594ca9f",
   "metadata": {},
   "outputs": [
    {
     "data": {
      "text/plain": [
       "['hi', 'hallo', 'nit']"
      ]
     },
     "execution_count": 29,
     "metadata": {},
     "output_type": "execute_result"
    }
   ],
   "source": [
    "num1"
   ]
  },
  {
   "cell_type": "code",
   "execution_count": 30,
   "id": "9e8fd4cd-ac6d-4a1c-bd45-0b158ccc21ce",
   "metadata": {},
   "outputs": [],
   "source": [
    "num1.insert(0, 1)"
   ]
  },
  {
   "cell_type": "code",
   "execution_count": 31,
   "id": "3141a676-ae89-451f-ab03-1f7adee80287",
   "metadata": {},
   "outputs": [
    {
     "data": {
      "text/plain": [
       "[1, 'hi', 'hallo', 'nit']"
      ]
     },
     "execution_count": 31,
     "metadata": {},
     "output_type": "execute_result"
    }
   ],
   "source": [
    "num1"
   ]
  },
  {
   "cell_type": "code",
   "execution_count": 32,
   "id": "e0da61f8-f99a-4375-844b-1afd6f35b51d",
   "metadata": {},
   "outputs": [
    {
     "data": {
      "text/plain": [
       "['hi', 8.9, 34]"
      ]
     },
     "execution_count": 32,
     "metadata": {},
     "output_type": "execute_result"
    }
   ],
   "source": [
    "#if you want to delete multiple value \n",
    "num2"
   ]
  },
  {
   "cell_type": "code",
   "execution_count": 33,
   "id": "7b319c38-8ae1-4b41-8f1e-a74dff254984",
   "metadata": {},
   "outputs": [],
   "source": [
    "del num2[2:]"
   ]
  },
  {
   "cell_type": "code",
   "execution_count": 34,
   "id": "16f67792-18ce-4112-8794-07c2652c965a",
   "metadata": {},
   "outputs": [
    {
     "data": {
      "text/plain": [
       "['hi', 8.9]"
      ]
     },
     "execution_count": 34,
     "metadata": {},
     "output_type": "execute_result"
    }
   ],
   "source": [
    "num2"
   ]
  },
  {
   "cell_type": "code",
   "execution_count": 35,
   "id": "2d5fd176-af8f-43f4-89ac-00741b4f7684",
   "metadata": {},
   "outputs": [],
   "source": [
    "# if you need to add multiple values \n",
    "num2.extend([29,15,20])"
   ]
  },
  {
   "cell_type": "code",
   "execution_count": 36,
   "id": "975afc00-3bef-444a-b74d-0afb3d402d93",
   "metadata": {},
   "outputs": [
    {
     "data": {
      "text/plain": [
       "['hi', 8.9, 29, 15, 20]"
      ]
     },
     "execution_count": 36,
     "metadata": {},
     "output_type": "execute_result"
    }
   ],
   "source": [
    "num2"
   ]
  },
  {
   "cell_type": "code",
   "execution_count": 37,
   "id": "cc20c7ac-a3e3-41e3-9245-cfd28f306c90",
   "metadata": {},
   "outputs": [
    {
     "data": {
      "text/plain": [
       "[[10, 30], [1, 'hi', 'hallo', 'nit']]"
      ]
     },
     "execution_count": 37,
     "metadata": {},
     "output_type": "execute_result"
    }
   ],
   "source": [
    "num3"
   ]
  },
  {
   "cell_type": "code",
   "execution_count": 38,
   "id": "a2e151b5-8d2e-49ad-8446-de9dca14b88c",
   "metadata": {},
   "outputs": [],
   "source": [
    "num3.extend(['a', 5, 6.7])"
   ]
  },
  {
   "cell_type": "code",
   "execution_count": 39,
   "id": "b3aa0690-c36d-42d7-9486-adf6e5cf069b",
   "metadata": {},
   "outputs": [
    {
     "data": {
      "text/plain": [
       "[[10, 30], [1, 'hi', 'hallo', 'nit'], 'a', 5, 6.7]"
      ]
     },
     "execution_count": 39,
     "metadata": {},
     "output_type": "execute_result"
    }
   ],
   "source": [
    "num3"
   ]
  },
  {
   "cell_type": "code",
   "execution_count": 40,
   "id": "9be03c8f-e832-493f-a416-f95fbaa4ad88",
   "metadata": {},
   "outputs": [
    {
     "data": {
      "text/plain": [
       "[10, 30]"
      ]
     },
     "execution_count": 40,
     "metadata": {},
     "output_type": "execute_result"
    }
   ],
   "source": [
    "num"
   ]
  },
  {
   "cell_type": "code",
   "execution_count": 42,
   "id": "fee42edd-39b2-4367-aede-569fc12d15f3",
   "metadata": {},
   "outputs": [
    {
     "data": {
      "text/plain": [
       "10"
      ]
     },
     "execution_count": 42,
     "metadata": {},
     "output_type": "execute_result"
    }
   ],
   "source": [
    "min(num) #inbuild function "
   ]
  },
  {
   "cell_type": "code",
   "execution_count": 43,
   "id": "863de818-8bbf-48c2-a94d-4ee994b9f682",
   "metadata": {},
   "outputs": [
    {
     "data": {
      "text/plain": [
       "30"
      ]
     },
     "execution_count": 43,
     "metadata": {},
     "output_type": "execute_result"
    }
   ],
   "source": [
    "max(num) #inbuild function "
   ]
  },
  {
   "cell_type": "code",
   "execution_count": 44,
   "id": "1095f204-7545-403d-bd25-9b60e4001a26",
   "metadata": {},
   "outputs": [
    {
     "data": {
      "text/plain": [
       "[1, 'hi', 'hallo', 'nit']"
      ]
     },
     "execution_count": 44,
     "metadata": {},
     "output_type": "execute_result"
    }
   ],
   "source": [
    "num1"
   ]
  },
  {
   "cell_type": "code",
   "execution_count": 45,
   "id": "79e137ab-4e7d-4795-a2cb-852094dd1cfe",
   "metadata": {},
   "outputs": [
    {
     "ename": "TypeError",
     "evalue": "'<' not supported between instances of 'str' and 'int'",
     "output_type": "error",
     "traceback": [
      "\u001b[1;31m---------------------------------------------------------------------------\u001b[0m",
      "\u001b[1;31mTypeError\u001b[0m                                 Traceback (most recent call last)",
      "Cell \u001b[1;32mIn[45], line 1\u001b[0m\n\u001b[1;32m----> 1\u001b[0m \u001b[38;5;28mmin\u001b[39m(num1)\n",
      "\u001b[1;31mTypeError\u001b[0m: '<' not supported between instances of 'str' and 'int'"
     ]
    }
   ],
   "source": [
    "min(num1) #inbuild function "
   ]
  },
  {
   "cell_type": "code",
   "execution_count": 46,
   "id": "22c82abe-82ab-4d7a-ac1b-7fc5b8ec835a",
   "metadata": {},
   "outputs": [
    {
     "data": {
      "text/plain": [
       "40"
      ]
     },
     "execution_count": 46,
     "metadata": {},
     "output_type": "execute_result"
    }
   ],
   "source": [
    "sum(num)"
   ]
  },
  {
   "cell_type": "code",
   "execution_count": 47,
   "id": "58a50df6-3e99-43c0-b52c-d22c9082b192",
   "metadata": {},
   "outputs": [],
   "source": [
    "num.sort()  #Sorted method"
   ]
  },
  {
   "cell_type": "code",
   "execution_count": 48,
   "id": "16b96d91-d2a5-43a6-bc00-b91cf5c04b26",
   "metadata": {},
   "outputs": [
    {
     "data": {
      "text/plain": [
       "[10, 30]"
      ]
     },
     "execution_count": 48,
     "metadata": {},
     "output_type": "execute_result"
    }
   ],
   "source": [
    "num"
   ]
  },
  {
   "cell_type": "code",
   "execution_count": 49,
   "id": "da7def95-1f70-4a39-8806-9c8143e38b5a",
   "metadata": {},
   "outputs": [
    {
     "data": {
      "text/plain": [
       "[1, 2, 3]"
      ]
     },
     "execution_count": 49,
     "metadata": {},
     "output_type": "execute_result"
    }
   ],
   "source": [
    "l = [1,2,3]\n",
    "l"
   ]
  },
  {
   "cell_type": "code",
   "execution_count": 53,
   "id": "fbce2f18-f8d6-42b6-b1a9-31941fd3bce8",
   "metadata": {},
   "outputs": [
    {
     "data": {
      "text/plain": [
       "[100, 2, 3]"
      ]
     },
     "execution_count": 53,
     "metadata": {},
     "output_type": "execute_result"
    }
   ],
   "source": [
    "l[0] = 100\n",
    "l"
   ]
  },
  {
   "cell_type": "code",
   "execution_count": null,
   "id": "f0782c9c-083b-47e8-8d43-d1861b29bec0",
   "metadata": {},
   "outputs": [],
   "source": []
  },
  {
   "cell_type": "markdown",
   "id": "5e84d363-5a0a-4741-be2a-0ba6b3584fc6",
   "metadata": {},
   "source": [
    "# Tuple"
   ]
  },
  {
   "cell_type": "code",
   "execution_count": 55,
   "id": "fea7b003-9de7-4a68-a12b-d49fd02b3f59",
   "metadata": {},
   "outputs": [
    {
     "data": {
      "text/plain": [
       "(15, 25, 22, 7, 30)"
      ]
     },
     "execution_count": 55,
     "metadata": {},
     "output_type": "execute_result"
    }
   ],
   "source": [
    "tup = (15,25,22,7,30)\n",
    "tup"
   ]
  },
  {
   "cell_type": "code",
   "execution_count": 56,
   "id": "e269555b-34f0-496a-823d-a745a576a010",
   "metadata": {},
   "outputs": [
    {
     "data": {
      "text/plain": [
       "15"
      ]
     },
     "execution_count": 56,
     "metadata": {},
     "output_type": "execute_result"
    }
   ],
   "source": [
    "tup[0]"
   ]
  },
  {
   "cell_type": "code",
   "execution_count": 57,
   "id": "54b176da-5bb8-42b2-9892-fd27fd34f7b1",
   "metadata": {},
   "outputs": [
    {
     "ename": "TypeError",
     "evalue": "'tuple' object does not support item assignment",
     "output_type": "error",
     "traceback": [
      "\u001b[1;31m---------------------------------------------------------------------------\u001b[0m",
      "\u001b[1;31mTypeError\u001b[0m                                 Traceback (most recent call last)",
      "Cell \u001b[1;32mIn[57], line 1\u001b[0m\n\u001b[1;32m----> 1\u001b[0m tup [\u001b[38;5;241m0\u001b[39m] \u001b[38;5;241m=\u001b[39m \u001b[38;5;241m10\u001b[39m\n",
      "\u001b[1;31mTypeError\u001b[0m: 'tuple' object does not support item assignment"
     ]
    }
   ],
   "source": [
    "tup [0] = 10   #as we are unable to change any value or parameter in tuple so iteration very faster in tuple compare to list"
   ]
  },
  {
   "cell_type": "code",
   "execution_count": null,
   "id": "9414668e-a42b-4b76-83f1-e70a1413c678",
   "metadata": {},
   "outputs": [],
   "source": []
  },
  {
   "cell_type": "markdown",
   "id": "5a387251-a570-4a24-97b4-257919cd16b1",
   "metadata": {},
   "source": [
    "# Set"
   ]
  },
  {
   "cell_type": "code",
   "execution_count": 58,
   "id": "1d7b9c08-9aba-44a1-bcf1-c0f111b96739",
   "metadata": {},
   "outputs": [],
   "source": [
    "s =  {}"
   ]
  },
  {
   "cell_type": "code",
   "execution_count": 59,
   "id": "de1758ee-6643-4364-82a7-b0aac3a7dbb5",
   "metadata": {},
   "outputs": [],
   "source": [
    "s1 = {21,6,34,58,5} "
   ]
  },
  {
   "cell_type": "code",
   "execution_count": 60,
   "id": "5d082660-db25-4b1b-8e20-376cc1d97462",
   "metadata": {},
   "outputs": [
    {
     "data": {
      "text/plain": [
       "{5, 6, 21, 34, 58}"
      ]
     },
     "execution_count": 60,
     "metadata": {},
     "output_type": "execute_result"
    }
   ],
   "source": [
    "s1 "
   ]
  },
  {
   "cell_type": "code",
   "execution_count": 61,
   "id": "a2ec829d-0284-43bf-b22f-44930e9dc1e7",
   "metadata": {},
   "outputs": [],
   "source": [
    "s2 = {50,35,53,'nit', 53}"
   ]
  },
  {
   "cell_type": "code",
   "execution_count": 62,
   "id": "27f346c5-d711-4450-978f-cfd07283de07",
   "metadata": {},
   "outputs": [
    {
     "data": {
      "text/plain": [
       "{35, 50, 53, 'nit'}"
      ]
     },
     "execution_count": 62,
     "metadata": {},
     "output_type": "execute_result"
    }
   ],
   "source": [
    "s2"
   ]
  },
  {
   "cell_type": "code",
   "execution_count": 63,
   "id": "37df2b30-de06-46bd-8d44-1a6cebb11684",
   "metadata": {},
   "outputs": [
    {
     "ename": "TypeError",
     "evalue": "'set' object is not subscriptable",
     "output_type": "error",
     "traceback": [
      "\u001b[1;31m---------------------------------------------------------------------------\u001b[0m",
      "\u001b[1;31mTypeError\u001b[0m                                 Traceback (most recent call last)",
      "Cell \u001b[1;32mIn[63], line 1\u001b[0m\n\u001b[1;32m----> 1\u001b[0m s1[\u001b[38;5;241m1\u001b[39m]\n",
      "\u001b[1;31mTypeError\u001b[0m: 'set' object is not subscriptable"
     ]
    }
   ],
   "source": [
    "s1[1] #as we dont have proper sequencing thats why indexing not subscriptable"
   ]
  },
  {
   "cell_type": "code",
   "execution_count": null,
   "id": "ce80786c-69b7-4253-86b4-3ff5367aad01",
   "metadata": {},
   "outputs": [],
   "source": []
  },
  {
   "cell_type": "markdown",
   "id": "0d563a51-6770-44de-8c52-f27f90609386",
   "metadata": {},
   "source": [
    "# Dictionary"
   ]
  },
  {
   "cell_type": "code",
   "execution_count": 1,
   "id": "7207653c-a0fa-4392-9ab1-6793f7527816",
   "metadata": {},
   "outputs": [
    {
     "data": {
      "text/plain": [
       "{1: 'apple', 2: 'banana', 4: 'orange'}"
      ]
     },
     "execution_count": 1,
     "metadata": {},
     "output_type": "execute_result"
    }
   ],
   "source": [
    "dict = {1:'apple', 2:'banana',4:'orange'}\n",
    "dict"
   ]
  },
  {
   "cell_type": "code",
   "execution_count": 2,
   "id": "810c4cf5-a30f-4be2-8424-12ee04b0c370",
   "metadata": {},
   "outputs": [
    {
     "data": {
      "text/plain": [
       "'orange'"
      ]
     },
     "execution_count": 2,
     "metadata": {},
     "output_type": "execute_result"
    }
   ],
   "source": [
    "dict[4]"
   ]
  },
  {
   "cell_type": "code",
   "execution_count": 3,
   "id": "c35ffe8d-f99f-448e-b784-eaf3527517c8",
   "metadata": {},
   "outputs": [
    {
     "ename": "KeyError",
     "evalue": "3",
     "output_type": "error",
     "traceback": [
      "\u001b[1;31m---------------------------------------------------------------------------\u001b[0m",
      "\u001b[1;31mKeyError\u001b[0m                                  Traceback (most recent call last)",
      "Cell \u001b[1;32mIn[3], line 1\u001b[0m\n\u001b[1;32m----> 1\u001b[0m \u001b[38;5;28mdict\u001b[39m[\u001b[38;5;241m3\u001b[39m]\n",
      "\u001b[1;31mKeyError\u001b[0m: 3"
     ]
    }
   ],
   "source": [
    "dict[3]"
   ]
  },
  {
   "cell_type": "code",
   "execution_count": 4,
   "id": "0ecb72e9-c45e-41be-8968-80bc89734fb7",
   "metadata": {},
   "outputs": [
    {
     "data": {
      "text/plain": [
       "'banana'"
      ]
     },
     "execution_count": 4,
     "metadata": {},
     "output_type": "execute_result"
    }
   ],
   "source": [
    "dict.get(2)"
   ]
  },
  {
   "cell_type": "code",
   "execution_count": 5,
   "id": "53217fe0-aebc-45bc-951c-504c00030baf",
   "metadata": {},
   "outputs": [],
   "source": [
    "dict.get(3)"
   ]
  },
  {
   "cell_type": "code",
   "execution_count": 6,
   "id": "7589b956-3f6f-4e1c-9d96-2365134f1022",
   "metadata": {},
   "outputs": [
    {
     "name": "stdout",
     "output_type": "stream",
     "text": [
      "None\n"
     ]
    }
   ],
   "source": [
    "print(dict.get(3))"
   ]
  },
  {
   "cell_type": "code",
   "execution_count": 7,
   "id": "318ad04d-7080-4c72-97c6-80aace7f3938",
   "metadata": {},
   "outputs": [
    {
     "data": {
      "text/plain": [
       "'apple'"
      ]
     },
     "execution_count": 7,
     "metadata": {},
     "output_type": "execute_result"
    }
   ],
   "source": [
    "dict.get(1,\"Not Fount\")"
   ]
  },
  {
   "cell_type": "code",
   "execution_count": 8,
   "id": "33c64d19-b782-4768-b2e5-77a55f5d4781",
   "metadata": {},
   "outputs": [
    {
     "data": {
      "text/plain": [
       "'Not Fount'"
      ]
     },
     "execution_count": 8,
     "metadata": {},
     "output_type": "execute_result"
    }
   ],
   "source": [
    "dict.get(3,\"Not Fount\")"
   ]
  },
  {
   "cell_type": "code",
   "execution_count": 9,
   "id": "bb448b66-0fca-4657-8fa7-6407c05bdf77",
   "metadata": {},
   "outputs": [],
   "source": [
    "dict[5] = \"five\""
   ]
  },
  {
   "cell_type": "code",
   "execution_count": 10,
   "id": "8c09135d-e3f1-4bd3-9e4c-aa0a30a9aa57",
   "metadata": {},
   "outputs": [
    {
     "data": {
      "text/plain": [
       "{1: 'apple', 2: 'banana', 4: 'orange', 5: 'five'}"
      ]
     },
     "execution_count": 10,
     "metadata": {},
     "output_type": "execute_result"
    }
   ],
   "source": [
    "dict"
   ]
  },
  {
   "cell_type": "code",
   "execution_count": 11,
   "id": "c2d8b62d-4ee7-42c5-94d0-5745529e480c",
   "metadata": {},
   "outputs": [],
   "source": [
    "del dict [5]"
   ]
  },
  {
   "cell_type": "code",
   "execution_count": 12,
   "id": "35517bb7-671d-46cf-ba34-0b55e3975867",
   "metadata": {},
   "outputs": [
    {
     "data": {
      "text/plain": [
       "{1: 'apple', 2: 'banana', 4: 'orange'}"
      ]
     },
     "execution_count": 12,
     "metadata": {},
     "output_type": "execute_result"
    }
   ],
   "source": [
    "dict "
   ]
  },
  {
   "cell_type": "code",
   "execution_count": 13,
   "id": "c8532e27-def0-42e1-bdd7-3b33dd3c853f",
   "metadata": {},
   "outputs": [],
   "source": [
    "#list in the dictionary\n",
    "prog = {'python':['vscode', 'pycharm'], 'machine learning' : 'sklearn', 'datascience':['jupyter','spyder'] }"
   ]
  },
  {
   "cell_type": "code",
   "execution_count": 14,
   "id": "b9a3afe5-9680-4b03-8c27-d28c5d4b79c5",
   "metadata": {},
   "outputs": [
    {
     "data": {
      "text/plain": [
       "{'python': ['vscode', 'pycharm'],\n",
       " 'machine learning': 'sklearn',\n",
       " 'datascience': ['jupyter', 'spyder']}"
      ]
     },
     "execution_count": 14,
     "metadata": {},
     "output_type": "execute_result"
    }
   ],
   "source": [
    "prog"
   ]
  },
  {
   "cell_type": "code",
   "execution_count": 15,
   "id": "0025bdd7-4e76-4268-b3a3-c3df08374e95",
   "metadata": {},
   "outputs": [
    {
     "data": {
      "text/plain": [
       "['vscode', 'pycharm']"
      ]
     },
     "execution_count": 15,
     "metadata": {},
     "output_type": "execute_result"
    }
   ],
   "source": [
    "prog[\"python\"]"
   ]
  },
  {
   "cell_type": "code",
   "execution_count": 17,
   "id": "05201c88-9c81-40e9-bed4-ca8cc81d4b92",
   "metadata": {},
   "outputs": [
    {
     "data": {
      "text/plain": [
       "'sklearn'"
      ]
     },
     "execution_count": 17,
     "metadata": {},
     "output_type": "execute_result"
    }
   ],
   "source": [
    "prog['machine learning']"
   ]
  },
  {
   "cell_type": "code",
   "execution_count": 18,
   "id": "ed40aaee-9c61-49f3-8faf-43c8f244e93a",
   "metadata": {},
   "outputs": [
    {
     "data": {
      "text/plain": [
       "['jupyter', 'spyder']"
      ]
     },
     "execution_count": 18,
     "metadata": {},
     "output_type": "execute_result"
    }
   ],
   "source": [
    "prog['datascience']"
   ]
  },
  {
   "cell_type": "code",
   "execution_count": null,
   "id": "02af794e-2343-44a2-b1b2-f2dc636b4dc3",
   "metadata": {},
   "outputs": [],
   "source": [
    "help()"
   ]
  },
  {
   "cell_type": "code",
   "execution_count": null,
   "id": "52cdae5c-1861-4ae2-9039-f0d4dadd21b6",
   "metadata": {},
   "outputs": [],
   "source": []
  },
  {
   "cell_type": "markdown",
   "id": "e702ae05-0c2d-4915-a3e2-3f2f1398c211",
   "metadata": {},
   "source": [
    "# Introduce to ID()"
   ]
  },
  {
   "cell_type": "code",
   "execution_count": 1,
   "id": "4cdad2e8-432b-46c7-85e4-2df8db92926c",
   "metadata": {},
   "outputs": [
    {
     "data": {
      "text/plain": [
       "140714119670328"
      ]
     },
     "execution_count": 1,
     "metadata": {},
     "output_type": "execute_result"
    }
   ],
   "source": [
    "# variable address\n",
    "num = 5\n",
    "id(num)"
   ]
  },
  {
   "cell_type": "code",
   "execution_count": 2,
   "id": "ac6992c9-f026-43b0-81ad-2bf305162e7c",
   "metadata": {},
   "outputs": [
    {
     "data": {
      "text/plain": [
       "1906746318240"
      ]
     },
     "execution_count": 2,
     "metadata": {},
     "output_type": "execute_result"
    }
   ],
   "source": [
    "name = 'nit'\n",
    "id(name) #Address will be different for both"
   ]
  },
  {
   "cell_type": "code",
   "execution_count": 3,
   "id": "5fbe682a-d125-49f2-9f92-3b9adaf87a9a",
   "metadata": {},
   "outputs": [
    {
     "data": {
      "text/plain": [
       "140714119670488"
      ]
     },
     "execution_count": 3,
     "metadata": {},
     "output_type": "execute_result"
    }
   ],
   "source": [
    "a = 10\n",
    "id(a)"
   ]
  },
  {
   "cell_type": "code",
   "execution_count": 4,
   "id": "7c25ebb1-a2df-47be-a3c5-13cca0eaded9",
   "metadata": {},
   "outputs": [],
   "source": [
    "b = a #thats why python is more memory efficient "
   ]
  },
  {
   "cell_type": "code",
   "execution_count": 5,
   "id": "060645fd-7e98-4aab-9619-fb89642a490d",
   "metadata": {},
   "outputs": [
    {
     "data": {
      "text/plain": [
       "140714119670488"
      ]
     },
     "execution_count": 5,
     "metadata": {},
     "output_type": "execute_result"
    }
   ],
   "source": [
    "id(b)"
   ]
  },
  {
   "cell_type": "code",
   "execution_count": 6,
   "id": "e125d349-67a3-4973-8ba8-f6e0b7545bf7",
   "metadata": {},
   "outputs": [
    {
     "data": {
      "text/plain": [
       "140714119670488"
      ]
     },
     "execution_count": 6,
     "metadata": {},
     "output_type": "execute_result"
    }
   ],
   "source": [
    "id(10)"
   ]
  },
  {
   "cell_type": "code",
   "execution_count": 7,
   "id": "e7a021f8-cbd8-4c37-99a8-e1ce6d04d2a4",
   "metadata": {},
   "outputs": [
    {
     "data": {
      "text/plain": [
       "140714119670488"
      ]
     },
     "execution_count": 7,
     "metadata": {},
     "output_type": "execute_result"
    }
   ],
   "source": [
    "k = 10 \n",
    "id(k)"
   ]
  },
  {
   "cell_type": "code",
   "execution_count": 8,
   "id": "8d358b44-f031-4e0b-88af-caba4f318ade",
   "metadata": {},
   "outputs": [
    {
     "data": {
      "text/plain": [
       "140714119670808"
      ]
     },
     "execution_count": 8,
     "metadata": {},
     "output_type": "execute_result"
    }
   ],
   "source": [
    "a = 20  # as we change the value of a then address will change\n",
    "id(a)"
   ]
  },
  {
   "cell_type": "code",
   "execution_count": 9,
   "id": "f4b45512-1cdc-443a-9ec1-867870a85781",
   "metadata": {},
   "outputs": [
    {
     "data": {
      "text/plain": [
       "140714119670488"
      ]
     },
     "execution_count": 9,
     "metadata": {},
     "output_type": "execute_result"
    }
   ],
   "source": [
    "id(b)"
   ]
  },
  {
   "cell_type": "code",
   "execution_count": null,
   "id": "39507a68-e88f-47e0-8aa7-3fe060feebbf",
   "metadata": {},
   "outputs": [],
   "source": []
  },
  {
   "cell_type": "markdown",
   "id": "42ad44f6-e850-4edf-a600-febd423e7aa0",
   "metadata": {},
   "source": [
    "what ever the variale we assigned the memory and we not assigned anywhere then we can use as garbage collection.|| \n",
    "VARIABLE - we can change the values || CONSTANT - we cannot change the value\n",
    "-can we make VARIABLE as a CONSTANT (note - in python you cannot make variable as constant)\n"
   ]
  },
  {
   "cell_type": "code",
   "execution_count": 11,
   "id": "332a7e70-d078-4e19-9599-fdaae93e4d20",
   "metadata": {},
   "outputs": [
    {
     "data": {
      "text/plain": [
       "3.14"
      ]
     },
     "execution_count": 11,
     "metadata": {},
     "output_type": "execute_result"
    }
   ],
   "source": [
    "pi = 3.14  #in math this is alway constant but python we can change\n",
    "pi"
   ]
  },
  {
   "cell_type": "code",
   "execution_count": 12,
   "id": "06830c51-b386-474a-8f96-58085606025b",
   "metadata": {},
   "outputs": [
    {
     "data": {
      "text/plain": [
       "3.15"
      ]
     },
     "execution_count": 12,
     "metadata": {},
     "output_type": "execute_result"
    }
   ],
   "source": [
    "pi = 3.15\n",
    "pi"
   ]
  },
  {
   "cell_type": "code",
   "execution_count": 13,
   "id": "cf06a56a-4c80-4126-9012-f0e26d3d891b",
   "metadata": {},
   "outputs": [
    {
     "data": {
      "text/plain": [
       "float"
      ]
     },
     "execution_count": 13,
     "metadata": {},
     "output_type": "execute_result"
    }
   ],
   "source": [
    "type(pi)"
   ]
  },
  {
   "cell_type": "code",
   "execution_count": null,
   "id": "f1304043-357a-4a33-9225-9c4e7d47cb22",
   "metadata": {},
   "outputs": [],
   "source": []
  },
  {
   "cell_type": "markdown",
   "id": "5a5f7c64-5276-4240-9711-b868dbc0b2fa",
   "metadata": {},
   "source": [
    "# ### DATA TYPES & DATA STRUCTURES-->\n",
    "1- NUMERIC || 2-LIST || 3-TUPLE || 4-SET || 5-STRING || 6-RANGE || 7-DICTIONARY"
   ]
  },
  {
   "cell_type": "code",
   "execution_count": 15,
   "id": "1f3978e4-a6e2-487f-9360-2edb44704051",
   "metadata": {},
   "outputs": [
    {
     "data": {
      "text/plain": [
       "float"
      ]
     },
     "execution_count": 15,
     "metadata": {},
     "output_type": "execute_result"
    }
   ],
   "source": [
    "x = 7.7\n",
    "type(x)"
   ]
  },
  {
   "cell_type": "code",
   "execution_count": 16,
   "id": "3fa41f2b-dc5c-4adb-8d82-21c99f45e267",
   "metadata": {},
   "outputs": [
    {
     "data": {
      "text/plain": [
       "20"
      ]
     },
     "execution_count": 16,
     "metadata": {},
     "output_type": "execute_result"
    }
   ],
   "source": [
    "(a)"
   ]
  },
  {
   "cell_type": "code",
   "execution_count": 17,
   "id": "86abf996-df7e-4534-b378-c5de33e6739a",
   "metadata": {},
   "outputs": [
    {
     "data": {
      "text/plain": [
       "complex"
      ]
     },
     "execution_count": 17,
     "metadata": {},
     "output_type": "execute_result"
    }
   ],
   "source": [
    "x2 = 22 + 7j #so hear j is represent as root of -1\n",
    "type(x2)"
   ]
  },
  {
   "cell_type": "code",
   "execution_count": 18,
   "id": "45eb2308-223d-40ce-a7c4-895faabfe736",
   "metadata": {},
   "outputs": [],
   "source": [
    "#convert flot to integer \n",
    "a = 7.22\n",
    "b = int(a)"
   ]
  },
  {
   "cell_type": "code",
   "execution_count": 19,
   "id": "3dd4a40c-be6e-4fc5-87eb-4062a9af9715",
   "metadata": {},
   "outputs": [
    {
     "data": {
      "text/plain": [
       "7"
      ]
     },
     "execution_count": 19,
     "metadata": {},
     "output_type": "execute_result"
    }
   ],
   "source": [
    "b"
   ]
  },
  {
   "cell_type": "code",
   "execution_count": 20,
   "id": "b48b5236-d54c-453c-b169-bfa6ee402287",
   "metadata": {},
   "outputs": [
    {
     "data": {
      "text/plain": [
       "int"
      ]
     },
     "execution_count": 20,
     "metadata": {},
     "output_type": "execute_result"
    }
   ],
   "source": [
    "type(b)"
   ]
  },
  {
   "cell_type": "code",
   "execution_count": 21,
   "id": "8ef8975e-cbef-4b13-9847-3a4cf43633ec",
   "metadata": {},
   "outputs": [
    {
     "data": {
      "text/plain": [
       "float"
      ]
     },
     "execution_count": 21,
     "metadata": {},
     "output_type": "execute_result"
    }
   ],
   "source": [
    "type(a)"
   ]
  },
  {
   "cell_type": "code",
   "execution_count": 22,
   "id": "ffda585c-cad5-476b-841e-c40c849899e7",
   "metadata": {},
   "outputs": [],
   "source": [
    "k = float(b)"
   ]
  },
  {
   "cell_type": "code",
   "execution_count": 23,
   "id": "ddac043a-4ecf-4e75-84c3-2c4ce6bf267b",
   "metadata": {},
   "outputs": [
    {
     "data": {
      "text/plain": [
       "7.0"
      ]
     },
     "execution_count": 23,
     "metadata": {},
     "output_type": "execute_result"
    }
   ],
   "source": [
    "k"
   ]
  },
  {
   "cell_type": "code",
   "execution_count": 24,
   "id": "1235c5f3-62f1-41a0-85d3-fcb6b670a387",
   "metadata": {},
   "outputs": [
    {
     "name": "stdout",
     "output_type": "stream",
     "text": [
      "7.22\n",
      "7\n",
      "7.0\n"
     ]
    }
   ],
   "source": [
    "print(a)\n",
    "print(b)\n",
    "print(k)"
   ]
  },
  {
   "cell_type": "code",
   "execution_count": 25,
   "id": "14a63be9-0e41-45dd-8eca-bf35c24a90fc",
   "metadata": {},
   "outputs": [],
   "source": [
    "k1 = complex(b,k)"
   ]
  },
  {
   "cell_type": "code",
   "execution_count": 26,
   "id": "08d1b885-0e5b-4d53-b496-8b9a27c371c7",
   "metadata": {},
   "outputs": [
    {
     "name": "stdout",
     "output_type": "stream",
     "text": [
      "(7+7j)\n"
     ]
    },
    {
     "data": {
      "text/plain": [
       "complex"
      ]
     },
     "execution_count": 26,
     "metadata": {},
     "output_type": "execute_result"
    }
   ],
   "source": [
    "print(k1)\n",
    "type(k1)"
   ]
  },
  {
   "cell_type": "code",
   "execution_count": 27,
   "id": "51401dcc-9b93-4131-bfbc-7d0b6f738a16",
   "metadata": {},
   "outputs": [
    {
     "data": {
      "text/plain": [
       "False"
      ]
     },
     "execution_count": 27,
     "metadata": {},
     "output_type": "execute_result"
    }
   ],
   "source": [
    "b < k"
   ]
  },
  {
   "cell_type": "code",
   "execution_count": 28,
   "id": "a8f6ccc1-8db2-4581-b12b-9a8de9ef799b",
   "metadata": {},
   "outputs": [
    {
     "data": {
      "text/plain": [
       "False"
      ]
     },
     "execution_count": 28,
     "metadata": {},
     "output_type": "execute_result"
    }
   ],
   "source": [
    "condition = b<k\n",
    "condition"
   ]
  },
  {
   "cell_type": "code",
   "execution_count": 29,
   "id": "df0fae7e-b40d-4e9d-a5ba-59b036c170c3",
   "metadata": {},
   "outputs": [
    {
     "data": {
      "text/plain": [
       "bool"
      ]
     },
     "execution_count": 29,
     "metadata": {},
     "output_type": "execute_result"
    }
   ],
   "source": [
    "type(condition)"
   ]
  },
  {
   "cell_type": "code",
   "execution_count": 30,
   "id": "b704d36b-34c0-424f-b73d-669e0d250acf",
   "metadata": {},
   "outputs": [
    {
     "data": {
      "text/plain": [
       "1"
      ]
     },
     "execution_count": 30,
     "metadata": {},
     "output_type": "execute_result"
    }
   ],
   "source": [
    "int(True)"
   ]
  },
  {
   "cell_type": "code",
   "execution_count": 31,
   "id": "cc033c2e-60d1-4a0c-b003-8f029ed3465a",
   "metadata": {},
   "outputs": [
    {
     "data": {
      "text/plain": [
       "0"
      ]
     },
     "execution_count": 31,
     "metadata": {},
     "output_type": "execute_result"
    }
   ],
   "source": [
    "int(False)"
   ]
  },
  {
   "cell_type": "code",
   "execution_count": 32,
   "id": "8be59e54-d5f8-4573-a2e7-abf0b0e906ee",
   "metadata": {},
   "outputs": [
    {
     "name": "stdout",
     "output_type": "stream",
     "text": [
      "[1, 2, 3, 4]\n"
     ]
    },
    {
     "data": {
      "text/plain": [
       "list"
      ]
     },
     "execution_count": 32,
     "metadata": {},
     "output_type": "execute_result"
    }
   ],
   "source": [
    "l = [1,2,3,4]\n",
    "print(l)\n",
    "type(l)"
   ]
  },
  {
   "cell_type": "code",
   "execution_count": 33,
   "id": "9c65a6a1-7e37-454c-b4b8-30ca8d8f0e3d",
   "metadata": {},
   "outputs": [
    {
     "data": {
      "text/plain": [
       "{1, 2, 3, 4}"
      ]
     },
     "execution_count": 33,
     "metadata": {},
     "output_type": "execute_result"
    }
   ],
   "source": [
    "s = {1,2,3,4}\n",
    "s"
   ]
  },
  {
   "cell_type": "code",
   "execution_count": 34,
   "id": "69989178-9d99-4e05-8451-86940428e72e",
   "metadata": {},
   "outputs": [
    {
     "data": {
      "text/plain": [
       "set"
      ]
     },
     "execution_count": 34,
     "metadata": {},
     "output_type": "execute_result"
    }
   ],
   "source": [
    "type(s)"
   ]
  },
  {
   "cell_type": "code",
   "execution_count": 35,
   "id": "96d3b6c4-068b-493b-86d4-37f042bd9ccf",
   "metadata": {},
   "outputs": [
    {
     "data": {
      "text/plain": [
       "{1, 2, 3, 4, 11}"
      ]
     },
     "execution_count": 35,
     "metadata": {},
     "output_type": "execute_result"
    }
   ],
   "source": [
    "s1 = {1,2,3,4,4,3,11} #duplicates are not allowed\n",
    "s1"
   ]
  },
  {
   "cell_type": "code",
   "execution_count": 36,
   "id": "af0254c4-69d3-4486-8bae-9d6753b78e6f",
   "metadata": {},
   "outputs": [
    {
     "data": {
      "text/plain": [
       "(10, 20, 30)"
      ]
     },
     "execution_count": 36,
     "metadata": {},
     "output_type": "execute_result"
    }
   ],
   "source": [
    "t = (10,20,30)\n",
    "t"
   ]
  },
  {
   "cell_type": "code",
   "execution_count": 37,
   "id": "35aaf369-f3ce-4a8a-92eb-378c41378633",
   "metadata": {},
   "outputs": [
    {
     "data": {
      "text/plain": [
       "tuple"
      ]
     },
     "execution_count": 37,
     "metadata": {},
     "output_type": "execute_result"
    }
   ],
   "source": [
    "type(t)"
   ]
  },
  {
   "cell_type": "code",
   "execution_count": 38,
   "id": "7932d6a6-c361-4b33-84d8-26e7b63ceef7",
   "metadata": {},
   "outputs": [
    {
     "data": {
      "text/plain": [
       "str"
      ]
     },
     "execution_count": 38,
     "metadata": {},
     "output_type": "execute_result"
    }
   ],
   "source": [
    "str = 'nit' #we dont have character in python \n",
    "type(str)"
   ]
  },
  {
   "cell_type": "code",
   "execution_count": 39,
   "id": "07389d36-4fe4-469c-bfd6-d229b7541c94",
   "metadata": {},
   "outputs": [
    {
     "data": {
      "text/plain": [
       "str"
      ]
     },
     "execution_count": 39,
     "metadata": {},
     "output_type": "execute_result"
    }
   ],
   "source": [
    "st = 'n'\n",
    "type(st)"
   ]
  },
  {
   "cell_type": "code",
   "execution_count": null,
   "id": "5f61aaee-d8b8-48f7-b94b-c113093ca5b6",
   "metadata": {},
   "outputs": [],
   "source": []
  },
  {
   "cell_type": "markdown",
   "id": "6e18cc1c-4945-4593-94b0-3a4c2d993c16",
   "metadata": {},
   "source": [
    "# Range"
   ]
  },
  {
   "cell_type": "code",
   "execution_count": 40,
   "id": "47295a49-593d-497c-a431-8c68b146357a",
   "metadata": {},
   "outputs": [
    {
     "data": {
      "text/plain": [
       "range(0, 7)"
      ]
     },
     "execution_count": 40,
     "metadata": {},
     "output_type": "execute_result"
    }
   ],
   "source": [
    "r = range(0,7)\n",
    "r"
   ]
  },
  {
   "cell_type": "code",
   "execution_count": 41,
   "id": "e55a78cb-e71d-4403-a50a-924377741a26",
   "metadata": {},
   "outputs": [
    {
     "data": {
      "text/plain": [
       "range"
      ]
     },
     "execution_count": 41,
     "metadata": {},
     "output_type": "execute_result"
    }
   ],
   "source": [
    "type(r)"
   ]
  },
  {
   "cell_type": "code",
   "execution_count": 42,
   "id": "5817cce6-29ff-45b2-bda9-8cfc550c91df",
   "metadata": {},
   "outputs": [
    {
     "data": {
      "text/plain": [
       "[7, 8, 9, 10, 11, 12, 13, 14, 15, 16, 17, 18, 19, 20, 21]"
      ]
     },
     "execution_count": 42,
     "metadata": {},
     "output_type": "execute_result"
    }
   ],
   "source": [
    "# if you want to print the range \n",
    "list(range(7,22))"
   ]
  },
  {
   "cell_type": "code",
   "execution_count": 43,
   "id": "b79c805c-ff5b-489e-8aff-72f7487558e4",
   "metadata": {},
   "outputs": [
    {
     "data": {
      "text/plain": [
       "[0, 1, 2, 3, 4, 5, 6]"
      ]
     },
     "execution_count": 43,
     "metadata": {},
     "output_type": "execute_result"
    }
   ],
   "source": [
    "r1 = list(r)\n",
    "r1"
   ]
  },
  {
   "cell_type": "code",
   "execution_count": 44,
   "id": "df7841db-845d-457d-9710-fbd3e64d6f89",
   "metadata": {},
   "outputs": [
    {
     "data": {
      "text/plain": [
       "[2, 4, 6, 8]"
      ]
     },
     "execution_count": 44,
     "metadata": {},
     "output_type": "execute_result"
    }
   ],
   "source": [
    "#if you want to print even number\n",
    "even_number = list(range(2,10,2))\n",
    "even_number "
   ]
  },
  {
   "cell_type": "code",
   "execution_count": 45,
   "id": "880f1121-2437-4247-bac8-8904a204053c",
   "metadata": {},
   "outputs": [
    {
     "data": {
      "text/plain": [
       "{1: 'one', 2: 'two', 3: 'three'}"
      ]
     },
     "execution_count": 45,
     "metadata": {},
     "output_type": "execute_result"
    }
   ],
   "source": [
    "d= {1:'one', 2:'two', 3:'three'}\n",
    "d    "
   ]
  },
  {
   "cell_type": "code",
   "execution_count": 46,
   "id": "c16d6cb5-210a-4872-ac1f-79ae740a7785",
   "metadata": {},
   "outputs": [
    {
     "data": {
      "text/plain": [
       "dict"
      ]
     },
     "execution_count": 46,
     "metadata": {},
     "output_type": "execute_result"
    }
   ],
   "source": [
    "type(d)"
   ]
  },
  {
   "cell_type": "code",
   "execution_count": 47,
   "id": "b88db33c-8bd9-4588-9809-111f3170e9b7",
   "metadata": {},
   "outputs": [
    {
     "data": {
      "text/plain": [
       "dict_keys([1, 2, 3])"
      ]
     },
     "execution_count": 47,
     "metadata": {},
     "output_type": "execute_result"
    }
   ],
   "source": [
    "# print the keys \n",
    "d.keys()"
   ]
  },
  {
   "cell_type": "code",
   "execution_count": 48,
   "id": "1a82fef6-d793-430b-a2fb-cdb2fe7386c9",
   "metadata": {},
   "outputs": [
    {
     "data": {
      "text/plain": [
       "'two'"
      ]
     },
     "execution_count": 48,
     "metadata": {},
     "output_type": "execute_result"
    }
   ],
   "source": [
    "# how to get particular value \n",
    "d[2]"
   ]
  },
  {
   "cell_type": "code",
   "execution_count": 49,
   "id": "240be832-bfc4-464a-8b79-d00a5910e45a",
   "metadata": {},
   "outputs": [
    {
     "data": {
      "text/plain": [
       "'two'"
      ]
     },
     "execution_count": 49,
     "metadata": {},
     "output_type": "execute_result"
    }
   ],
   "source": [
    "# other way to get value as\n",
    "d.get(2)"
   ]
  },
  {
   "cell_type": "code",
   "execution_count": null,
   "id": "62c6729e-8c82-4d9f-a9e3-fd27a761f3eb",
   "metadata": {},
   "outputs": [],
   "source": []
  }
 ],
 "metadata": {
  "kernelspec": {
   "display_name": "Python [conda env:base] *",
   "language": "python",
   "name": "conda-base-py"
  },
  "language_info": {
   "codemirror_mode": {
    "name": "ipython",
    "version": 3
   },
   "file_extension": ".py",
   "mimetype": "text/x-python",
   "name": "python",
   "nbconvert_exporter": "python",
   "pygments_lexer": "ipython3",
   "version": "3.12.7"
  }
 },
 "nbformat": 4,
 "nbformat_minor": 5
}
