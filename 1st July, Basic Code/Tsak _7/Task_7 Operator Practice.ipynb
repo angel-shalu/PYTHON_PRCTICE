{
 "cells": [
  {
   "cell_type": "markdown",
   "id": "3b3433cd-2b03-4bbc-9816-8b667d576a82",
   "metadata": {},
   "source": [
    "# Operator\n",
    "1- ARITHMETIC OPERATOR ( + , -, *, /, %, %%, **, ^)\n",
    "\n",
    "2- ASSIGNMEN OPERATOR (+=, -=, *=, /=, //=)\n",
    "\n",
    "3- RELATIONAL OPERATOR (<=, >=, ==, !=, <, >)\n",
    "\n",
    "4- LOGICAL OPERATOR (AND, OR )\n",
    "\n",
    "5- UNARY OPERATOR (-)"
   ]
  },
  {
   "cell_type": "code",
   "execution_count": null,
   "id": "c6c65df9-2555-460d-bad4-ce72a9669563",
   "metadata": {},
   "outputs": [],
   "source": []
  },
  {
   "cell_type": "markdown",
   "id": "1d70a710-f1bf-4f2e-9ec2-d7ff54d956ab",
   "metadata": {},
   "source": [
    "# Arithmetic Operator"
   ]
  },
  {
   "cell_type": "code",
   "execution_count": 5,
   "id": "cf3ef4fe-24be-4c92-a69b-dee8fb601a8d",
   "metadata": {},
   "outputs": [],
   "source": [
    "x, y = 22, 7"
   ]
  },
  {
   "cell_type": "code",
   "execution_count": 6,
   "id": "51b30444-99ee-474d-85ba-c05159de39d2",
   "metadata": {},
   "outputs": [],
   "source": [
    "#x ^ y"
   ]
  },
  {
   "cell_type": "code",
   "execution_count": 7,
   "id": "55454be9-3926-40e5-af5a-1f866cd492b3",
   "metadata": {},
   "outputs": [
    {
     "data": {
      "text/plain": [
       "29"
      ]
     },
     "execution_count": 7,
     "metadata": {},
     "output_type": "execute_result"
    }
   ],
   "source": [
    "x + y"
   ]
  },
  {
   "cell_type": "code",
   "execution_count": 8,
   "id": "ccab9f57-4c91-46de-b9a6-8ac7d0363ec8",
   "metadata": {},
   "outputs": [
    {
     "data": {
      "text/plain": [
       "15"
      ]
     },
     "execution_count": 8,
     "metadata": {},
     "output_type": "execute_result"
    }
   ],
   "source": [
    "x - y"
   ]
  },
  {
   "cell_type": "code",
   "execution_count": 9,
   "id": "938b8c13-8d2d-4389-a668-90215e570e51",
   "metadata": {},
   "outputs": [
    {
     "data": {
      "text/plain": [
       "154"
      ]
     },
     "execution_count": 9,
     "metadata": {},
     "output_type": "execute_result"
    }
   ],
   "source": [
    "x * y "
   ]
  },
  {
   "cell_type": "code",
   "execution_count": 10,
   "id": "a2d72bf3-608f-49b2-b3d3-7f696bd13813",
   "metadata": {},
   "outputs": [
    {
     "data": {
      "text/plain": [
       "3.142857142857143"
      ]
     },
     "execution_count": 10,
     "metadata": {},
     "output_type": "execute_result"
    }
   ],
   "source": [
    "x / y"
   ]
  },
  {
   "cell_type": "code",
   "execution_count": 11,
   "id": "41b92f2f-7767-47d3-b4ac-412dd13bf1d5",
   "metadata": {},
   "outputs": [
    {
     "data": {
      "text/plain": [
       "3"
      ]
     },
     "execution_count": 11,
     "metadata": {},
     "output_type": "execute_result"
    }
   ],
   "source": [
    "x // y"
   ]
  },
  {
   "cell_type": "code",
   "execution_count": 12,
   "id": "7b27381a-ca35-4652-adc7-d920101aaddf",
   "metadata": {},
   "outputs": [
    {
     "data": {
      "text/plain": [
       "1"
      ]
     },
     "execution_count": 12,
     "metadata": {},
     "output_type": "execute_result"
    }
   ],
   "source": [
    "x % y "
   ]
  },
  {
   "cell_type": "code",
   "execution_count": 13,
   "id": "28529d5a-ffcb-46b0-8d46-ef5791a98430",
   "metadata": {},
   "outputs": [
    {
     "data": {
      "text/plain": [
       "2494357888"
      ]
     },
     "execution_count": 13,
     "metadata": {},
     "output_type": "execute_result"
    }
   ],
   "source": [
    "x ** y"
   ]
  },
  {
   "cell_type": "code",
   "execution_count": 14,
   "id": "752d13c1-80f1-487b-afb8-644271b6adf2",
   "metadata": {},
   "outputs": [
    {
     "data": {
      "text/plain": [
       "823543"
      ]
     },
     "execution_count": 14,
     "metadata": {},
     "output_type": "execute_result"
    }
   ],
   "source": [
    "x1 = 7\n",
    "y1 = 7\n",
    "x1 ** y1"
   ]
  },
  {
   "cell_type": "code",
   "execution_count": null,
   "id": "dac7fdfc-b403-4176-b0fc-a5774be1087b",
   "metadata": {},
   "outputs": [],
   "source": []
  },
  {
   "cell_type": "markdown",
   "id": "58b06ceb-8926-4754-bf7f-4bfc6f929352",
   "metadata": {},
   "source": [
    "# Assignment Operator"
   ]
  },
  {
   "cell_type": "code",
   "execution_count": 26,
   "id": "d9e6ccac-00f4-4b87-89d4-3eb12e4ccc65",
   "metadata": {},
   "outputs": [],
   "source": [
    "x = 7"
   ]
  },
  {
   "cell_type": "code",
   "execution_count": 27,
   "id": "09b5d9fd-966f-47fb-bb1f-a5e697708196",
   "metadata": {},
   "outputs": [
    {
     "data": {
      "text/plain": [
       "7"
      ]
     },
     "execution_count": 27,
     "metadata": {},
     "output_type": "execute_result"
    }
   ],
   "source": [
    "x"
   ]
  },
  {
   "cell_type": "code",
   "execution_count": 28,
   "id": "b83ba8f1-8624-4940-aa27-b8a15bbab527",
   "metadata": {},
   "outputs": [],
   "source": [
    "x = x + 7 # if you want to increment by 7 "
   ]
  },
  {
   "cell_type": "code",
   "execution_count": 29,
   "id": "5a4405c5-ba69-4279-bc74-2d0983295879",
   "metadata": {},
   "outputs": [
    {
     "data": {
      "text/plain": [
       "14"
      ]
     },
     "execution_count": 29,
     "metadata": {},
     "output_type": "execute_result"
    }
   ],
   "source": [
    "x"
   ]
  },
  {
   "cell_type": "code",
   "execution_count": 30,
   "id": "afc0d465-af4e-4fb9-b428-a00ac0aa06c2",
   "metadata": {},
   "outputs": [
    {
     "data": {
      "text/plain": [
       "21"
      ]
     },
     "execution_count": 30,
     "metadata": {},
     "output_type": "execute_result"
    }
   ],
   "source": [
    "x += 7\n",
    "x"
   ]
  },
  {
   "cell_type": "code",
   "execution_count": 31,
   "id": "350599c8-c11c-47b4-b74e-29f401c8adea",
   "metadata": {},
   "outputs": [
    {
     "data": {
      "text/plain": [
       "28"
      ]
     },
     "execution_count": 31,
     "metadata": {},
     "output_type": "execute_result"
    }
   ],
   "source": [
    "x += 7\n",
    "x"
   ]
  },
  {
   "cell_type": "code",
   "execution_count": 32,
   "id": "fd2fe3e9-e62c-43c7-9e1f-c2902b659b54",
   "metadata": {},
   "outputs": [],
   "source": [
    "x *= 2"
   ]
  },
  {
   "cell_type": "code",
   "execution_count": 33,
   "id": "a7fa2167-ee83-4ad4-acf5-2c444a8bbcc1",
   "metadata": {},
   "outputs": [
    {
     "data": {
      "text/plain": [
       "56"
      ]
     },
     "execution_count": 33,
     "metadata": {},
     "output_type": "execute_result"
    }
   ],
   "source": [
    "x"
   ]
  },
  {
   "cell_type": "code",
   "execution_count": 34,
   "id": "2ea54dc6-62a8-478d-9701-e28b5c61f613",
   "metadata": {},
   "outputs": [],
   "source": [
    "x -= 2"
   ]
  },
  {
   "cell_type": "code",
   "execution_count": 35,
   "id": "db0be731-8744-44a2-b1ce-4414f33ca25c",
   "metadata": {},
   "outputs": [
    {
     "data": {
      "text/plain": [
       "54"
      ]
     },
     "execution_count": 35,
     "metadata": {},
     "output_type": "execute_result"
    }
   ],
   "source": [
    "x"
   ]
  },
  {
   "cell_type": "code",
   "execution_count": 36,
   "id": "ade36837-cd2e-44e9-8d09-c1d4185905c0",
   "metadata": {},
   "outputs": [
    {
     "data": {
      "text/plain": [
       "27.0"
      ]
     },
     "execution_count": 36,
     "metadata": {},
     "output_type": "execute_result"
    }
   ],
   "source": [
    "x /= 2\n",
    "x"
   ]
  },
  {
   "cell_type": "code",
   "execution_count": 37,
   "id": "9251ad36-5fad-418b-b580-b98398d8d11c",
   "metadata": {},
   "outputs": [
    {
     "data": {
      "text/plain": [
       "13.0"
      ]
     },
     "execution_count": 37,
     "metadata": {},
     "output_type": "execute_result"
    }
   ],
   "source": [
    "x //= 2\n",
    "x"
   ]
  },
  {
   "cell_type": "code",
   "execution_count": 38,
   "id": "c9c18ad5-a4ed-4b71-a5dd-313e834493c6",
   "metadata": {},
   "outputs": [
    {
     "name": "stdout",
     "output_type": "stream",
     "text": [
      "7\n",
      "8\n"
     ]
    }
   ],
   "source": [
    "a, b = 7,8 # you can assigned variable in one line as well\n",
    "print(a)\n",
    "print(b)"
   ]
  },
  {
   "cell_type": "code",
   "execution_count": 39,
   "id": "0b933606-44be-47aa-b327-d06b574f3774",
   "metadata": {},
   "outputs": [
    {
     "name": "stdout",
     "output_type": "stream",
     "text": [
      "7\n",
      "8\n"
     ]
    }
   ],
   "source": [
    "a = 7 \n",
    "b = 8\n",
    "print(a)\n",
    "print(b)"
   ]
  },
  {
   "cell_type": "code",
   "execution_count": 40,
   "id": "2069a88c-16f3-4408-b231-6e12a5b59dbb",
   "metadata": {},
   "outputs": [
    {
     "data": {
      "text/plain": [
       "7"
      ]
     },
     "execution_count": 40,
     "metadata": {},
     "output_type": "execute_result"
    }
   ],
   "source": [
    "a"
   ]
  },
  {
   "cell_type": "code",
   "execution_count": 41,
   "id": "9557b94e-fdea-4fc9-b567-b07998c1adbd",
   "metadata": {},
   "outputs": [
    {
     "data": {
      "text/plain": [
       "8"
      ]
     },
     "execution_count": 41,
     "metadata": {},
     "output_type": "execute_result"
    }
   ],
   "source": [
    "b"
   ]
  },
  {
   "cell_type": "code",
   "execution_count": null,
   "id": "5f41e0f8-810e-49b5-a817-773a2fd4f925",
   "metadata": {},
   "outputs": [],
   "source": []
  },
  {
   "cell_type": "markdown",
   "id": "a24995ed-bb4e-4ac6-be91-30827c2d05a1",
   "metadata": {},
   "source": [
    "# Unary Operator\n",
    "- unary means 1 || binary means 2\n",
    "- Here we are applying unary minus operator(-) on the operand n; the value of m becomes -7, which indicates it as a negative value."
   ]
  },
  {
   "cell_type": "code",
   "execution_count": 42,
   "id": "cd2aeca5-85d7-48f3-9306-1d5861fce39e",
   "metadata": {},
   "outputs": [
    {
     "data": {
      "text/plain": [
       "7"
      ]
     },
     "execution_count": 42,
     "metadata": {},
     "output_type": "execute_result"
    }
   ],
   "source": [
    "n = 7 #negattion\n",
    "n"
   ]
  },
  {
   "cell_type": "code",
   "execution_count": 43,
   "id": "ffa1bbda-4a0d-42e4-a4bf-a5fb976db357",
   "metadata": {},
   "outputs": [
    {
     "data": {
      "text/plain": [
       "-7"
      ]
     },
     "execution_count": 43,
     "metadata": {},
     "output_type": "execute_result"
    }
   ],
   "source": [
    "m = -(n)\n",
    "m"
   ]
  },
  {
   "cell_type": "code",
   "execution_count": 44,
   "id": "92d140ee-597e-49ac-a302-989acc888e54",
   "metadata": {},
   "outputs": [
    {
     "data": {
      "text/plain": [
       "7"
      ]
     },
     "execution_count": 44,
     "metadata": {},
     "output_type": "execute_result"
    }
   ],
   "source": [
    "n"
   ]
  },
  {
   "cell_type": "code",
   "execution_count": 45,
   "id": "e8bed73b-c187-4a01-8b80-6b96a9c9d2b1",
   "metadata": {},
   "outputs": [
    {
     "data": {
      "text/plain": [
       "-7"
      ]
     },
     "execution_count": 45,
     "metadata": {},
     "output_type": "execute_result"
    }
   ],
   "source": [
    "-n"
   ]
  },
  {
   "cell_type": "code",
   "execution_count": null,
   "id": "e9628569-4f36-4487-9e44-e809be77765b",
   "metadata": {},
   "outputs": [],
   "source": []
  },
  {
   "cell_type": "markdown",
   "id": "4ac573f2-02aa-4cc9-b675-4e3b2270d7b5",
   "metadata": {},
   "source": [
    "# Relational Operator\n",
    "We are using this operator for comparing"
   ]
  },
  {
   "cell_type": "code",
   "execution_count": 46,
   "id": "0e03bce9-4d7f-471b-84e7-5335b0444133",
   "metadata": {},
   "outputs": [],
   "source": [
    "a = 6\n",
    "b = 7"
   ]
  },
  {
   "cell_type": "code",
   "execution_count": 47,
   "id": "604ca853-30a0-4564-b6c8-b82addbb2932",
   "metadata": {},
   "outputs": [
    {
     "data": {
      "text/plain": [
       "True"
      ]
     },
     "execution_count": 47,
     "metadata": {},
     "output_type": "execute_result"
    }
   ],
   "source": [
    "a<b"
   ]
  },
  {
   "cell_type": "code",
   "execution_count": 48,
   "id": "1bb384c9-3c12-45f3-b63f-2715a6e412da",
   "metadata": {},
   "outputs": [
    {
     "data": {
      "text/plain": [
       "False"
      ]
     },
     "execution_count": 48,
     "metadata": {},
     "output_type": "execute_result"
    }
   ],
   "source": [
    "a>b"
   ]
  },
  {
   "cell_type": "code",
   "execution_count": 49,
   "id": "b053f437-7695-4ad1-ad38-ca796da4c2dc",
   "metadata": {},
   "outputs": [
    {
     "data": {
      "text/plain": [
       "False"
      ]
     },
     "execution_count": 49,
     "metadata": {},
     "output_type": "execute_result"
    }
   ],
   "source": [
    "# a = b # we cannot use = operatro that means it is assigning \n",
    "a == b"
   ]
  },
  {
   "cell_type": "code",
   "execution_count": 50,
   "id": "3dc9d4f7-067c-46f6-8341-e14ce6dedd2c",
   "metadata": {},
   "outputs": [
    {
     "data": {
      "text/plain": [
       "True"
      ]
     },
     "execution_count": 50,
     "metadata": {},
     "output_type": "execute_result"
    }
   ],
   "source": [
    "a != b"
   ]
  },
  {
   "cell_type": "code",
   "execution_count": 51,
   "id": "60fdb2d9-35d6-4175-8485-c038961aa05c",
   "metadata": {},
   "outputs": [
    {
     "data": {
      "text/plain": [
       "7"
      ]
     },
     "execution_count": 51,
     "metadata": {},
     "output_type": "execute_result"
    }
   ],
   "source": [
    "a = 7\n",
    "a"
   ]
  },
  {
   "cell_type": "code",
   "execution_count": 52,
   "id": "b842237e-64e0-4f81-afd6-fdde767c9f18",
   "metadata": {},
   "outputs": [
    {
     "data": {
      "text/plain": [
       "7"
      ]
     },
     "execution_count": 52,
     "metadata": {},
     "output_type": "execute_result"
    }
   ],
   "source": [
    "b = 7\n",
    "b"
   ]
  },
  {
   "cell_type": "code",
   "execution_count": 53,
   "id": "fb4e56f6-8c80-49ee-a150-f20f448951ad",
   "metadata": {},
   "outputs": [
    {
     "data": {
      "text/plain": [
       "False"
      ]
     },
     "execution_count": 53,
     "metadata": {},
     "output_type": "execute_result"
    }
   ],
   "source": [
    "a>b"
   ]
  },
  {
   "cell_type": "code",
   "execution_count": 54,
   "id": "9afe767a-9cdb-404f-8be7-947f5a36d546",
   "metadata": {},
   "outputs": [
    {
     "data": {
      "text/plain": [
       "True"
      ]
     },
     "execution_count": 54,
     "metadata": {},
     "output_type": "execute_result"
    }
   ],
   "source": [
    "a>=b"
   ]
  },
  {
   "cell_type": "code",
   "execution_count": 55,
   "id": "3d32b69e-b50d-47bd-97e2-86f1a718bd85",
   "metadata": {},
   "outputs": [
    {
     "data": {
      "text/plain": [
       "True"
      ]
     },
     "execution_count": 55,
     "metadata": {},
     "output_type": "execute_result"
    }
   ],
   "source": [
    "a<=b"
   ]
  },
  {
   "cell_type": "code",
   "execution_count": 56,
   "id": "2e0c8f64-2b61-4697-80b5-a9ed5bccc711",
   "metadata": {},
   "outputs": [
    {
     "data": {
      "text/plain": [
       "True"
      ]
     },
     "execution_count": 56,
     "metadata": {},
     "output_type": "execute_result"
    }
   ],
   "source": [
    "a == b"
   ]
  },
  {
   "cell_type": "code",
   "execution_count": 57,
   "id": "636c0693-d11c-47da-8a2b-c283a8f0c2ff",
   "metadata": {},
   "outputs": [
    {
     "data": {
      "text/plain": [
       "False"
      ]
     },
     "execution_count": 57,
     "metadata": {},
     "output_type": "execute_result"
    }
   ],
   "source": [
    "a != b"
   ]
  },
  {
   "cell_type": "code",
   "execution_count": 58,
   "id": "58da540f-8684-47f3-aa3f-ce1e779e330b",
   "metadata": {},
   "outputs": [],
   "source": [
    "b = 9"
   ]
  },
  {
   "cell_type": "code",
   "execution_count": 59,
   "id": "b85fa981-4093-47a5-8fbb-d196e7f65d13",
   "metadata": {},
   "outputs": [
    {
     "data": {
      "text/plain": [
       "True"
      ]
     },
     "execution_count": 59,
     "metadata": {},
     "output_type": "execute_result"
    }
   ],
   "source": [
    "a != b"
   ]
  },
  {
   "cell_type": "code",
   "execution_count": null,
   "id": "ca40bd8f-67e2-4935-a8ed-5e2dc17cb7a3",
   "metadata": {},
   "outputs": [],
   "source": []
  },
  {
   "cell_type": "markdown",
   "id": "ea2d3a1d-9d8b-4a9f-999c-d21ab0ff8684",
   "metadata": {},
   "source": [
    "# Logical Operator\n",
    "## LOGICAL OPERATOR \n",
    "- logical operator you need to understand about true & false table \n",
    "- 3 importand part of logical operator is --> AND, OR, NOT\n",
    "- 1 AND 1 is 1  and rest of them are 0\n",
    "- 0 OR 0 is 0  and rest of them are 1\n"
   ]
  },
  {
   "cell_type": "code",
   "execution_count": 60,
   "id": "382d6c1a-2ab2-456b-9f4d-cf837a6d5c59",
   "metadata": {},
   "outputs": [],
   "source": [
    "a = 5\n",
    "b = 4"
   ]
  },
  {
   "cell_type": "code",
   "execution_count": 61,
   "id": "bfd273cb-5dff-4436-8f0e-968b4895ce66",
   "metadata": {},
   "outputs": [
    {
     "data": {
      "text/plain": [
       "True"
      ]
     },
     "execution_count": 61,
     "metadata": {},
     "output_type": "execute_result"
    }
   ],
   "source": [
    "a < 8 and b < 5 #refer to the truth table "
   ]
  },
  {
   "cell_type": "code",
   "execution_count": 62,
   "id": "2eb19718-3f2f-4119-bcda-3c5875118acf",
   "metadata": {},
   "outputs": [
    {
     "data": {
      "text/plain": [
       "False"
      ]
     },
     "execution_count": 62,
     "metadata": {},
     "output_type": "execute_result"
    }
   ],
   "source": [
    "a < 8 and b < 2"
   ]
  },
  {
   "cell_type": "code",
   "execution_count": 63,
   "id": "d6069d5b-a108-4e8c-ad7f-6a813685e1d8",
   "metadata": {},
   "outputs": [
    {
     "data": {
      "text/plain": [
       "True"
      ]
     },
     "execution_count": 63,
     "metadata": {},
     "output_type": "execute_result"
    }
   ],
   "source": [
    "a < 8 or b < 2"
   ]
  },
  {
   "cell_type": "code",
   "execution_count": 64,
   "id": "300997f4-6a64-4b16-a3c6-8acf00493d4e",
   "metadata": {},
   "outputs": [
    {
     "data": {
      "text/plain": [
       "False"
      ]
     },
     "execution_count": 64,
     "metadata": {},
     "output_type": "execute_result"
    }
   ],
   "source": [
    "a>8 or b<2"
   ]
  },
  {
   "cell_type": "code",
   "execution_count": 65,
   "id": "8a71c54f-d815-4638-9810-d765d81ee054",
   "metadata": {},
   "outputs": [
    {
     "data": {
      "text/plain": [
       "False"
      ]
     },
     "execution_count": 65,
     "metadata": {},
     "output_type": "execute_result"
    }
   ],
   "source": [
    "x = False\n",
    "x"
   ]
  },
  {
   "cell_type": "code",
   "execution_count": 66,
   "id": "3c59431f-4386-40cf-89aa-1cda52316662",
   "metadata": {},
   "outputs": [
    {
     "data": {
      "text/plain": [
       "True"
      ]
     },
     "execution_count": 66,
     "metadata": {},
     "output_type": "execute_result"
    }
   ],
   "source": [
    "not x  # you can reverse the operation"
   ]
  },
  {
   "cell_type": "code",
   "execution_count": 67,
   "id": "e6d35c80-9449-439d-805d-f2e1cbc80f7d",
   "metadata": {},
   "outputs": [
    {
     "data": {
      "text/plain": [
       "True"
      ]
     },
     "execution_count": 67,
     "metadata": {},
     "output_type": "execute_result"
    }
   ],
   "source": [
    "x = not x\n",
    "x"
   ]
  },
  {
   "cell_type": "code",
   "execution_count": 68,
   "id": "208a331e-5bed-4e45-8387-b6fd84dfe8a8",
   "metadata": {},
   "outputs": [
    {
     "data": {
      "text/plain": [
       "True"
      ]
     },
     "execution_count": 68,
     "metadata": {},
     "output_type": "execute_result"
    }
   ],
   "source": [
    "x"
   ]
  },
  {
   "cell_type": "code",
   "execution_count": 69,
   "id": "e14ae2c8-a83e-41cd-95d7-52890248ef5c",
   "metadata": {},
   "outputs": [
    {
     "data": {
      "text/plain": [
       "False"
      ]
     },
     "execution_count": 69,
     "metadata": {},
     "output_type": "execute_result"
    }
   ],
   "source": [
    "not x"
   ]
  },
  {
   "cell_type": "code",
   "execution_count": null,
   "id": "903f821f-b7be-4def-ba5b-b6833232e8b0",
   "metadata": {},
   "outputs": [],
   "source": []
  },
  {
   "cell_type": "markdown",
   "id": "f478d449-b8fa-4b4b-a0d6-b1e9ba0b22fb",
   "metadata": {},
   "source": [
    "# Number System Conversion (Bit - Binary digit)\n",
    "- In the programing we are using binary system, octal system, decimal system & hexadecimal system\n",
    "- but where do we use this in cmd - you can check your ip address & lets understand how to convert from one system to other system\n",
    "- when you check ipaddress you will these format --> cmd - ipconfig\n",
    "  \n",
    "binary : base(2) (0-1) --> please divide 15/2 & count in reverse order \n",
    "\n",
    "ocatl : base(8) (0-7)\n",
    "\n",
    "hexadecimal : base(16)(0-9 & then a-f) \n",
    "\n",
    "decimal : base(10)\n",
    "\n"
   ]
  },
  {
   "cell_type": "code",
   "execution_count": 70,
   "id": "02e17ac6-2576-48f1-85ad-b93841ce5548",
   "metadata": {},
   "outputs": [
    {
     "data": {
      "text/plain": [
       "25"
      ]
     },
     "execution_count": 70,
     "metadata": {},
     "output_type": "execute_result"
    }
   ],
   "source": [
    "25"
   ]
  },
  {
   "cell_type": "code",
   "execution_count": 71,
   "id": "fd2e836b-e91a-4781-90c4-4d1191655d2f",
   "metadata": {},
   "outputs": [
    {
     "data": {
      "text/plain": [
       "'0b11001'"
      ]
     },
     "execution_count": 71,
     "metadata": {},
     "output_type": "execute_result"
    }
   ],
   "source": [
    "bin(25)"
   ]
  },
  {
   "cell_type": "code",
   "execution_count": 72,
   "id": "9d53c2ab-106d-46ca-8a27-8fa1cf0112f7",
   "metadata": {},
   "outputs": [
    {
     "data": {
      "text/plain": [
       "25"
      ]
     },
     "execution_count": 72,
     "metadata": {},
     "output_type": "execute_result"
    }
   ],
   "source": [
    "int(0b11001)"
   ]
  },
  {
   "cell_type": "code",
   "execution_count": 73,
   "id": "ce627495-c29c-4480-8867-2e1730b5ae4d",
   "metadata": {},
   "outputs": [
    {
     "data": {
      "text/plain": [
       "'0b11110'"
      ]
     },
     "execution_count": 73,
     "metadata": {},
     "output_type": "execute_result"
    }
   ],
   "source": [
    "bin(30)"
   ]
  },
  {
   "cell_type": "code",
   "execution_count": 74,
   "id": "59b68e69-5014-4573-9e1c-484678ad369a",
   "metadata": {},
   "outputs": [
    {
     "data": {
      "text/plain": [
       "30"
      ]
     },
     "execution_count": 74,
     "metadata": {},
     "output_type": "execute_result"
    }
   ],
   "source": [
    "int(0b11110)"
   ]
  },
  {
   "cell_type": "code",
   "execution_count": 75,
   "id": "94a3384e-4b85-4fc1-9c6e-4dc75ec917a2",
   "metadata": {},
   "outputs": [
    {
     "data": {
      "text/plain": [
       "25"
      ]
     },
     "execution_count": 75,
     "metadata": {},
     "output_type": "execute_result"
    }
   ],
   "source": [
    "int(0b11001)"
   ]
  },
  {
   "cell_type": "code",
   "execution_count": 76,
   "id": "6bc2a625-17b2-415b-8870-ce072165fa82",
   "metadata": {},
   "outputs": [
    {
     "data": {
      "text/plain": [
       "'0o31'"
      ]
     },
     "execution_count": 76,
     "metadata": {},
     "output_type": "execute_result"
    }
   ],
   "source": [
    "oct(25)"
   ]
  },
  {
   "cell_type": "code",
   "execution_count": 77,
   "id": "39eb312c-8e4b-45ce-a766-87031a29166f",
   "metadata": {},
   "outputs": [
    {
     "data": {
      "text/plain": [
       "25"
      ]
     },
     "execution_count": 77,
     "metadata": {},
     "output_type": "execute_result"
    }
   ],
   "source": [
    "int(0o31)"
   ]
  },
  {
   "cell_type": "code",
   "execution_count": 78,
   "id": "8900063d-adda-48d6-bff6-35f09f925098",
   "metadata": {},
   "outputs": [
    {
     "data": {
      "text/plain": [
       "30"
      ]
     },
     "execution_count": 78,
     "metadata": {},
     "output_type": "execute_result"
    }
   ],
   "source": [
    "int(0b11110)"
   ]
  },
  {
   "cell_type": "code",
   "execution_count": 79,
   "id": "d7c6d357-0b17-473a-b43a-1cbd8ffbcc78",
   "metadata": {},
   "outputs": [
    {
     "data": {
      "text/plain": [
       "25"
      ]
     },
     "execution_count": 79,
     "metadata": {},
     "output_type": "execute_result"
    }
   ],
   "source": [
    "0o31"
   ]
  },
  {
   "cell_type": "code",
   "execution_count": 80,
   "id": "7a34d0af-7dd3-4cff-b8e0-301a463cc843",
   "metadata": {},
   "outputs": [
    {
     "data": {
      "text/plain": [
       "25"
      ]
     },
     "execution_count": 80,
     "metadata": {},
     "output_type": "execute_result"
    }
   ],
   "source": [
    "0b11001"
   ]
  },
  {
   "cell_type": "code",
   "execution_count": 81,
   "id": "e71ccb0c-e86f-4dd7-9289-e27c84072b83",
   "metadata": {},
   "outputs": [
    {
     "data": {
      "text/plain": [
       "25"
      ]
     },
     "execution_count": 81,
     "metadata": {},
     "output_type": "execute_result"
    }
   ],
   "source": [
    "int(0b11001)"
   ]
  },
  {
   "cell_type": "code",
   "execution_count": 82,
   "id": "038a81d3-8dba-472e-b966-21e58efc4d13",
   "metadata": {},
   "outputs": [
    {
     "data": {
      "text/plain": [
       "'0b111'"
      ]
     },
     "execution_count": 82,
     "metadata": {},
     "output_type": "execute_result"
    }
   ],
   "source": [
    "bin(7)"
   ]
  },
  {
   "cell_type": "code",
   "execution_count": 83,
   "id": "04aab9b6-b45c-4316-a1ac-6e984da2b4ae",
   "metadata": {},
   "outputs": [
    {
     "data": {
      "text/plain": [
       "'0o31'"
      ]
     },
     "execution_count": 83,
     "metadata": {},
     "output_type": "execute_result"
    }
   ],
   "source": [
    "oct(25)"
   ]
  },
  {
   "cell_type": "code",
   "execution_count": 84,
   "id": "8a4ebd5c-cb9f-4aff-9e59-e579c003109b",
   "metadata": {},
   "outputs": [
    {
     "data": {
      "text/plain": [
       "25"
      ]
     },
     "execution_count": 84,
     "metadata": {},
     "output_type": "execute_result"
    }
   ],
   "source": [
    "int(0o31)"
   ]
  },
  {
   "cell_type": "code",
   "execution_count": 85,
   "id": "2aca3807-c54e-419a-bd16-53ba3bafb003",
   "metadata": {},
   "outputs": [
    {
     "data": {
      "text/plain": [
       "'0x19'"
      ]
     },
     "execution_count": 85,
     "metadata": {},
     "output_type": "execute_result"
    }
   ],
   "source": [
    "hex(25)"
   ]
  },
  {
   "cell_type": "code",
   "execution_count": 86,
   "id": "8c2c5c5b-1177-4d7b-be22-fe656c151c05",
   "metadata": {},
   "outputs": [
    {
     "data": {
      "text/plain": [
       "25"
      ]
     },
     "execution_count": 86,
     "metadata": {},
     "output_type": "execute_result"
    }
   ],
   "source": [
    "0x19"
   ]
  },
  {
   "cell_type": "code",
   "execution_count": 87,
   "id": "ed937114-7ceb-4ed6-99e3-26a197772fa8",
   "metadata": {},
   "outputs": [
    {
     "data": {
      "text/plain": [
       "'0x10'"
      ]
     },
     "execution_count": 87,
     "metadata": {},
     "output_type": "execute_result"
    }
   ],
   "source": [
    "hex(16)"
   ]
  },
  {
   "cell_type": "code",
   "execution_count": 88,
   "id": "718edf7d-2703-4741-86a0-cd07db159fa1",
   "metadata": {},
   "outputs": [
    {
     "data": {
      "text/plain": [
       "10"
      ]
     },
     "execution_count": 88,
     "metadata": {},
     "output_type": "execute_result"
    }
   ],
   "source": [
    "0xa"
   ]
  },
  {
   "cell_type": "code",
   "execution_count": 89,
   "id": "ae10d529-97c3-40f9-a9dc-20a9936064ee",
   "metadata": {},
   "outputs": [
    {
     "data": {
      "text/plain": [
       "11"
      ]
     },
     "execution_count": 89,
     "metadata": {},
     "output_type": "execute_result"
    }
   ],
   "source": [
    "0xb"
   ]
  },
  {
   "cell_type": "code",
   "execution_count": 90,
   "id": "69e903c3-c250-49b6-b74b-b382567df6c2",
   "metadata": {},
   "outputs": [
    {
     "data": {
      "text/plain": [
       "'0x1'"
      ]
     },
     "execution_count": 90,
     "metadata": {},
     "output_type": "execute_result"
    }
   ],
   "source": [
    "hex(1)"
   ]
  },
  {
   "cell_type": "code",
   "execution_count": 91,
   "id": "e6b693e0-a8ef-4b97-abc5-d27467266b89",
   "metadata": {},
   "outputs": [
    {
     "data": {
      "text/plain": [
       "'0x19'"
      ]
     },
     "execution_count": 91,
     "metadata": {},
     "output_type": "execute_result"
    }
   ],
   "source": [
    "hex(25)"
   ]
  },
  {
   "cell_type": "code",
   "execution_count": 92,
   "id": "8822b961-b2a1-4a6d-9b05-8caade1ece6e",
   "metadata": {},
   "outputs": [
    {
     "data": {
      "text/plain": [
       "25"
      ]
     },
     "execution_count": 92,
     "metadata": {},
     "output_type": "execute_result"
    }
   ],
   "source": [
    "0x19"
   ]
  },
  {
   "cell_type": "code",
   "execution_count": 93,
   "id": "7d292a67-c079-4bff-b7b9-53cb077ca34e",
   "metadata": {},
   "outputs": [
    {
     "data": {
      "text/plain": [
       "21"
      ]
     },
     "execution_count": 93,
     "metadata": {},
     "output_type": "execute_result"
    }
   ],
   "source": [
    "0x15"
   ]
  },
  {
   "cell_type": "code",
   "execution_count": null,
   "id": "2abb58ba-12ff-417b-8430-70e8b9697375",
   "metadata": {},
   "outputs": [],
   "source": []
  },
  {
   "cell_type": "markdown",
   "id": "e74982c2-63ae-453c-9725-17446784f197",
   "metadata": {},
   "source": [
    "# Swap 2-variable in python \n",
    "\n",
    "(a,b = 5,6) After swap we should get  ==> (a, b = 6,5 )"
   ]
  },
  {
   "cell_type": "code",
   "execution_count": 94,
   "id": "81c273db-71ea-4510-943e-b2699b9d43e4",
   "metadata": {},
   "outputs": [],
   "source": [
    "a = 5\n",
    "b = 6"
   ]
  },
  {
   "cell_type": "code",
   "execution_count": 95,
   "id": "056fc438-0795-4f1a-a036-7d11668304e9",
   "metadata": {},
   "outputs": [],
   "source": [
    "a = b\n",
    "b = a"
   ]
  },
  {
   "cell_type": "code",
   "execution_count": 96,
   "id": "9983e48b-eedc-4168-8790-c821071a48f4",
   "metadata": {},
   "outputs": [
    {
     "name": "stdout",
     "output_type": "stream",
     "text": [
      "6\n",
      "6\n"
     ]
    }
   ],
   "source": [
    "print(a)\n",
    "print(b)"
   ]
  },
  {
   "cell_type": "code",
   "execution_count": 97,
   "id": "f8dff133-fb85-4123-9184-95bc537d87b5",
   "metadata": {},
   "outputs": [],
   "source": [
    "# in above scenario we lost the value 5 \n",
    "a1 = 7\n",
    "b1 = 8"
   ]
  },
  {
   "cell_type": "code",
   "execution_count": 98,
   "id": "82208f6d-ad4f-4ea2-9ef1-16dda3d8a469",
   "metadata": {},
   "outputs": [],
   "source": [
    "temp = a1 \n",
    "a1 = b1\n",
    "b1 = temp"
   ]
  },
  {
   "cell_type": "code",
   "execution_count": 99,
   "id": "8294c530-1ef6-4ae4-bfd3-94502f345378",
   "metadata": {},
   "outputs": [
    {
     "name": "stdout",
     "output_type": "stream",
     "text": [
      "8\n",
      "7\n"
     ]
    }
   ],
   "source": [
    "print(a1)\n",
    "print(b1)"
   ]
  },
  {
   "cell_type": "code",
   "execution_count": null,
   "id": "61519c06-ae53-4f85-affd-28c49e9cc130",
   "metadata": {},
   "outputs": [],
   "source": [
    "- in the above code we are using third variable \n",
    "- in interview they might ask can we swap better way without using 3rd variable"
   ]
  },
  {
   "cell_type": "code",
   "execution_count": 100,
   "id": "48b768a4-12d1-47b6-bcbd-6f014e35418f",
   "metadata": {},
   "outputs": [],
   "source": [
    "a2 = 5\n",
    "b2 = 6"
   ]
  },
  {
   "cell_type": "code",
   "execution_count": 101,
   "id": "12e85646-9fdf-4d03-b5fc-38ddf632a344",
   "metadata": {},
   "outputs": [],
   "source": [
    "#swap variable formulas without using 3rd formul\n",
    "a2 = a2 + b2 # 5+6 = 11\n",
    "b2 = a2 - b2 # 11-6 = 5\n",
    "a2 = a2 - b2 # 11-5 = 6 "
   ]
  },
  {
   "cell_type": "code",
   "execution_count": 102,
   "id": "38d1d239-5243-4831-a81d-87e12c005850",
   "metadata": {},
   "outputs": [
    {
     "name": "stdout",
     "output_type": "stream",
     "text": [
      "6\n",
      "5\n"
     ]
    }
   ],
   "source": [
    "print(a2)\n",
    "print(b2)"
   ]
  },
  {
   "cell_type": "code",
   "execution_count": 103,
   "id": "35f1b1a0-d5b5-49e9-b12d-247c715ccf74",
   "metadata": {},
   "outputs": [
    {
     "data": {
      "text/plain": [
       "6"
      ]
     },
     "execution_count": 103,
     "metadata": {},
     "output_type": "execute_result"
    }
   ],
   "source": [
    "0b110"
   ]
  },
  {
   "cell_type": "code",
   "execution_count": 104,
   "id": "04ef1fc9-9eeb-4841-bbd6-e1d33cfcac36",
   "metadata": {},
   "outputs": [
    {
     "data": {
      "text/plain": [
       "5"
      ]
     },
     "execution_count": 104,
     "metadata": {},
     "output_type": "execute_result"
    }
   ],
   "source": [
    "0b101"
   ]
  },
  {
   "cell_type": "code",
   "execution_count": 105,
   "id": "46e7819a-e5f1-4fd9-a4df-571d59cb5306",
   "metadata": {},
   "outputs": [
    {
     "name": "stdout",
     "output_type": "stream",
     "text": [
      "6\n",
      "5\n"
     ]
    }
   ],
   "source": [
    "print(0b110)\n",
    "print(0b101)"
   ]
  },
  {
   "cell_type": "code",
   "execution_count": 106,
   "id": "73122292-e061-4b9a-ac22-25d407c83719",
   "metadata": {},
   "outputs": [
    {
     "name": "stdout",
     "output_type": "stream",
     "text": [
      "5\n",
      "6\n"
     ]
    }
   ],
   "source": [
    "print(0b101)\n",
    "print(0b110)"
   ]
  },
  {
   "cell_type": "code",
   "execution_count": 107,
   "id": "11416187-cdf7-4b24-9897-3775aad9c0b8",
   "metadata": {},
   "outputs": [
    {
     "name": "stdout",
     "output_type": "stream",
     "text": [
      "0b1011\n",
      "11\n"
     ]
    }
   ],
   "source": [
    "#but when we use a2 + b2 then we get 11 that means we will get 4 bit which is 1 bit extra \n",
    "print(bin(11))\n",
    "print(0b1011)"
   ]
  },
  {
   "cell_type": "code",
   "execution_count": null,
   "id": "bed4451d-6820-488e-956a-14be9ebc24db",
   "metadata": {},
   "outputs": [],
   "source": []
  },
  {
   "cell_type": "markdown",
   "id": "bc148474-826d-40db-93a3-bc043667c880",
   "metadata": {},
   "source": [
    "# XOR \n",
    "-there is other way to work using swap variable also which is XOR because it will not waste extra bit "
   ]
  },
  {
   "cell_type": "code",
   "execution_count": 108,
   "id": "98ed066f-56a9-47d4-bac2-dbb67cfd2228",
   "metadata": {},
   "outputs": [
    {
     "name": "stdout",
     "output_type": "stream",
     "text": [
      "6\n",
      "5\n"
     ]
    }
   ],
   "source": [
    "print(a2)\n",
    "print(b2)"
   ]
  },
  {
   "cell_type": "code",
   "execution_count": 109,
   "id": "4cb6ad74-1ca3-4857-8235-b2990f0185a6",
   "metadata": {},
   "outputs": [],
   "source": [
    "#there is other way to work using swap variable also which is XOR because it will not waste extra bit \n",
    "a2 = a2 ^ b2\n",
    "b2 = a2 ^ b2\n",
    "a2 = a2 ^ b2"
   ]
  },
  {
   "cell_type": "code",
   "execution_count": 110,
   "id": "3a7516ee-a0f5-48e2-9189-a31641b3b563",
   "metadata": {},
   "outputs": [
    {
     "name": "stdout",
     "output_type": "stream",
     "text": [
      "5\n",
      "6\n"
     ]
    }
   ],
   "source": [
    "print(a2)\n",
    "print(b2)"
   ]
  },
  {
   "cell_type": "code",
   "execution_count": 111,
   "id": "61d773fe-8f7b-49ae-b31c-50e17a1db897",
   "metadata": {},
   "outputs": [
    {
     "data": {
      "text/plain": [
       "(5, 6)"
      ]
     },
     "execution_count": 111,
     "metadata": {},
     "output_type": "execute_result"
    }
   ],
   "source": [
    "a2, b2"
   ]
  },
  {
   "cell_type": "code",
   "execution_count": 112,
   "id": "bb6e6362-0a56-4646-b5d3-000f9af1b369",
   "metadata": {},
   "outputs": [],
   "source": [
    "a2 , b2 = b2, a2 # how it work is b2 6 a2 is 5 first it goes into stack & then it reverse the 2 vlaues"
   ]
  },
  {
   "cell_type": "code",
   "execution_count": 113,
   "id": "ba4e7a47-15ac-47ed-bb0f-ac55ff7b254a",
   "metadata": {},
   "outputs": [
    {
     "name": "stdout",
     "output_type": "stream",
     "text": [
      "6\n",
      "5\n"
     ]
    }
   ],
   "source": [
    "print(a2)\n",
    "print(b2)"
   ]
  },
  {
   "cell_type": "code",
   "execution_count": null,
   "id": "154d7216-1550-41e0-844e-8a629e43c646",
   "metadata": {},
   "outputs": [],
   "source": []
  },
  {
   "cell_type": "markdown",
   "id": "0f85e68f-6d3a-493e-b803-85e62a208b9a",
   "metadata": {},
   "source": [
    "# Bitwise Operator \n",
    "## BITWISE OPERATOR \n",
    "- WE HAVE 6 OPERATORS \n",
    "COMPLEMENT ( ~ ) || AND ( & )  || OR ( | ) || XOR ( ^ ) || LEFT SHIFT ( << ) || RIGHT SHIFT ( >> )"
   ]
  },
  {
   "cell_type": "code",
   "execution_count": 114,
   "id": "936ceed5-7302-45a3-9fd5-fadbc22d60e3",
   "metadata": {},
   "outputs": [
    {
     "name": "stdout",
     "output_type": "stream",
     "text": [
      "0b1100\n",
      "0b1101\n"
     ]
    }
   ],
   "source": [
    "print(bin(12))\n",
    "print(bin(13))"
   ]
  },
  {
   "cell_type": "code",
   "execution_count": 115,
   "id": "c2d38153-8a0d-4ea4-b080-c0b85d9c5032",
   "metadata": {},
   "outputs": [
    {
     "data": {
      "text/plain": [
       "13"
      ]
     },
     "execution_count": 115,
     "metadata": {},
     "output_type": "execute_result"
    }
   ],
   "source": [
    "0b1101"
   ]
  },
  {
   "cell_type": "code",
   "execution_count": 116,
   "id": "e9220900-b1e0-42bc-8791-e52faeb2ce28",
   "metadata": {},
   "outputs": [
    {
     "data": {
      "text/plain": [
       "12"
      ]
     },
     "execution_count": 116,
     "metadata": {},
     "output_type": "execute_result"
    }
   ],
   "source": [
    "0b1100"
   ]
  },
  {
   "cell_type": "code",
   "execution_count": null,
   "id": "e5e1e894-b45e-4cda-81d4-6b906b336322",
   "metadata": {},
   "outputs": [],
   "source": []
  },
  {
   "cell_type": "markdown",
   "id": "0edb0aab-175b-42d0-8a7c-158cbbfb4da5",
   "metadata": {},
   "source": [
    "# Complement --> you will get this key below esc character\n",
    "12 ==> 1100 || \n",
    "- first thing we need to understand what is mean by complement. \n",
    "- complement means it will do reverse of the binary format i.e. - ~0 it will give you 1 ~1 it will give 0\n",
    "- 12 binary format is 00001100 ( complement of ~00001100 reverse the number - 11110011 which is (-13)\n",
    "- in the virtual memory we cant store -ve number & the only way to store the -ve value by using complimentory\n",
    "- but the question is why we got -13 \n",
    "- to understand this concept ( we have concept of 2's complement\n",
    "- 2's complement mean (1's complement + 1)\n",
    "- in the system we can store +Ve number but how to store -ve number\n",
    " \n",
    "- lets understand binary form of 13 - 00001101 + "
   ]
  },
  {
   "cell_type": "code",
   "execution_count": 117,
   "id": "3a3a0054-e570-4da0-9163-8a01460114e1",
   "metadata": {},
   "outputs": [
    {
     "data": {
      "text/plain": [
       "-13"
      ]
     },
     "execution_count": 117,
     "metadata": {},
     "output_type": "execute_result"
    }
   ],
   "source": [
    "# COMPLEMENT (~) (TILDE  OR TILD)\n",
    "~12 # why we get -13 . first we understand what is complment means (reversr of binary format)"
   ]
  },
  {
   "cell_type": "code",
   "execution_count": 118,
   "id": "27e557f7-dc88-4633-9ee2-ee5aa03a0cb8",
   "metadata": {},
   "outputs": [
    {
     "data": {
      "text/plain": [
       "-47"
      ]
     },
     "execution_count": 118,
     "metadata": {},
     "output_type": "execute_result"
    }
   ],
   "source": [
    "~46"
   ]
  },
  {
   "cell_type": "code",
   "execution_count": 119,
   "id": "099331e9-243a-4c99-8d39-01336b182422",
   "metadata": {},
   "outputs": [
    {
     "data": {
      "text/plain": [
       "-55"
      ]
     },
     "execution_count": 119,
     "metadata": {},
     "output_type": "execute_result"
    }
   ],
   "source": [
    "~54"
   ]
  },
  {
   "cell_type": "code",
   "execution_count": 120,
   "id": "8940d9c9-f7c2-495d-a00a-7a03910bc7b3",
   "metadata": {},
   "outputs": [
    {
     "data": {
      "text/plain": [
       "-22"
      ]
     },
     "execution_count": 120,
     "metadata": {},
     "output_type": "execute_result"
    }
   ],
   "source": [
    "~ 21"
   ]
  },
  {
   "cell_type": "code",
   "execution_count": 121,
   "id": "fab5d079-b9df-4d88-af27-3e0cd73b8341",
   "metadata": {},
   "outputs": [
    {
     "data": {
      "text/plain": [
       "-7"
      ]
     },
     "execution_count": 121,
     "metadata": {},
     "output_type": "execute_result"
    }
   ],
   "source": [
    " ~ 6"
   ]
  },
  {
   "cell_type": "code",
   "execution_count": null,
   "id": "5e249b72-0e43-41e6-9a60-6df3180ba48c",
   "metadata": {},
   "outputs": [],
   "source": []
  },
  {
   "cell_type": "markdown",
   "id": "fdf7ad77-da1a-4f66-8d19-9f3a0a977d5f",
   "metadata": {},
   "source": [
    "# Bit wise and operator \n",
    "\n",
    "AND - LOGICAL OPERATOR ||| & - BITWISE AND OPERATOR  \n",
    "(we know that 1 & 1 is 1)\n",
    "12 - 00001100 \n",
    "13 - 00001101\n",
    "when we are add both then then outut we will get as 12 "
   ]
  },
  {
   "cell_type": "code",
   "execution_count": 123,
   "id": "6418e5fe-a00e-443f-80cb-ac75c964399f",
   "metadata": {},
   "outputs": [
    {
     "data": {
      "text/plain": [
       "12"
      ]
     },
     "execution_count": 123,
     "metadata": {},
     "output_type": "execute_result"
    }
   ],
   "source": [
    "12 & 13"
   ]
  },
  {
   "cell_type": "code",
   "execution_count": 124,
   "id": "3136e320-5891-49f6-83ea-c8bd4e7e1bf3",
   "metadata": {},
   "outputs": [
    {
     "data": {
      "text/plain": [
       "13"
      ]
     },
     "execution_count": 124,
     "metadata": {},
     "output_type": "execute_result"
    }
   ],
   "source": [
    "12 | 13"
   ]
  },
  {
   "cell_type": "code",
   "execution_count": 125,
   "id": "35c1009d-3efa-405c-a574-268e6329ce0c",
   "metadata": {},
   "outputs": [
    {
     "data": {
      "text/plain": [
       "0"
      ]
     },
     "execution_count": 125,
     "metadata": {},
     "output_type": "execute_result"
    }
   ],
   "source": [
    "1 & 0"
   ]
  },
  {
   "cell_type": "code",
   "execution_count": 126,
   "id": "d00ceb43-e4c9-4ee3-8fbb-f887dce21515",
   "metadata": {},
   "outputs": [
    {
     "data": {
      "text/plain": [
       "1"
      ]
     },
     "execution_count": 126,
     "metadata": {},
     "output_type": "execute_result"
    }
   ],
   "source": [
    "1 | 0"
   ]
  },
  {
   "cell_type": "code",
   "execution_count": 127,
   "id": "e8b10636-0337-49ab-a0ad-8f6d46cab249",
   "metadata": {},
   "outputs": [
    {
     "data": {
      "text/plain": [
       "'0b1101'"
      ]
     },
     "execution_count": 127,
     "metadata": {},
     "output_type": "execute_result"
    }
   ],
   "source": [
    "bin(13)"
   ]
  },
  {
   "cell_type": "code",
   "execution_count": 128,
   "id": "1c052ecd-c2d6-42d7-8c6a-4846711c7990",
   "metadata": {},
   "outputs": [
    {
     "name": "stdout",
     "output_type": "stream",
     "text": [
      "0b100011\n",
      "0b101000\n"
     ]
    }
   ],
   "source": [
    "print(bin(35))\n",
    "print(bin(40))"
   ]
  },
  {
   "cell_type": "code",
   "execution_count": 129,
   "id": "902a36bc-cb67-4201-8213-b8058ef2f2e7",
   "metadata": {},
   "outputs": [
    {
     "data": {
      "text/plain": [
       "0"
      ]
     },
     "execution_count": 129,
     "metadata": {},
     "output_type": "execute_result"
    }
   ],
   "source": [
    "5 & 40 #please do the homework conververt 35,40 to binary format "
   ]
  },
  {
   "cell_type": "code",
   "execution_count": 130,
   "id": "01e816ca-d574-4894-a34c-456ce9d960b7",
   "metadata": {},
   "outputs": [
    {
     "data": {
      "text/plain": [
       "43"
      ]
     },
     "execution_count": 130,
     "metadata": {},
     "output_type": "execute_result"
    }
   ],
   "source": [
    "35 | 40"
   ]
  },
  {
   "cell_type": "code",
   "execution_count": 131,
   "id": "172302df-4191-42c5-8bdd-253c295eee3d",
   "metadata": {},
   "outputs": [
    {
     "data": {
      "text/plain": [
       "1"
      ]
     },
     "execution_count": 131,
     "metadata": {},
     "output_type": "execute_result"
    }
   ],
   "source": [
    "# in XOR if the both number are different then we will get 1 or else we will get 0\n",
    "12 ^ 13"
   ]
  },
  {
   "cell_type": "code",
   "execution_count": 132,
   "id": "f5451630-ae36-49a4-afb4-844ff9abfc93",
   "metadata": {},
   "outputs": [
    {
     "name": "stdout",
     "output_type": "stream",
     "text": [
      "0b11001\n",
      "0b11110\n"
     ]
    }
   ],
   "source": [
    "print(bin(25))\n",
    "print(bin(30))"
   ]
  },
  {
   "cell_type": "code",
   "execution_count": 133,
   "id": "e3f756b7-151f-4bd5-a73f-866c5c3bdec4",
   "metadata": {},
   "outputs": [
    {
     "data": {
      "text/plain": [
       "7"
      ]
     },
     "execution_count": 133,
     "metadata": {},
     "output_type": "execute_result"
    }
   ],
   "source": [
    "25^30"
   ]
  },
  {
   "cell_type": "code",
   "execution_count": 134,
   "id": "39bef2e9-cea7-4f0c-a08f-af0c9d4f38ae",
   "metadata": {},
   "outputs": [
    {
     "data": {
      "text/plain": [
       "'0b111'"
      ]
     },
     "execution_count": 134,
     "metadata": {},
     "output_type": "execute_result"
    }
   ],
   "source": [
    "bin(7)"
   ]
  },
  {
   "cell_type": "code",
   "execution_count": 135,
   "id": "1d6f28ec-2fbc-42e7-8b5c-41e0418398ab",
   "metadata": {},
   "outputs": [
    {
     "data": {
      "text/plain": [
       "'0b11001'"
      ]
     },
     "execution_count": 135,
     "metadata": {},
     "output_type": "execute_result"
    }
   ],
   "source": [
    "bin(25)"
   ]
  },
  {
   "cell_type": "code",
   "execution_count": 136,
   "id": "e0515c2a-6aab-4465-ad40-fa69e958324a",
   "metadata": {},
   "outputs": [
    {
     "data": {
      "text/plain": [
       "'0b11110'"
      ]
     },
     "execution_count": 136,
     "metadata": {},
     "output_type": "execute_result"
    }
   ],
   "source": [
    "bin(30)"
   ]
  },
  {
   "cell_type": "code",
   "execution_count": 137,
   "id": "ae0c8503-ec1b-4175-b299-f7fe97c43b5c",
   "metadata": {},
   "outputs": [
    {
     "data": {
      "text/plain": [
       "7"
      ]
     },
     "execution_count": 137,
     "metadata": {},
     "output_type": "execute_result"
    }
   ],
   "source": [
    "0b00111"
   ]
  },
  {
   "cell_type": "code",
   "execution_count": 138,
   "id": "f4995b71-ccbd-4fc5-b205-f63cf20857b2",
   "metadata": {},
   "outputs": [
    {
     "data": {
      "text/plain": [
       "'0b1010'"
      ]
     },
     "execution_count": 138,
     "metadata": {},
     "output_type": "execute_result"
    }
   ],
   "source": [
    "bin(10)"
   ]
  },
  {
   "cell_type": "code",
   "execution_count": 139,
   "id": "bd979319-df73-496a-bd7a-43f1677d1b2a",
   "metadata": {},
   "outputs": [
    {
     "data": {
      "text/plain": [
       "20"
      ]
     },
     "execution_count": 139,
     "metadata": {},
     "output_type": "execute_result"
    }
   ],
   "source": [
    "10<<1"
   ]
  },
  {
   "cell_type": "code",
   "execution_count": 140,
   "id": "649dfdcc-1ea9-4b23-a00d-67959ce411e2",
   "metadata": {},
   "outputs": [
    {
     "data": {
      "text/plain": [
       "40"
      ]
     },
     "execution_count": 140,
     "metadata": {},
     "output_type": "execute_result"
    }
   ],
   "source": [
    "10<<2"
   ]
  },
  {
   "cell_type": "code",
   "execution_count": 141,
   "id": "c27f3047-5750-4a06-b59d-e650c9780d7a",
   "metadata": {},
   "outputs": [
    {
     "data": {
      "text/plain": [
       "'0b1010'"
      ]
     },
     "execution_count": 141,
     "metadata": {},
     "output_type": "execute_result"
    }
   ],
   "source": [
    "bin(10)"
   ]
  },
  {
   "cell_type": "code",
   "execution_count": 142,
   "id": "6ab7d062-db65-4d61-adc1-e7cd8a4b2cf5",
   "metadata": {},
   "outputs": [
    {
     "data": {
      "text/plain": [
       "20"
      ]
     },
     "execution_count": 142,
     "metadata": {},
     "output_type": "execute_result"
    }
   ],
   "source": [
    "10<<1"
   ]
  },
  {
   "cell_type": "code",
   "execution_count": 143,
   "id": "56906357-83e7-4a50-aa61-6e199e185a9e",
   "metadata": {},
   "outputs": [
    {
     "data": {
      "text/plain": [
       "40"
      ]
     },
     "execution_count": 143,
     "metadata": {},
     "output_type": "execute_result"
    }
   ],
   "source": [
    "10<<2 "
   ]
  },
  {
   "cell_type": "code",
   "execution_count": 144,
   "id": "bddd6b10-2833-473b-ae59-ccfeb144e579",
   "metadata": {},
   "outputs": [
    {
     "data": {
      "text/plain": [
       "40"
      ]
     },
     "execution_count": 144,
     "metadata": {},
     "output_type": "execute_result"
    }
   ],
   "source": [
    "# BIT WISE LEFT SHIFT OPERATOR \n",
    "# in left shift what we need to to we need shift in left hand side & need to shift 2 bits\n",
    "#bit wise left operator bydefault you will take 2 zeros ( )\n",
    "#10 binary operator is 1010 | also i can say 1010\n",
    "\n",
    "10<<2"
   ]
  },
  {
   "cell_type": "code",
   "execution_count": 145,
   "id": "2b206353-4989-4988-9bbf-70ee471fe5b3",
   "metadata": {},
   "outputs": [
    {
     "data": {
      "text/plain": [
       "80"
      ]
     },
     "execution_count": 145,
     "metadata": {},
     "output_type": "execute_result"
    }
   ],
   "source": [
    "10<<3"
   ]
  },
  {
   "cell_type": "code",
   "execution_count": 146,
   "id": "d6e6d4d9-d3cc-41f8-8fb0-dd4c54bdc6ae",
   "metadata": {},
   "outputs": [
    {
     "data": {
      "text/plain": [
       "'0b10100'"
      ]
     },
     "execution_count": 146,
     "metadata": {},
     "output_type": "execute_result"
    }
   ],
   "source": [
    "bin(20)"
   ]
  },
  {
   "cell_type": "code",
   "execution_count": 147,
   "id": "76096600-c5cb-45bf-a22e-c41d13039548",
   "metadata": {},
   "outputs": [
    {
     "data": {
      "text/plain": [
       "320"
      ]
     },
     "execution_count": 147,
     "metadata": {},
     "output_type": "execute_result"
    }
   ],
   "source": [
    "20<<4 #can we do this"
   ]
  },
  {
   "cell_type": "code",
   "execution_count": null,
   "id": "15f90671-8762-4211-bbdf-4db673d386be",
   "metadata": {},
   "outputs": [],
   "source": []
  },
  {
   "cell_type": "markdown",
   "id": "3d1ef62e-8455-4ddf-84c9-5c965dc78d58",
   "metadata": {},
   "source": [
    "# # BITWISE RIGHTSHIFT OPERATOR\n",
    "- left side we are gaining the bits\n",
    "- right side we are lossing bits"
   ]
  },
  {
   "cell_type": "code",
   "execution_count": 148,
   "id": "0ea304a3-47f9-4700-ba1b-5230dc819d4f",
   "metadata": {},
   "outputs": [
    {
     "data": {
      "text/plain": [
       "'0b1010'"
      ]
     },
     "execution_count": 148,
     "metadata": {},
     "output_type": "execute_result"
    }
   ],
   "source": [
    "bin(10)"
   ]
  },
  {
   "cell_type": "code",
   "execution_count": 149,
   "id": "a4f16e30-abb2-4724-b95d-695852802e7f",
   "metadata": {},
   "outputs": [
    {
     "data": {
      "text/plain": [
       "5"
      ]
     },
     "execution_count": 149,
     "metadata": {},
     "output_type": "execute_result"
    }
   ],
   "source": [
    "10 >> 1"
   ]
  },
  {
   "cell_type": "code",
   "execution_count": 150,
   "id": "e90fdc7d-3494-490f-bfef-f50d63e2dfae",
   "metadata": {},
   "outputs": [
    {
     "data": {
      "text/plain": [
       "2"
      ]
     },
     "execution_count": 150,
     "metadata": {},
     "output_type": "execute_result"
    }
   ],
   "source": [
    "10>>2"
   ]
  },
  {
   "cell_type": "code",
   "execution_count": 151,
   "id": "801025c5-5947-48f1-969d-b2ec9259d427",
   "metadata": {},
   "outputs": [
    {
     "data": {
      "text/plain": [
       "1"
      ]
     },
     "execution_count": 151,
     "metadata": {},
     "output_type": "execute_result"
    }
   ],
   "source": [
    "10>>3"
   ]
  },
  {
   "cell_type": "code",
   "execution_count": 152,
   "id": "c7e39da8-817e-42e2-91fe-3f46de1d3000",
   "metadata": {},
   "outputs": [
    {
     "data": {
      "text/plain": [
       "'0b10100'"
      ]
     },
     "execution_count": 152,
     "metadata": {},
     "output_type": "execute_result"
    }
   ],
   "source": [
    "bin(20)"
   ]
  },
  {
   "cell_type": "code",
   "execution_count": null,
   "id": "c394ad37-7176-4a03-8836-e0c3fdae9c72",
   "metadata": {},
   "outputs": [],
   "source": []
  },
  {
   "cell_type": "code",
   "execution_count": null,
   "id": "a9370916-9d08-44a1-ac03-af37fbce6df6",
   "metadata": {},
   "outputs": [],
   "source": []
  }
 ],
 "metadata": {
  "kernelspec": {
   "display_name": "Python [conda env:base] *",
   "language": "python",
   "name": "conda-base-py"
  },
  "language_info": {
   "codemirror_mode": {
    "name": "ipython",
    "version": 3
   },
   "file_extension": ".py",
   "mimetype": "text/x-python",
   "name": "python",
   "nbconvert_exporter": "python",
   "pygments_lexer": "ipython3",
   "version": "3.12.7"
  }
 },
 "nbformat": 4,
 "nbformat_minor": 5
}
