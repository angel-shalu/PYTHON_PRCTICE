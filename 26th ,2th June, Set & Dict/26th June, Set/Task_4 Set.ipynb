{
 "cells": [
  {
   "cell_type": "markdown",
   "id": "c9f578b0-4f5f-4050-abf1-cbf117501c23",
   "metadata": {},
   "source": [
    "## Sets \n",
    "1) Unordered & Unindexed collection of items. \n",
    "2) Set elements are unique. Duplicate elements are not allowed. \n",
    "3) Set elements are immutable (cannot be changed). \n",
    "4) Set itself is mutable. We can add or remove items from it. "
   ]
  },
  {
   "cell_type": "markdown",
   "id": "9a43c829-69fc-478e-bbcb-73f91d4e5e10",
   "metadata": {},
   "source": [
    "## Set Creation"
   ]
  },
  {
   "cell_type": "code",
   "execution_count": 1,
   "id": "94700525-0539-4dd5-af75-36b3df7d5b6e",
   "metadata": {},
   "outputs": [
    {
     "data": {
      "text/plain": [
       "{1, 2, 3, 4, 5, 6, 7}"
      ]
     },
     "execution_count": 1,
     "metadata": {},
     "output_type": "execute_result"
    }
   ],
   "source": [
    "set = {1,2,3,4,5,6,7}   # Set of numbers\n",
    "set"
   ]
  },
  {
   "cell_type": "code",
   "execution_count": 2,
   "id": "1b9e5cd8-fca2-4f4e-9571-06ac91a47df8",
   "metadata": {},
   "outputs": [
    {
     "data": {
      "text/plain": [
       "7"
      ]
     },
     "execution_count": 2,
     "metadata": {},
     "output_type": "execute_result"
    }
   ],
   "source": [
    "len(set)    # Lenghth of the set"
   ]
  },
  {
   "cell_type": "code",
   "execution_count": 3,
   "id": "fab66130-c131-4dd1-8d16-e7ded7422908",
   "metadata": {},
   "outputs": [
    {
     "data": {
      "text/plain": [
       "{1, 2, 4, 5, 7, 8, 9}"
      ]
     },
     "execution_count": 3,
     "metadata": {},
     "output_type": "execute_result"
    }
   ],
   "source": [
    "myset = {1,2,5,7,2,2,7,7,4,8,9}   # Dublicates elements are not allowed in the set \n",
    "myset"
   ]
  },
  {
   "cell_type": "code",
   "execution_count": 4,
   "id": "59dbde16-12f5-44eb-af53-7f7c9ea01123",
   "metadata": {},
   "outputs": [
    {
     "data": {
      "text/plain": [
       "{2.2, 7.22, 7.7, 22.7, 72.2, 88.9}"
      ]
     },
     "execution_count": 4,
     "metadata": {},
     "output_type": "execute_result"
    }
   ],
   "source": [
    "myset1 = {7.7,2.2,22.7,7.22,72.2,88.9}   #Set of float numbers \n",
    "myset1"
   ]
  },
  {
   "cell_type": "code",
   "execution_count": 5,
   "id": "67359500-b7c6-40f0-a0d4-8b84d2789aa9",
   "metadata": {},
   "outputs": [
    {
     "data": {
      "text/plain": [
       "{'Angel', 'Book', 'Notebook', 'Pen', 'Pencil'}"
      ]
     },
     "execution_count": 5,
     "metadata": {},
     "output_type": "execute_result"
    }
   ],
   "source": [
    "myset2 = {\"Angel\",\"Book\",\"Notebook\",\"Pencil\",\"Pen\"}   # Set of the Strings\n",
    "myset2"
   ]
  },
  {
   "cell_type": "code",
   "execution_count": 6,
   "id": "0164ef7a-9292-4035-aa59-44e14078e640",
   "metadata": {},
   "outputs": [
    {
     "ename": "TypeError",
     "evalue": "unhashable type: 'list'",
     "output_type": "error",
     "traceback": [
      "\u001b[1;31m---------------------------------------------------------------------------\u001b[0m",
      "\u001b[1;31mTypeError\u001b[0m                                 Traceback (most recent call last)",
      "Cell \u001b[1;32mIn[6], line 1\u001b[0m\n\u001b[1;32m----> 1\u001b[0m myset3 \u001b[38;5;241m=\u001b[39m {\u001b[38;5;241m22\u001b[39m,\u001b[38;5;241m7\u001b[39m,\u001b[38;5;241m27\u001b[39m,\u001b[38;5;124m\"\u001b[39m\u001b[38;5;124mBook\u001b[39m\u001b[38;5;124m\"\u001b[39m,\u001b[38;5;124m\"\u001b[39m\u001b[38;5;124mPen\u001b[39m\u001b[38;5;124m\"\u001b[39m,\u001b[38;5;241m77.7\u001b[39m, \u001b[38;5;241m22.7\u001b[39m,[\u001b[38;5;241m22\u001b[39m,\u001b[38;5;241m7\u001b[39m,\u001b[38;5;241m27\u001b[39m]}  \u001b[38;5;66;03m#Set dosen,t allow mutable items like list\u001b[39;00m\n\u001b[0;32m      2\u001b[0m myset3\n",
      "\u001b[1;31mTypeError\u001b[0m: unhashable type: 'list'"
     ]
    }
   ],
   "source": [
    "myset3 = {22,7,27,\"Book\",\"Pen\",77.7, 22.7,[22,7,27]}  #Set dosen,t allow mutable items like list\n",
    "myset3"
   ]
  },
  {
   "cell_type": "code",
   "execution_count": 1,
   "id": "ea9cd173-2a9c-49b1-a21a-46785955bac2",
   "metadata": {},
   "outputs": [
    {
     "data": {
      "text/plain": [
       "{(22, 7, 27), 22, 22.7, 27, 7, 77.7, 'Book', 'Pen'}"
      ]
     },
     "execution_count": 1,
     "metadata": {},
     "output_type": "execute_result"
    }
   ],
   "source": [
    "myset4 = {22,7,27,\"Book\",\"Pen\",77.7, 22.7,(22,7,27)}  # Mixed Dataype \n",
    "myset4"
   ]
  },
  {
   "cell_type": "code",
   "execution_count": 2,
   "id": "58967927-921b-4552-afb6-2b2c3fee7363",
   "metadata": {},
   "outputs": [
    {
     "name": "stdout",
     "output_type": "stream",
     "text": [
      "<class 'set'>\n"
     ]
    }
   ],
   "source": [
    "myset5 = set()   # Create an empty set\n",
    "print(type(myset5))"
   ]
  },
  {
   "cell_type": "code",
   "execution_count": 3,
   "id": "547cea67-19c2-482f-be06-35f20cdc8d0d",
   "metadata": {},
   "outputs": [
    {
     "data": {
      "text/plain": [
       "{'four', 'one', 'three', 'two'}"
      ]
     },
     "execution_count": 3,
     "metadata": {},
     "output_type": "execute_result"
    }
   ],
   "source": [
    "my_set = set(('one' , 'two' , 'three' , 'four')) \n",
    "my_set"
   ]
  },
  {
   "cell_type": "code",
   "execution_count": null,
   "id": "a914b4ce-9a57-4b15-bed0-850f9daa9d31",
   "metadata": {},
   "outputs": [],
   "source": []
  },
  {
   "cell_type": "markdown",
   "id": "180b0b98-b0a2-4957-84d7-becbadb19a23",
   "metadata": {},
   "source": [
    "# Loop through a set "
   ]
  },
  {
   "cell_type": "code",
   "execution_count": 4,
   "id": "d05ecaa6-9b39-498c-b4a9-51ac7331eb71",
   "metadata": {},
   "outputs": [
    {
     "name": "stdout",
     "output_type": "stream",
     "text": [
      "Pencil\n",
      "Notebook\n",
      "Book\n",
      "Eraser\n",
      "Pen\n"
     ]
    }
   ],
   "source": [
    "myset = {\"Eraser\",\"Book\",\"Notebook\",\"Pencil\",\"Pen\"} \n",
    "for i in myset:\n",
    "    print(i)"
   ]
  },
  {
   "cell_type": "code",
   "execution_count": 5,
   "id": "43009302-ed0a-445d-bf14-4b91773c2f4f",
   "metadata": {},
   "outputs": [
    {
     "name": "stdout",
     "output_type": "stream",
     "text": [
      "(0, 'Pencil')\n",
      "(1, 'Notebook')\n",
      "(2, 'Book')\n",
      "(3, 'Eraser')\n",
      "(4, 'Pen')\n"
     ]
    }
   ],
   "source": [
    "for i in enumerate(myset):\n",
    "    print(i)"
   ]
  },
  {
   "cell_type": "code",
   "execution_count": null,
   "id": "729fe9b6-9c84-483e-a7d3-537e35bbcb9c",
   "metadata": {},
   "outputs": [],
   "source": []
  },
  {
   "cell_type": "markdown",
   "id": "2a31645a-aa4d-4ce9-a5f5-762461986383",
   "metadata": {},
   "source": [
    "# Set Membership"
   ]
  },
  {
   "cell_type": "code",
   "execution_count": 6,
   "id": "54b008ff-a680-449a-865b-a4942c3359b8",
   "metadata": {},
   "outputs": [
    {
     "data": {
      "text/plain": [
       "{'Book', 'Eraser', 'Notebook', 'Pen', 'Pencil'}"
      ]
     },
     "execution_count": 6,
     "metadata": {},
     "output_type": "execute_result"
    }
   ],
   "source": [
    "myset"
   ]
  },
  {
   "cell_type": "code",
   "execution_count": 7,
   "id": "417ffd5c-9bf0-41ac-900c-58dd7e044c3c",
   "metadata": {},
   "outputs": [
    {
     "data": {
      "text/plain": [
       "True"
      ]
     },
     "execution_count": 7,
     "metadata": {},
     "output_type": "execute_result"
    }
   ],
   "source": [
    "\"Book\" in myset    # Check if \"Book\" exist in the set"
   ]
  },
  {
   "cell_type": "code",
   "execution_count": 8,
   "id": "c5a88672-2657-4ace-9a9a-6bcce698de9d",
   "metadata": {},
   "outputs": [
    {
     "data": {
      "text/plain": [
       "False"
      ]
     },
     "execution_count": 8,
     "metadata": {},
     "output_type": "execute_result"
    }
   ],
   "source": [
    "\"Apple\" in myset    # Check if \"Apple\" exist in the set"
   ]
  },
  {
   "cell_type": "code",
   "execution_count": 9,
   "id": "9536c95d-16c6-4342-bf46-65686f4e8458",
   "metadata": {},
   "outputs": [
    {
     "name": "stdout",
     "output_type": "stream",
     "text": [
      "Book is present in the set\n"
     ]
    }
   ],
   "source": [
    "if \"Book\" in myset:      # Check if \"Book\" exist in the set\n",
    "    print(\"Book is present in the set\")\n",
    "else:\n",
    "    print(\"Book is not present in the set\")"
   ]
  },
  {
   "cell_type": "code",
   "execution_count": 10,
   "id": "806f3b2b-0f7e-42f6-a58d-5db940e82a5a",
   "metadata": {},
   "outputs": [
    {
     "name": "stdout",
     "output_type": "stream",
     "text": [
      "Apple is not present in the set\n"
     ]
    }
   ],
   "source": [
    "if \"apple\" in myset:      # Check if \"apple\" exist in the set\n",
    "    print(\"Apple is present in the set\")\n",
    "else:\n",
    "    print(\"Apple is not present in the set\")"
   ]
  },
  {
   "cell_type": "code",
   "execution_count": null,
   "id": "726bfb68-26d7-46ae-a577-4fd1571f4df3",
   "metadata": {},
   "outputs": [],
   "source": []
  },
  {
   "cell_type": "markdown",
   "id": "1658e7cf-6cf6-499f-ae2e-f670c7b8905f",
   "metadata": {},
   "source": [
    "# Add and Remove Items"
   ]
  },
  {
   "cell_type": "code",
   "execution_count": 11,
   "id": "38f773c8-ff4e-4ffd-afbc-414565e0edf6",
   "metadata": {},
   "outputs": [
    {
     "data": {
      "text/plain": [
       "{'Book', 'Eraser', 'Notebook', 'Pen', 'Pencil'}"
      ]
     },
     "execution_count": 11,
     "metadata": {},
     "output_type": "execute_result"
    }
   ],
   "source": [
    "myset"
   ]
  },
  {
   "cell_type": "code",
   "execution_count": 12,
   "id": "9cc39c9c-efd8-4f32-bc4b-f4ffb54b1447",
   "metadata": {},
   "outputs": [
    {
     "data": {
      "text/plain": [
       "{'Book', 'Eraser', 'Maths', 'Notebook', 'Pen', 'Pencil'}"
      ]
     },
     "execution_count": 12,
     "metadata": {},
     "output_type": "execute_result"
    }
   ],
   "source": [
    "myset.add(\"Maths\")    # Add iteam to a set using add() method\n",
    "myset"
   ]
  },
  {
   "cell_type": "code",
   "execution_count": 13,
   "id": "2eeec56c-0684-426b-bbe3-85281f602373",
   "metadata": {},
   "outputs": [
    {
     "data": {
      "text/plain": [
       "{'Book',\n",
       " 'English',\n",
       " 'Eraser',\n",
       " 'Hindi',\n",
       " 'Maths',\n",
       " 'Notebook',\n",
       " 'Pen',\n",
       " 'Pencil',\n",
       " 'Science'}"
      ]
     },
     "execution_count": 13,
     "metadata": {},
     "output_type": "execute_result"
    }
   ],
   "source": [
    "myset.update([\"Science\",\"English\",\"Hindi\"])   # Add multiple items in the set using update() method\n",
    "myset"
   ]
  },
  {
   "cell_type": "code",
   "execution_count": 14,
   "id": "ff2e844e-63da-4a33-99df-dc07bcd3cee8",
   "metadata": {},
   "outputs": [
    {
     "data": {
      "text/plain": [
       "{'Book', 'English', 'Eraser', 'Hindi', 'Notebook', 'Pen', 'Pencil', 'Science'}"
      ]
     },
     "execution_count": 14,
     "metadata": {},
     "output_type": "execute_result"
    }
   ],
   "source": [
    "myset.remove(\"Maths\")   #It remove the item from the set using remove() method\n",
    "myset"
   ]
  },
  {
   "cell_type": "code",
   "execution_count": 15,
   "id": "1351be4a-218e-4069-81e4-c17a3626aa0c",
   "metadata": {},
   "outputs": [
    {
     "data": {
      "text/plain": [
       "{'Book', 'English', 'Eraser', 'Hindi', 'Notebook', 'Pen', 'Pencil'}"
      ]
     },
     "execution_count": 15,
     "metadata": {},
     "output_type": "execute_result"
    }
   ],
   "source": [
    "myset.discard(\"Science\")   # Remove the iteam from the set using discard() method\n",
    "myset"
   ]
  },
  {
   "cell_type": "code",
   "execution_count": 16,
   "id": "640ed951-9ee4-4273-90eb-8e9a06e0c5ce",
   "metadata": {},
   "outputs": [
    {
     "data": {
      "text/plain": [
       "set()"
      ]
     },
     "execution_count": 16,
     "metadata": {},
     "output_type": "execute_result"
    }
   ],
   "source": [
    "myset.clear()  # Delete all the items in a set\n",
    "myset"
   ]
  },
  {
   "cell_type": "code",
   "execution_count": 18,
   "id": "b2efe9f3-4564-47a3-b772-08edb69475ec",
   "metadata": {},
   "outputs": [
    {
     "ename": "NameError",
     "evalue": "name 'myset' is not defined",
     "output_type": "error",
     "traceback": [
      "\u001b[1;31m---------------------------------------------------------------------------\u001b[0m",
      "\u001b[1;31mNameError\u001b[0m                                 Traceback (most recent call last)",
      "Cell \u001b[1;32mIn[18], line 1\u001b[0m\n\u001b[1;32m----> 1\u001b[0m \u001b[38;5;28;01mdel\u001b[39;00m myset   \u001b[38;5;66;03m# Delete the set subject\u001b[39;00m\n\u001b[0;32m      2\u001b[0m myset\n",
      "\u001b[1;31mNameError\u001b[0m: name 'myset' is not defined"
     ]
    }
   ],
   "source": [
    "del myset   # Delete the set subject\n",
    "myset"
   ]
  },
  {
   "cell_type": "code",
   "execution_count": null,
   "id": "b108cacb-397d-40d3-a1c7-4aeeb4703777",
   "metadata": {},
   "outputs": [],
   "source": []
  },
  {
   "cell_type": "markdown",
   "id": "b11fb589-ff86-4386-83a0-70d5e5a38b81",
   "metadata": {},
   "source": [
    "# Copy Set "
   ]
  },
  {
   "cell_type": "code",
   "execution_count": 19,
   "id": "f53ab8ee-6814-455d-8eba-44ca8beeabaa",
   "metadata": {},
   "outputs": [
    {
     "data": {
      "text/plain": [
       "{'Book', 'English', 'Eraser', 'Hindi', 'Notebook', 'Pen', 'Pencil', 'Science'}"
      ]
     },
     "execution_count": 19,
     "metadata": {},
     "output_type": "execute_result"
    }
   ],
   "source": [
    "myset = {'Book', 'English', 'Eraser', 'Hindi', 'Notebook', 'Pen', 'Pencil', 'Science'}\n",
    "myset"
   ]
  },
  {
   "cell_type": "code",
   "execution_count": 21,
   "id": "3830d6d4-580d-4954-899b-7a1fc225b21e",
   "metadata": {},
   "outputs": [
    {
     "data": {
      "text/plain": [
       "{'Book', 'English', 'Eraser', 'Hindi', 'Notebook', 'Pen', 'Pencil', 'Science'}"
      ]
     },
     "execution_count": 21,
     "metadata": {},
     "output_type": "execute_result"
    }
   ],
   "source": [
    "myset1 = myset    # Create a new refrence \"myset1\"\n",
    "myset1"
   ]
  },
  {
   "cell_type": "code",
   "execution_count": 23,
   "id": "2eac0e1e-d636-4e48-b5d1-a27bd5ac102b",
   "metadata": {},
   "outputs": [
    {
     "data": {
      "text/plain": [
       "(2604155618464, 2604155618464)"
      ]
     },
     "execution_count": 23,
     "metadata": {},
     "output_type": "execute_result"
    }
   ],
   "source": [
    "id(myset) , id(myset1)    # The address of bboyh myset & myset1 will be the same"
   ]
  },
  {
   "cell_type": "code",
   "execution_count": 24,
   "id": "4ab5cbbb-1520-4f43-8fdc-f31dcdbda340",
   "metadata": {},
   "outputs": [
    {
     "data": {
      "text/plain": [
       "{'Book', 'English', 'Eraser', 'Hindi', 'Notebook', 'Pen', 'Pencil', 'Science'}"
      ]
     },
     "execution_count": 24,
     "metadata": {},
     "output_type": "execute_result"
    }
   ],
   "source": [
    "my_set = myset.copy()    # Create a copy of the set\n",
    "my_set"
   ]
  },
  {
   "cell_type": "code",
   "execution_count": 27,
   "id": "20aae1bd-ac75-4e2f-aed9-f3adab195dcc",
   "metadata": {},
   "outputs": [
    {
     "data": {
      "text/plain": [
       "2604163577920"
      ]
     },
     "execution_count": 27,
     "metadata": {},
     "output_type": "execute_result"
    }
   ],
   "source": [
    "id(my_set)   # The address of my_set will be different from myset because my_set is another variable"
   ]
  },
  {
   "cell_type": "code",
   "execution_count": 28,
   "id": "2678e6b6-919f-41b5-8126-bcc2ec094f7e",
   "metadata": {},
   "outputs": [
    {
     "data": {
      "text/plain": [
       "{'Book',\n",
       " 'English',\n",
       " 'Eraser',\n",
       " 'Hindi',\n",
       " 'Notebook',\n",
       " 'Pen',\n",
       " 'Pencil',\n",
       " 'Science',\n",
       " 'maths'}"
      ]
     },
     "execution_count": 28,
     "metadata": {},
     "output_type": "execute_result"
    }
   ],
   "source": [
    "myset.add(\"maths\")\n",
    "myset"
   ]
  },
  {
   "cell_type": "code",
   "execution_count": 29,
   "id": "4e61f631-3c13-4167-bb1d-5589758ddf7f",
   "metadata": {},
   "outputs": [
    {
     "data": {
      "text/plain": [
       "{'Book',\n",
       " 'English',\n",
       " 'Eraser',\n",
       " 'Hindi',\n",
       " 'Notebook',\n",
       " 'Pen',\n",
       " 'Pencil',\n",
       " 'Science',\n",
       " 'maths'}"
      ]
     },
     "execution_count": 29,
     "metadata": {},
     "output_type": "execute_result"
    }
   ],
   "source": [
    "myset1 # Myset1 will be also impactes as it is pointing to the same set "
   ]
  },
  {
   "cell_type": "code",
   "execution_count": 30,
   "id": "c45064e6-0b35-4e4f-8a59-c5f2a872f675",
   "metadata": {},
   "outputs": [
    {
     "data": {
      "text/plain": [
       "{'Book', 'English', 'Eraser', 'Hindi', 'Notebook', 'Pen', 'Pencil', 'Science'}"
      ]
     },
     "execution_count": 30,
     "metadata": {},
     "output_type": "execute_result"
    }
   ],
   "source": [
    "my_set  # Copy od the set will not impactes due to changes mase on the origibal Set"
   ]
  },
  {
   "cell_type": "code",
   "execution_count": null,
   "id": "25a9b877-a047-4fdc-bb86-43932b47bb31",
   "metadata": {},
   "outputs": [],
   "source": []
  },
  {
   "cell_type": "markdown",
   "id": "b2ea8698-1536-4e4d-836c-3dbb069c25ca",
   "metadata": {},
   "source": [
    "# SET OPERATION\n",
    "\n",
    " Union"
   ]
  },
  {
   "cell_type": "code",
   "execution_count": 31,
   "id": "91624cec-bf64-4738-a238-5ddf71972ab5",
   "metadata": {},
   "outputs": [],
   "source": [
    "a = {1,2,3,4,5}\n",
    "b = {4,5,6,7,8}\n",
    "c = {8,9,10}"
   ]
  },
  {
   "cell_type": "code",
   "execution_count": 32,
   "id": "fbcac743-67e5-45a6-9fc8-f69bcdc05ff6",
   "metadata": {},
   "outputs": [
    {
     "data": {
      "text/plain": [
       "{1, 2, 3, 4, 5, 6, 7, 8}"
      ]
     },
     "execution_count": 32,
     "metadata": {},
     "output_type": "execute_result"
    }
   ],
   "source": [
    "a.union(b)  ## Union of A and B (All elements from both sets. NO DUPLICATES) "
   ]
  },
  {
   "cell_type": "code",
   "execution_count": 33,
   "id": "027d112d-4f7d-4669-85fc-b1eff90ae6cf",
   "metadata": {},
   "outputs": [
    {
     "data": {
      "text/plain": [
       "{1, 2, 3, 4, 5, 6, 7, 8}"
      ]
     },
     "execution_count": 33,
     "metadata": {},
     "output_type": "execute_result"
    }
   ],
   "source": [
    "a | b"
   ]
  },
  {
   "cell_type": "code",
   "execution_count": 34,
   "id": "e0ba60a7-921f-4e9a-8e50-2e663dbe398c",
   "metadata": {},
   "outputs": [
    {
     "data": {
      "text/plain": [
       "{1, 2, 3, 4, 5, 6, 7, 8, 9, 10}"
      ]
     },
     "execution_count": 34,
     "metadata": {},
     "output_type": "execute_result"
    }
   ],
   "source": [
    "a.union(b,c)   #Union of a,b,c"
   ]
  },
  {
   "cell_type": "code",
   "execution_count": 35,
   "id": "e3961e73-99cc-41d3-962b-9f1c4366b336",
   "metadata": {},
   "outputs": [
    {
     "data": {
      "text/plain": [
       "{1, 2, 3, 4, 5, 6, 7, 8, 9, 10}"
      ]
     },
     "execution_count": 35,
     "metadata": {},
     "output_type": "execute_result"
    }
   ],
   "source": [
    "\"\"\" \n",
    "Updates the set calling the update() method with union of A , B & C. \n",
    "Set a will be updated with union of a,b & c. \n",
    "\"\"\" \n",
    "a.update(b,c) \n",
    "a "
   ]
  },
  {
   "cell_type": "code",
   "execution_count": null,
   "id": "9c8a8b66-2ecb-458b-a325-18f4379ba517",
   "metadata": {},
   "outputs": [],
   "source": []
  },
  {
   "cell_type": "markdown",
   "id": "bca5b729-3536-408e-a286-e91da66a4312",
   "metadata": {},
   "source": [
    "Intersection "
   ]
  },
  {
   "cell_type": "code",
   "execution_count": 37,
   "id": "be0b2bde-c375-4f25-98f8-e7a0359e7494",
   "metadata": {},
   "outputs": [],
   "source": [
    "a = {1,2,3,4,5}\n",
    "b = {4,5,6,7,8}\n",
    "c = {8,9,10}"
   ]
  },
  {
   "cell_type": "code",
   "execution_count": 38,
   "id": "8c82e093-c604-4f67-ba52-a490e975a8ae",
   "metadata": {},
   "outputs": [
    {
     "data": {
      "text/plain": [
       "{4, 5}"
      ]
     },
     "execution_count": 38,
     "metadata": {},
     "output_type": "execute_result"
    }
   ],
   "source": [
    "a & b   # Intersection of a and b ( Commmonn items is both sets)"
   ]
  },
  {
   "cell_type": "code",
   "execution_count": 39,
   "id": "3bd08d4d-a819-4346-b6d0-ba5e4693a1f7",
   "metadata": {},
   "outputs": [
    {
     "data": {
      "text/plain": [
       "{4, 5}"
      ]
     },
     "execution_count": 39,
     "metadata": {},
     "output_type": "execute_result"
    }
   ],
   "source": [
    "a.intersection(b)     #Intersection of a and b"
   ]
  },
  {
   "cell_type": "code",
   "execution_count": 40,
   "id": "330443a5-cc21-4ad5-9759-a001fc841eaf",
   "metadata": {},
   "outputs": [
    {
     "data": {
      "text/plain": [
       "set()"
      ]
     },
     "execution_count": 40,
     "metadata": {},
     "output_type": "execute_result"
    }
   ],
   "source": [
    "a.intersection(c)"
   ]
  },
  {
   "cell_type": "code",
   "execution_count": 41,
   "id": "964ec392-e16b-45ba-837c-54433fa9f21d",
   "metadata": {},
   "outputs": [
    {
     "data": {
      "text/plain": [
       "{8}"
      ]
     },
     "execution_count": 41,
     "metadata": {},
     "output_type": "execute_result"
    }
   ],
   "source": [
    "c.intersection(b)"
   ]
  },
  {
   "cell_type": "code",
   "execution_count": 43,
   "id": "b6f5a3ec-32c1-4b44-8887-0b1548152c5e",
   "metadata": {},
   "outputs": [
    {
     "data": {
      "text/plain": [
       "{4, 5}"
      ]
     },
     "execution_count": 43,
     "metadata": {},
     "output_type": "execute_result"
    }
   ],
   "source": [
    "\"\"\" \n",
    "Updates the set calling the intersection_update() method with the intersection of set \n",
    "Set a will be updated with the intersection of a & b. \n",
    "\"\"\" \n",
    "a.intersection_update(b) \n",
    "a"
   ]
  },
  {
   "cell_type": "code",
   "execution_count": null,
   "id": "49b8ec99-1a4e-487a-a521-b5429aac4dda",
   "metadata": {},
   "outputs": [],
   "source": []
  },
  {
   "cell_type": "markdown",
   "id": "4e9b2d1f-f32e-4be8-b1a0-73741a535950",
   "metadata": {},
   "source": [
    "Difference"
   ]
  },
  {
   "cell_type": "code",
   "execution_count": 44,
   "id": "c5f78c9b-8799-47d5-8312-f6b08dec465c",
   "metadata": {},
   "outputs": [],
   "source": [
    "a = {1,2,3,4,5}\n",
    "b = {4,5,6,7,8}\n",
    "c = {8,9,10}"
   ]
  },
  {
   "cell_type": "code",
   "execution_count": 45,
   "id": "89423572-44e8-4fbf-b6ea-18624c1a2643",
   "metadata": {},
   "outputs": [
    {
     "data": {
      "text/plain": [
       "{1, 2, 3}"
      ]
     },
     "execution_count": 45,
     "metadata": {},
     "output_type": "execute_result"
    }
   ],
   "source": [
    "a.difference(b)  # Difference of sets -----The difference() function returns a new set \n",
    "                #that contains elements that are only in the first set and not in the second (or others).\n",
    "                # Returns a new set"
   ]
  },
  {
   "cell_type": "code",
   "execution_count": 46,
   "id": "7db71ae8-16a7-4119-a6cd-671fb8db8363",
   "metadata": {},
   "outputs": [
    {
     "data": {
      "text/plain": [
       "{1, 2, 3}"
      ]
     },
     "execution_count": 46,
     "metadata": {},
     "output_type": "execute_result"
    }
   ],
   "source": [
    "a - b  # set of elements that are only in A but not in B "
   ]
  },
  {
   "cell_type": "code",
   "execution_count": 47,
   "id": "21fceb7d-7843-42c5-8029-54c9a370164c",
   "metadata": {},
   "outputs": [
    {
     "data": {
      "text/plain": [
       "{6, 7, 8}"
      ]
     },
     "execution_count": 47,
     "metadata": {},
     "output_type": "execute_result"
    }
   ],
   "source": [
    "b.difference(a)"
   ]
  },
  {
   "cell_type": "code",
   "execution_count": 48,
   "id": "7be61d52-972e-4952-94e3-2d5320984a79",
   "metadata": {},
   "outputs": [
    {
     "data": {
      "text/plain": [
       "{6, 7, 8}"
      ]
     },
     "execution_count": 48,
     "metadata": {},
     "output_type": "execute_result"
    }
   ],
   "source": [
    "\"\"\" \n",
    "Updates the set calling the difference_update() method with the difference of set \n",
    "Set b will be updated with the difference of b & a. \n",
    "\"\"\" \n",
    "b.difference_update(a) \n",
    "b "
   ]
  },
  {
   "cell_type": "code",
   "execution_count": 50,
   "id": "d3089a50-9781-405b-97ae-ee52ded93312",
   "metadata": {},
   "outputs": [
    {
     "data": {
      "text/plain": [
       "{1, 2, 3, 4, 5}"
      ]
     },
     "execution_count": 50,
     "metadata": {},
     "output_type": "execute_result"
    }
   ],
   "source": [
    "a.difference_update(b)   \"\"\"The difference_update() method is used to remove all elements from the calling set (a) \n",
    "                           that are also present in one or more other sets (b, c, etc.).\n",
    "                           It modifies the original set directly, and it does not return anything (None).\n",
    "                           It removes all elements from a that are in b. So:\n",
    "                           4 and 5 are removed\n",
    "                           Now, A becomes {1, 2, 3,4,5}\n",
    "                           ✅ Note: It changes the original set A. It does not return a new one.\"\"\"\n",
    "a"
   ]
  },
  {
   "cell_type": "code",
   "execution_count": 52,
   "id": "238d5f52-ffdc-491c-a14e-4aba0e99e0c7",
   "metadata": {},
   "outputs": [
    {
     "data": {
      "text/plain": [
       "{6, 7}"
      ]
     },
     "execution_count": 52,
     "metadata": {},
     "output_type": "execute_result"
    }
   ],
   "source": [
    "b.difference_update(c)\n",
    "b"
   ]
  },
  {
   "cell_type": "code",
   "execution_count": 53,
   "id": "b96887e9-7837-4804-8a95-0b5bf369d02e",
   "metadata": {},
   "outputs": [],
   "source": [
    "a = {1,2,3,4,5}\n",
    "b = {4,5,6,7,8}\n",
    "c = {8,9,10}"
   ]
  },
  {
   "cell_type": "code",
   "execution_count": 54,
   "id": "44dff1b9-df5d-4eed-9d3d-9d8cf8f5b2ca",
   "metadata": {},
   "outputs": [
    {
     "data": {
      "text/plain": [
       "{4, 5, 6, 7}"
      ]
     },
     "execution_count": 54,
     "metadata": {},
     "output_type": "execute_result"
    }
   ],
   "source": [
    "b.difference_update(c)   # b-c remove the common element from whic we are subtractiong have to write that element only\n",
    "b"
   ]
  },
  {
   "cell_type": "code",
   "execution_count": null,
   "id": "0a20d2fc-d91d-4fd5-be64-525417eb097b",
   "metadata": {},
   "outputs": [],
   "source": []
  },
  {
   "cell_type": "markdown",
   "id": "4b89963c-ef6e-4144-b9da-00354c4bcf64",
   "metadata": {},
   "source": [
    "Symmetric Difference"
   ]
  },
  {
   "cell_type": "code",
   "execution_count": 55,
   "id": "bbf6a0a9-622d-4bde-8f1c-a0c33e653ff7",
   "metadata": {},
   "outputs": [],
   "source": [
    "a = {1,2,3,4,5}\n",
    "b = {4,5,6,7,8}\n",
    "c = {8,9,10}"
   ]
  },
  {
   "cell_type": "code",
   "execution_count": 56,
   "id": "fc36cee4-47a4-4842-8c26-cfd02b62df4a",
   "metadata": {},
   "outputs": [
    {
     "data": {
      "text/plain": [
       "{1, 2, 3, 6, 7, 8}"
      ]
     },
     "execution_count": 56,
     "metadata": {},
     "output_type": "execute_result"
    }
   ],
   "source": [
    "a.symmetric_difference(b)   # Symmetric difference of sets ...It will remove the common element"
   ]
  },
  {
   "cell_type": "code",
   "execution_count": 57,
   "id": "c6e168d2-cd70-4615-a1f0-378a7b5e50b0",
   "metadata": {},
   "outputs": [
    {
     "data": {
      "text/plain": [
       "{4, 5, 6, 7, 9, 10}"
      ]
     },
     "execution_count": 57,
     "metadata": {},
     "output_type": "execute_result"
    }
   ],
   "source": [
    "b.symmetric_difference(c)  "
   ]
  },
  {
   "cell_type": "code",
   "execution_count": 58,
   "id": "90fbfb0d-349e-4a94-87a7-2d9ff8cdb068",
   "metadata": {},
   "outputs": [
    {
     "data": {
      "text/plain": [
       "{1, 2, 3, 4, 5, 8, 9, 10}"
      ]
     },
     "execution_count": 58,
     "metadata": {},
     "output_type": "execute_result"
    }
   ],
   "source": [
    "c ^ a"
   ]
  },
  {
   "cell_type": "code",
   "execution_count": null,
   "id": "4dca82a5-ed3a-4a0a-8047-bb480637c935",
   "metadata": {},
   "outputs": [],
   "source": []
  },
  {
   "cell_type": "code",
   "execution_count": 59,
   "id": "650e3897-0abd-44ad-ab42-56a64c512cba",
   "metadata": {},
   "outputs": [
    {
     "data": {
      "text/plain": [
       "{1, 2, 3, 6, 7, 8}"
      ]
     },
     "execution_count": 59,
     "metadata": {},
     "output_type": "execute_result"
    }
   ],
   "source": [
    "\"\"\" \n",
    "Updates the set calling the symmetric_difference_update() method \n",
    "Set a will be updated with the symmetric difference of a & b. \n",
    "\"\"\" \n",
    "a.symmetric_difference_update(b)  #It removes the common elements and adds the unique elements from both sets\n",
    "a"
   ]
  },
  {
   "cell_type": "code",
   "execution_count": 61,
   "id": "858de6e2-0beb-4137-abd8-75c506b71f29",
   "metadata": {},
   "outputs": [
    {
     "data": {
      "text/plain": [
       "{1, 2, 3, 6, 7, 8}"
      ]
     },
     "execution_count": 61,
     "metadata": {},
     "output_type": "execute_result"
    }
   ],
   "source": [
    "a.symmetric_difference_update(c)\n",
    "a"
   ]
  },
  {
   "cell_type": "code",
   "execution_count": null,
   "id": "07f68940-38bf-47b3-82a5-9dfb8a32973c",
   "metadata": {},
   "outputs": [],
   "source": []
  },
  {
   "cell_type": "markdown",
   "id": "67a9ccf8-99ad-4403-b455-7d981ce1c8bc",
   "metadata": {},
   "source": [
    "# Subset , Superset & Disjoint "
   ]
  },
  {
   "cell_type": "code",
   "execution_count": 62,
   "id": "9e0aaf53-a32c-4dde-8172-0b3b86fd7f97",
   "metadata": {},
   "outputs": [],
   "source": [
    "a =  {1,2,3,4,5,6,7,8,9} \n",
    "b = {3,4,5,6,7,8} \n",
    "c = {10,20,30,40}"
   ]
  },
  {
   "cell_type": "code",
   "execution_count": 63,
   "id": "27f997b9-5dbd-42a4-9de4-35184b496ffd",
   "metadata": {},
   "outputs": [
    {
     "data": {
      "text/plain": [
       "True"
      ]
     },
     "execution_count": 63,
     "metadata": {},
     "output_type": "execute_result"
    }
   ],
   "source": [
    "b.issubset(a)    # Set B is said to be the subset of set A if all elements of B are present"
   ]
  },
  {
   "cell_type": "code",
   "execution_count": 64,
   "id": "e4fa6eca-9918-487f-be90-f717b4fdfea3",
   "metadata": {},
   "outputs": [
    {
     "data": {
      "text/plain": [
       "True"
      ]
     },
     "execution_count": 64,
     "metadata": {},
     "output_type": "execute_result"
    }
   ],
   "source": [
    "a.issuperset(b)   # Set A is said to be the superset of set B if all elements of B are present"
   ]
  },
  {
   "cell_type": "code",
   "execution_count": 65,
   "id": "53ad596e-6fee-46d2-ac46-e0959ec2e180",
   "metadata": {},
   "outputs": [
    {
     "data": {
      "text/plain": [
       "True"
      ]
     },
     "execution_count": 65,
     "metadata": {},
     "output_type": "execute_result"
    }
   ],
   "source": [
    "c.isdisjoint(a)    # Two sets are said to be disjoint sets if they have no common element"
   ]
  },
  {
   "cell_type": "code",
   "execution_count": 66,
   "id": "5048a6bd-1949-4746-a7d3-0aa0a8176783",
   "metadata": {},
   "outputs": [
    {
     "data": {
      "text/plain": [
       "True"
      ]
     },
     "execution_count": 66,
     "metadata": {},
     "output_type": "execute_result"
    }
   ],
   "source": [
    "c.isdisjoint(b)"
   ]
  },
  {
   "cell_type": "code",
   "execution_count": null,
   "id": "c667da05-f276-419d-8d99-bff8fc287577",
   "metadata": {},
   "outputs": [],
   "source": []
  },
  {
   "cell_type": "markdown",
   "id": "2f56de7d-8cba-4395-b6b4-1381579b858d",
   "metadata": {},
   "source": [
    "# Other build in function"
   ]
  },
  {
   "cell_type": "code",
   "execution_count": 67,
   "id": "2b2601bb-6273-4a32-acee-e9b9a63fb5d6",
   "metadata": {},
   "outputs": [
    {
     "data": {
      "text/plain": [
       "{1, 2, 3, 4, 5, 6, 7, 8, 9}"
      ]
     },
     "execution_count": 67,
     "metadata": {},
     "output_type": "execute_result"
    }
   ],
   "source": [
    "a"
   ]
  },
  {
   "cell_type": "code",
   "execution_count": 68,
   "id": "86db5b70-f97d-4513-adef-15b024e303b4",
   "metadata": {},
   "outputs": [
    {
     "data": {
      "text/plain": [
       "45"
      ]
     },
     "execution_count": 68,
     "metadata": {},
     "output_type": "execute_result"
    }
   ],
   "source": [
    "sum(a)"
   ]
  },
  {
   "cell_type": "code",
   "execution_count": 69,
   "id": "f3a74f67-78fb-4ed2-969f-84ce06b0bbaf",
   "metadata": {},
   "outputs": [
    {
     "data": {
      "text/plain": [
       "9"
      ]
     },
     "execution_count": 69,
     "metadata": {},
     "output_type": "execute_result"
    }
   ],
   "source": [
    "max(a)"
   ]
  },
  {
   "cell_type": "code",
   "execution_count": 70,
   "id": "a439d437-c6ae-4a8a-b35b-6522d578f3a7",
   "metadata": {},
   "outputs": [
    {
     "data": {
      "text/plain": [
       "1"
      ]
     },
     "execution_count": 70,
     "metadata": {},
     "output_type": "execute_result"
    }
   ],
   "source": [
    "min(a)"
   ]
  },
  {
   "cell_type": "code",
   "execution_count": 71,
   "id": "d5518bb6-7aea-48f1-b776-15d282c398d4",
   "metadata": {},
   "outputs": [
    {
     "data": {
      "text/plain": [
       "9"
      ]
     },
     "execution_count": 71,
     "metadata": {},
     "output_type": "execute_result"
    }
   ],
   "source": [
    "len(a)"
   ]
  },
  {
   "cell_type": "code",
   "execution_count": 72,
   "id": "e8e2e49e-a63c-4dbf-a92d-4c8ecae297cf",
   "metadata": {},
   "outputs": [
    {
     "data": {
      "text/plain": [
       "[(0, 1), (1, 2), (2, 3), (3, 4), (4, 5), (5, 6), (6, 7), (7, 8), (8, 9)]"
      ]
     },
     "execution_count": 72,
     "metadata": {},
     "output_type": "execute_result"
    }
   ],
   "source": [
    "list(enumerate(a))"
   ]
  },
  {
   "cell_type": "code",
   "execution_count": 74,
   "id": "93eec709-dce4-4da7-a6c5-ab118fd53233",
   "metadata": {},
   "outputs": [
    {
     "data": {
      "text/plain": [
       "[9, 8, 7, 6, 5, 4, 3, 2, 1]"
      ]
     },
     "execution_count": 74,
     "metadata": {},
     "output_type": "execute_result"
    }
   ],
   "source": [
    "d = sorted(a,reverse=True)\n",
    "d"
   ]
  },
  {
   "cell_type": "code",
   "execution_count": 75,
   "id": "4bf39872-055c-43e1-9aa7-37819cb6eec9",
   "metadata": {},
   "outputs": [
    {
     "data": {
      "text/plain": [
       "[1, 2, 3, 4, 5, 6, 7, 8, 9]"
      ]
     },
     "execution_count": 75,
     "metadata": {},
     "output_type": "execute_result"
    }
   ],
   "source": [
    "sorted(d)"
   ]
  },
  {
   "cell_type": "code",
   "execution_count": null,
   "id": "cef9f211-b27a-4448-9208-c35f4d2d2a70",
   "metadata": {},
   "outputs": [],
   "source": []
  },
  {
   "cell_type": "code",
   "execution_count": null,
   "id": "324d021a-8b83-42ae-9a8d-bbd6c243f03d",
   "metadata": {},
   "outputs": [],
   "source": []
  },
  {
   "cell_type": "code",
   "execution_count": null,
   "id": "7d1f99fb-89ad-4868-ae69-737db4ad844f",
   "metadata": {},
   "outputs": [],
   "source": []
  },
  {
   "cell_type": "code",
   "execution_count": null,
   "id": "b47e271e-3149-4896-8f96-f917628f31f3",
   "metadata": {},
   "outputs": [],
   "source": []
  },
  {
   "cell_type": "code",
   "execution_count": null,
   "id": "a98a63fb-7df5-4f53-ac8b-2f7dbfc25f19",
   "metadata": {},
   "outputs": [],
   "source": []
  },
  {
   "cell_type": "code",
   "execution_count": null,
   "id": "277d5d48-776b-4c1e-9e1a-71ef8821d00e",
   "metadata": {},
   "outputs": [],
   "source": []
  },
  {
   "cell_type": "code",
   "execution_count": null,
   "id": "cb20e528-c596-486d-9fff-29e9bce0bfc8",
   "metadata": {},
   "outputs": [],
   "source": []
  },
  {
   "cell_type": "code",
   "execution_count": null,
   "id": "6635e2fd-b277-4d45-bdc9-effc3669d763",
   "metadata": {},
   "outputs": [],
   "source": []
  },
  {
   "cell_type": "code",
   "execution_count": null,
   "id": "c1207154-994b-4e4c-b05e-7014702bd5fd",
   "metadata": {},
   "outputs": [],
   "source": []
  },
  {
   "cell_type": "code",
   "execution_count": null,
   "id": "251611f4-5201-4119-bf25-fb450e455c0f",
   "metadata": {},
   "outputs": [],
   "source": []
  }
 ],
 "metadata": {
  "kernelspec": {
   "display_name": "Python [conda env:base] *",
   "language": "python",
   "name": "conda-base-py"
  },
  "language_info": {
   "codemirror_mode": {
    "name": "ipython",
    "version": 3
   },
   "file_extension": ".py",
   "mimetype": "text/x-python",
   "name": "python",
   "nbconvert_exporter": "python",
   "pygments_lexer": "ipython3",
   "version": "3.12.7"
  }
 },
 "nbformat": 4,
 "nbformat_minor": 5
}
