{
 "cells": [
  {
   "cell_type": "markdown",
   "id": "89fb1eb9-d4aa-4f1e-8315-c38bec8e921e",
   "metadata": {},
   "source": [
    "# Dictionary \n",
    "Dictionary is a mutable data type in Python. \n",
    "A python dictionary is a collection of key and value pairs separated by a colon (:) & enclosed \n",
    "in curly braces {}. \n",
    "Keys must be unique in a dictionary, duplicate values are allowed. "
   ]
  },
  {
   "cell_type": "markdown",
   "id": "145728c6-c607-4e99-ba21-3d723b0c6a4d",
   "metadata": {},
   "source": [
    "# Create Dictionary"
   ]
  },
  {
   "cell_type": "code",
   "execution_count": 2,
   "id": "5ee17bf8-d086-4703-8bf5-2fb3fe3dfd87",
   "metadata": {},
   "outputs": [
    {
     "data": {
      "text/plain": [
       "{}"
      ]
     },
     "execution_count": 2,
     "metadata": {},
     "output_type": "execute_result"
    }
   ],
   "source": [
    "mydict = dict()   # empty dictionary\n",
    "mydict"
   ]
  },
  {
   "cell_type": "code",
   "execution_count": 3,
   "id": "88a50c47-f02a-454f-8ff5-9e44b2c86d5d",
   "metadata": {},
   "outputs": [
    {
     "data": {
      "text/plain": [
       "{}"
      ]
     },
     "execution_count": 3,
     "metadata": {},
     "output_type": "execute_result"
    }
   ],
   "source": [
    "mydict = {}   # Empty dictionary\n",
    "mydict"
   ]
  },
  {
   "cell_type": "code",
   "execution_count": 4,
   "id": "dc325c1c-2e27-4e5e-84fb-d1a1638194aa",
   "metadata": {},
   "outputs": [
    {
     "data": {
      "text/plain": [
       "{1: 'book', 2: 'pen', 3: 'notebook'}"
      ]
     },
     "execution_count": 4,
     "metadata": {},
     "output_type": "execute_result"
    }
   ],
   "source": [
    " \n",
    "mydict = {1:'book' , 2:'pen' , 3:'notebook'} # dictionary with integer keys \n",
    "mydict "
   ]
  },
  {
   "cell_type": "code",
   "execution_count": 6,
   "id": "f4a25d43-8032-44b6-9439-222e0a8ec23d",
   "metadata": {},
   "outputs": [
    {
     "data": {
      "text/plain": [
       "{1: 'book', 2: 'pen', 3: 'notebook'}"
      ]
     },
     "execution_count": 6,
     "metadata": {},
     "output_type": "execute_result"
    }
   ],
   "source": [
    "mydict = dict({1:'book' , 2:'pen' , 3:'notebook'}) # Creates dictionary using dict()\n",
    "mydict "
   ]
  },
  {
   "cell_type": "code",
   "execution_count": 7,
   "id": "9e511277-1744-42cc-a70b-e714a5afa2ca",
   "metadata": {},
   "outputs": [
    {
     "data": {
      "text/plain": [
       "{'A': 'book', 'B': 'pen', 'C': 'notebook'}"
      ]
     },
     "execution_count": 7,
     "metadata": {},
     "output_type": "execute_result"
    }
   ],
   "source": [
    "\n",
    "mydict = {'A':'book' , 'B':'pen' , 'C':'notebook'} # dictionary with character keys \n",
    "mydict "
   ]
  },
  {
   "cell_type": "code",
   "execution_count": 8,
   "id": "1fe17ca5-f501-4fd7-b2bf-d230267bc7f8",
   "metadata": {},
   "outputs": [
    {
     "data": {
      "text/plain": [
       "{1: 'book', 'A': 'pen', 3: 'notebook'}"
      ]
     },
     "execution_count": 8,
     "metadata": {},
     "output_type": "execute_result"
    }
   ],
   "source": [
    "mydict = dict({1:'book' , 'A':'pen' , 3:'notebook'}) # dictionary with mixed keys\n",
    "mydict "
   ]
  },
  {
   "cell_type": "code",
   "execution_count": 9,
   "id": "02e6e974-e163-47e4-8a87-b1888eff4e91",
   "metadata": {},
   "outputs": [
    {
     "data": {
      "text/plain": [
       "dict_keys([1, 'A', 3])"
      ]
     },
     "execution_count": 9,
     "metadata": {},
     "output_type": "execute_result"
    }
   ],
   "source": [
    "mydict.keys() # Return dictionary keys using keys() method"
   ]
  },
  {
   "cell_type": "code",
   "execution_count": 11,
   "id": "a07fb915-cae0-4ae8-b152-eef1f00e0cc2",
   "metadata": {},
   "outputs": [
    {
     "data": {
      "text/plain": [
       "dict_values(['book', 'pen', 'notebook'])"
      ]
     },
     "execution_count": 11,
     "metadata": {},
     "output_type": "execute_result"
    }
   ],
   "source": [
    "mydict.values()   # Return Dictionary Values using values() method "
   ]
  },
  {
   "cell_type": "code",
   "execution_count": 12,
   "id": "79c752c0-41cb-486b-b540-37616b338e92",
   "metadata": {},
   "outputs": [
    {
     "data": {
      "text/plain": [
       "dict_items([(1, 'book'), ('A', 'pen'), (3, 'notebook')])"
      ]
     },
     "execution_count": 12,
     "metadata": {},
     "output_type": "execute_result"
    }
   ],
   "source": [
    "mydict.items()   # Access each key-value pair within a dictionary "
   ]
  },
  {
   "cell_type": "code",
   "execution_count": 13,
   "id": "d69d0820-a72e-4159-83bc-56de60adc143",
   "metadata": {},
   "outputs": [
    {
     "data": {
      "text/plain": [
       "{1: 'book', 2: 'pen', 'A': ['Aman', 'John', 'Maria']}"
      ]
     },
     "execution_count": 13,
     "metadata": {},
     "output_type": "execute_result"
    }
   ],
   "source": [
    "mydict = {1:'book' , 2:'pen' , 'A':['Aman' , 'John' , 'Maria']} # dictionary with list \n",
    "mydict "
   ]
  },
  {
   "cell_type": "code",
   "execution_count": 16,
   "id": "a6a0d895-1a89-4170-a4be-112eeab8846d",
   "metadata": {},
   "outputs": [
    {
     "data": {
      "text/plain": [
       "{1: 'book',\n",
       " 2: 'pen',\n",
       " 'A': ['Aman', 'John', 'Maria'],\n",
       " 'B': ('bat', 'chair', 'hat')}"
      ]
     },
     "execution_count": 16,
     "metadata": {},
     "output_type": "execute_result"
    }
   ],
   "source": [
    "mydict = {1:'book' , 2:'pen' , 'A':['Aman' , 'John' , 'Maria'],'B':('bat','chair','hat')} # dictionary with list \n",
    "mydict "
   ]
  },
  {
   "cell_type": "code",
   "execution_count": 17,
   "id": "d4b2359d-550a-4586-a9d4-811e0b5a57c8",
   "metadata": {},
   "outputs": [
    {
     "data": {
      "text/plain": [
       "{'a': None, 'd': None, 'c': None, 'b': None}"
      ]
     },
     "execution_count": 17,
     "metadata": {},
     "output_type": "execute_result"
    }
   ],
   "source": [
    "keys = {'a' , 'b' , 'c' , 'd'} \n",
    "mydict2 = dict.fromkeys(keys)   #Create a dictionary from a sequence of keys\n",
    "mydict2"
   ]
  },
  {
   "cell_type": "code",
   "execution_count": 18,
   "id": "e0ae3493-ee8e-48ca-9d03-8a1f74cf4042",
   "metadata": {},
   "outputs": [
    {
     "data": {
      "text/plain": [
       "{'a': 10, 'd': 10, 'c': 10, 'b': 10}"
      ]
     },
     "execution_count": 18,
     "metadata": {},
     "output_type": "execute_result"
    }
   ],
   "source": [
    "keys = {'a' , 'b' , 'c' , 'd'} \n",
    "value = 10 \n",
    "mydict2 = dict.fromkeys(keys , value) # Create a dictionary from a sequence of keys and value \n",
    "mydict2 "
   ]
  },
  {
   "cell_type": "code",
   "execution_count": 19,
   "id": "e9e4785d-418e-4d81-bd64-0a94c604d665",
   "metadata": {},
   "outputs": [
    {
     "data": {
      "text/plain": [
       "{'a': [10, 20, 30], 'd': [10, 20, 30], 'c': [10, 20, 30], 'b': [10, 20, 30]}"
      ]
     },
     "execution_count": 19,
     "metadata": {},
     "output_type": "execute_result"
    }
   ],
   "source": [
    "keys = {'a' , 'b' , 'c' , 'd'} \n",
    "value = [10,20,30]\n",
    "mydict2 = dict.fromkeys(keys , value) # Create a dictionary from a sequence of keys and value \n",
    "mydict2"
   ]
  },
  {
   "cell_type": "code",
   "execution_count": 21,
   "id": "c6e52388-dfaa-4f9e-b944-a2dac7257bd5",
   "metadata": {},
   "outputs": [
    {
     "data": {
      "text/plain": [
       "{'a': [10, 20, 30, 40],\n",
       " 'd': [10, 20, 30, 40],\n",
       " 'c': [10, 20, 30, 40],\n",
       " 'b': [10, 20, 30, 40]}"
      ]
     },
     "execution_count": 21,
     "metadata": {},
     "output_type": "execute_result"
    }
   ],
   "source": [
    "value.append(40)\n",
    "mydict2"
   ]
  },
  {
   "cell_type": "code",
   "execution_count": null,
   "id": "84ab4b7c-1574-4d46-b18f-c369f5b4e885",
   "metadata": {},
   "outputs": [],
   "source": []
  },
  {
   "cell_type": "markdown",
   "id": "37c2ee34-cec2-443b-8941-101ccf3f5044",
   "metadata": {},
   "source": [
    "# Accesing Items"
   ]
  },
  {
   "cell_type": "code",
   "execution_count": 22,
   "id": "63e17c24-043e-4034-a7a6-1df5cb933200",
   "metadata": {},
   "outputs": [
    {
     "data": {
      "text/plain": [
       "{1: 'book', 2: 'pen', 3: 'notebook', 4: 'eraser'}"
      ]
     },
     "execution_count": 22,
     "metadata": {},
     "output_type": "execute_result"
    }
   ],
   "source": [
    "mydict = {1:'book' , 2:'pen' , 3:'notebook',4:'eraser'} \n",
    "mydict"
   ]
  },
  {
   "cell_type": "code",
   "execution_count": 23,
   "id": "c99fb0e1-d681-41c1-8a81-51a2b9fba647",
   "metadata": {},
   "outputs": [
    {
     "data": {
      "text/plain": [
       "'book'"
      ]
     },
     "execution_count": 23,
     "metadata": {},
     "output_type": "execute_result"
    }
   ],
   "source": [
    "mydict[1] #Accesing item using key"
   ]
  },
  {
   "cell_type": "code",
   "execution_count": 24,
   "id": "6a7b5b0c-c34a-410d-bc69-3228ba743391",
   "metadata": {},
   "outputs": [
    {
     "data": {
      "text/plain": [
       "'book'"
      ]
     },
     "execution_count": 24,
     "metadata": {},
     "output_type": "execute_result"
    }
   ],
   "source": [
    "mydict.get(1) # Accesing item using get() method"
   ]
  },
  {
   "cell_type": "code",
   "execution_count": 25,
   "id": "09c5d8bd-26aa-4514-aed3-ea71d3b9c118",
   "metadata": {},
   "outputs": [
    {
     "data": {
      "text/plain": [
       "{'Name': 'Angel', 'ID': 2207, 'DOB': 2124, 'Job': 'Analyst'}"
      ]
     },
     "execution_count": 25,
     "metadata": {},
     "output_type": "execute_result"
    }
   ],
   "source": [
    "mydict1 = {'Name':'Angel' , 'ID': 2207 , 'DOB': 2124 , 'Job' :'Analyst'} \n",
    "mydict1 "
   ]
  },
  {
   "cell_type": "code",
   "execution_count": 26,
   "id": "63cbc4e1-befc-4336-8c97-34a72f297f54",
   "metadata": {},
   "outputs": [
    {
     "data": {
      "text/plain": [
       "'Angel'"
      ]
     },
     "execution_count": 26,
     "metadata": {},
     "output_type": "execute_result"
    }
   ],
   "source": [
    "mydict1['Name'] # Access item using key "
   ]
  },
  {
   "cell_type": "code",
   "execution_count": 28,
   "id": "f4312612-c634-4b98-a8e8-c02241977a4f",
   "metadata": {},
   "outputs": [
    {
     "data": {
      "text/plain": [
       "'Analyst'"
      ]
     },
     "execution_count": 28,
     "metadata": {},
     "output_type": "execute_result"
    }
   ],
   "source": [
    "mydict1.get('Job') # Access item using get() method "
   ]
  },
  {
   "cell_type": "code",
   "execution_count": null,
   "id": "0c4ba818-2cc7-4f88-9775-d86ca75014a7",
   "metadata": {},
   "outputs": [],
   "source": []
  },
  {
   "cell_type": "markdown",
   "id": "825b24cb-0503-4164-8a7e-180c8939ea07",
   "metadata": {},
   "source": [
    "# Add, Remove & Change Items "
   ]
  },
  {
   "cell_type": "code",
   "execution_count": 6,
   "id": "51bdf737-3c54-4bbd-861f-7172033bb7cb",
   "metadata": {},
   "outputs": [
    {
     "data": {
      "text/plain": [
       "{'Name': 'Angel', 'ID': 2207, 'DOB': 2124, 'Address': 'Delhi'}"
      ]
     },
     "execution_count": 6,
     "metadata": {},
     "output_type": "execute_result"
    }
   ],
   "source": [
    "mydict1 = {'Name':'Angel' , 'ID': 2207 , 'DOB': 2124 , 'Address' :'Delhi'} \n",
    "mydict1 "
   ]
  },
  {
   "cell_type": "code",
   "execution_count": 7,
   "id": "792dce6b-3ebf-4d95-b21f-afd755e8e398",
   "metadata": {},
   "outputs": [
    {
     "data": {
      "text/plain": [
       "{'Name': 'Angel', 'ID': 2207, 'DOB': 1992, 'Address': 'Bhopal'}"
      ]
     },
     "execution_count": 7,
     "metadata": {},
     "output_type": "execute_result"
    }
   ],
   "source": [
    "mydict1['DOB'] = 1992  # Changing Dictionary Items \n",
    "mydict1['Address'] = 'Bhopal' \n",
    "mydict1 "
   ]
  },
  {
   "cell_type": "code",
   "execution_count": 8,
   "id": "39303082-44e3-4da7-a67f-75301d0da228",
   "metadata": {},
   "outputs": [
    {
     "data": {
      "text/plain": [
       "{'Name': 'Angel', 'ID': 2207, 'DOB': 1995, 'Address': 'Bhopal'}"
      ]
     },
     "execution_count": 8,
     "metadata": {},
     "output_type": "execute_result"
    }
   ],
   "source": [
    "dict1 = {'DOB':1995} \n",
    "mydict1.update(dict1) \n",
    "mydict1 "
   ]
  },
  {
   "cell_type": "code",
   "execution_count": 9,
   "id": "c4e4f777-7d70-4dbf-9cb5-8dfcd8e0375d",
   "metadata": {},
   "outputs": [
    {
     "data": {
      "text/plain": [
       "{'Name': 'Angel',\n",
       " 'ID': 2207,\n",
       " 'DOB': 1995,\n",
       " 'Address': 'Bhopal',\n",
       " 'Job': 'Analyst'}"
      ]
     },
     "execution_count": 9,
     "metadata": {},
     "output_type": "execute_result"
    }
   ],
   "source": [
    "mydict1['Job'] = 'Analyst' # Adding items in the dictionary \n",
    "mydict1 "
   ]
  },
  {
   "cell_type": "code",
   "execution_count": 10,
   "id": "c655b624-1127-4def-b7c2-fa263f45f072",
   "metadata": {},
   "outputs": [
    {
     "data": {
      "text/plain": [
       "{'Name': 'Angel', 'ID': 2207, 'DOB': 1995, 'Address': 'Bhopal'}"
      ]
     },
     "execution_count": 10,
     "metadata": {},
     "output_type": "execute_result"
    }
   ],
   "source": [
    "mydict1.pop('Job') # Removing items in the dictionary using Pop() method \n",
    "mydict1 "
   ]
  },
  {
   "cell_type": "code",
   "execution_count": 11,
   "id": "c6334a72-ce26-4ebe-a27b-de7224b12aa3",
   "metadata": {},
   "outputs": [
    {
     "data": {
      "text/plain": [
       "('Address', 'Bhopal')"
      ]
     },
     "execution_count": 11,
     "metadata": {},
     "output_type": "execute_result"
    }
   ],
   "source": [
    "mydict1.popitem() # A random item is removed "
   ]
  },
  {
   "cell_type": "code",
   "execution_count": 12,
   "id": "a7f9a3d3-3077-421b-8cdd-eaf1a6f8c087",
   "metadata": {},
   "outputs": [
    {
     "data": {
      "text/plain": [
       "{'Name': 'Angel', 'ID': 2207, 'DOB': 1995}"
      ]
     },
     "execution_count": 12,
     "metadata": {},
     "output_type": "execute_result"
    }
   ],
   "source": [
    "mydict1"
   ]
  },
  {
   "cell_type": "code",
   "execution_count": 13,
   "id": "27d2b5c4-a84c-4807-8531-aac8eb5c5a77",
   "metadata": {},
   "outputs": [
    {
     "data": {
      "text/plain": [
       "{'Name': 'Angel', 'DOB': 1995}"
      ]
     },
     "execution_count": 13,
     "metadata": {},
     "output_type": "execute_result"
    }
   ],
   "source": [
    "del[mydict1['ID']] # Removing item using del method \n",
    "mydict1"
   ]
  },
  {
   "cell_type": "code",
   "execution_count": 14,
   "id": "e3921bbc-3d6f-4731-b787-f26cc5eeb8b0",
   "metadata": {},
   "outputs": [
    {
     "data": {
      "text/plain": [
       "{}"
      ]
     },
     "execution_count": 14,
     "metadata": {},
     "output_type": "execute_result"
    }
   ],
   "source": [
    "mydict1.clear() # Delete all items of the dictionary using clear method \n",
    "mydict1 "
   ]
  },
  {
   "cell_type": "code",
   "execution_count": 15,
   "id": "146ab49e-99b9-4c66-ad4d-c4512dcf6c45",
   "metadata": {},
   "outputs": [
    {
     "ename": "NameError",
     "evalue": "name 'mydict1' is not defined",
     "output_type": "error",
     "traceback": [
      "\u001b[1;31m---------------------------------------------------------------------------\u001b[0m",
      "\u001b[1;31mNameError\u001b[0m                                 Traceback (most recent call last)",
      "Cell \u001b[1;32mIn[15], line 2\u001b[0m\n\u001b[0;32m      1\u001b[0m \u001b[38;5;28;01mdel\u001b[39;00m mydict1 \u001b[38;5;66;03m# Delete the dictionary object \u001b[39;00m\n\u001b[1;32m----> 2\u001b[0m mydict1\n",
      "\u001b[1;31mNameError\u001b[0m: name 'mydict1' is not defined"
     ]
    }
   ],
   "source": [
    "del mydict1 # Delete the dictionary object \n",
    "mydict1 "
   ]
  },
  {
   "cell_type": "code",
   "execution_count": null,
   "id": "02ef40c5-c97e-4281-829e-298a78c987c3",
   "metadata": {},
   "outputs": [],
   "source": []
  },
  {
   "cell_type": "markdown",
   "id": "6007c941-96a9-4a23-97d5-bd6e42649a16",
   "metadata": {},
   "source": [
    "# Copy Dictionary"
   ]
  },
  {
   "cell_type": "code",
   "execution_count": 16,
   "id": "a5371e2b-93bb-477a-9a5e-cb0b8ea064b5",
   "metadata": {},
   "outputs": [
    {
     "data": {
      "text/plain": [
       "{'Name': 'Angel', 'ID': 2207, 'DOB': 2124, 'Address': 'Delhi'}"
      ]
     },
     "execution_count": 16,
     "metadata": {},
     "output_type": "execute_result"
    }
   ],
   "source": [
    "mydict = {'Name':'Angel' , 'ID': 2207 , 'DOB': 2124 , 'Address' :'Delhi'} \n",
    "mydict"
   ]
  },
  {
   "cell_type": "code",
   "execution_count": 17,
   "id": "c7537bb0-9a2b-4a1b-b082-beb075ce83b4",
   "metadata": {},
   "outputs": [],
   "source": [
    "mydict1 = mydict   # Create a new reference \"mydict1\""
   ]
  },
  {
   "cell_type": "code",
   "execution_count": 19,
   "id": "b90589bc-0c75-4888-99f9-da2e23829827",
   "metadata": {},
   "outputs": [
    {
     "data": {
      "text/plain": [
       "(2077253023296, 2077253023296)"
      ]
     },
     "execution_count": 19,
     "metadata": {},
     "output_type": "execute_result"
    }
   ],
   "source": [
    "id(mydict1) , id(mydict)   # The address of both mydict & mydict1 will be the same "
   ]
  },
  {
   "cell_type": "code",
   "execution_count": 20,
   "id": "94a2c2a8-30bc-4b22-a8c2-ebb3a3e93fc9",
   "metadata": {},
   "outputs": [],
   "source": [
    "mydict2 = mydict.copy() # Create a copy of the dictionary "
   ]
  },
  {
   "cell_type": "code",
   "execution_count": 21,
   "id": "05e62bce-ddd6-4eea-805e-a18da8c12a7b",
   "metadata": {},
   "outputs": [
    {
     "data": {
      "text/plain": [
       "2077253100672"
      ]
     },
     "execution_count": 21,
     "metadata": {},
     "output_type": "execute_result"
    }
   ],
   "source": [
    "id(mydict2) # The address of mydict2 will be different from mydict because mydic "
   ]
  },
  {
   "cell_type": "code",
   "execution_count": 22,
   "id": "a3e1d037-62fe-4bd0-8581-fa3500b2656e",
   "metadata": {},
   "outputs": [],
   "source": [
    " mydict['Address'] = 'Patna'"
   ]
  },
  {
   "cell_type": "code",
   "execution_count": 23,
   "id": "a03843c8-69fd-473f-a0f6-a78480517885",
   "metadata": {},
   "outputs": [
    {
     "data": {
      "text/plain": [
       "{'Name': 'Angel', 'ID': 2207, 'DOB': 2124, 'Address': 'Patna'}"
      ]
     },
     "execution_count": 23,
     "metadata": {},
     "output_type": "execute_result"
    }
   ],
   "source": [
    "mydict"
   ]
  },
  {
   "cell_type": "code",
   "execution_count": 24,
   "id": "b38ca0e2-1ae7-4231-947d-2fbd3d650d15",
   "metadata": {},
   "outputs": [
    {
     "data": {
      "text/plain": [
       "{'Name': 'Angel', 'ID': 2207, 'DOB': 2124, 'Address': 'Patna'}"
      ]
     },
     "execution_count": 24,
     "metadata": {},
     "output_type": "execute_result"
    }
   ],
   "source": [
    "mydict1  # mydict1 will be also impacted as it is pointing to the same dictionary "
   ]
  },
  {
   "cell_type": "code",
   "execution_count": 25,
   "id": "cdaf14f4-2f58-4af4-a430-c79aecfdccbf",
   "metadata": {},
   "outputs": [
    {
     "data": {
      "text/plain": [
       "{'Name': 'Angel', 'ID': 2207, 'DOB': 2124, 'Address': 'Delhi'}"
      ]
     },
     "execution_count": 25,
     "metadata": {},
     "output_type": "execute_result"
    }
   ],
   "source": [
    "mydict2  # Copy of list won't be impacted due to the changes made in the original "
   ]
  },
  {
   "cell_type": "code",
   "execution_count": null,
   "id": "59011b97-3150-4c06-ac75-730224d59970",
   "metadata": {},
   "outputs": [],
   "source": []
  },
  {
   "cell_type": "markdown",
   "id": "483e682e-2c39-4749-8120-1a9e574d567a",
   "metadata": {},
   "source": [
    "# Loop through a Dictionary"
   ]
  },
  {
   "cell_type": "code",
   "execution_count": 26,
   "id": "cc558a8d-2588-4b14-a98f-66b1c973587c",
   "metadata": {},
   "outputs": [
    {
     "data": {
      "text/plain": [
       "{'Name': 'Angel', 'ID': 2207, 'DOB': 2124, 'Address': 'Delhi'}"
      ]
     },
     "execution_count": 26,
     "metadata": {},
     "output_type": "execute_result"
    }
   ],
   "source": [
    "mydict1 = {'Name':'Angel' , 'ID': 2207 , 'DOB': 2124 , 'Address' :'Delhi'} \n",
    "mydict1 "
   ]
  },
  {
   "cell_type": "code",
   "execution_count": 27,
   "id": "b73f130b-7f59-4dd0-a8d4-0db98d8ebc58",
   "metadata": {},
   "outputs": [
    {
     "name": "stdout",
     "output_type": "stream",
     "text": [
      "Name : Angel\n",
      "ID : 2207\n",
      "DOB : 2124\n",
      "Address : Patna\n"
     ]
    }
   ],
   "source": [
    "for i in mydict1:\n",
    "    print(i, ':', mydict[i])"
   ]
  },
  {
   "cell_type": "code",
   "execution_count": 29,
   "id": "cd23f1f9-97e4-4894-a37a-2f901f6c3f3c",
   "metadata": {},
   "outputs": [
    {
     "name": "stdout",
     "output_type": "stream",
     "text": [
      "Angel\n",
      "2207\n",
      "2124\n",
      "Delhi\n"
     ]
    }
   ],
   "source": [
    "for i in mydict1: \n",
    "    print(mydict1[i]) # Dictionary items "
   ]
  },
  {
   "cell_type": "code",
   "execution_count": null,
   "id": "8a02044f-38b0-456a-af8c-d4afb76be8e6",
   "metadata": {},
   "outputs": [],
   "source": []
  },
  {
   "cell_type": "markdown",
   "id": "e7bcfd9a-5014-4dd8-8239-08d9f3f350b1",
   "metadata": {},
   "source": [
    "# Dictionary Membership"
   ]
  },
  {
   "cell_type": "code",
   "execution_count": 30,
   "id": "b180b65a-98f1-462b-bf11-dc410dbd9ff2",
   "metadata": {},
   "outputs": [
    {
     "data": {
      "text/plain": [
       "{'Name': 'Angel', 'ID': 2207, 'DOB': 2124, 'Address': 'Delhi'}"
      ]
     },
     "execution_count": 30,
     "metadata": {},
     "output_type": "execute_result"
    }
   ],
   "source": [
    "mydict1 = {'Name':'Angel' , 'ID': 2207 , 'DOB': 2124 , 'Address' :'Delhi'} \n",
    "mydict1 "
   ]
  },
  {
   "cell_type": "code",
   "execution_count": 31,
   "id": "97715780-b41f-49b9-bf25-a82ce6366e4e",
   "metadata": {},
   "outputs": [
    {
     "data": {
      "text/plain": [
       "True"
      ]
     },
     "execution_count": 31,
     "metadata": {},
     "output_type": "execute_result"
    }
   ],
   "source": [
    "'Name' in mydict1 # Test if a key is in a dictionary or not. "
   ]
  },
  {
   "cell_type": "code",
   "execution_count": 32,
   "id": "dc3d38c6-deeb-421c-b798-7c792c2a8534",
   "metadata": {},
   "outputs": [
    {
     "data": {
      "text/plain": [
       "False"
      ]
     },
     "execution_count": 32,
     "metadata": {},
     "output_type": "execute_result"
    }
   ],
   "source": [
    "'Singh' in mydict1 # Membership test can be only done for keys. "
   ]
  },
  {
   "cell_type": "code",
   "execution_count": 33,
   "id": "80360949-bae9-4748-879b-7fbbf94e7969",
   "metadata": {},
   "outputs": [
    {
     "data": {
      "text/plain": [
       "True"
      ]
     },
     "execution_count": 33,
     "metadata": {},
     "output_type": "execute_result"
    }
   ],
   "source": [
    "'ID' in mydict1 "
   ]
  },
  {
   "cell_type": "code",
   "execution_count": 34,
   "id": "5c7c1ac8-09d5-473f-8323-6dd880f0f8bd",
   "metadata": {},
   "outputs": [
    {
     "data": {
      "text/plain": [
       "False"
      ]
     },
     "execution_count": 34,
     "metadata": {},
     "output_type": "execute_result"
    }
   ],
   "source": [
    "'Job' in mydict1 "
   ]
  },
  {
   "cell_type": "code",
   "execution_count": null,
   "id": "ea8033da-96e6-481d-813b-e0a71893a389",
   "metadata": {},
   "outputs": [],
   "source": []
  },
  {
   "cell_type": "markdown",
   "id": "99d5c99a-5e43-448e-bb44-53e9c0742172",
   "metadata": {},
   "source": [
    "# All/Any\n",
    "The all() method returns: \n",
    "True - If all all keys of the dictionary are true \n",
    "False - If any key of the dictionary is false \n",
    "The any() function returns True if any key of the dictionary is True. If not, any() returns False."
   ]
  },
  {
   "cell_type": "code",
   "execution_count": 36,
   "id": "875ed640-a9e3-4d37-a915-f160611fa0c2",
   "metadata": {},
   "outputs": [
    {
     "data": {
      "text/plain": [
       "{'Name': 'Angel', 'ID': 2207, 'DOB': 2124, 'Address': 'Delhi'}"
      ]
     },
     "execution_count": 36,
     "metadata": {},
     "output_type": "execute_result"
    }
   ],
   "source": [
    "mydict1 = {'Name':'Angel' , 'ID': 2207 , 'DOB': 2124 , 'Address' :'Delhi'} \n",
    "mydict1 "
   ]
  },
  {
   "cell_type": "code",
   "execution_count": 37,
   "id": "6ef3a80e-d5da-46c3-9041-437a76627ccf",
   "metadata": {},
   "outputs": [
    {
     "data": {
      "text/plain": [
       "True"
      ]
     },
     "execution_count": 37,
     "metadata": {},
     "output_type": "execute_result"
    }
   ],
   "source": [
    "all(mydict1) # Will Return false as one value is false (Value 0) "
   ]
  },
  {
   "cell_type": "code",
   "execution_count": 38,
   "id": "b2ba7335-c15e-4841-a625-5a8fe7abf101",
   "metadata": {},
   "outputs": [
    {
     "data": {
      "text/plain": [
       "True"
      ]
     },
     "execution_count": 38,
     "metadata": {},
     "output_type": "execute_result"
    }
   ],
   "source": [
    "any(mydict1) # Will Return true as all the values are true "
   ]
  },
  {
   "cell_type": "code",
   "execution_count": null,
   "id": "1d6d719a-56a1-4e27-82e6-bb30fc7c0305",
   "metadata": {},
   "outputs": [],
   "source": []
  }
 ],
 "metadata": {
  "kernelspec": {
   "display_name": "Python [conda env:base] *",
   "language": "python",
   "name": "conda-base-py"
  },
  "language_info": {
   "codemirror_mode": {
    "name": "ipython",
    "version": 3
   },
   "file_extension": ".py",
   "mimetype": "text/x-python",
   "name": "python",
   "nbconvert_exporter": "python",
   "pygments_lexer": "ipython3",
   "version": "3.12.7"
  }
 },
 "nbformat": 4,
 "nbformat_minor": 5
}
