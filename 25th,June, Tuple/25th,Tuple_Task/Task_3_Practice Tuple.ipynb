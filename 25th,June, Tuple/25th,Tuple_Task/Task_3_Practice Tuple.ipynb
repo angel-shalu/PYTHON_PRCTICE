{
 "cells": [
  {
   "cell_type": "markdown",
   "id": "59f15b8c-2385-4235-81a1-1458a1ce091e",
   "metadata": {},
   "source": [
    "#### TUPLE CREATION ####"
   ]
  },
  {
   "cell_type": "code",
   "execution_count": 21,
   "id": "f13fb6c6-dad3-4edf-a68f-a7951227dcb4",
   "metadata": {},
   "outputs": [],
   "source": [
    "tup = ()   # Empty tuple"
   ]
  },
  {
   "cell_type": "code",
   "execution_count": 22,
   "id": "b6a82fc0-7ca6-493c-9ec2-16e8c43bc9d4",
   "metadata": {},
   "outputs": [],
   "source": [
    "tup1 =  (10,20,30,40)  #tuple of integer number"
   ]
  },
  {
   "cell_type": "code",
   "execution_count": 23,
   "id": "369aea34-7c8d-4343-b539-e04cf01fcf1b",
   "metadata": {},
   "outputs": [],
   "source": [
    "tup2 = (1.4, 7,8, 22.7, 7.22)  # tuple of float number"
   ]
  },
  {
   "cell_type": "code",
   "execution_count": 15,
   "id": "11cc6d70-014a-4a21-b8d3-93a2a5ce15ae",
   "metadata": {},
   "outputs": [],
   "source": [
    "tup3 = ('one','two','three','four')   #tupe of strings"
   ]
  },
  {
   "cell_type": "code",
   "execution_count": 24,
   "id": "9ce8265b-eb3f-45fa-a987-fcbdc6e928d7",
   "metadata": {},
   "outputs": [],
   "source": [
    "tup4 = ('book',22,7,(9,10),(22,9))     # Nested tuple"
   ]
  },
  {
   "cell_type": "code",
   "execution_count": 25,
   "id": "58315fe7-9e11-4b66-b9b8-e85f1f4883d7",
   "metadata": {},
   "outputs": [],
   "source": [
    "tup5 = (22,7,22.7,'notebook')    # tuple of mixed data type"
   ]
  },
  {
   "cell_type": "code",
   "execution_count": 26,
   "id": "31c9f799-e2e4-4003-b839-248e267168d9",
   "metadata": {},
   "outputs": [],
   "source": [
    "tup6 = ('one',22,[22,7],[9,10],{'book','pen'},(6,44,77))"
   ]
  },
  {
   "cell_type": "code",
   "execution_count": 27,
   "id": "a5f96fec-2b7f-4aad-93dc-ca33d9748cd0",
   "metadata": {},
   "outputs": [
    {
     "data": {
      "text/plain": [
       "6"
      ]
     },
     "execution_count": 27,
     "metadata": {},
     "output_type": "execute_result"
    }
   ],
   "source": [
    "len(tup6)   #length of tuple"
   ]
  },
  {
   "cell_type": "code",
   "execution_count": null,
   "id": "aa8604a1-1f8d-41e9-a4a8-b273cd8f3141",
   "metadata": {},
   "outputs": [],
   "source": []
  },
  {
   "cell_type": "markdown",
   "id": "7c7abcf5-b5fe-4178-b284-104d2f5c85c2",
   "metadata": {},
   "source": [
    "#### TUPLE INDEXING ####"
   ]
  },
  {
   "cell_type": "code",
   "execution_count": 29,
   "id": "fa6fc53d-aa1a-499b-9ecf-d2a5e4478b09",
   "metadata": {},
   "outputs": [
    {
     "data": {
      "text/plain": [
       "10"
      ]
     },
     "execution_count": 29,
     "metadata": {},
     "output_type": "execute_result"
    }
   ],
   "source": [
    "tup1[0]    # Retreive first element of the tuple"
   ]
  },
  {
   "cell_type": "code",
   "execution_count": 30,
   "id": "2d9ce4b4-a9cc-464b-add2-1329c5e9c808",
   "metadata": {},
   "outputs": [
    {
     "data": {
      "text/plain": [
       "'one'"
      ]
     },
     "execution_count": 30,
     "metadata": {},
     "output_type": "execute_result"
    }
   ],
   "source": [
    "tup3[0]   "
   ]
  },
  {
   "cell_type": "code",
   "execution_count": 32,
   "id": "1b6aadfc-3441-43cc-9be0-e50f4b34175b",
   "metadata": {},
   "outputs": [
    {
     "data": {
      "text/plain": [
       "'o'"
      ]
     },
     "execution_count": 32,
     "metadata": {},
     "output_type": "execute_result"
    }
   ],
   "source": [
    "tup3[0][0]  # Nested indexing -Acces the first character of the first tuple element"
   ]
  },
  {
   "cell_type": "code",
   "execution_count": 33,
   "id": "6deda5f3-57d3-4d9e-996f-cd3be2a8818f",
   "metadata": {},
   "outputs": [
    {
     "data": {
      "text/plain": [
       "'four'"
      ]
     },
     "execution_count": 33,
     "metadata": {},
     "output_type": "execute_result"
    }
   ],
   "source": [
    "tup3[-1]  #last item of the tuple"
   ]
  },
  {
   "cell_type": "code",
   "execution_count": 52,
   "id": "c9b7e353-f5a5-4af1-8c37-69f5be779a12",
   "metadata": {},
   "outputs": [
    {
     "data": {
      "text/plain": [
       "(22, 9)"
      ]
     },
     "execution_count": 52,
     "metadata": {},
     "output_type": "execute_result"
    }
   ],
   "source": [
    "tup4[-1]   "
   ]
  },
  {
   "cell_type": "code",
   "execution_count": null,
   "id": "c1b4d13e-01c9-458c-9e67-08f5cca3afa0",
   "metadata": {},
   "outputs": [],
   "source": []
  },
  {
   "cell_type": "markdown",
   "id": "c8bf0917-63a2-4860-b76c-a3a1b1fae100",
   "metadata": {},
   "source": [
    "#### TUPLE SLICING ####"
   ]
  },
  {
   "cell_type": "code",
   "execution_count": 35,
   "id": "3bb8ddee-6ec1-4de4-b8eb-b9cf28f29b3b",
   "metadata": {},
   "outputs": [],
   "source": [
    "mytuple = ('notebook','pen','book','chair','table','watch','pencil','eraser')"
   ]
  },
  {
   "cell_type": "code",
   "execution_count": 36,
   "id": "20e76ed5-1735-4e4b-8f84-dd263feae321",
   "metadata": {},
   "outputs": [
    {
     "data": {
      "text/plain": [
       "('notebook', 'pen', 'book')"
      ]
     },
     "execution_count": 36,
     "metadata": {},
     "output_type": "execute_result"
    }
   ],
   "source": [
    "mytuple[0:3]   # Returns all items from 0th to 3rd index location executing the item"
   ]
  },
  {
   "cell_type": "code",
   "execution_count": 37,
   "id": "eca3022b-bf16-443b-a086-2f6c1cf80f73",
   "metadata": {},
   "outputs": [
    {
     "data": {
      "text/plain": [
       "('book', 'chair', 'table')"
      ]
     },
     "execution_count": 37,
     "metadata": {},
     "output_type": "execute_result"
    }
   ],
   "source": [
    "mytuple[2:5]  #List all items from 2nd to 5th index location executing the item"
   ]
  },
  {
   "cell_type": "code",
   "execution_count": 38,
   "id": "d8b1670f-23be-4173-8c88-5f38d922ec63",
   "metadata": {},
   "outputs": [
    {
     "data": {
      "text/plain": [
       "('notebook', 'pen', 'book')"
      ]
     },
     "execution_count": 38,
     "metadata": {},
     "output_type": "execute_result"
    }
   ],
   "source": [
    "mytuple[:3]    # retun fist three elements"
   ]
  },
  {
   "cell_type": "code",
   "execution_count": 39,
   "id": "c18539fa-c776-4b16-b80a-9f1a2bef8950",
   "metadata": {},
   "outputs": [
    {
     "data": {
      "text/plain": [
       "('watch', 'pencil', 'eraser')"
      ]
     },
     "execution_count": 39,
     "metadata": {},
     "output_type": "execute_result"
    }
   ],
   "source": [
    "mytuple[-3:]    #returns last three items"
   ]
  },
  {
   "cell_type": "code",
   "execution_count": 40,
   "id": "20dc1068-4f2b-4dda-af2b-6b2afc0683b3",
   "metadata": {},
   "outputs": [
    {
     "data": {
      "text/plain": [
       "'eraser'"
      ]
     },
     "execution_count": 40,
     "metadata": {},
     "output_type": "execute_result"
    }
   ],
   "source": [
    "mytuple[-1]   # return last item of the tuple"
   ]
  },
  {
   "cell_type": "code",
   "execution_count": 42,
   "id": "21577512-6ed7-472c-88b3-c849c1f93d84",
   "metadata": {},
   "outputs": [
    {
     "data": {
      "text/plain": [
       "('notebook', 'pen', 'book', 'chair', 'table', 'watch', 'pencil', 'eraser')"
      ]
     },
     "execution_count": 42,
     "metadata": {},
     "output_type": "execute_result"
    }
   ],
   "source": [
    "mytuple[:]  # return whole tuple"
   ]
  },
  {
   "cell_type": "code",
   "execution_count": null,
   "id": "b25c5551-b12e-4555-b792-ce53341846e0",
   "metadata": {},
   "outputs": [],
   "source": []
  },
  {
   "cell_type": "markdown",
   "id": "8e7984f6-5a2d-44d3-acd8-7694ec35dd8f",
   "metadata": {},
   "source": [
    "####  REMOVE AND CHNAGE ITEMS ####"
   ]
  },
  {
   "cell_type": "code",
   "execution_count": 43,
   "id": "69361c66-1341-46a8-82d4-1fe6f18bc0cc",
   "metadata": {},
   "outputs": [
    {
     "data": {
      "text/plain": [
       "('notebook', 'pen', 'book', 'chair', 'table', 'watch', 'pencil', 'eraser')"
      ]
     },
     "execution_count": 43,
     "metadata": {},
     "output_type": "execute_result"
    }
   ],
   "source": [
    "mytuple "
   ]
  },
  {
   "cell_type": "code",
   "execution_count": 44,
   "id": "31dc6b5e-90d1-4f81-8c74-ad49bb4a7391",
   "metadata": {},
   "outputs": [
    {
     "ename": "TypeError",
     "evalue": "'tuple' object doesn't support item deletion",
     "output_type": "error",
     "traceback": [
      "\u001b[1;31m---------------------------------------------------------------------------\u001b[0m",
      "\u001b[1;31mTypeError\u001b[0m                                 Traceback (most recent call last)",
      "Cell \u001b[1;32mIn[44], line 1\u001b[0m\n\u001b[1;32m----> 1\u001b[0m \u001b[38;5;28;01mdel\u001b[39;00m mytuple[\u001b[38;5;241m0\u001b[39m]\n",
      "\u001b[1;31mTypeError\u001b[0m: 'tuple' object doesn't support item deletion"
     ]
    }
   ],
   "source": [
    "del mytuple[0]  #tuples are immutable which means we can't delete tuple items"
   ]
  },
  {
   "cell_type": "code",
   "execution_count": 45,
   "id": "0b272627-0960-418a-ae7f-b875882e68c2",
   "metadata": {},
   "outputs": [
    {
     "ename": "TypeError",
     "evalue": "'tuple' object does not support item assignment",
     "output_type": "error",
     "traceback": [
      "\u001b[1;31m---------------------------------------------------------------------------\u001b[0m",
      "\u001b[1;31mTypeError\u001b[0m                                 Traceback (most recent call last)",
      "Cell \u001b[1;32mIn[45], line 1\u001b[0m\n\u001b[1;32m----> 1\u001b[0m mytuple[\u001b[38;5;241m0\u001b[39m] \u001b[38;5;241m=\u001b[39m \u001b[38;5;241m1\u001b[39m\n",
      "\u001b[1;31mTypeError\u001b[0m: 'tuple' object does not support item assignment"
     ]
    }
   ],
   "source": [
    "mytuple[0] = 1   #tuples r immutable which can't be chnage "
   ]
  },
  {
   "cell_type": "code",
   "execution_count": 46,
   "id": "3cfdd2c0-527d-4e25-8d55-24d92d73087d",
   "metadata": {},
   "outputs": [],
   "source": [
    "del mytuple  # delete entire tuple object is possible"
   ]
  },
  {
   "cell_type": "code",
   "execution_count": null,
   "id": "4830e5c9-33bb-4dcd-aaf1-1ad13ed9d81d",
   "metadata": {},
   "outputs": [],
   "source": []
  },
  {
   "cell_type": "markdown",
   "id": "a66c50b6-203b-4772-89e0-de4165bd3510",
   "metadata": {},
   "source": [
    "#### LOOP THROUGH A TUPLE ####"
   ]
  },
  {
   "cell_type": "code",
   "execution_count": 48,
   "id": "67102cfb-638a-48ec-8c14-915d1db28f68",
   "metadata": {},
   "outputs": [],
   "source": [
    "mytuple = ('notebook','pen','book','chair','table','watch','pencil','eraser')"
   ]
  },
  {
   "cell_type": "code",
   "execution_count": 49,
   "id": "1efbc0ee-1540-4fb8-87b9-2bd9adbfa85d",
   "metadata": {},
   "outputs": [
    {
     "data": {
      "text/plain": [
       "('notebook', 'pen', 'book', 'chair', 'table', 'watch', 'pencil', 'eraser')"
      ]
     },
     "execution_count": 49,
     "metadata": {},
     "output_type": "execute_result"
    }
   ],
   "source": [
    "mytuple"
   ]
  },
  {
   "cell_type": "code",
   "execution_count": 50,
   "id": "22ab1346-a884-44e8-81f7-d4306a76509a",
   "metadata": {},
   "outputs": [
    {
     "name": "stdout",
     "output_type": "stream",
     "text": [
      "notebook\n",
      "pen\n",
      "book\n",
      "chair\n",
      "table\n",
      "watch\n",
      "pencil\n",
      "eraser\n"
     ]
    }
   ],
   "source": [
    "for i in mytuple:\n",
    "    print(i)"
   ]
  },
  {
   "cell_type": "code",
   "execution_count": 51,
   "id": "a4b7d9f3-7ca7-4743-9f83-2f88fc8101ac",
   "metadata": {},
   "outputs": [
    {
     "name": "stdout",
     "output_type": "stream",
     "text": [
      "(0, 'notebook')\n",
      "(1, 'pen')\n",
      "(2, 'book')\n",
      "(3, 'chair')\n",
      "(4, 'table')\n",
      "(5, 'watch')\n",
      "(6, 'pencil')\n",
      "(7, 'eraser')\n"
     ]
    }
   ],
   "source": [
    "for i in enumerate(mytuple):\n",
    "    print(i)"
   ]
  },
  {
   "cell_type": "code",
   "execution_count": null,
   "id": "eed21514-2062-4776-9219-daa66a58c83e",
   "metadata": {},
   "outputs": [],
   "source": []
  },
  {
   "cell_type": "markdown",
   "id": "40a16e51-8b23-4af5-b1c1-fcb38fc66b89",
   "metadata": {},
   "source": [
    "#### TUPLE MEMBERSHIP  ####"
   ]
  },
  {
   "cell_type": "code",
   "execution_count": 53,
   "id": "44a1ef35-59b3-4649-b4cb-8caeca0585e6",
   "metadata": {},
   "outputs": [
    {
     "data": {
      "text/plain": [
       "('notebook', 'pen', 'book', 'chair', 'table', 'watch', 'pencil', 'eraser')"
      ]
     },
     "execution_count": 53,
     "metadata": {},
     "output_type": "execute_result"
    }
   ],
   "source": [
    "mytuple"
   ]
  },
  {
   "cell_type": "code",
   "execution_count": 54,
   "id": "50aa3747-ac98-4d26-916b-baa82983ce9f",
   "metadata": {},
   "outputs": [
    {
     "data": {
      "text/plain": [
       "True"
      ]
     },
     "execution_count": 54,
     "metadata": {},
     "output_type": "execute_result"
    }
   ],
   "source": [
    "\"book\" in mytuple  # Check if \"book\" exist in list"
   ]
  },
  {
   "cell_type": "code",
   "execution_count": 56,
   "id": "56bca553-77f5-42df-b38f-f132942441b0",
   "metadata": {},
   "outputs": [
    {
     "data": {
      "text/plain": [
       "False"
      ]
     },
     "execution_count": 56,
     "metadata": {},
     "output_type": "execute_result"
    }
   ],
   "source": [
    "\"grapes\" in mytuple   # Check if \"grapes\" exist in list"
   ]
  },
  {
   "cell_type": "code",
   "execution_count": 57,
   "id": "45508ae0-bf4f-4275-85ad-8e354eac4b30",
   "metadata": {},
   "outputs": [
    {
     "name": "stdout",
     "output_type": "stream",
     "text": [
      "Book is present in the table\n"
     ]
    }
   ],
   "source": [
    "if \"book\" in mytuple:\n",
    "    print(\"Book is present in the table\")\n",
    "else:\n",
    "    print(\"Book is not present in the table\")"
   ]
  },
  {
   "cell_type": "code",
   "execution_count": 58,
   "id": "4930ecac-0158-4dbd-aaa2-c60de6c74a3b",
   "metadata": {},
   "outputs": [
    {
     "name": "stdout",
     "output_type": "stream",
     "text": [
      "apple is not present in the table\n"
     ]
    }
   ],
   "source": [
    "if \"apple\" in mytuple:\n",
    "    print(\"apple is present in the table\")\n",
    "else:\n",
    "    print(\"apple is not present in the table\")"
   ]
  },
  {
   "cell_type": "code",
   "execution_count": null,
   "id": "9d50dc18-4225-4c8b-b333-12361242378e",
   "metadata": {},
   "outputs": [],
   "source": []
  },
  {
   "cell_type": "markdown",
   "id": "ae2d8f90-bc65-4379-b625-dc3a5f6910f0",
   "metadata": {},
   "source": [
    "#### INDEX POSITION ####"
   ]
  },
  {
   "cell_type": "code",
   "execution_count": 59,
   "id": "2813a69d-0c11-4a05-80bc-27928007657d",
   "metadata": {},
   "outputs": [
    {
     "data": {
      "text/plain": [
       "('notebook', 'pen', 'book', 'chair', 'table', 'watch', 'pencil', 'eraser')"
      ]
     },
     "execution_count": 59,
     "metadata": {},
     "output_type": "execute_result"
    }
   ],
   "source": [
    "mytuple"
   ]
  },
  {
   "cell_type": "code",
   "execution_count": 60,
   "id": "5a4787a3-3145-4290-8a15-f380e8b04ea8",
   "metadata": {},
   "outputs": [
    {
     "data": {
      "text/plain": [
       "0"
      ]
     },
     "execution_count": 60,
     "metadata": {},
     "output_type": "execute_result"
    }
   ],
   "source": [
    "mytuple.index(\"notebook\")  # index of the first element equal to \"notebook\""
   ]
  },
  {
   "cell_type": "code",
   "execution_count": 61,
   "id": "ed756cef-2101-458e-b7fd-c230ec4e274e",
   "metadata": {},
   "outputs": [
    {
     "data": {
      "text/plain": [
       "5"
      ]
     },
     "execution_count": 61,
     "metadata": {},
     "output_type": "execute_result"
    }
   ],
   "source": [
    "mytuple.index(\"watch\")"
   ]
  },
  {
   "cell_type": "code",
   "execution_count": 62,
   "id": "f0c48131-aa05-4ed6-acab-9e29145c31a3",
   "metadata": {},
   "outputs": [],
   "source": [
    "mytuple1 = ('notebook', 'pen', 'book','notebook','notebook', 'pen', 'book',)"
   ]
  },
  {
   "cell_type": "code",
   "execution_count": 63,
   "id": "dfdcacc4-0869-43c8-90d4-31e55b82fbd0",
   "metadata": {},
   "outputs": [
    {
     "data": {
      "text/plain": [
       "('notebook', 'pen', 'book', 'notebook', 'notebook', 'pen', 'book')"
      ]
     },
     "execution_count": 63,
     "metadata": {},
     "output_type": "execute_result"
    }
   ],
   "source": [
    "mytuple1"
   ]
  },
  {
   "cell_type": "code",
   "execution_count": 64,
   "id": "9dc059bb-a0a5-4bbb-8def-c62e755b8bd6",
   "metadata": {},
   "outputs": [
    {
     "data": {
      "text/plain": [
       "0"
      ]
     },
     "execution_count": 64,
     "metadata": {},
     "output_type": "execute_result"
    }
   ],
   "source": [
    "mytuple1.index('notebook') #Index of first element equal to \"notebook\""
   ]
  },
  {
   "cell_type": "code",
   "execution_count": null,
   "id": "1f69f7a9-9886-43e6-b44f-95378cc72d48",
   "metadata": {},
   "outputs": [],
   "source": []
  },
  {
   "cell_type": "markdown",
   "id": "5ebecb11-a2b0-4bb7-af2a-3b12f46191eb",
   "metadata": {},
   "source": [
    "#### SORTING ####"
   ]
  },
  {
   "cell_type": "code",
   "execution_count": 65,
   "id": "65d9eb5a-9111-49e9-a886-3d8fc8c7356f",
   "metadata": {},
   "outputs": [],
   "source": [
    "mytuple2 = (77,22,2,10,9,27,72)"
   ]
  },
  {
   "cell_type": "code",
   "execution_count": 66,
   "id": "90d0e69e-0bd1-41db-bdb8-05b4dd662d97",
   "metadata": {},
   "outputs": [
    {
     "data": {
      "text/plain": [
       "(77, 22, 2, 10, 9, 27, 72)"
      ]
     },
     "execution_count": 66,
     "metadata": {},
     "output_type": "execute_result"
    }
   ],
   "source": [
    "mytuple2"
   ]
  },
  {
   "cell_type": "code",
   "execution_count": 70,
   "id": "26d8c186-5edc-4015-9242-ee808fc042a4",
   "metadata": {},
   "outputs": [
    {
     "data": {
      "text/plain": [
       "[2, 9, 10, 22, 27, 72, 77]"
      ]
     },
     "execution_count": 70,
     "metadata": {},
     "output_type": "execute_result"
    }
   ],
   "source": [
    "sorted(mytuple2)   # Returns a new sorted list in ascending order and doesn't change original tuple"
   ]
  },
  {
   "cell_type": "code",
   "execution_count": 71,
   "id": "91b4bf5f-6d0b-4128-9114-257495103151",
   "metadata": {},
   "outputs": [
    {
     "data": {
      "text/plain": [
       "[77, 72, 27, 22, 10, 9, 2]"
      ]
     },
     "execution_count": 71,
     "metadata": {},
     "output_type": "execute_result"
    }
   ],
   "source": [
    "sorted(mytuple2, reverse=True)   #sorted in decending order"
   ]
  },
  {
   "cell_type": "code",
   "execution_count": null,
   "id": "ba8b4196-8e98-45a4-a0df-b19005682f0f",
   "metadata": {},
   "outputs": [],
   "source": []
  },
  {
   "cell_type": "code",
   "execution_count": null,
   "id": "4d38b4ba-5cd9-460d-af15-15c0502c80c8",
   "metadata": {},
   "outputs": [],
   "source": []
  },
  {
   "cell_type": "code",
   "execution_count": null,
   "id": "7cd4ab00-57e9-4010-a54d-4db73695fb23",
   "metadata": {},
   "outputs": [],
   "source": []
  },
  {
   "cell_type": "code",
   "execution_count": null,
   "id": "410bbf08-a6e7-4067-82f2-72487a2c0359",
   "metadata": {},
   "outputs": [],
   "source": []
  },
  {
   "cell_type": "code",
   "execution_count": null,
   "id": "b25ee398-74e6-41ed-b2f2-5f582dbae97c",
   "metadata": {},
   "outputs": [],
   "source": []
  },
  {
   "cell_type": "code",
   "execution_count": null,
   "id": "64863c1b-40f7-4a66-b66e-fbf7119dc749",
   "metadata": {},
   "outputs": [],
   "source": []
  },
  {
   "cell_type": "code",
   "execution_count": null,
   "id": "915fcc71-708f-46ab-9181-788087a9ba41",
   "metadata": {},
   "outputs": [],
   "source": []
  },
  {
   "cell_type": "code",
   "execution_count": null,
   "id": "d44a9528-3b4d-41a4-b101-2d77ae05bb92",
   "metadata": {},
   "outputs": [],
   "source": []
  },
  {
   "cell_type": "code",
   "execution_count": null,
   "id": "60132e02-90e5-4714-a6d5-c84d2dc9221a",
   "metadata": {},
   "outputs": [],
   "source": []
  },
  {
   "cell_type": "code",
   "execution_count": null,
   "id": "e5971b60-4ac1-4755-962c-45f121ab616d",
   "metadata": {},
   "outputs": [],
   "source": []
  },
  {
   "cell_type": "code",
   "execution_count": null,
   "id": "7b2f0158-ef3e-4af5-b912-4e13329a88a6",
   "metadata": {},
   "outputs": [],
   "source": []
  }
 ],
 "metadata": {
  "kernelspec": {
   "display_name": "Python [conda env:base] *",
   "language": "python",
   "name": "conda-base-py"
  },
  "language_info": {
   "codemirror_mode": {
    "name": "ipython",
    "version": 3
   },
   "file_extension": ".py",
   "mimetype": "text/x-python",
   "name": "python",
   "nbconvert_exporter": "python",
   "pygments_lexer": "ipython3",
   "version": "3.12.7"
  }
 },
 "nbformat": 4,
 "nbformat_minor": 5
}
