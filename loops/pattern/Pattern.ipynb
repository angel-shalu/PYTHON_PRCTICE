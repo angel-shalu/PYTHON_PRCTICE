{
 "cells": [
  {
   "cell_type": "markdown",
   "id": "d5670b36-27b7-46f2-9ba8-70709dc7012c",
   "metadata": {},
   "source": [
    "#  1. Right Angle Traingle"
   ]
  },
  {
   "cell_type": "code",
   "execution_count": 36,
   "id": "0e0802ee-e976-46af-8663-eff18bc98a6f",
   "metadata": {},
   "outputs": [
    {
     "name": "stdout",
     "output_type": "stream",
     "text": [
      "* \n",
      "* * \n",
      "* * * \n",
      "* * * * \n",
      "* * * * * \n"
     ]
    }
   ],
   "source": [
    "for i in range (1,6):\n",
    "    print(\"* \"*i)"
   ]
  },
  {
   "cell_type": "markdown",
   "id": "04ed8fe5-aaee-4767-bc1d-fe7377e76191",
   "metadata": {},
   "source": [
    "# 2. Inverted right angele Traingle"
   ]
  },
  {
   "cell_type": "code",
   "execution_count": 37,
   "id": "2cf2a8d2-a8cb-4ecc-812a-3ce5fd6ec6c1",
   "metadata": {},
   "outputs": [
    {
     "name": "stdout",
     "output_type": "stream",
     "text": [
      "* * * * * \n",
      "* * * * \n",
      "* * * \n",
      "* * \n",
      "* \n"
     ]
    }
   ],
   "source": [
    "for i in range(5, 0, -1):\n",
    "    print(\"* \" * i)"
   ]
  },
  {
   "cell_type": "code",
   "execution_count": 38,
   "id": "6434af5b-afcf-4a7b-a20f-1902fb75c669",
   "metadata": {},
   "outputs": [
    {
     "name": "stdout",
     "output_type": "stream",
     "text": [
      "* * * * * \n",
      "* * * * \n",
      "* * * \n",
      "* * \n",
      "* \n"
     ]
    }
   ],
   "source": [
    "rows = 5\n",
    "\n",
    "for i in range(rows, 0, -1):\n",
    "    print(\"* \" * i)\n"
   ]
  },
  {
   "cell_type": "code",
   "execution_count": 10,
   "id": "3434b7cc-f94e-422c-9cf4-619d478bab05",
   "metadata": {},
   "outputs": [
    {
     "name": "stdout",
     "output_type": "stream",
     "text": [
      "1 2 3 4 5 \n",
      "1 2 3 4 \n",
      "1 2 3 \n",
      "1 2 \n",
      "1 \n"
     ]
    }
   ],
   "source": [
    "rows = 5\n",
    "\n",
    "for i in range(rows, 0, -1):\n",
    "    for j in range(1, i + 1):\n",
    "        print(j, end=\" \")\n",
    "    print()\n"
   ]
  },
  {
   "cell_type": "markdown",
   "id": "5e7ba175-f480-4d13-b2bd-fa6dd015d417",
   "metadata": {},
   "source": [
    "#  3 Pyramid Pattern"
   ]
  },
  {
   "cell_type": "code",
   "execution_count": 39,
   "id": "c943ccad-1814-4411-b28a-6f377d6b7da9",
   "metadata": {},
   "outputs": [
    {
     "name": "stdout",
     "output_type": "stream",
     "text": [
      "* \n",
      "* * * \n",
      "* * * * * \n",
      "* * * * * * * \n",
      "* * * * * * * * * \n"
     ]
    }
   ],
   "source": [
    "for i in range (1,6):\n",
    "    print(\"\"*(5-i)+\"* \" *(2*i-1))"
   ]
  },
  {
   "cell_type": "code",
   "execution_count": 40,
   "id": "5a309262-afe4-424b-aa52-79973ba2a49b",
   "metadata": {},
   "outputs": [
    {
     "name": "stdout",
     "output_type": "stream",
     "text": [
      "    * \n",
      "   * * * \n",
      "  * * * * * \n",
      " * * * * * * * \n",
      "* * * * * * * * * \n"
     ]
    }
   ],
   "source": [
    "# This will print a pyramid of stars\n",
    "for i in range(1, 6):\n",
    "    spaces = 5 - i          # Number of spaces before the stars\n",
    "    stars = 2 * i - 1       # Number of stars in the current row\n",
    "    print(\" \" * spaces + \"* \" * stars)\n"
   ]
  },
  {
   "cell_type": "markdown",
   "id": "94fa3c8f-8b36-46b2-a2e4-788a6ed18e96",
   "metadata": {},
   "source": [
    "#  4 . Inverted Pyramid Pattern"
   ]
  },
  {
   "cell_type": "code",
   "execution_count": 41,
   "id": "31dc5590-76b9-49f9-9cbc-e21a7f868c7a",
   "metadata": {},
   "outputs": [
    {
     "name": "stdout",
     "output_type": "stream",
     "text": [
      "* * * * * * * * * \n",
      "* * * * * * * \n",
      "* * * * * \n",
      "* * * \n",
      "* \n"
     ]
    }
   ],
   "source": [
    "for i in range (5,0,-1):\n",
    "    print(\"\"*(5-i)+\"* \" *(2*i-1))"
   ]
  },
  {
   "cell_type": "markdown",
   "id": "4c8e688d-4157-4e66-887d-0bd8a6cc6636",
   "metadata": {},
   "source": [
    "# 5 Diamond Pattern"
   ]
  },
  {
   "cell_type": "code",
   "execution_count": 43,
   "id": "4592bcf7-bfe7-47b0-89f0-2201938acd06",
   "metadata": {},
   "outputs": [
    {
     "name": "stdout",
     "output_type": "stream",
     "text": [
      "* \n",
      "* * * \n",
      "* * * * * \n",
      "* * * * * * * \n",
      "* * * * * * * * * \n",
      "* * * * * * * \n",
      "* * * * * \n",
      "* * * \n",
      "* \n"
     ]
    }
   ],
   "source": [
    "for i in range (1,6):\n",
    "    print(\"\"*(5-i)+\"* \" *(2*i-1))\n",
    "for i in range (4,0,-1):\n",
    "    print(\"\"*(5-i)+\"* \" *(2*i-1))"
   ]
  },
  {
   "cell_type": "markdown",
   "id": "75cdc7fc-5062-427e-950a-d914fb42e195",
   "metadata": {},
   "source": [
    "#  6. Hollow Square Pattern"
   ]
  },
  {
   "cell_type": "code",
   "execution_count": 46,
   "id": "29d77dbe-ed6c-43f5-83b0-9b0536e736a1",
   "metadata": {},
   "outputs": [
    {
     "name": "stdout",
     "output_type": "stream",
     "text": [
      "*****\n",
      "*   *\n",
      "*   *\n",
      "*   *\n",
      "*****\n"
     ]
    }
   ],
   "source": [
    "for i in range(5):\n",
    "    for j in range(5):\n",
    "        if i == 0 or i == 4 or j == 0 or j == 4:\n",
    "            print('*', end='')\n",
    "        else:\n",
    "            print(' ', end='')  # print a space inside the square\n",
    "    print()  # move to the next line\n"
   ]
  },
  {
   "cell_type": "markdown",
   "id": "1fcb3dca-4379-4357-95a8-b4de28b7fb19",
   "metadata": {},
   "source": [
    "#  7 . Full Square pattern "
   ]
  },
  {
   "cell_type": "code",
   "execution_count": 47,
   "id": "0844478e-998f-4ade-9943-a87c95f5ed74",
   "metadata": {},
   "outputs": [
    {
     "name": "stdout",
     "output_type": "stream",
     "text": [
      "* * * * * \n",
      "* * * * * \n",
      "* * * * * \n",
      "* * * * * \n",
      "* * * * * \n"
     ]
    }
   ],
   "source": [
    "for i in range(5):\n",
    "    print('* '*5)"
   ]
  },
  {
   "cell_type": "markdown",
   "id": "e788340b-a337-413f-b0ae-bbd464bb3564",
   "metadata": {},
   "source": [
    "#  8.Right Angle Traingle (Number Pattern)"
   ]
  },
  {
   "cell_type": "code",
   "execution_count": 48,
   "id": "5144e19a-24b3-497c-9c0d-507862dea1dd",
   "metadata": {},
   "outputs": [
    {
     "name": "stdout",
     "output_type": "stream",
     "text": [
      "1 \n",
      "1 2 \n",
      "1 2 3 \n",
      "1 2 3 4 \n",
      "1 2 3 4 5 \n",
      "1 2 3 4 5 6 \n"
     ]
    }
   ],
   "source": [
    "for i in range(1,7):\n",
    "    for j in range(1, i+1):\n",
    "        print(j, end=\" \")\n",
    "    print()"
   ]
  },
  {
   "cell_type": "code",
   "execution_count": 49,
   "id": "2961e20c-2740-409e-a7a2-24209a6e6bdd",
   "metadata": {},
   "outputs": [
    {
     "name": "stdout",
     "output_type": "stream",
     "text": [
      "1\n",
      "1 2\n",
      "1 2 3\n",
      "1 2 3 4\n",
      "1 2 3 4 5\n",
      "1 2 3 4 5 6\n"
     ]
    }
   ],
   "source": [
    "for i in range(1,7):\n",
    "    print(' '.join(str(x) for x in range(1,i+1)))"
   ]
  },
  {
   "cell_type": "markdown",
   "id": "52233a55-601d-4f9c-9355-f8714c8684dc",
   "metadata": {},
   "source": [
    "#  9. Inverted Right Angle Traingle"
   ]
  },
  {
   "cell_type": "code",
   "execution_count": 50,
   "id": "a4dcc4e8-4d06-499a-9dec-40312ac4c25e",
   "metadata": {},
   "outputs": [
    {
     "name": "stdout",
     "output_type": "stream",
     "text": [
      "1 2 3 4 5 6 7 \n",
      "1 2 3 4 5 6 \n",
      "1 2 3 4 5 \n",
      "1 2 3 4 \n",
      "1 2 3 \n",
      "1 2 \n",
      "1 \n"
     ]
    }
   ],
   "source": [
    "for i in range(7,0,-1):\n",
    "    for j in range(1,i+1):\n",
    "        print(j, end=' ')\n",
    "    print()"
   ]
  },
  {
   "cell_type": "code",
   "execution_count": 51,
   "id": "e2a10541-673d-4a7d-8afc-48aec19eb030",
   "metadata": {},
   "outputs": [
    {
     "name": "stdout",
     "output_type": "stream",
     "text": [
      "1 2 3 4 5 6 7\n",
      "1 2 3 4 5 6\n",
      "1 2 3 4 5\n",
      "1 2 3 4\n",
      "1 2 3\n",
      "1 2\n",
      "1\n"
     ]
    }
   ],
   "source": [
    "for i in range(7,0,-1):\n",
    "    print(' '.join(str(x) for x in range(1,i+1)))"
   ]
  },
  {
   "cell_type": "markdown",
   "id": "d12aff2d-a9c9-4c1c-8cb2-5cf68caf6fa7",
   "metadata": {},
   "source": [
    "#  10. Floyd's Triangle"
   ]
  },
  {
   "cell_type": "code",
   "execution_count": 35,
   "id": "b6e503fb-57e9-4657-937e-98d1cc5102c2",
   "metadata": {},
   "outputs": [
    {
     "name": "stdout",
     "output_type": "stream",
     "text": [
      "1 \n",
      "2 3 \n",
      "4 5 6 \n",
      "7 8 9 10 \n",
      "11 12 13 14 15 \n"
     ]
    }
   ],
   "source": [
    "num = 1 \n",
    "for i in range(1,6):\n",
    "    for j in range(1,i+1):\n",
    "        print(num, end=' ')\n",
    "        num+=1\n",
    "    print()"
   ]
  },
  {
   "cell_type": "markdown",
   "id": "9921276f-82bb-4b5a-9d0a-b8487ab84385",
   "metadata": {},
   "source": [
    "# 11. Hallow Right Angle Traingle"
   ]
  },
  {
   "cell_type": "code",
   "execution_count": 53,
   "id": "9afd85d2-3ea9-4c47-a73e-afca5d26a5aa",
   "metadata": {},
   "outputs": [
    {
     "name": "stdout",
     "output_type": "stream",
     "text": [
      "* \n",
      "* * \n",
      "*   * \n",
      "*     * \n",
      "* * * * * \n"
     ]
    }
   ],
   "source": [
    "for i in range(1,6):\n",
    "    for j in range(1,i+1):\n",
    "        if j ==1 or j==i or i==5:\n",
    "            print('*', end=' ')\n",
    "        else:\n",
    "            print(' ', end=' ')\n",
    "    print()"
   ]
  },
  {
   "cell_type": "markdown",
   "id": "de9b3254-1e71-49d5-8de4-1a77d0f623d9",
   "metadata": {},
   "source": [
    "#  12. Hollow pyramid pattern"
   ]
  },
  {
   "cell_type": "code",
   "execution_count": 54,
   "id": "77bccfc2-acef-40f0-91e4-9f7835dcf3ee",
   "metadata": {},
   "outputs": [
    {
     "name": "stdout",
     "output_type": "stream",
     "text": [
      "        * \n",
      "      *   * \n",
      "    *       * \n",
      "  *           * \n",
      "* * * * * * * * * \n"
     ]
    }
   ],
   "source": [
    "for i in range(1,6):\n",
    "    for j in range(5 - i):\n",
    "        print(' ', end=' ')\n",
    "    for j in range(2 * i - 1):\n",
    "        if j == 0 or j == 2*i-2 or i == 5:\n",
    "            print('*', end=' ')\n",
    "        else:\n",
    "            print(' ', end=' ')\n",
    "    print()"
   ]
  },
  {
   "cell_type": "markdown",
   "id": "0bf892a9-6a24-412a-b90f-7f5db2f96431",
   "metadata": {},
   "source": [
    "#  13. Hollow Diamond Triangle"
   ]
  },
  {
   "cell_type": "code",
   "execution_count": 59,
   "id": "ce09264c-6d34-4101-bc18-db6a5dbf46c6",
   "metadata": {},
   "outputs": [
    {
     "name": "stdout",
     "output_type": "stream",
     "text": [
      "        * \n",
      "      *   * \n",
      "    *       * \n",
      "  *           * \n",
      "*               * \n",
      "  *           * \n",
      "    *       * \n",
      "      *   * \n",
      "        * \n"
     ]
    }
   ],
   "source": [
    "n = 5\n",
    "\n",
    "# Upper half of the diamond\n",
    "for i in range(1, n + 1):\n",
    "    # Print leading spaces\n",
    "    for j in range(n - i):\n",
    "        print(' ', end=' ')\n",
    "    \n",
    "    # Print stars and inner spaces\n",
    "    for j in range(2 * i - 1):\n",
    "        if j == 0 or j == 2 * i - 2:\n",
    "            print('*', end=' ')\n",
    "        else:\n",
    "            print(' ', end=' ')\n",
    "    print()\n",
    "\n",
    "# Lower half of the diamond\n",
    "for i in range(n - 1, 0, -1):\n",
    "    # Print leading spaces\n",
    "    for j in range(n - i):\n",
    "        print(' ', end=' ')\n",
    "    \n",
    "    # Print stars and inner spaces\n",
    "    for j in range(2 * i - 1):\n",
    "        if j == 0 or j == 2 * i - 2:\n",
    "            print('*', end=' ')\n",
    "        else:\n",
    "            print(' ', end=' ')\n",
    "    print()\n"
   ]
  },
  {
   "cell_type": "markdown",
   "id": "c393e6f1-8824-463a-b831-031360a54a79",
   "metadata": {},
   "source": [
    "#  14. Solid Diamond"
   ]
  },
  {
   "cell_type": "code",
   "execution_count": 60,
   "id": "513b5cf1-faef-4958-82f4-fab13ce893dc",
   "metadata": {},
   "outputs": [
    {
     "name": "stdout",
     "output_type": "stream",
     "text": [
      "    *\n",
      "   ***\n",
      "  *****\n",
      " *******\n",
      "*********\n",
      " *******\n",
      "  *****\n",
      "   ***\n",
      "    *\n"
     ]
    }
   ],
   "source": [
    "n = 5\n",
    "\n",
    "# Upper half\n",
    "for i in range(1, n + 1):\n",
    "    print(' ' * (n - i) + '*' * (2 * i - 1))\n",
    "\n",
    "# Lower half\n",
    "for i in range(n - 1, 0, -1):\n",
    "    print(' ' * (n - i) + '*' * (2 * i - 1))\n"
   ]
  },
  {
   "cell_type": "markdown",
   "id": "95310ae0-69d3-4127-be34-5c52500272ed",
   "metadata": {},
   "source": [
    "#  15 . Number diamond"
   ]
  },
  {
   "cell_type": "code",
   "execution_count": 64,
   "id": "cebf420c-086d-47fa-9020-984f981c3935",
   "metadata": {},
   "outputs": [
    {
     "name": "stdout",
     "output_type": "stream",
     "text": [
      "    1\n",
      "   123\n",
      "  12345\n",
      " 1234567\n",
      "123456789\n",
      " 1234567\n",
      "  12345\n",
      "   123\n",
      "    1\n"
     ]
    }
   ],
   "source": [
    "n = 5\n",
    "\n",
    "# Upper half\n",
    "for i in range(1, n + 1):\n",
    "    print(' ' * (n - i), end='')\n",
    "    for j in range(1, 2 * i):\n",
    "        print(j, end='')\n",
    "    print()\n",
    "\n",
    "# Lower half\n",
    "for i in range(n - 1, 0, -1):\n",
    "    print(' ' * (n - i), end='')\n",
    "    for j in range(1, 2 * i):\n",
    "        print(j, end='')\n",
    "    print()\n"
   ]
  },
  {
   "cell_type": "markdown",
   "id": "2c8494c8-feca-417c-a12c-6e990a8ce705",
   "metadata": {},
   "source": [
    "#  16. Hollow Diamond Number Pattern"
   ]
  },
  {
   "cell_type": "code",
   "execution_count": 65,
   "id": "a4d320d7-3033-4173-8458-dbb2b026c64b",
   "metadata": {},
   "outputs": [
    {
     "name": "stdout",
     "output_type": "stream",
     "text": [
      "        1 \n",
      "      2   2 \n",
      "    3       3 \n",
      "  4           4 \n",
      "5               5 \n",
      "  4           4 \n",
      "    3       3 \n",
      "      2   2 \n",
      "        1 \n"
     ]
    }
   ],
   "source": [
    "n = 5\n",
    "\n",
    "# Upper half of the diamond\n",
    "for i in range(1, n + 1):\n",
    "    # Print leading spaces\n",
    "    for j in range(n - i):\n",
    "        print(' ', end=' ')\n",
    "    \n",
    "    # Print stars and inner spaces\n",
    "    for j in range(2 * i - 1):\n",
    "        if j == 0 or j == 2 * i - 2:\n",
    "            print(i, end=' ')\n",
    "        else:\n",
    "            print(' ', end=' ')\n",
    "    print()\n",
    "\n",
    "# Lower half of the diamond\n",
    "for i in range(n - 1, 0, -1):\n",
    "    # Print leading spaces\n",
    "    for j in range(n - i):\n",
    "        print(' ', end=' ')\n",
    "    \n",
    "    # Print stars and inner spaces\n",
    "    for j in range(2 * i - 1):\n",
    "        if j == 0 or j == 2 * i - 2:\n",
    "            print(i, end=' ')\n",
    "        else:\n",
    "            print(' ', end=' ')\n",
    "    print()\n"
   ]
  },
  {
   "cell_type": "code",
   "execution_count": null,
   "id": "3a35086e-f71b-45b2-bb47-d95f6c6fd9af",
   "metadata": {},
   "outputs": [],
   "source": []
  },
  {
   "cell_type": "code",
   "execution_count": null,
   "id": "437521fc-d7d3-4b69-90b9-6e02d5d2f3f6",
   "metadata": {},
   "outputs": [],
   "source": []
  },
  {
   "cell_type": "code",
   "execution_count": null,
   "id": "a033aea6-f5ff-4e25-bab0-1efa4b47c3bd",
   "metadata": {},
   "outputs": [],
   "source": []
  },
  {
   "cell_type": "code",
   "execution_count": null,
   "id": "782fd44f-48e0-4849-990d-19d6b54927c3",
   "metadata": {},
   "outputs": [],
   "source": []
  },
  {
   "cell_type": "code",
   "execution_count": null,
   "id": "94e4156f-5a35-41ac-8d7c-2d24d6766092",
   "metadata": {},
   "outputs": [],
   "source": []
  },
  {
   "cell_type": "code",
   "execution_count": null,
   "id": "863c5c39-fff3-46f8-b4ee-a7f7a9cef570",
   "metadata": {},
   "outputs": [],
   "source": []
  },
  {
   "cell_type": "code",
   "execution_count": null,
   "id": "5fc6d9c9-16d5-47b4-b945-be9bdf988757",
   "metadata": {},
   "outputs": [],
   "source": []
  },
  {
   "cell_type": "code",
   "execution_count": null,
   "id": "62f321d1-38aa-4747-9eeb-00c9b14e4c8f",
   "metadata": {},
   "outputs": [],
   "source": []
  },
  {
   "cell_type": "code",
   "execution_count": null,
   "id": "d939c1da-2148-4b1a-8ede-9995b8888e2b",
   "metadata": {},
   "outputs": [],
   "source": []
  },
  {
   "cell_type": "code",
   "execution_count": null,
   "id": "54771977-8036-4f18-988b-13c59e037d7a",
   "metadata": {},
   "outputs": [],
   "source": []
  }
 ],
 "metadata": {
  "kernelspec": {
   "display_name": "Python [conda env:base] *",
   "language": "python",
   "name": "conda-base-py"
  },
  "language_info": {
   "codemirror_mode": {
    "name": "ipython",
    "version": 3
   },
   "file_extension": ".py",
   "mimetype": "text/x-python",
   "name": "python",
   "nbconvert_exporter": "python",
   "pygments_lexer": "ipython3",
   "version": "3.12.7"
  }
 },
 "nbformat": 4,
 "nbformat_minor": 5
}
