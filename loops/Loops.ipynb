{
 "cells": [
  {
   "cell_type": "markdown",
   "id": "91b8ec58-c608-4b60-859b-d8909a244399",
   "metadata": {},
   "source": [
    "#  16th July\n",
    "# Loops"
   ]
  },
  {
   "cell_type": "code",
   "execution_count": 1,
   "id": "26652253-a440-4682-8788-a5085b684f3f",
   "metadata": {},
   "outputs": [
    {
     "name": "stdout",
     "output_type": "stream",
     "text": [
      "Data Science\n",
      "Data Science\n",
      "Data Science\n",
      "Data Science\n",
      "Data Science\n"
     ]
    }
   ],
   "source": [
    "print(\"Data Science\")\n",
    "print(\"Data Science\")\n",
    "print(\"Data Science\")\n",
    "print(\"Data Science\")\n",
    "print(\"Data Science\")"
   ]
  },
  {
   "cell_type": "code",
   "execution_count": 2,
   "id": "7936d75d-2b3f-4831-9cf6-237affbd2e2b",
   "metadata": {},
   "outputs": [
    {
     "name": "stdout",
     "output_type": "stream",
     "text": [
      "Data Science\n",
      "Data Science\n",
      "Data Science\n",
      "Data Science\n",
      "Data Science\n"
     ]
    }
   ],
   "source": [
    "i = 1              #initializing\n",
    "while i <= 5:      # condition\n",
    "    print(\"Data Science\")\n",
    "    i = i + 1      # increment"
   ]
  },
  {
   "cell_type": "code",
   "execution_count": 3,
   "id": "01dbffb4-8613-4819-a3d7-087d42369b93",
   "metadata": {},
   "outputs": [
    {
     "name": "stdout",
     "output_type": "stream",
     "text": [
      "Data Science 1\n",
      "Data Science 2\n",
      "Data Science 3\n",
      "Data Science 4\n",
      "Data Science 5\n"
     ]
    }
   ],
   "source": [
    "i = 1             \n",
    "while i <= 5:     \n",
    "    print(\"Data Science\",i)\n",
    "    i = i + 1 "
   ]
  },
  {
   "cell_type": "code",
   "execution_count": 4,
   "id": "3dcbf201-dfb5-425c-b89c-aac0bc3cbf7e",
   "metadata": {},
   "outputs": [
    {
     "name": "stdout",
     "output_type": "stream",
     "text": [
      "Data Science\n",
      "Data Science\n",
      "Data Science\n",
      "Data Science\n",
      "Data Science\n"
     ]
    }
   ],
   "source": [
    "i = 5             \n",
    "while i >= 1:     \n",
    "    print(\"Data Science\")\n",
    "    i = i - 1 "
   ]
  },
  {
   "cell_type": "code",
   "execution_count": 5,
   "id": "7ec46e74-5ef7-454d-98a4-ab8554473311",
   "metadata": {},
   "outputs": [
    {
     "name": "stdout",
     "output_type": "stream",
     "text": [
      "Data Science 5\n",
      "Data Science 4\n",
      "Data Science 3\n",
      "Data Science 2\n",
      "Data Science 1\n"
     ]
    }
   ],
   "source": [
    "i = 5             \n",
    "while i >= 1:     \n",
    "    print(\"Data Science\",i)\n",
    "    i = i - 1 "
   ]
  },
  {
   "cell_type": "code",
   "execution_count": null,
   "id": "147efcf0-f42f-4133-93fe-a74db79ee411",
   "metadata": {},
   "outputs": [],
   "source": []
  },
  {
   "cell_type": "markdown",
   "id": "98354cb2-79c6-4941-9e93-a54fc4ee54b9",
   "metadata": {},
   "source": [
    "can we use multiple while loop || nested while loop \n",
    "to understand nested while indepth understand you can use pycharm debug with f8 option"
   ]
  },
  {
   "cell_type": "code",
   "execution_count": 6,
   "id": "61ee5819-485a-4831-a8a4-b6d09c9d5b29",
   "metadata": {},
   "outputs": [
    {
     "name": "stdout",
     "output_type": "stream",
     "text": [
      "Data Science\n",
      "Technology\n",
      "Technology\n",
      "Technology\n",
      "Technology\n",
      "\n",
      "Data Science\n",
      "Technology\n",
      "Technology\n",
      "Technology\n",
      "Technology\n",
      "\n",
      "Data Science\n",
      "Technology\n",
      "Technology\n",
      "Technology\n",
      "Technology\n",
      "\n",
      "Data Science\n",
      "Technology\n",
      "Technology\n",
      "Technology\n",
      "Technology\n",
      "\n",
      "Data Science\n",
      "Technology\n",
      "Technology\n",
      "Technology\n",
      "Technology\n",
      "\n"
     ]
    }
   ],
   "source": [
    "i = 1 \n",
    "while i<= 5:\n",
    "    print(\"Data Science\")   # when we mention end then new line line will not create\n",
    "    j = 1\n",
    "    while j <= 4:\n",
    "        print(\"Technology\")\n",
    "        j = j + 1\n",
    "\n",
    "    i = i + 1\n",
    "    print()"
   ]
  },
  {
   "cell_type": "code",
   "execution_count": 7,
   "id": "cc8b9715-06d0-4c89-a438-47da666a0018",
   "metadata": {},
   "outputs": [
    {
     "name": "stdout",
     "output_type": "stream",
     "text": [
      "Data_Science 1 Technology 1 Technology 2 Technology 3 Technology 4\n",
      "Data_Science 2 Technology 1 Technology 2 Technology 3 Technology 4\n",
      "Data_Science 3 Technology 1 Technology 2 Technology 3 Technology 4\n",
      "Data_Science 4 Technology 1 Technology 2 Technology 3 Technology 4\n",
      "Data_Science 5 Technology 1 Technology 2 Technology 3 Technology 4\n"
     ]
    }
   ],
   "source": [
    "i = 1 \n",
    "while i<= 5:\n",
    "    print(\"Data_Science\",i, end = \"\")   # when we mention end then new line line will not create\n",
    "    j = 1\n",
    "    while j <= 4:\n",
    "        print(\" Technology\",j, end = \"\")\n",
    "        j = j + 1\n",
    "\n",
    "    i = i + 1\n",
    "    print()"
   ]
  },
  {
   "cell_type": "code",
   "execution_count": 8,
   "id": "192db7c3-7698-44b5-a429-b90b926321b8",
   "metadata": {},
   "outputs": [
    {
     "name": "stdout",
     "output_type": "stream",
     "text": [
      "Data_Science 5 Technology 4 Technology 3 Technology 2 Technology 1\n",
      "Data_Science 4 Technology 4 Technology 3 Technology 2 Technology 1\n",
      "Data_Science 3 Technology 4 Technology 3 Technology 2 Technology 1\n",
      "Data_Science 2 Technology 4 Technology 3 Technology 2 Technology 1\n",
      "Data_Science 1 Technology 4 Technology 3 Technology 2 Technology 1\n"
     ]
    }
   ],
   "source": [
    "i = 5 \n",
    "while i>= 1:\n",
    "    print(\"Data_Science\",i, end = \"\")   # when we mention end then new line line will not create\n",
    "    j = 4\n",
    "    while j >= 1:\n",
    "        print(\" Technology\",j, end = \"\")\n",
    "        j = j - 1\n",
    "\n",
    "    i = i - 1\n",
    "    print()"
   ]
  },
  {
   "cell_type": "code",
   "execution_count": 9,
   "id": "c3775daa-de85-4fc0-887f-7bca25acc0d7",
   "metadata": {},
   "outputs": [
    {
     "name": "stdout",
     "output_type": "stream",
     "text": [
      "Data_Science 5\n",
      " Technology 4\n",
      " Technology 3\n",
      " Technology 2\n",
      " Technology 1\n",
      "\n",
      "Data_Science 4\n",
      " Technology 4\n",
      " Technology 3\n",
      " Technology 2\n",
      " Technology 1\n",
      "\n",
      "Data_Science 3\n",
      " Technology 4\n",
      " Technology 3\n",
      " Technology 2\n",
      " Technology 1\n",
      "\n",
      "Data_Science 2\n",
      " Technology 4\n",
      " Technology 3\n",
      " Technology 2\n",
      " Technology 1\n",
      "\n",
      "Data_Science 1\n",
      " Technology 4\n",
      " Technology 3\n",
      " Technology 2\n",
      " Technology 1\n",
      "\n"
     ]
    }
   ],
   "source": [
    "i = 5 \n",
    "while i>= 1:\n",
    "    print(\"Data_Science\",i)   # when we mention end then new line line will not create\n",
    "    j = 4\n",
    "    while j >= 1:\n",
    "        print(\" Technology\",j)\n",
    "        j = j - 1\n",
    "\n",
    "    i = i - 1\n",
    "    print()"
   ]
  },
  {
   "cell_type": "code",
   "execution_count": 10,
   "id": "f7358d92-cf24-46eb-a5b2-8e300511eac8",
   "metadata": {},
   "outputs": [
    {
     "name": "stdout",
     "output_type": "stream",
     "text": [
      "012\n",
      "024\n"
     ]
    }
   ],
   "source": [
    "#  lets use while loop using some numbers\n",
    "\n",
    "i = 1\n",
    "while i <= 2:\n",
    "    j = 0\n",
    "    while j <= 2:\n",
    "        print(i*j, end =\"\")\n",
    "        j += 1\n",
    "    print()\n",
    "    i += 1"
   ]
  },
  {
   "cell_type": "code",
   "execution_count": 11,
   "id": "0d6343be-413c-40c8-8f50-7f1d28606605",
   "metadata": {},
   "outputs": [
    {
     "name": "stdout",
     "output_type": "stream",
     "text": [
      "0 1 2 3 \n",
      "0 2 4 6 \n",
      "0 3 6 9 \n",
      "0 4 8 12 \n"
     ]
    }
   ],
   "source": [
    "# lets use while loop usig some numbers\n",
    "i = 1\n",
    "while i <= 4 :\n",
    "    j = 0\n",
    "    while  j <= 3 :\n",
    "        print(i*j, end=\" \")\n",
    "        j += 1\n",
    "    print()\n",
    "    i += 1"
   ]
  },
  {
   "cell_type": "code",
   "execution_count": null,
   "id": "955f6816-6502-4c22-81eb-c5c9d6dc9b16",
   "metadata": {},
   "outputs": [],
   "source": []
  },
  {
   "cell_type": "markdown",
   "id": "72793a97-97c6-4b4c-8a20-015fd71db9ac",
   "metadata": {},
   "source": [
    "# FOR LOOP  -\n",
    "normally while loop it work with iteration or certaion some condition but for loop it will work with sequence (list, string,int)"
   ]
  },
  {
   "cell_type": "code",
   "execution_count": 12,
   "id": "d1eb69a6-9320-408a-a1c1-01e2a1ce2d94",
   "metadata": {},
   "outputs": [
    {
     "name": "stdout",
     "output_type": "stream",
     "text": [
      "A\n",
      "n\n",
      "g\n",
      "e\n",
      "l\n"
     ]
    }
   ],
   "source": [
    "name = \"Angel\"\n",
    "for i in name:\n",
    "    print(i)"
   ]
  },
  {
   "cell_type": "code",
   "execution_count": 13,
   "id": "e0952a04-c6d7-49df-a1ee-b16ce1fec629",
   "metadata": {},
   "outputs": [
    {
     "name": "stdout",
     "output_type": "stream",
     "text": [
      "1\n",
      "3.5\n",
      "hallo\n"
     ]
    }
   ],
   "source": [
    "name1 = [1,3.5,'hallo'] #i want print the value individualy\n",
    "\n",
    "for i in name1:\n",
    "    print(i)"
   ]
  },
  {
   "cell_type": "code",
   "execution_count": 14,
   "id": "a8f0e261-ec38-46aa-90d1-816e271160e9",
   "metadata": {},
   "outputs": [
    {
     "name": "stdout",
     "output_type": "stream",
     "text": [
      "2\n",
      "3\n",
      "7.8\n",
      "hi\n"
     ]
    }
   ],
   "source": [
    "for i in [2, 3, 7.8, 'hi']:\n",
    "    print(i)"
   ]
  },
  {
   "cell_type": "code",
   "execution_count": 15,
   "id": "1f665047-219f-428a-9469-6b057ae955a0",
   "metadata": {},
   "outputs": [
    {
     "data": {
      "text/plain": [
       "range(0, 7)"
      ]
     },
     "execution_count": 15,
     "metadata": {},
     "output_type": "execute_result"
    }
   ],
   "source": [
    "range(7)"
   ]
  },
  {
   "cell_type": "code",
   "execution_count": 16,
   "id": "49205313-6289-4717-a178-65c8c559d817",
   "metadata": {},
   "outputs": [
    {
     "name": "stdout",
     "output_type": "stream",
     "text": [
      "0\n",
      "1\n",
      "2\n",
      "3\n",
      "4\n",
      "5\n",
      "6\n"
     ]
    }
   ],
   "source": [
    "for i in range(7):\n",
    "    print(i)"
   ]
  },
  {
   "cell_type": "code",
   "execution_count": 17,
   "id": "a06713c8-ee04-4dd5-b9c5-7318c5eec766",
   "metadata": {},
   "outputs": [
    {
     "name": "stdout",
     "output_type": "stream",
     "text": [
      "2\n",
      "3\n",
      "4\n",
      "5\n",
      "6\n"
     ]
    }
   ],
   "source": [
    "for i in range(2,7):\n",
    "    print(i)"
   ]
  },
  {
   "cell_type": "code",
   "execution_count": 18,
   "id": "f7b0c0b5-1332-4e43-a5c5-a82599e663db",
   "metadata": {},
   "outputs": [
    {
     "name": "stdout",
     "output_type": "stream",
     "text": [
      "1\n",
      "4\n",
      "7\n"
     ]
    }
   ],
   "source": [
    "for i in range(1,10,3):\n",
    "    print(i)"
   ]
  },
  {
   "cell_type": "code",
   "execution_count": 19,
   "id": "dd1c6817-1713-430a-9cca-c18ea473f574",
   "metadata": {},
   "outputs": [
    {
     "name": "stdout",
     "output_type": "stream",
     "text": [
      "1\n",
      "6\n"
     ]
    }
   ],
   "source": [
    "for i in range(1,10,5):\n",
    "    print(i)"
   ]
  },
  {
   "cell_type": "code",
   "execution_count": 20,
   "id": "141eefe5-b17b-4f92-8b72-02a4c51a5de5",
   "metadata": {},
   "outputs": [
    {
     "name": "stdout",
     "output_type": "stream",
     "text": [
      "1\n",
      "2\n",
      "3\n",
      "4\n",
      "5\n",
      "6\n",
      "7\n",
      "8\n",
      "9\n",
      "10\n",
      "11\n",
      "12\n",
      "13\n",
      "14\n",
      "15\n",
      "16\n",
      "17\n",
      "18\n",
      "19\n",
      "20\n"
     ]
    }
   ],
   "source": [
    "for i in range(1,21):\n",
    "    print(i)"
   ]
  },
  {
   "cell_type": "code",
   "execution_count": 22,
   "id": "5006ad39-5045-43f4-8042-f115f04d396d",
   "metadata": {},
   "outputs": [
    {
     "name": "stdout",
     "output_type": "stream",
     "text": [
      "\n",
      "\n",
      "\n",
      "\n",
      "\n",
      "\n",
      "\n",
      "\n",
      "\n",
      "\n"
     ]
    }
   ],
   "source": [
    "# print the value which is divisible by 5 \n",
    "\n",
    "for i in range (1,51):\n",
    "    if i % 5 == 0:\n",
    "        print()"
   ]
  },
  {
   "cell_type": "code",
   "execution_count": 24,
   "id": "89e51cf1-3c33-4522-ae88-62f805994178",
   "metadata": {},
   "outputs": [
    {
     "name": "stdout",
     "output_type": "stream",
     "text": [
      "\n",
      "\n",
      "\n",
      "\n",
      "\n",
      "\n",
      "\n",
      "\n",
      "\n",
      "\n",
      "\n",
      "\n",
      "\n",
      "\n",
      "\n",
      "\n",
      "\n",
      "\n",
      "\n",
      "\n",
      "\n",
      "\n",
      "\n",
      "\n",
      "\n",
      "\n",
      "\n",
      "\n",
      "\n",
      "\n",
      "\n",
      "\n",
      "\n",
      "\n",
      "\n",
      "\n",
      "\n",
      "\n",
      "\n",
      "\n"
     ]
    }
   ],
   "source": [
    "# print the value which is not divisible by 5 \n",
    "\n",
    "for i in range (1,51):\n",
    "    if i % 5 != 0:\n",
    "        print()"
   ]
  },
  {
   "cell_type": "code",
   "execution_count": null,
   "id": "5fa9dff1-029a-4f06-8ab9-732d05b73e31",
   "metadata": {},
   "outputs": [],
   "source": []
  },
  {
   "cell_type": "markdown",
   "id": "607f78e4-3cbf-42a4-b56e-e21332c70e7b",
   "metadata": {},
   "source": [
    "# # LETS DISCUSS ABOUT 3 KEYWORDS -- BREAK || CONTINUE || PASS\n",
    "BREAK STATEMNT - if you apply break statment in a loop then it will end the loop\n",
    "\n",
    " Pass = skips block of code( function, class etc)\n",
    " \n",
    " Continue= skips 1 step/iteration during loop\n",
    " \n",
    " Break= jumps out of the function/loop"
   ]
  },
  {
   "cell_type": "code",
   "execution_count": 27,
   "id": "4fa87ad2-b59b-4611-972c-6781883ac219",
   "metadata": {},
   "outputs": [
    {
     "name": "stdin",
     "output_type": "stream",
     "text": [
      "How many chocolates you want:? 1\n"
     ]
    },
    {
     "name": "stdout",
     "output_type": "stream",
     "text": [
      "chocolate\n"
     ]
    }
   ],
   "source": [
    "# write the code user ask chocklet from vendor machine write the basic code \n",
    "\n",
    "x = int(input('How many chocolates you want:?'))\n",
    "\n",
    "i = 1\n",
    "while i<=x:\n",
    "    print('chocolate')\n",
    "    i += 1       "
   ]
  },
  {
   "cell_type": "markdown",
   "id": "b51eacbd-76e2-4bcb-bfa7-da39eadfe0b3",
   "metadata": {},
   "source": [
    "- If the user says i need 10 choclet but vending machine dont have 10 choclate & machine has only 5    choclate so what you do on those scenario\n",
    "- We have 3 choice now  (eiter stop the transaction by you or you can give only 5 choclate) & may be\n",
    "   vendor machine display the result as we are out of the stock\n",
    "- Now lets try in the code "
   ]
  },
  {
   "cell_type": "code",
   "execution_count": 31,
   "id": "4fd190ff-0abb-4d8a-9ef5-81823272b6a7",
   "metadata": {},
   "outputs": [
    {
     "name": "stdin",
     "output_type": "stream",
     "text": [
      "How many chocolates you want:? 10\n"
     ]
    },
    {
     "name": "stdout",
     "output_type": "stream",
     "text": [
      "chocolates\n",
      "chocolates\n",
      "chocolates\n",
      "chocolates\n",
      "chocolates\n",
      "chocolates\n",
      "chocolates\n",
      "chocolates\n",
      "chocolates\n",
      "chocolates\n"
     ]
    }
   ],
   "source": [
    "# if you check the user wants 10 choclets  but availabe choclet is 5 but we got output as 10 choclet\n",
    "# in this code we just declare but we dint apply any condition to it \n",
    "\n",
    "ava = 5 # the machine has only 5 choclet \n",
    "\n",
    "x = int(input('How many chocolates you want:?'))\n",
    "\n",
    "i = 1\n",
    "while i<=x:\n",
    "    print('chocolates')\n",
    "    i += 1   "
   ]
  },
  {
   "cell_type": "code",
   "execution_count": 32,
   "id": "b2169339-21d4-487c-8100-7b099b2c4881",
   "metadata": {},
   "outputs": [
    {
     "name": "stdin",
     "output_type": "stream",
     "text": [
      "How many choclets user want:? 6\n"
     ]
    },
    {
     "name": "stdout",
     "output_type": "stream",
     "text": [
      "choclet\n",
      "choclet\n",
      "choclet\n",
      "choclet\n",
      "choclet\n",
      "bye for now\n"
     ]
    }
   ],
   "source": [
    "available_choclet = 5 # the machine has only 10 candis \n",
    "\n",
    "x = int(input('How many choclets user want:?'))\n",
    "\n",
    "i = 1\n",
    "while i<=x:\n",
    "    \n",
    "    if i>available_choclet: # we stop the execution but which code execution not entire code , i want to come out of while loop \n",
    "        break # break is statement | means jump out of the loop\n",
    "    print('choclet')\n",
    "    i += 1   \n",
    "    \n",
    "print('bye for now')"
   ]
  },
  {
   "cell_type": "code",
   "execution_count": 33,
   "id": "ef167508-9a97-4d00-bfe2-f62092d81814",
   "metadata": {},
   "outputs": [
    {
     "name": "stdin",
     "output_type": "stream",
     "text": [
      "How many choclets user want:? 4\n"
     ]
    },
    {
     "name": "stdout",
     "output_type": "stream",
     "text": [
      "choclet\n",
      "choclet\n",
      "choclet\n",
      "choclet\n",
      "bye for now\n"
     ]
    }
   ],
   "source": [
    "available_choclet = 5 # the machine has only 10 candis \n",
    "\n",
    "x = int(input('How many choclets user want:?'))\n",
    "\n",
    "i = 1\n",
    "while i<=x:\n",
    "    \n",
    "    if i>available_choclet: # we stop the execution but which code execution not entire code , i want to come out of while loop \n",
    "        break # break is statement | means jump out of the loop\n",
    "    print('choclet')\n",
    "    i += 1   \n",
    "    \n",
    "print('bye for now')"
   ]
  },
  {
   "cell_type": "code",
   "execution_count": 35,
   "id": "3ab5e706-0704-455c-93b2-946b99fcbb31",
   "metadata": {},
   "outputs": [
    {
     "name": "stdout",
     "output_type": "stream",
     "text": [
      "1\n",
      "2\n",
      "3\n",
      "4\n",
      "5\n",
      "6\n",
      "7\n",
      "8\n",
      "9\n",
      "10\n"
     ]
    }
   ],
   "source": [
    "for i in range (1,11):\n",
    "    print(i)"
   ]
  },
  {
   "cell_type": "code",
   "execution_count": 37,
   "id": "77571b98-d3b2-443b-9cb7-1090a4bc9b3d",
   "metadata": {},
   "outputs": [
    {
     "name": "stdout",
     "output_type": "stream",
     "text": [
      "1\n",
      "2\n",
      "3\n",
      "4\n",
      "5\n"
     ]
    }
   ],
   "source": [
    "# i dont want 11 number i want only 5 number for the range of 1 to 10\n",
    "\n",
    "for i in range(1,11):\n",
    "    if i == 6:\n",
    "        break\n",
    "    print(i)"
   ]
  },
  {
   "cell_type": "code",
   "execution_count": 38,
   "id": "101975f3-4dd5-4a23-b534-758e92b5b5a4",
   "metadata": {},
   "outputs": [
    {
     "name": "stdout",
     "output_type": "stream",
     "text": [
      "1\n",
      "2\n",
      "4\n",
      "5\n",
      "6\n",
      "7\n",
      "8\n",
      "9\n",
      "10\n"
     ]
    }
   ],
   "source": [
    "# in continue loop wont be terminate & exclue the assign number it give you entire output \n",
    "\n",
    "for i in range(1,11):\n",
    "    if i == 3:\n",
    "        continue \n",
    "    print(i)"
   ]
  },
  {
   "cell_type": "code",
   "execution_count": 39,
   "id": "9bf39763-06e2-4d42-a6a3-4f1d6c67b16b",
   "metadata": {},
   "outputs": [
    {
     "name": "stdout",
     "output_type": "stream",
     "text": [
      "hello : 1\n",
      "hello : 2\n",
      "hello : 3\n",
      "hello : 4\n",
      "hello : 5\n",
      "hello : 7\n",
      "hello : 8\n",
      "hello : 9\n",
      "hello : 10\n"
     ]
    }
   ],
   "source": [
    "for i in range(1,11):\n",
    "    if i == 6:\n",
    "        continue  \n",
    "    print('hello :',i)"
   ]
  },
  {
   "cell_type": "code",
   "execution_count": null,
   "id": "b03e9e8a-adfe-45d1-948e-cd3ee74b5707",
   "metadata": {},
   "outputs": [],
   "source": []
  },
  {
   "cell_type": "code",
   "execution_count": 40,
   "id": "2de9a0a4-ad4d-4421-8f7b-ef4803337dcf",
   "metadata": {},
   "outputs": [
    {
     "ename": "SyntaxError",
     "evalue": "incomplete input (120296588.py, line 2)",
     "output_type": "error",
     "traceback": [
      "\u001b[1;36m  Cell \u001b[1;32mIn[40], line 2\u001b[1;36m\u001b[0m\n\u001b[1;33m    for i in range(1,11):\u001b[0m\n\u001b[1;37m                          ^\u001b[0m\n\u001b[1;31mSyntaxError\u001b[0m\u001b[1;31m:\u001b[0m incomplete input\n"
     ]
    }
   ],
   "source": [
    "# PASS Statement - pass the code & it wont go ( code give you the error)\n",
    "for i in range(1,11): "
   ]
  },
  {
   "cell_type": "code",
   "execution_count": 41,
   "id": "62a7d5d4-67e7-4b07-a33f-e9c0f90a6b14",
   "metadata": {},
   "outputs": [],
   "source": [
    "for i in range(1,11):\n",
    "    pass"
   ]
  },
  {
   "cell_type": "code",
   "execution_count": null,
   "id": "47c85b6c-8612-4eb2-82c8-80bb83d76d7d",
   "metadata": {},
   "outputs": [],
   "source": []
  },
  {
   "cell_type": "markdown",
   "id": "63c16110-b32d-4e4d-898c-4ace5aaaee08",
   "metadata": {},
   "source": [
    "#  you need to print the number from 1 to 50 but dont print the number which is divisible by 3 or 5 "
   ]
  },
  {
   "cell_type": "code",
   "execution_count": 44,
   "id": "f8458729-f58e-40e5-9be8-2dce45ac2f0b",
   "metadata": {},
   "outputs": [
    {
     "name": "stdout",
     "output_type": "stream",
     "text": [
      "3\n",
      "6\n",
      "9\n",
      "12\n",
      "15\n",
      "18\n",
      "21\n",
      "24\n",
      "27\n",
      "30\n",
      "33\n",
      "36\n",
      "39\n",
      "42\n",
      "45\n",
      "48\n",
      "end\n"
     ]
    }
   ],
   "source": [
    "for i in range(1,51):\n",
    "    if i % 3 == 0:\n",
    "        print(i)\n",
    "print(\"end\")"
   ]
  },
  {
   "cell_type": "code",
   "execution_count": 45,
   "id": "21746f09-6cc1-412f-9888-ecc6cbc01eeb",
   "metadata": {},
   "outputs": [
    {
     "name": "stdout",
     "output_type": "stream",
     "text": [
      "1\n",
      "2\n",
      "4\n",
      "5\n",
      "7\n",
      "8\n",
      "10\n",
      "11\n",
      "13\n",
      "14\n",
      "16\n",
      "17\n",
      "19\n",
      "20\n",
      "22\n",
      "23\n",
      "25\n",
      "26\n",
      "28\n",
      "29\n",
      "31\n",
      "32\n",
      "34\n",
      "35\n",
      "37\n",
      "38\n",
      "40\n",
      "41\n",
      "43\n",
      "44\n",
      "46\n",
      "47\n",
      "49\n",
      "50\n",
      "end\n"
     ]
    }
   ],
   "source": [
    "for i in range(1,51):\n",
    "    \n",
    "    if i%3 == 0:\n",
    "        continue\n",
    "    print(i)\n",
    "print('end') "
   ]
  },
  {
   "cell_type": "code",
   "execution_count": 46,
   "id": "6ccf91c1-0fe6-40e4-8b5b-9fa81e774538",
   "metadata": {},
   "outputs": [
    {
     "name": "stdout",
     "output_type": "stream",
     "text": [
      "1\n",
      "2\n",
      "4\n",
      "7\n",
      "8\n",
      "11\n",
      "13\n",
      "14\n",
      "16\n",
      "17\n",
      "19\n",
      "22\n",
      "23\n",
      "26\n",
      "28\n",
      "29\n",
      "31\n",
      "32\n",
      "34\n",
      "37\n",
      "38\n",
      "41\n",
      "43\n",
      "44\n",
      "46\n",
      "47\n",
      "49\n"
     ]
    }
   ],
   "source": [
    "# it will skip all the value which is divisible by 3 or 5\n",
    "\n",
    "for i in range(1,51):\n",
    "    \n",
    "    if i%3 == 0 or i%5 == 0:\n",
    "        continue\n",
    "    print(i)\n",
    "#print('end')   "
   ]
  },
  {
   "cell_type": "code",
   "execution_count": 47,
   "id": "cd6c3a90-255a-451b-be8a-50e22ae3a192",
   "metadata": {},
   "outputs": [
    {
     "name": "stdout",
     "output_type": "stream",
     "text": [
      "1\n",
      "2\n",
      "4\n",
      "7\n",
      "8\n",
      "11\n",
      "13\n",
      "14\n",
      "16\n",
      "17\n",
      "19\n",
      "22\n",
      "23\n",
      "26\n",
      "28\n",
      "29\n",
      "31\n",
      "32\n",
      "34\n",
      "37\n",
      "38\n",
      "41\n",
      "43\n",
      "44\n",
      "46\n",
      "47\n",
      "49\n",
      "end\n"
     ]
    }
   ],
   "source": [
    "# when you apply and you wont get the value which is divisible by both 3 & 5 (15)\n",
    "\n",
    "for i in range(1,50):\n",
    "    if i%3 == 0 or i%5 == 0:\n",
    "        continue\n",
    "    print(i)\n",
    "print('end')"
   ]
  },
  {
   "cell_type": "code",
   "execution_count": 48,
   "id": "c813c7c4-91b2-416b-8d10-40c5adba6b9f",
   "metadata": {},
   "outputs": [
    {
     "name": "stdout",
     "output_type": "stream",
     "text": [
      "1\n",
      "3\n",
      "5\n",
      "7\n",
      "9\n",
      "11\n",
      "13\n",
      "15\n",
      "17\n",
      "19\n",
      "21\n",
      "23\n",
      "25\n",
      "27\n",
      "29\n",
      "31\n",
      "33\n",
      "35\n",
      "37\n",
      "39\n",
      "41\n",
      "43\n",
      "45\n",
      "47\n",
      "49\n",
      "bye\n"
     ]
    }
   ],
   "source": [
    "# i dont want to print the values which are even numbers that means print only odd numbers\n",
    "\n",
    "for i in range(1,51):\n",
    "    \n",
    "    if (i%2 == 0):\n",
    "        #print('even')\n",
    "        continue\n",
    "    else:\n",
    "        print(i)\n",
    "print('bye')"
   ]
  }
 ],
 "metadata": {
  "kernelspec": {
   "display_name": "Python [conda env:base] *",
   "language": "python",
   "name": "conda-base-py"
  },
  "language_info": {
   "codemirror_mode": {
    "name": "ipython",
    "version": 3
   },
   "file_extension": ".py",
   "mimetype": "text/x-python",
   "name": "python",
   "nbconvert_exporter": "python",
   "pygments_lexer": "ipython3",
   "version": "3.12.7"
  }
 },
 "nbformat": 4,
 "nbformat_minor": 5
}
