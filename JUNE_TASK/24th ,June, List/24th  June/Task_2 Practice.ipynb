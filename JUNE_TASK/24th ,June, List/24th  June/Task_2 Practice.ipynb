{
 "cells": [
  {
   "cell_type": "code",
   "execution_count": 1,
   "id": "d53fba66-aa6f-4671-92ac-002b23695ad8",
   "metadata": {},
   "outputs": [
    {
     "data": {
      "text/plain": [
       "'abc def ghi '"
      ]
     },
     "execution_count": 1,
     "metadata": {},
     "output_type": "execute_result"
    }
   ],
   "source": [
    "txt = \" abc def ghi \" \n",
    "txt.lstrip()"
   ]
  },
  {
   "cell_type": "code",
   "execution_count": 2,
   "id": "98f6f0ee-a937-4abb-91de-e52c1367cb74",
   "metadata": {},
   "outputs": [
    {
     "data": {
      "text/plain": [
       "'abc def ghi'"
      ]
     },
     "execution_count": 2,
     "metadata": {},
     "output_type": "execute_result"
    }
   ],
   "source": [
    "txt = \" abc def ghi \"\n",
    "txt.strip() "
   ]
  },
  {
   "cell_type": "code",
   "execution_count": null,
   "id": "4c37f7e1-8e32-4398-ba0a-5a78191a39b1",
   "metadata": {},
   "outputs": [],
   "source": []
  },
  {
   "cell_type": "code",
   "execution_count": null,
   "id": "3b762eb0-90cf-4dfe-bdfe-86e55d1a57f2",
   "metadata": {},
   "outputs": [],
   "source": []
  },
  {
   "cell_type": "markdown",
   "id": "a55f2255-f2df-4f0d-93a9-931e9afe94a2",
   "metadata": {},
   "source": [
    "#### Using Escape Character ####"
   ]
  },
  {
   "cell_type": "code",
   "execution_count": 6,
   "id": "65cab8cd-1eb7-4012-affd-99916f92ed5d",
   "metadata": {},
   "outputs": [
    {
     "ename": "SyntaxError",
     "evalue": "invalid syntax (2196249444.py, line 2)",
     "output_type": "error",
     "traceback": [
      "\u001b[1;36m  Cell \u001b[1;32mIn[6], line 2\u001b[1;36m\u001b[0m\n\u001b[1;33m    my_str = \"My favourite TV Series is \"Game of Thrones\"\"\u001b[0m\n\u001b[1;37m                                         ^\u001b[0m\n\u001b[1;31mSyntaxError\u001b[0m\u001b[1;31m:\u001b[0m invalid syntax\n"
     ]
    }
   ],
   "source": [
    "#Using double quotes in the string is not allowed. \n",
    "my_str = \"My favourite TV Series is \"Game of Thrones\"\" "
   ]
  },
  {
   "cell_type": "code",
   "execution_count": 7,
   "id": "35eb6daa-9a28-4de1-b43b-9605a06a8489",
   "metadata": {},
   "outputs": [
    {
     "name": "stdout",
     "output_type": "stream",
     "text": [
      "My favourite series is \"Game of Thrones\"\n"
     ]
    }
   ],
   "source": [
    "#Using escape character to allow illegal characters \n",
    "my_str = \"My favourite series is \\\"Game of Thrones\\\"\" \n",
    "print(my_str) "
   ]
  },
  {
   "cell_type": "code",
   "execution_count": null,
   "id": "5df895bf-ec67-4a30-9e36-47c14b72384e",
   "metadata": {},
   "outputs": [],
   "source": []
  },
  {
   "cell_type": "markdown",
   "id": "259a986f-4605-4525-8e54-e1c0b8a647cf",
   "metadata": {},
   "source": [
    "#### LIST ####\n",
    "1) List is an ordered sequence of items. \n",
    " \n",
    "2) We can have different data types under a list. E.g we can have integer, float and string items in \n",
    "a same list."
   ]
  },
  {
   "cell_type": "code",
   "execution_count": 8,
   "id": "1ee9e6f5-67ad-45de-b980-0e02655d7e1d",
   "metadata": {},
   "outputs": [],
   "source": [
    "# LIST CREATION\n",
    "list = []   # Empty list"
   ]
  },
  {
   "cell_type": "code",
   "execution_count": 9,
   "id": "1fbe7521-a565-4c90-97f8-1242f15cd1bd",
   "metadata": {},
   "outputs": [
    {
     "name": "stdout",
     "output_type": "stream",
     "text": [
      "<class 'list'>\n"
     ]
    }
   ],
   "source": [
    "print(type(list))"
   ]
  },
  {
   "cell_type": "code",
   "execution_count": 17,
   "id": "2d470c60-ff84-44b9-b083-b3cd3d4d294e",
   "metadata": {},
   "outputs": [],
   "source": [
    "list1 = [10,20,30]      # List of integers numbers "
   ]
  },
  {
   "cell_type": "code",
   "execution_count": 18,
   "id": "9de5b4e1-4543-4264-b784-6ccb7fb5863c",
   "metadata": {},
   "outputs": [],
   "source": [
    "list2 = [10.77, 8.9,99.0]     # List of floats numbers "
   ]
  },
  {
   "cell_type": "code",
   "execution_count": 19,
   "id": "65abbdbe-4578-4c5a-9575-032acebfe25a",
   "metadata": {},
   "outputs": [],
   "source": [
    "list3 = [\"notebook\",\"pen\",\"book\"]      # List of string  "
   ]
  },
  {
   "cell_type": "code",
   "execution_count": 20,
   "id": "52dfedfe-d1f5-4631-b8a1-f055622c994d",
   "metadata": {},
   "outputs": [],
   "source": [
    "list4 = [\"Shalu\", 77, [22,7],[9,10]]    # Nested Lists "
   ]
  },
  {
   "cell_type": "code",
   "execution_count": 21,
   "id": "5dc8c26a-c5a8-401a-9829-ea43584d52b8",
   "metadata": {},
   "outputs": [],
   "source": [
    "list5 = [7, 22, 7.22,\"Angel\"]    # List of mixed data types "
   ]
  },
  {
   "cell_type": "code",
   "execution_count": 22,
   "id": "061c2b9d-8900-4894-8c72-c29154397877",
   "metadata": {},
   "outputs": [],
   "source": [
    "list6 = ['Raj', 25 ,[50, 100],[150, 90] , {'John' , 'David'}] "
   ]
  },
  {
   "cell_type": "code",
   "execution_count": 23,
   "id": "b811afb0-7c63-4c8c-a42e-0a081e133659",
   "metadata": {},
   "outputs": [
    {
     "data": {
      "text/plain": [
       "4"
      ]
     },
     "execution_count": 23,
     "metadata": {},
     "output_type": "execute_result"
    }
   ],
   "source": [
    "len(list5)   #Length of list "
   ]
  },
  {
   "cell_type": "code",
   "execution_count": 24,
   "id": "640e91f3-3c85-4b62-a62e-c9d51fa54090",
   "metadata": {},
   "outputs": [
    {
     "data": {
      "text/plain": [
       "10"
      ]
     },
     "execution_count": 24,
     "metadata": {},
     "output_type": "execute_result"
    }
   ],
   "source": [
    "list1[0]  # Retreive first element of the list "
   ]
  },
  {
   "cell_type": "code",
   "execution_count": 25,
   "id": "97fbc008-63fa-433e-9dcf-2cbde05408d5",
   "metadata": {},
   "outputs": [
    {
     "data": {
      "text/plain": [
       "'notebook'"
      ]
     },
     "execution_count": 25,
     "metadata": {},
     "output_type": "execute_result"
    }
   ],
   "source": [
    "list3[0]    # Retreive first element of the list "
   ]
  },
  {
   "cell_type": "code",
   "execution_count": 26,
   "id": "4f2c85af-d966-4165-8828-48fde70a09c5",
   "metadata": {},
   "outputs": [
    {
     "data": {
      "text/plain": [
       "'n'"
      ]
     },
     "execution_count": 26,
     "metadata": {},
     "output_type": "execute_result"
    }
   ],
   "source": [
    "list3[0][0]     # Nested indexing - Access the first character of the first list element"
   ]
  },
  {
   "cell_type": "code",
   "execution_count": 27,
   "id": "ea91e866-7840-4fd3-9dbe-c877bced3fdf",
   "metadata": {},
   "outputs": [
    {
     "data": {
      "text/plain": [
       "'book'"
      ]
     },
     "execution_count": 27,
     "metadata": {},
     "output_type": "execute_result"
    }
   ],
   "source": [
    "list3[-1]   # Last item of the list "
   ]
  },
  {
   "cell_type": "code",
   "execution_count": 28,
   "id": "d4740c78-5600-43cc-b0e6-24512d534c4c",
   "metadata": {},
   "outputs": [
    {
     "data": {
      "text/plain": [
       "[9, 10]"
      ]
     },
     "execution_count": 28,
     "metadata": {},
     "output_type": "execute_result"
    }
   ],
   "source": [
    "list4[-1]   # Last item of the list "
   ]
  },
  {
   "cell_type": "markdown",
   "id": "d09df020-e721-4487-a1aa-27498d735665",
   "metadata": {},
   "source": [
    "#### LIST SLICING ####"
   ]
  },
  {
   "cell_type": "code",
   "execution_count": 26,
   "id": "14fef83b-7c23-4e58-a428-9f2dbcb2d95d",
   "metadata": {},
   "outputs": [],
   "source": [
    "mylist = ['one' , 'two' , 'three' , 'four' , 'five' , 'six' , 'seven' , 'eight']"
   ]
  },
  {
   "cell_type": "code",
   "execution_count": 27,
   "id": "6ff5ed67-d425-411b-acfd-7f254d8399b5",
   "metadata": {},
   "outputs": [
    {
     "data": {
      "text/plain": [
       "['one', 'two', 'three', 'four']"
      ]
     },
     "execution_count": 27,
     "metadata": {},
     "output_type": "execute_result"
    }
   ],
   "source": [
    "mylist[0:4] # Return all items from 0th to 3rd index location excluding the item"
   ]
  },
  {
   "cell_type": "code",
   "execution_count": 28,
   "id": "2a02e872-2636-4d99-a7bc-cf42a1e942ce",
   "metadata": {},
   "outputs": [
    {
     "data": {
      "text/plain": [
       "['four', 'five', 'six']"
      ]
     },
     "execution_count": 28,
     "metadata": {},
     "output_type": "execute_result"
    }
   ],
   "source": [
    "mylist[3:6] # List all items from 3rd to 6th index location excluding the item "
   ]
  },
  {
   "cell_type": "code",
   "execution_count": 29,
   "id": "ce1b4b6b-fb95-4130-be49-560d26a819b9",
   "metadata": {},
   "outputs": [
    {
     "data": {
      "text/plain": [
       "['one', 'two', 'three']"
      ]
     },
     "execution_count": 29,
     "metadata": {},
     "output_type": "execute_result"
    }
   ],
   "source": [
    "mylist[:3] # Return first three items "
   ]
  },
  {
   "cell_type": "code",
   "execution_count": 30,
   "id": "8b8e3f19-157d-4c1b-a647-9e06b1cb4d76",
   "metadata": {},
   "outputs": [
    {
     "data": {
      "text/plain": [
       "['six', 'seven', 'eight']"
      ]
     },
     "execution_count": 30,
     "metadata": {},
     "output_type": "execute_result"
    }
   ],
   "source": [
    "mylist[-3:] # Return last three items "
   ]
  },
  {
   "cell_type": "code",
   "execution_count": 31,
   "id": "506749de-9488-46bc-825c-94738c6a967b",
   "metadata": {},
   "outputs": [
    {
     "data": {
      "text/plain": [
       "'eight'"
      ]
     },
     "execution_count": 31,
     "metadata": {},
     "output_type": "execute_result"
    }
   ],
   "source": [
    "mylist[-1] # Return last item of the list "
   ]
  },
  {
   "cell_type": "code",
   "execution_count": 32,
   "id": "0080f76e-9500-464b-8a62-12009f18c8d4",
   "metadata": {},
   "outputs": [
    {
     "data": {
      "text/plain": [
       "['one', 'two', 'three', 'four', 'five', 'six', 'seven', 'eight']"
      ]
     },
     "execution_count": 32,
     "metadata": {},
     "output_type": "execute_result"
    }
   ],
   "source": [
    "mylist[:] # Return whole list"
   ]
  },
  {
   "cell_type": "code",
   "execution_count": null,
   "id": "48be1c31-40a9-4f9d-a866-b83e74d2b8f8",
   "metadata": {},
   "outputs": [],
   "source": []
  },
  {
   "cell_type": "markdown",
   "id": "dc1b1d66-76be-44a0-ae2a-32c21c384ba5",
   "metadata": {},
   "source": [
    "#### Add, Remove & Change Items ####"
   ]
  },
  {
   "cell_type": "code",
   "execution_count": 35,
   "id": "7b581d0c-f47e-4aa7-98a8-0146394ab12b",
   "metadata": {},
   "outputs": [
    {
     "data": {
      "text/plain": [
       "['one', 'two', 'three', 'four', 'five', 'six', 'seven', 'eight', 'nine']"
      ]
     },
     "execution_count": 35,
     "metadata": {},
     "output_type": "execute_result"
    }
   ],
   "source": [
    "mylist"
   ]
  },
  {
   "cell_type": "code",
   "execution_count": 36,
   "id": "c19e46c6-f723-460b-8002-8363f634d0f5",
   "metadata": {},
   "outputs": [
    {
     "data": {
      "text/plain": [
       "['one',\n",
       " 'two',\n",
       " 'three',\n",
       " 'four',\n",
       " 'five',\n",
       " 'six',\n",
       " 'seven',\n",
       " 'eight',\n",
       " 'nine',\n",
       " 'nine']"
      ]
     },
     "execution_count": 36,
     "metadata": {},
     "output_type": "execute_result"
    }
   ],
   "source": [
    "mylist.append('nine')  # Add an item to the end of the list \n",
    "mylist "
   ]
  },
  {
   "cell_type": "code",
   "execution_count": 37,
   "id": "154b01b8-83e2-41ee-9b48-812dd1baed30",
   "metadata": {},
   "outputs": [
    {
     "data": {
      "text/plain": [
       "['one',\n",
       " 'two',\n",
       " 'three',\n",
       " 'four',\n",
       " 'five',\n",
       " 'six',\n",
       " 'seven',\n",
       " 'eight',\n",
       " 'nine',\n",
       " 'ten',\n",
       " 'nine']"
      ]
     },
     "execution_count": 37,
     "metadata": {},
     "output_type": "execute_result"
    }
   ],
   "source": [
    "mylist.insert(9,'ten') # Add item at index location 9 \n",
    "mylist "
   ]
  },
  {
   "cell_type": "code",
   "execution_count": 38,
   "id": "499bd476-16e1-4f08-800d-07a27276365a",
   "metadata": {},
   "outputs": [
    {
     "data": {
      "text/plain": [
       "['one',\n",
       " 'APPLE',\n",
       " 'two',\n",
       " 'three',\n",
       " 'four',\n",
       " 'five',\n",
       " 'six',\n",
       " 'seven',\n",
       " 'eight',\n",
       " 'nine',\n",
       " 'ten',\n",
       " 'nine']"
      ]
     },
     "execution_count": 38,
     "metadata": {},
     "output_type": "execute_result"
    }
   ],
   "source": [
    "mylist.insert(1,'APPLE') # Add item at index location 1 \n",
    "mylist "
   ]
  },
  {
   "cell_type": "code",
   "execution_count": 39,
   "id": "b6618efe-75e6-49e7-b2d7-3e446d36f169",
   "metadata": {},
   "outputs": [
    {
     "data": {
      "text/plain": [
       "['one',\n",
       " 'two',\n",
       " 'three',\n",
       " 'four',\n",
       " 'five',\n",
       " 'six',\n",
       " 'seven',\n",
       " 'eight',\n",
       " 'nine',\n",
       " 'ten',\n",
       " 'nine']"
      ]
     },
     "execution_count": 39,
     "metadata": {},
     "output_type": "execute_result"
    }
   ],
   "source": [
    "mylist.remove('APPLE') # Remove item \"APPLE\" \n",
    "mylist "
   ]
  },
  {
   "cell_type": "code",
   "execution_count": 40,
   "id": "03984ca0-7c96-42a5-b3a6-0dbeeaf85262",
   "metadata": {},
   "outputs": [
    {
     "data": {
      "text/plain": [
       "['one', 'two', 'three', 'four', 'five', 'six', 'seven', 'eight', 'nine', 'ten']"
      ]
     },
     "execution_count": 40,
     "metadata": {},
     "output_type": "execute_result"
    }
   ],
   "source": [
    "mylist.pop() # Remove last item of the list  \n",
    "mylist "
   ]
  },
  {
   "cell_type": "code",
   "execution_count": 41,
   "id": "781a0f49-8f7c-4e83-af9d-84abe5419156",
   "metadata": {},
   "outputs": [
    {
     "data": {
      "text/plain": [
       "['one', 'two', 'three', 'four', 'five', 'six', 'seven', 'eight', 'ten']"
      ]
     },
     "execution_count": 41,
     "metadata": {},
     "output_type": "execute_result"
    }
   ],
   "source": [
    "mylist.pop(8) # Remove item at the index location 8 \n",
    "mylist "
   ]
  },
  {
   "cell_type": "code",
   "execution_count": 42,
   "id": "2c2537f5-af00-463f-8f5b-adbfe9cb075a",
   "metadata": {},
   "outputs": [
    {
     "data": {
      "text/plain": [
       "['one', 'two', 'three', 'four', 'five', 'six', 'seven', 'ten']"
      ]
     },
     "execution_count": 42,
     "metadata": {},
     "output_type": "execute_result"
    }
   ],
   "source": [
    "del mylist[7]  # Remove item at index location 7\n",
    "mylist"
   ]
  },
  {
   "cell_type": "code",
   "execution_count": 43,
   "id": "ad75fb00-2044-4257-8cc0-a95bfb42918e",
   "metadata": {},
   "outputs": [
    {
     "data": {
      "text/plain": [
       "[1, 2, 3, 'four', 'five', 'six', 'seven', 'ten']"
      ]
     },
     "execution_count": 43,
     "metadata": {},
     "output_type": "execute_result"
    }
   ],
   "source": [
    "# Change value of the string\n",
    "mylist[0] = 1 \n",
    "mylist[1] = 2 \n",
    "mylist[2] = 3 \n",
    "mylist "
   ]
  },
  {
   "cell_type": "code",
   "execution_count": 44,
   "id": "1c8059e0-1190-4412-9c74-e92b8296eb86",
   "metadata": {},
   "outputs": [
    {
     "data": {
      "text/plain": [
       "[]"
      ]
     },
     "execution_count": 44,
     "metadata": {},
     "output_type": "execute_result"
    }
   ],
   "source": [
    "mylist.clear()   # Empty List / Delete all items in the list \n",
    "mylist"
   ]
  },
  {
   "cell_type": "code",
   "execution_count": 45,
   "id": "b36f9233-cb54-44ae-b3d6-fb2b11ec3f65",
   "metadata": {},
   "outputs": [
    {
     "ename": "NameError",
     "evalue": "name 'mylist' is not defined",
     "output_type": "error",
     "traceback": [
      "\u001b[1;31m---------------------------------------------------------------------------\u001b[0m",
      "\u001b[1;31mNameError\u001b[0m                                 Traceback (most recent call last)",
      "Cell \u001b[1;32mIn[45], line 2\u001b[0m\n\u001b[0;32m      1\u001b[0m \u001b[38;5;28;01mdel\u001b[39;00m mylist    \u001b[38;5;66;03m# Delete the whole list\u001b[39;00m\n\u001b[1;32m----> 2\u001b[0m mylist\n",
      "\u001b[1;31mNameError\u001b[0m: name 'mylist' is not defined"
     ]
    }
   ],
   "source": [
    "del mylist    # Delete the whole list\n",
    "mylist"
   ]
  },
  {
   "cell_type": "code",
   "execution_count": null,
   "id": "70e95285-ac38-4642-b7f9-4243570d768e",
   "metadata": {},
   "outputs": [],
   "source": []
  },
  {
   "cell_type": "markdown",
   "id": "ba45b0ff-2398-45b6-9cf2-3afd3acb7007",
   "metadata": {},
   "source": [
    "#### COPY LIST ####"
   ]
  },
  {
   "cell_type": "code",
   "execution_count": 48,
   "id": "c3a81809-8f5f-4ca1-ac92-8b9a88fe702b",
   "metadata": {},
   "outputs": [],
   "source": [
    "mylist = ['one', 'two', 'three', 'four', 'five', 'six', 'seven', 'eight', 'nine']"
   ]
  },
  {
   "cell_type": "code",
   "execution_count": 49,
   "id": "0f522f8f-ada3-445c-a1ee-641e66576f16",
   "metadata": {},
   "outputs": [],
   "source": [
    "mylist1 = mylist # Create a new reference \"mylist1\" "
   ]
  },
  {
   "cell_type": "code",
   "execution_count": 50,
   "id": "d707a45b-72b7-4154-af70-7164608125bb",
   "metadata": {},
   "outputs": [
    {
     "data": {
      "text/plain": [
       "(1780995811840, 1780995811840)"
      ]
     },
     "execution_count": 50,
     "metadata": {},
     "output_type": "execute_result"
    }
   ],
   "source": [
    "id(mylist) , id(mylist1) # The address of both mylist & mylist1 will be the same "
   ]
  },
  {
   "cell_type": "code",
   "execution_count": 51,
   "id": "ddc1405b-765b-4a1a-b10d-4e1428139bbc",
   "metadata": {},
   "outputs": [],
   "source": [
    "mylist2 = mylist.copy() # Create a copy of the list"
   ]
  },
  {
   "cell_type": "code",
   "execution_count": 52,
   "id": "2642e3cb-807c-4b62-9ac8-93de2a423b25",
   "metadata": {},
   "outputs": [
    {
     "data": {
      "text/plain": [
       "1780995278080"
      ]
     },
     "execution_count": 52,
     "metadata": {},
     "output_type": "execute_result"
    }
   ],
   "source": [
    "id(mylist2) # The address of mylist2 will be different from mylist because my list"
   ]
  },
  {
   "cell_type": "code",
   "execution_count": 54,
   "id": "b7a5d975-ad54-4b33-963a-1f85f21859d1",
   "metadata": {},
   "outputs": [],
   "source": [
    "mylist[0] = 1"
   ]
  },
  {
   "cell_type": "code",
   "execution_count": 55,
   "id": "d986674a-3b1b-4724-bb39-14c460f121f4",
   "metadata": {},
   "outputs": [
    {
     "data": {
      "text/plain": [
       "[1, 'two', 'three', 'four', 'five', 'six', 'seven', 'eight', 'nine']"
      ]
     },
     "execution_count": 55,
     "metadata": {},
     "output_type": "execute_result"
    }
   ],
   "source": [
    "mylist"
   ]
  },
  {
   "cell_type": "code",
   "execution_count": 56,
   "id": "ac67f993-8fee-47e8-9081-fbd2707e8bce",
   "metadata": {},
   "outputs": [
    {
     "data": {
      "text/plain": [
       "[1, 'two', 'three', 'four', 'five', 'six', 'seven', 'eight', 'nine']"
      ]
     },
     "execution_count": 56,
     "metadata": {},
     "output_type": "execute_result"
    }
   ],
   "source": [
    "mylist1     # my list1 will be also impacted as it is pointing to the same list "
   ]
  },
  {
   "cell_type": "code",
   "execution_count": null,
   "id": "586cd46b-27e4-4d6e-8dcf-9b74ff18d607",
   "metadata": {},
   "outputs": [],
   "source": [
    "mylist2    # Copy of list won't be impacted due to changes made on the original list"
   ]
  },
  {
   "cell_type": "code",
   "execution_count": null,
   "id": "590e283e-b135-488e-9af7-3cda1bdfe471",
   "metadata": {},
   "outputs": [],
   "source": []
  },
  {
   "cell_type": "markdown",
   "id": "5f928577-20a7-434e-8864-71a7f061765a",
   "metadata": {},
   "source": [
    "#### JOIN LISTS ####"
   ]
  },
  {
   "cell_type": "code",
   "execution_count": 57,
   "id": "d89383f9-2559-4ca6-92fc-61d6e10cb31d",
   "metadata": {},
   "outputs": [],
   "source": [
    "list1 = ['one', 'two', 'three', 'four'] \n",
    "list2 = ['five', 'six', 'seven', 'eight'] "
   ]
  },
  {
   "cell_type": "code",
   "execution_count": 58,
   "id": "6089371a-4d48-4f81-baa1-e1ded37279d2",
   "metadata": {},
   "outputs": [
    {
     "data": {
      "text/plain": [
       "['one', 'two', 'three', 'four', 'five', 'six', 'seven', 'eight']"
      ]
     },
     "execution_count": 58,
     "metadata": {},
     "output_type": "execute_result"
    }
   ],
   "source": [
    "list3 = list1 + list2       # Join two lists by '+' operator \n",
    "list3"
   ]
  },
  {
   "cell_type": "code",
   "execution_count": 59,
   "id": "71de4cf4-ec2a-4714-a819-d81d67c93f37",
   "metadata": {},
   "outputs": [
    {
     "data": {
      "text/plain": [
       "['one', 'two', 'three', 'four', 'five', 'six', 'seven', 'eight']"
      ]
     },
     "execution_count": 59,
     "metadata": {},
     "output_type": "execute_result"
    }
   ],
   "source": [
    "list1.extend(list2)    #Append list2 with list1\n",
    "list1"
   ]
  },
  {
   "cell_type": "code",
   "execution_count": null,
   "id": "5b8e60e5-b26b-4a5d-abe0-990eba200638",
   "metadata": {},
   "outputs": [],
   "source": []
  },
  {
   "cell_type": "markdown",
   "id": "a5bd3e1a-8d51-4029-b3db-ce65b5768b56",
   "metadata": {},
   "source": [
    "#### LIST MEMBERSHIP ####"
   ]
  },
  {
   "cell_type": "code",
   "execution_count": 60,
   "id": "fd5bbaf0-e83e-4c55-b65b-2656a100c0ad",
   "metadata": {},
   "outputs": [
    {
     "data": {
      "text/plain": [
       "['one', 'two', 'three', 'four', 'five', 'six', 'seven', 'eight']"
      ]
     },
     "execution_count": 60,
     "metadata": {},
     "output_type": "execute_result"
    }
   ],
   "source": [
    "list1"
   ]
  },
  {
   "cell_type": "code",
   "execution_count": 63,
   "id": "9838356c-5489-4fe2-b826-dc05a0cd8aaa",
   "metadata": {},
   "outputs": [
    {
     "data": {
      "text/plain": [
       "True"
      ]
     },
     "execution_count": 63,
     "metadata": {},
     "output_type": "execute_result"
    }
   ],
   "source": [
    "'one' in list1 # Check if 'one' exist in the list "
   ]
  },
  {
   "cell_type": "code",
   "execution_count": 64,
   "id": "a783fb0d-b591-44f3-9012-34274ded33e0",
   "metadata": {},
   "outputs": [
    {
     "data": {
      "text/plain": [
       "False"
      ]
     },
     "execution_count": 64,
     "metadata": {},
     "output_type": "execute_result"
    }
   ],
   "source": [
    "'ten' in list1 # Check if 'one' exist in the list "
   ]
  },
  {
   "cell_type": "code",
   "execution_count": 65,
   "id": "6e58e9cd-6d3d-441c-849d-83363dd6a681",
   "metadata": {},
   "outputs": [
    {
     "name": "stdout",
     "output_type": "stream",
     "text": [
      "There is present in the list\n"
     ]
    }
   ],
   "source": [
    "if \"three\" in list1:   # Check if 'three' exist in the list \n",
    "    print('There is present in the list')\n",
    "else:\n",
    "    print(\"There is not present in the list\")"
   ]
  },
  {
   "cell_type": "code",
   "execution_count": 66,
   "id": "59846211-6554-4234-b507-3e868c957d67",
   "metadata": {},
   "outputs": [
    {
     "name": "stdout",
     "output_type": "stream",
     "text": [
      "Eleven is not present in the list\n"
     ]
    }
   ],
   "source": [
    "if \"Eleven\" in list1:   # Check if 'three' exist in the list \n",
    "    print('Eleven is present in the list')\n",
    "else:\n",
    "    print(\"Eleven is not present in the list\")"
   ]
  },
  {
   "cell_type": "code",
   "execution_count": null,
   "id": "95fc965e-ed5d-42a4-b1e3-7dde30ed7b5b",
   "metadata": {},
   "outputs": [],
   "source": []
  },
  {
   "cell_type": "markdown",
   "id": "f95709c9-f38c-4366-9f4d-4a674d9f38c1",
   "metadata": {},
   "source": [
    "#### Reverse & Sort List ####"
   ]
  },
  {
   "cell_type": "code",
   "execution_count": 67,
   "id": "0e880c18-7fa5-4152-9617-b170fe03fd82",
   "metadata": {},
   "outputs": [
    {
     "data": {
      "text/plain": [
       "['one', 'two', 'three', 'four', 'five', 'six', 'seven', 'eight']"
      ]
     },
     "execution_count": 67,
     "metadata": {},
     "output_type": "execute_result"
    }
   ],
   "source": [
    "list1"
   ]
  },
  {
   "cell_type": "code",
   "execution_count": 69,
   "id": "25b41293-1976-4b0d-ae9b-65ed92e561b5",
   "metadata": {},
   "outputs": [
    {
     "data": {
      "text/plain": [
       "['eight', 'seven', 'six', 'five', 'four', 'three', 'two', 'one']"
      ]
     },
     "execution_count": 69,
     "metadata": {},
     "output_type": "execute_result"
    }
   ],
   "source": [
    "list1.reverse()   # Reverse the list\n",
    "list1"
   ]
  },
  {
   "cell_type": "code",
   "execution_count": 73,
   "id": "5a66c5ba-f36c-4ca3-baa9-6f90c4a09108",
   "metadata": {},
   "outputs": [
    {
     "data": {
      "text/plain": [
       "['two', 'three', 'four', 'five', 'six', 'seven', 'eight']"
      ]
     },
     "execution_count": 73,
     "metadata": {},
     "output_type": "execute_result"
    }
   ],
   "source": [
    "list1 = list1[::-1]    # Reverse the list\n",
    "list1"
   ]
  },
  {
   "cell_type": "code",
   "execution_count": 74,
   "id": "787b8354-6abc-43a6-834a-082631dcd9e2",
   "metadata": {},
   "outputs": [
    {
     "data": {
      "text/plain": [
       "[2, 5, 9, 12, 34, 88, 99]"
      ]
     },
     "execution_count": 74,
     "metadata": {},
     "output_type": "execute_result"
    }
   ],
   "source": [
    "mylist3 = [9,5,2,99,12,88,34] \n",
    "mylist3.sort() # Sort list in ascending order \n",
    "mylist3 "
   ]
  },
  {
   "cell_type": "code",
   "execution_count": 75,
   "id": "3f71eab5-7c69-48d0-a390-f115196364e5",
   "metadata": {},
   "outputs": [
    {
     "data": {
      "text/plain": [
       "[99, 88, 34, 12, 9, 5, 2]"
      ]
     },
     "execution_count": 75,
     "metadata": {},
     "output_type": "execute_result"
    }
   ],
   "source": [
    "ylist3 = [9,5,2,99,12,88,34] \n",
    "mylist3.sort(reverse=True) # Sort list in descending order \n",
    "mylist3 "
   ]
  },
  {
   "cell_type": "code",
   "execution_count": 76,
   "id": "ef93cd5a-d609-4fb8-a0e8-9cdebf9810ee",
   "metadata": {},
   "outputs": [
    {
     "data": {
      "text/plain": [
       "[11, 21, 33, 65, 88, 98]"
      ]
     },
     "execution_count": 76,
     "metadata": {},
     "output_type": "execute_result"
    }
   ],
   "source": [
    "mylist4 = [88,65,33,21,11,98] \n",
    "sorted(mylist4) # Returns a new sorted list and doesn't change original list"
   ]
  },
  {
   "cell_type": "code",
   "execution_count": 77,
   "id": "23e0b828-0cfd-419f-a697-cd098adb0eec",
   "metadata": {},
   "outputs": [
    {
     "data": {
      "text/plain": [
       "[88, 65, 33, 21, 11, 98]"
      ]
     },
     "execution_count": 77,
     "metadata": {},
     "output_type": "execute_result"
    }
   ],
   "source": [
    "mylist4"
   ]
  },
  {
   "cell_type": "code",
   "execution_count": null,
   "id": "9469fd21-6b50-4b72-b919-a1c137dac4c2",
   "metadata": {},
   "outputs": [],
   "source": []
  },
  {
   "cell_type": "markdown",
   "id": "6d287499-2ef4-4644-95ce-d61413bb7c6c",
   "metadata": {},
   "source": [
    "#### LOOP THROUGH A LIST ####"
   ]
  },
  {
   "cell_type": "code",
   "execution_count": 78,
   "id": "3c40657b-b0d1-4065-bb2a-b7ac5b8fa6c0",
   "metadata": {},
   "outputs": [
    {
     "data": {
      "text/plain": [
       "['two', 'three', 'four', 'five', 'six', 'seven', 'eight']"
      ]
     },
     "execution_count": 78,
     "metadata": {},
     "output_type": "execute_result"
    }
   ],
   "source": [
    "list1"
   ]
  },
  {
   "cell_type": "code",
   "execution_count": 79,
   "id": "3c9f30a8-7a55-4cdc-99b2-672b31a2d126",
   "metadata": {},
   "outputs": [
    {
     "name": "stdout",
     "output_type": "stream",
     "text": [
      "two\n",
      "three\n",
      "four\n",
      "five\n",
      "six\n",
      "seven\n",
      "eight\n"
     ]
    }
   ],
   "source": [
    "for i in list1:\n",
    "    print(i)"
   ]
  },
  {
   "cell_type": "code",
   "execution_count": 80,
   "id": "cdeac315-2515-485e-bfba-a83a9a858582",
   "metadata": {},
   "outputs": [
    {
     "name": "stdout",
     "output_type": "stream",
     "text": [
      "(0, 'two')\n",
      "(1, 'three')\n",
      "(2, 'four')\n",
      "(3, 'five')\n",
      "(4, 'six')\n",
      "(5, 'seven')\n",
      "(6, 'eight')\n"
     ]
    }
   ],
   "source": [
    "for i in enumerate(list1):\n",
    "    print(i)"
   ]
  },
  {
   "cell_type": "code",
   "execution_count": null,
   "id": "d4b9e275-9e83-4f75-b79f-4c57df9088d3",
   "metadata": {},
   "outputs": [],
   "source": []
  },
  {
   "cell_type": "markdown",
   "id": "cd76b19e-cc1c-4181-82e4-78b68058ad59",
   "metadata": {},
   "source": [
    "#### COUNT ####"
   ]
  },
  {
   "cell_type": "code",
   "execution_count": 81,
   "id": "e0fe1ad8-486e-4256-ace7-23217b7a66b5",
   "metadata": {},
   "outputs": [],
   "source": [
    "list7 =['one', 'two', 'three', 'four', 'one', 'one', 'two', 'three'] "
   ]
  },
  {
   "cell_type": "code",
   "execution_count": 82,
   "id": "567ce2b2-9e72-427e-a5de-9137cb3a8ded",
   "metadata": {},
   "outputs": [
    {
     "data": {
      "text/plain": [
       "3"
      ]
     },
     "execution_count": 82,
     "metadata": {},
     "output_type": "execute_result"
    }
   ],
   "source": [
    "list7.count(\"one\")    # Number of times item \"one\" occurred in the list. "
   ]
  },
  {
   "cell_type": "code",
   "execution_count": 83,
   "id": "caebc3a8-6755-4690-8a71-4c2888220ab3",
   "metadata": {},
   "outputs": [
    {
     "data": {
      "text/plain": [
       "2"
      ]
     },
     "execution_count": 83,
     "metadata": {},
     "output_type": "execute_result"
    }
   ],
   "source": [
    "list7.count(\"two\")    # Occurence of item 'two' in the list "
   ]
  },
  {
   "cell_type": "code",
   "execution_count": null,
   "id": "f3a62568-ec59-4ec5-8081-ecbae637b167",
   "metadata": {},
   "outputs": [],
   "source": []
  },
  {
   "cell_type": "markdown",
   "id": "96c201ac-3d49-425e-ae0a-bf594a73e8e7",
   "metadata": {},
   "source": [
    "####   All / Any  ####\n",
    " \n",
    "The all() method returns: \n",
    " \n",
    "True - If all elements in a list are true \n",
    "False - If any element in a list is false \n",
    " \n",
    "The any() function returns True if any element in the list is True. If not, any() returns False. "
   ]
  },
  {
   "cell_type": "code",
   "execution_count": null,
   "id": "f5fe0880-c3bd-484c-8ac7-132df714e3d2",
   "metadata": {},
   "outputs": [],
   "source": []
  },
  {
   "cell_type": "code",
   "execution_count": 88,
   "id": "2296f4dd-94b3-4600-91f0-de48e2c57eba",
   "metadata": {},
   "outputs": [],
   "source": [
    "a = [1,2,3,4,0] "
   ]
  },
  {
   "cell_type": "code",
   "execution_count": 89,
   "id": "4396c724-6abe-4687-bd40-79f74c26f420",
   "metadata": {},
   "outputs": [
    {
     "data": {
      "text/plain": [
       "False"
      ]
     },
     "execution_count": 89,
     "metadata": {},
     "output_type": "execute_result"
    }
   ],
   "source": [
    "all(a)   # Will Return false as one value is false (Value 0) "
   ]
  },
  {
   "cell_type": "code",
   "execution_count": 90,
   "id": "34a38f6e-7fd3-428b-a6a0-ffe94b02bb7e",
   "metadata": {},
   "outputs": [
    {
     "data": {
      "text/plain": [
       "True"
      ]
     },
     "execution_count": 90,
     "metadata": {},
     "output_type": "execute_result"
    }
   ],
   "source": [
    "any(a)  # Will Return True as we have items in the list with True value "
   ]
  },
  {
   "cell_type": "code",
   "execution_count": 91,
   "id": "edeae6bf-af9e-426e-a764-c94728606dde",
   "metadata": {},
   "outputs": [],
   "source": [
    "a2 = [1,2,3,4,True,False] "
   ]
  },
  {
   "cell_type": "code",
   "execution_count": 92,
   "id": "8df41548-e415-433c-891c-06442a1d57d5",
   "metadata": {},
   "outputs": [
    {
     "data": {
      "text/plain": [
       "False"
      ]
     },
     "execution_count": 92,
     "metadata": {},
     "output_type": "execute_result"
    }
   ],
   "source": [
    "all(a2)   # Returns false as one value is false "
   ]
  },
  {
   "cell_type": "code",
   "execution_count": 93,
   "id": "d70ab1c7-5d6f-4cb9-ae7f-e484fa670b2f",
   "metadata": {},
   "outputs": [
    {
     "data": {
      "text/plain": [
       "True"
      ]
     },
     "execution_count": 93,
     "metadata": {},
     "output_type": "execute_result"
    }
   ],
   "source": [
    "any(a2)    # Will Return True as we have items in the list with True value "
   ]
  },
  {
   "cell_type": "code",
   "execution_count": 95,
   "id": "c79232e1-fb95-4763-b25d-98be517c038d",
   "metadata": {},
   "outputs": [],
   "source": [
    "a3 = [1,2,3,True] "
   ]
  },
  {
   "cell_type": "code",
   "execution_count": 96,
   "id": "bc0f11f5-ec10-4af0-8b3c-e72a93f57ffd",
   "metadata": {},
   "outputs": [
    {
     "data": {
      "text/plain": [
       "True"
      ]
     },
     "execution_count": 96,
     "metadata": {},
     "output_type": "execute_result"
    }
   ],
   "source": [
    "all(a3)   # Will return True as all items in the list are True "
   ]
  },
  {
   "cell_type": "code",
   "execution_count": null,
   "id": "1dd1cee2-310f-4216-ade0-d915642a0287",
   "metadata": {},
   "outputs": [],
   "source": []
  },
  {
   "cell_type": "code",
   "execution_count": null,
   "id": "45a6a646-e9ef-4ab3-9f08-91ed6c5746a6",
   "metadata": {},
   "outputs": [],
   "source": []
  },
  {
   "cell_type": "code",
   "execution_count": null,
   "id": "4a0548cf-0ea3-4743-902a-e61d61c16322",
   "metadata": {},
   "outputs": [],
   "source": []
  },
  {
   "cell_type": "code",
   "execution_count": null,
   "id": "e8cf136c-bad1-492c-80f1-72bc1bad4465",
   "metadata": {},
   "outputs": [],
   "source": []
  },
  {
   "cell_type": "code",
   "execution_count": null,
   "id": "d793480a-335f-401f-99fb-6c78b957ae78",
   "metadata": {},
   "outputs": [],
   "source": []
  }
 ],
 "metadata": {
  "kernelspec": {
   "display_name": "Python [conda env:base] *",
   "language": "python",
   "name": "conda-base-py"
  },
  "language_info": {
   "codemirror_mode": {
    "name": "ipython",
    "version": 3
   },
   "file_extension": ".py",
   "mimetype": "text/x-python",
   "name": "python",
   "nbconvert_exporter": "python",
   "pygments_lexer": "ipython3",
   "version": "3.12.7"
  }
 },
 "nbformat": 4,
 "nbformat_minor": 5
}
