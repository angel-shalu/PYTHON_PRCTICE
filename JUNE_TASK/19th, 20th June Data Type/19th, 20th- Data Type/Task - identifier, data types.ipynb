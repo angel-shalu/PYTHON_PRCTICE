{
 "cells": [
  {
   "cell_type": "code",
   "execution_count": null,
   "id": "41c3fc9d-dad3-406e-80e7-440bccc183d9",
   "metadata": {},
   "outputs": [],
   "source": [
    "import sys\n",
    "import keyword\n",
    "import python\n",
    "import datatime\n",
    "import os"
   ]
  },
  {
   "cell_type": "code",
   "execution_count": 2,
   "id": "165050f1-fd4b-442d-b3f1-a09162499090",
   "metadata": {},
   "outputs": [
    {
     "name": "stdout",
     "output_type": "stream",
     "text": [
      "['False', 'None', 'True', 'and', 'as', 'assert', 'async', 'await', 'break', 'class', 'continue', 'def', 'del', 'elif', 'else', 'except', 'finally', 'for', 'from', 'global', 'if', 'import', 'in', 'is', 'lambda', 'nonlocal', 'not', 'or', 'pass', 'raise', 'return', 'try', 'while', 'with', 'yield']\n"
     ]
    }
   ],
   "source": [
    "# Keywords\n",
    "# Keywords are the reserved words in Python and can't be used as an identifier\n",
    "\n",
    "import keyword  # list all the python keyword\n",
    "keyword.kwlist\n",
    "print(keyword.kwlist)   # list all the python keyword"
   ]
  },
  {
   "cell_type": "code",
   "execution_count": 3,
   "id": "49b48b20-820d-41a7-8e48-87ae320465a8",
   "metadata": {},
   "outputs": [
    {
     "data": {
      "text/plain": [
       "35"
      ]
     },
     "execution_count": 3,
     "metadata": {},
     "output_type": "execute_result"
    }
   ],
   "source": [
    "len(keyword.kwlist)   # Python contains 35 keywords"
   ]
  },
  {
   "cell_type": "code",
   "execution_count": 4,
   "id": "eb9d6cf3-4327-4dae-bade-8cd9d3f2a118",
   "metadata": {},
   "outputs": [
    {
     "ename": "SyntaxError",
     "evalue": "invalid decimal literal (3352608134.py, line 5)",
     "output_type": "error",
     "traceback": [
      "\u001b[1;36m  Cell \u001b[1;32mIn[4], line 5\u001b[1;36m\u001b[0m\n\u001b[1;33m    1var = 7  # Identifier can't start with a digit\u001b[0m\n\u001b[1;37m    ^\u001b[0m\n\u001b[1;31mSyntaxError\u001b[0m\u001b[1;31m:\u001b[0m invalid decimal literal\n"
     ]
    }
   ],
   "source": [
    "#IDENTIFIERS\n",
    "'''An identifier is a name given to entities like class, functions, variables, etc. It helps to differentiate \n",
    "one entity from another.'''\n",
    "\n",
    "1var = 7  # Identifier can't start with a digit \n",
    "val2@ = 35 # Identifier can't use special symbols \n",
    "import = 125 # Keywords can't be used as identifiers \n"
   ]
  },
  {
   "cell_type": "code",
   "execution_count": null,
   "id": "bd056a8a-4bde-462b-9314-37162fa6f75f",
   "metadata": {},
   "outputs": [],
   "source": [
    "\"\"\" \n",
    "Correct way of defining an identifier \n",
    "(Identifiers can be a combination of letters in lowercase (a to z) or uppercase \n",
    "\"\"\" \n",
    "variable = 7\n",
    "variable_ = 7"
   ]
  },
  {
   "cell_type": "code",
   "execution_count": null,
   "id": "423bf830-5e48-4410-bdda-50983a5a160d",
   "metadata": {},
   "outputs": [],
   "source": [
    "\"\"\"Comments in Python \n",
    "Comments can be used to explain the code for more readabilty. \"\"\"\n",
    "\n",
    "\n",
    "#Single line comment \n",
    "val1 = 10\n",
    "\n",
    "# Multiple \n",
    "# line \n",
    "# comment \n",
    "val1 = 10 \n",
    "\n",
    "''' \n",
    "Multiple \n",
    "line \n",
    "comment \n",
    "''' \n",
    "val1 = 10\n",
    "\n",
    "\"\"\" \n",
    "Multiple \n",
    "line \n",
    "comment \n",
    "\"\"\" \n",
    "val1 = 10 \n"
   ]
  },
  {
   "cell_type": "code",
   "execution_count": 7,
   "id": "c577c15c-d18c-41ad-8daf-30b9f210580a",
   "metadata": {},
   "outputs": [
    {
     "data": {
      "text/plain": [
       "(20, int, '0x7ffadea92c18')"
      ]
     },
     "execution_count": 7,
     "metadata": {},
     "output_type": "execute_result"
    }
   ],
   "source": [
    "\"\"\" Statements \n",
    "Instructions that a Python interpreter can execute. \"\"\"\n",
    "\n",
    "p = 20    #Creates an integer object with value 20 and assigns the variable p to p \n",
    "q = 20    # Create new reference q which will point to value 20. p & q will be poi \n",
    "r = q     # variable r will also point to the same location where p & q are pointin \n",
    "\n",
    "p , type(p), hex(id(p)) # Variable P is pointing to memory location '0x7fff6d71a  "
   ]
  },
  {
   "cell_type": "code",
   "execution_count": 8,
   "id": "f75ebd4c-142c-4ae5-b802-fc6d5c9d07e9",
   "metadata": {},
   "outputs": [
    {
     "data": {
      "text/plain": [
       "(20, int, '0x7ffadea92c18')"
      ]
     },
     "execution_count": 8,
     "metadata": {},
     "output_type": "execute_result"
    }
   ],
   "source": [
    "q , type(q), hex(id(q))"
   ]
  },
  {
   "cell_type": "code",
   "execution_count": 9,
   "id": "db332024-c2bb-43b6-8dd9-036fbf6a175c",
   "metadata": {},
   "outputs": [
    {
     "data": {
      "text/plain": [
       "(20, int, '0x7ffadea92c18')"
      ]
     },
     "execution_count": 9,
     "metadata": {},
     "output_type": "execute_result"
    }
   ],
   "source": [
    "r , type(r), hex(id(r))"
   ]
  },
  {
   "cell_type": "code",
   "execution_count": null,
   "id": "d1cc3347-698c-4039-b0d3-22d8bc41cbd7",
   "metadata": {},
   "outputs": [],
   "source": []
  },
  {
   "cell_type": "code",
   "execution_count": 10,
   "id": "6ccad214-85a0-47b9-b70d-02bb649dccd9",
   "metadata": {},
   "outputs": [
    {
     "data": {
      "text/plain": [
       "15"
      ]
     },
     "execution_count": 10,
     "metadata": {},
     "output_type": "execute_result"
    }
   ],
   "source": [
    "a = 7\n",
    "a = a + 8  # Variable Overwriting\n",
    "a"
   ]
  },
  {
   "cell_type": "code",
   "execution_count": 13,
   "id": "2d94ce1c-b802-4530-9ed6-2bba59cb3a57",
   "metadata": {},
   "outputs": [
    {
     "name": "stdout",
     "output_type": "stream",
     "text": [
      "8\n",
      "8.7\n",
      "Python Language\n"
     ]
    }
   ],
   "source": [
    "# Variable Assigment \n",
    "\n",
    "a = 8     # Integer variable \n",
    "b = 8.7           # Float variable \n",
    "c = \"Python Language\"       #String variable\n",
    "print(a)\n",
    "print(b)\n",
    "print(c)"
   ]
  },
  {
   "cell_type": "code",
   "execution_count": 14,
   "id": "bf27ac40-b58f-4021-a9a3-93403d55f5f2",
   "metadata": {},
   "outputs": [
    {
     "name": "stdout",
     "output_type": "stream",
     "text": [
      "7\n",
      "6.7\n",
      "Python Language\n"
     ]
    }
   ],
   "source": [
    "# Multiple Assignments \n",
    "a,b,c = 7, 6.7 , \"Python Language\"    # Using commas to separat\n",
    "print(a)\n",
    "print(b)\n",
    "print(c)"
   ]
  },
  {
   "cell_type": "code",
   "execution_count": 16,
   "id": "9f24e289-4fab-4f10-87d6-dd49ad7a4155",
   "metadata": {},
   "outputs": [
    {
     "name": "stdout",
     "output_type": "stream",
     "text": [
      "44 44 44 44\n"
     ]
    }
   ],
   "source": [
    "p1 = p2 = p3 = p4 = 44 # All variables pointing to same value \n",
    "print(p1,p2,p3,p4) "
   ]
  },
  {
   "cell_type": "code",
   "execution_count": 18,
   "id": "5e9cd068-38c1-43e8-93cf-437e1b1d2fbf",
   "metadata": {},
   "outputs": [
    {
     "name": "stdout",
     "output_type": "stream",
     "text": [
      "77 77 77 77\n"
     ]
    }
   ],
   "source": [
    "a = b = c = d = 77    # All variables pointing to same value \n",
    "print(a,b,c,d)"
   ]
  },
  {
   "cell_type": "code",
   "execution_count": null,
   "id": "22b29ff0-9f56-40a7-b9ca-168b621cc0ab",
   "metadata": {},
   "outputs": [],
   "source": []
  },
  {
   "cell_type": "code",
   "execution_count": 24,
   "id": "ffafd9a0-8196-4494-9d85-fcfa58dc74a6",
   "metadata": {},
   "outputs": [
    {
     "name": "stdout",
     "output_type": "stream",
     "text": [
      "9\n",
      "<class 'int'>\n",
      "28\n",
      "9 is Integer? True\n",
      "9.7\n",
      "<class 'float'>\n",
      "24\n",
      "9.7 is Float? True\n",
      "(7+3j)\n",
      "<class 'complex'>\n",
      "32\n",
      "(7+3j) is Complex? True\n"
     ]
    }
   ],
   "source": [
    "\"\"\"Data Types \n",
    "Numeric \n",
    "Float\n",
    "Complex\"\"\"\n",
    "\n",
    "# Numeric\n",
    "\n",
    "import sys\n",
    "a = 9      # Integer data type \n",
    "print(a)\n",
    "print(type(a))      # type of object \n",
    "print(sys.getsizeof(a))    # # size of integer object in bytes --------This may vary depending on Python version and platform\n",
    "print(a, \"is Integer?\", isinstance(a, int))  # a is an instance of int\n",
    "\n",
    "\n",
    "# Float\n",
    "import sys\n",
    "a = 9.7\n",
    "print(a)\n",
    "print(type(a))     \n",
    "print(sys.getsizeof(a))\n",
    "print(a, \"is Float?\", isinstance(a, float))\n",
    "\n",
    "# Complex\n",
    "import sys\n",
    "a = 7 + 3j\n",
    "print(a)\n",
    "print(type(a))     \n",
    "print(sys.getsizeof(a))\n",
    "print(a, \"is Complex?\", isinstance(a, complex))\n"
   ]
  },
  {
   "cell_type": "code",
   "execution_count": 25,
   "id": "bb70e87f-5f34-47bb-aec4-c45fbc1d8409",
   "metadata": {},
   "outputs": [
    {
     "data": {
      "text/plain": [
       "28"
      ]
     },
     "execution_count": 25,
     "metadata": {},
     "output_type": "execute_result"
    }
   ],
   "source": [
    " sys.getsizeof(int()) # size of integer object in bytes"
   ]
  },
  {
   "cell_type": "code",
   "execution_count": 27,
   "id": "5ab93599-32bb-4be4-9927-6add59d066ce",
   "metadata": {},
   "outputs": [
    {
     "data": {
      "text/plain": [
       "24"
      ]
     },
     "execution_count": 27,
     "metadata": {},
     "output_type": "execute_result"
    }
   ],
   "source": [
    "sys.getsizeof(float()) # size of float object in bytes"
   ]
  },
  {
   "cell_type": "code",
   "execution_count": 26,
   "id": "9083fe8e-b32c-4193-a039-b11e0d0296db",
   "metadata": {},
   "outputs": [
    {
     "data": {
      "text/plain": [
       "32"
      ]
     },
     "execution_count": 26,
     "metadata": {},
     "output_type": "execute_result"
    }
   ],
   "source": [
    "sys.getsizeof(complex()) # size of complex object in bytes "
   ]
  },
  {
   "cell_type": "code",
   "execution_count": null,
   "id": "8cc3461f-e41a-49cf-a1b4-0af71a68ae40",
   "metadata": {},
   "outputs": [],
   "source": []
  },
  {
   "cell_type": "code",
   "execution_count": 29,
   "id": "0c4337e6-6482-43bb-9ecd-5aedf4672700",
   "metadata": {},
   "outputs": [
    {
     "name": "stdout",
     "output_type": "stream",
     "text": [
      "True\n",
      "False\n",
      "<class 'bool'>\n",
      "<class 'bool'>\n"
     ]
    }
   ],
   "source": [
    "\"\"\"Boolean \n",
    "Boolean data type can have only two possible values true or false. \"\"\"\n",
    "\n",
    "x = True\n",
    "y = False\n",
    "print(x)\n",
    "print(y)\n",
    "print(type(x))\n",
    "print(type(y))"
   ]
  },
  {
   "cell_type": "code",
   "execution_count": 30,
   "id": "cd99bf0a-c9e0-4cf0-b963-25831d83d920",
   "metadata": {},
   "outputs": [
    {
     "data": {
      "text/plain": [
       "True"
      ]
     },
     "execution_count": 30,
     "metadata": {},
     "output_type": "execute_result"
    }
   ],
   "source": [
    "isinstance(x, bool)"
   ]
  },
  {
   "cell_type": "code",
   "execution_count": 35,
   "id": "1cb3dd96-f56a-412e-9985-1a890a46dfdf",
   "metadata": {},
   "outputs": [
    {
     "data": {
      "text/plain": [
       "False"
      ]
     },
     "execution_count": 35,
     "metadata": {},
     "output_type": "execute_result"
    }
   ],
   "source": [
    "bool(0)"
   ]
  },
  {
   "cell_type": "code",
   "execution_count": 36,
   "id": "51e0b8af-67cd-4a7f-ac8e-b2d84a20fa76",
   "metadata": {},
   "outputs": [
    {
     "data": {
      "text/plain": [
       "True"
      ]
     },
     "execution_count": 36,
     "metadata": {},
     "output_type": "execute_result"
    }
   ],
   "source": [
    "bool(1)"
   ]
  },
  {
   "cell_type": "code",
   "execution_count": 37,
   "id": "402e2ad7-3e35-4561-b959-c8385e5acc54",
   "metadata": {},
   "outputs": [
    {
     "data": {
      "text/plain": [
       "False"
      ]
     },
     "execution_count": 37,
     "metadata": {},
     "output_type": "execute_result"
    }
   ],
   "source": [
    "bool(None)"
   ]
  },
  {
   "cell_type": "code",
   "execution_count": 38,
   "id": "7d1f10fd-4b5c-4bda-aab1-54f33e8fad71",
   "metadata": {},
   "outputs": [
    {
     "data": {
      "text/plain": [
       "False"
      ]
     },
     "execution_count": 38,
     "metadata": {},
     "output_type": "execute_result"
    }
   ],
   "source": [
    "bool(False)"
   ]
  },
  {
   "cell_type": "code",
   "execution_count": null,
   "id": "ba29a9af-c0d9-49cf-9670-8c9387f7cf2a",
   "metadata": {},
   "outputs": [],
   "source": []
  },
  {
   "cell_type": "code",
   "execution_count": 39,
   "id": "64cd5f36-9e73-4e26-9317-e68d390e6010",
   "metadata": {},
   "outputs": [
    {
     "name": "stdout",
     "output_type": "stream",
     "text": [
      "Hello Python\n"
     ]
    }
   ],
   "source": [
    "# String Creation\n",
    "s = \"Hello Python\"\n",
    "print(s)"
   ]
  },
  {
   "cell_type": "code",
   "execution_count": 40,
   "id": "a05472d6-574f-4a10-b3bf-1cbf3ead2667",
   "metadata": {},
   "outputs": [
    {
     "name": "stdout",
     "output_type": "stream",
     "text": [
      "Hello Python\n",
      "Hello Python\n",
      "Hello \n",
      "World \n"
     ]
    }
   ],
   "source": [
    "s = 'Hello Python'   # Define string using single quotes \n",
    "print(s)\n",
    "\n",
    "s = \"Hello Python\"   # Define string using double quotes \n",
    "print(s)\n",
    "\n",
    " # Define string using triple quotes\n",
    "mystr = '''Hello    \n",
    "World ''' \n",
    "print(mystr)  "
   ]
  },
  {
   "cell_type": "code",
   "execution_count": 43,
   "id": "d414f421-704e-4d1f-804c-1651724a7cea",
   "metadata": {},
   "outputs": [
    {
     "name": "stdout",
     "output_type": "stream",
     "text": [
      "Pythonisawesome\n",
      "Python is awesome \n"
     ]
    }
   ],
   "source": [
    "str = (\"Python\"\n",
    "       \"is\"\n",
    "       \"awesome\")\n",
    "print(str)\n",
    "\n",
    "str1 = (\"Python \"\n",
    "       \"is \"\n",
    "       \"awesome \")\n",
    "print(str1)"
   ]
  },
  {
   "cell_type": "code",
   "execution_count": 48,
   "id": "5d33a560-5dbe-4ab9-b6e7-ae737303c964",
   "metadata": {},
   "outputs": [
    {
     "data": {
      "text/plain": [
       "'HappyHappyHappyHappyHappyHappy'"
      ]
     },
     "execution_count": 48,
     "metadata": {},
     "output_type": "execute_result"
    }
   ],
   "source": [
    "\n",
    "str = \"Happy\"\n",
    "str = str*6\n",
    "str"
   ]
  },
  {
   "cell_type": "code",
   "execution_count": 47,
   "id": "9a916d49-4f74-49d0-bb47-c7ab4dbf8478",
   "metadata": {},
   "outputs": [
    {
     "data": {
      "text/plain": [
       "'Happy Happy Happy Happy Happy Happy '"
      ]
     },
     "execution_count": 47,
     "metadata": {},
     "output_type": "execute_result"
    }
   ],
   "source": [
    "str1 = \"Happy \"\n",
    "str1 = str1 * 6\n",
    "str1"
   ]
  },
  {
   "cell_type": "code",
   "execution_count": 49,
   "id": "002f4b22-f609-48a2-a3dc-50b96dfedb92",
   "metadata": {},
   "outputs": [
    {
     "data": {
      "text/plain": [
       "30"
      ]
     },
     "execution_count": 49,
     "metadata": {},
     "output_type": "execute_result"
    }
   ],
   "source": [
    "len(str)   # Length of string "
   ]
  },
  {
   "cell_type": "code",
   "execution_count": 51,
   "id": "d8a53590-90a7-4241-9d82-e587c226a29c",
   "metadata": {},
   "outputs": [
    {
     "data": {
      "text/plain": [
       "'Hello Python'"
      ]
     },
     "execution_count": 51,
     "metadata": {},
     "output_type": "execute_result"
    }
   ],
   "source": [
    "\"\"\" STRING INDEXING\n",
    "1. Forward Indexing \n",
    "2. Backward Indexing \"\"\"\n",
    "\n",
    "str = \"Hello Python\"\n",
    "str"
   ]
  },
  {
   "cell_type": "code",
   "execution_count": 56,
   "id": "da1273f6-ee87-4d3a-a501-5b57f1df833d",
   "metadata": {},
   "outputs": [
    {
     "data": {
      "text/plain": [
       "'H'"
      ]
     },
     "execution_count": 56,
     "metadata": {},
     "output_type": "execute_result"
    }
   ],
   "source": [
    "str[0]   # First character in string \"str\" "
   ]
  },
  {
   "cell_type": "code",
   "execution_count": 57,
   "id": "322bc0f5-cd75-4451-b2d8-42c44fc97b29",
   "metadata": {},
   "outputs": [
    {
     "data": {
      "text/plain": [
       "'n'"
      ]
     },
     "execution_count": 57,
     "metadata": {},
     "output_type": "execute_result"
    }
   ],
   "source": [
    "str[len(str)-1] # Last character in string using len function "
   ]
  },
  {
   "cell_type": "code",
   "execution_count": 59,
   "id": "69e92763-91e7-4587-bb80-a98201ad585c",
   "metadata": {},
   "outputs": [
    {
     "data": {
      "text/plain": [
       "'P'"
      ]
     },
     "execution_count": 59,
     "metadata": {},
     "output_type": "execute_result"
    }
   ],
   "source": [
    "str[6] #Fetch 7th element of the string "
   ]
  },
  {
   "cell_type": "code",
   "execution_count": 60,
   "id": "14b8e8d4-61a7-48ab-93c9-b7f334eb0026",
   "metadata": {},
   "outputs": [
    {
     "data": {
      "text/plain": [
       "' '"
      ]
     },
     "execution_count": 60,
     "metadata": {},
     "output_type": "execute_result"
    }
   ],
   "source": [
    "str[5]"
   ]
  },
  {
   "cell_type": "code",
   "execution_count": 61,
   "id": "d6e65744-38cd-45ed-8428-86abb6838248",
   "metadata": {},
   "outputs": [
    {
     "data": {
      "text/plain": [
       "'Hello'"
      ]
     },
     "execution_count": 61,
     "metadata": {},
     "output_type": "execute_result"
    }
   ],
   "source": [
    "# String Slicing\n",
    "str[0:5]   # String slicing - Fetch all characters from 0 to 5 index location exc"
   ]
  },
  {
   "cell_type": "code",
   "execution_count": null,
   "id": "8fabbe39-acdb-4114-a2f4-6b8370ee5c89",
   "metadata": {},
   "outputs": [],
   "source": [
    "str[6:12]   # String slicing - Retreive all characters between 6 - 12 index location"
   ]
  },
  {
   "cell_type": "code",
   "execution_count": 62,
   "id": "5debb3a5-7292-45f1-9857-03d84d74d036",
   "metadata": {},
   "outputs": [
    {
     "data": {
      "text/plain": [
       "'thon'"
      ]
     },
     "execution_count": 62,
     "metadata": {},
     "output_type": "execute_result"
    }
   ],
   "source": [
    "str[-4:]  # Retreive last four characters of the string"
   ]
  },
  {
   "cell_type": "code",
   "execution_count": 64,
   "id": "ec37ef15-6bc8-4acc-b542-358026e2e9a9",
   "metadata": {},
   "outputs": [
    {
     "data": {
      "text/plain": [
       "'Python'"
      ]
     },
     "execution_count": 64,
     "metadata": {},
     "output_type": "execute_result"
    }
   ],
   "source": [
    "str[-6:]   # Retreive last six characters of the string"
   ]
  },
  {
   "cell_type": "code",
   "execution_count": 66,
   "id": "fab6ba26-668a-4c20-9bcf-58749605a595",
   "metadata": {},
   "outputs": [
    {
     "data": {
      "text/plain": [
       "'Hell'"
      ]
     },
     "execution_count": 66,
     "metadata": {},
     "output_type": "execute_result"
    }
   ],
   "source": [
    "str[:4]    # Retreive first four characters of the string "
   ]
  },
  {
   "cell_type": "code",
   "execution_count": 67,
   "id": "155d39ac-f56d-45ee-875a-675587f32f43",
   "metadata": {},
   "outputs": [
    {
     "data": {
      "text/plain": [
       "'Hello '"
      ]
     },
     "execution_count": 67,
     "metadata": {},
     "output_type": "execute_result"
    }
   ],
   "source": [
    "str[:6]   # Retreive first six characters of the string "
   ]
  },
  {
   "cell_type": "code",
   "execution_count": 68,
   "id": "73bdfb0a-5321-4592-9a9f-47bfa82767d7",
   "metadata": {},
   "outputs": [
    {
     "data": {
      "text/plain": [
       "'Hello Python'"
      ]
     },
     "execution_count": 68,
     "metadata": {},
     "output_type": "execute_result"
    }
   ],
   "source": [
    "#Update & Delete String \n",
    "str"
   ]
  },
  {
   "cell_type": "code",
   "execution_count": 69,
   "id": "917ccf16-fd77-494b-b359-5e93ea56a349",
   "metadata": {},
   "outputs": [
    {
     "ename": "SyntaxError",
     "evalue": "unterminated string literal (detected at line 1) (2436965270.py, line 1)",
     "output_type": "error",
     "traceback": [
      "\u001b[1;36m  Cell \u001b[1;32mIn[69], line 1\u001b[1;36m\u001b[0m\n\u001b[1;33m    str[0:5] = \"Holla'\u001b[0m\n\u001b[1;37m               ^\u001b[0m\n\u001b[1;31mSyntaxError\u001b[0m\u001b[1;31m:\u001b[0m unterminated string literal (detected at line 1)\n"
     ]
    }
   ],
   "source": [
    "#Strings are immutable which means elements of a string cannot be changed once it\n",
    "str[0:5] = \"Holla'"
   ]
  },
  {
   "cell_type": "code",
   "execution_count": 71,
   "id": "ba021aea-bea5-4d08-8fc0-db7b65d5beae",
   "metadata": {},
   "outputs": [
    {
     "ename": "NameError",
     "evalue": "name 'str' is not defined",
     "output_type": "error",
     "traceback": [
      "\u001b[1;31m---------------------------------------------------------------------------\u001b[0m",
      "\u001b[1;31mNameError\u001b[0m                                 Traceback (most recent call last)",
      "Cell \u001b[1;32mIn[71], line 1\u001b[0m\n\u001b[1;32m----> 1\u001b[0m \u001b[38;5;28;01mdel\u001b[39;00m \u001b[38;5;28mstr\u001b[39m \u001b[38;5;66;03m# Deleting a string\u001b[39;00m\n\u001b[0;32m      2\u001b[0m \u001b[38;5;28mprint\u001b[39m(\u001b[38;5;28mstr\u001b[39m)\n",
      "\u001b[1;31mNameError\u001b[0m: name 'str' is not defined"
     ]
    }
   ],
   "source": [
    "del str # Deleting a string\n",
    "print(str)"
   ]
  },
  {
   "cell_type": "code",
   "execution_count": 72,
   "id": "0341fc37-3d06-4faf-bb99-7899b2718cce",
   "metadata": {},
   "outputs": [
    {
     "name": "stdout",
     "output_type": "stream",
     "text": [
      "HelloShalu\n"
     ]
    }
   ],
   "source": [
    "# String concatenation\n",
    "a = \"Hello\"\n",
    "b = \"Shalu\"\n",
    "c = a + b\n",
    "print(c)"
   ]
  },
  {
   "cell_type": "code",
   "execution_count": null,
   "id": "c93257ba-2d1a-45cb-8c4d-c361bc445734",
   "metadata": {},
   "outputs": [],
   "source": []
  },
  {
   "cell_type": "code",
   "execution_count": null,
   "id": "80e2344b-11f6-4327-95af-d165cf964538",
   "metadata": {},
   "outputs": [],
   "source": []
  }
 ],
 "metadata": {
  "kernelspec": {
   "display_name": "Python [conda env:base] *",
   "language": "python",
   "name": "conda-base-py"
  },
  "language_info": {
   "codemirror_mode": {
    "name": "ipython",
    "version": 3
   },
   "file_extension": ".py",
   "mimetype": "text/x-python",
   "name": "python",
   "nbconvert_exporter": "python",
   "pygments_lexer": "ipython3",
   "version": "3.12.7"
  }
 },
 "nbformat": 4,
 "nbformat_minor": 5
}
